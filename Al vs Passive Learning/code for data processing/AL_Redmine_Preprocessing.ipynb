{
  "nbformat": 4,
  "nbformat_minor": 0,
  "metadata": {
    "colab": {
      "name": "AL_Redmine_Preprocessing.ipynb",
      "provenance": [],
      "collapsed_sections": []
    },
    "kernelspec": {
      "name": "python3",
      "display_name": "Python 3"
    }
  },
  "cells": [
    {
      "cell_type": "code",
      "metadata": {
        "id": "q2Qd1eptwpWU"
      },
      "source": [
        "import numpy as np\n",
        "import pandas as pd"
      ],
      "execution_count": 1,
      "outputs": []
    },
    {
      "cell_type": "code",
      "metadata": {
        "colab": {
          "base_uri": "https://localhost:8080/",
          "height": 306
        },
        "id": "P1tjMo9Iwy72",
        "outputId": "5df5a542-ab39-4776-dc3d-00d7b2e9d063"
      },
      "source": [
        "df = pd.read_csv('/content/drive/MyDrive/SENG 607/processedData_Dataminer.csv')\n",
        "df.head()"
      ],
      "execution_count": 2,
      "outputs": [
        {
          "output_type": "execute_result",
          "data": {
            "text/html": [
              "<div>\n",
              "<style scoped>\n",
              "    .dataframe tbody tr th:only-of-type {\n",
              "        vertical-align: middle;\n",
              "    }\n",
              "\n",
              "    .dataframe tbody tr th {\n",
              "        vertical-align: top;\n",
              "    }\n",
              "\n",
              "    .dataframe thead th {\n",
              "        text-align: right;\n",
              "    }\n",
              "</style>\n",
              "<table border=\"1\" class=\"dataframe\">\n",
              "  <thead>\n",
              "    <tr style=\"text-align: right;\">\n",
              "      <th></th>\n",
              "      <th>Unnamed: 0</th>\n",
              "      <th>Project</th>\n",
              "      <th>created_on</th>\n",
              "      <th>dependencies</th>\n",
              "      <th>desc</th>\n",
              "      <th>id</th>\n",
              "      <th>relationCount</th>\n",
              "      <th>status</th>\n",
              "      <th>subject</th>\n",
              "      <th>tracker</th>\n",
              "    </tr>\n",
              "  </thead>\n",
              "  <tbody>\n",
              "    <tr>\n",
              "      <th>0</th>\n",
              "      <td>0</td>\n",
              "      <td>Redmine</td>\n",
              "      <td>2021-01-11T10:42:46Z</td>\n",
              "      <td>NaN</td>\n",
              "      <td>How do I export a list which includes the pare...</td>\n",
              "      <td>34583</td>\n",
              "      <td>0</td>\n",
              "      <td>New</td>\n",
              "      <td>Group by parent project</td>\n",
              "      <td>Feature</td>\n",
              "    </tr>\n",
              "    <tr>\n",
              "      <th>1</th>\n",
              "      <td>1</td>\n",
              "      <td>Redmine</td>\n",
              "      <td>2021-01-06T09:07:16Z</td>\n",
              "      <td>NaN</td>\n",
              "      <td>Currently, it is possible to re-title an issue...</td>\n",
              "      <td>34566</td>\n",
              "      <td>0</td>\n",
              "      <td>New</td>\n",
              "      <td>Always trim title</td>\n",
              "      <td>Feature</td>\n",
              "    </tr>\n",
              "    <tr>\n",
              "      <th>2</th>\n",
              "      <td>2</td>\n",
              "      <td>Redmine</td>\n",
              "      <td>2021-01-05T09:09:54Z</td>\n",
              "      <td>34556relates8562#</td>\n",
              "      <td>Currently, the \"Watchers\" section in the new i...</td>\n",
              "      <td>34556</td>\n",
              "      <td>1</td>\n",
              "      <td>New</td>\n",
              "      <td>Setting to change the maximum number to displa...</td>\n",
              "      <td>Feature</td>\n",
              "    </tr>\n",
              "    <tr>\n",
              "      <th>3</th>\n",
              "      <td>3</td>\n",
              "      <td>Redmine</td>\n",
              "      <td>2021-01-02T22:18:17Z</td>\n",
              "      <td>30459blocks34549#</td>\n",
              "      <td>Add keyboard shortcuts for the following butto...</td>\n",
              "      <td>34549</td>\n",
              "      <td>1</td>\n",
              "      <td>New</td>\n",
              "      <td>Add keyboard shortcuts for wiki toolbar buttons</td>\n",
              "      <td>Feature</td>\n",
              "    </tr>\n",
              "    <tr>\n",
              "      <th>4</th>\n",
              "      <td>4</td>\n",
              "      <td>Redmine</td>\n",
              "      <td>2020-12-23T11:20:28Z</td>\n",
              "      <td>NaN</td>\n",
              "      <td>At the moment we can assign Tickets to a group...</td>\n",
              "      <td>34496</td>\n",
              "      <td>0</td>\n",
              "      <td>New</td>\n",
              "      <td>Assign Tickets only to groups</td>\n",
              "      <td>Feature</td>\n",
              "    </tr>\n",
              "  </tbody>\n",
              "</table>\n",
              "</div>"
            ],
            "text/plain": [
              "   Unnamed: 0  ...  tracker\n",
              "0           0  ...  Feature\n",
              "1           1  ...  Feature\n",
              "2           2  ...  Feature\n",
              "3           3  ...  Feature\n",
              "4           4  ...  Feature\n",
              "\n",
              "[5 rows x 10 columns]"
            ]
          },
          "metadata": {
            "tags": []
          },
          "execution_count": 2
        }
      ]
    },
    {
      "cell_type": "code",
      "metadata": {
        "id": "YZh-1gahxCYJ"
      },
      "source": [
        "df.drop(['Unnamed: 0','created_on','tracker','status'],axis=1,inplace=True)\n",
        "df= df.dropna(subset=['desc']).reset_index(drop=True)"
      ],
      "execution_count": 3,
      "outputs": []
    },
    {
      "cell_type": "code",
      "metadata": {
        "colab": {
          "base_uri": "https://localhost:8080/",
          "height": 204
        },
        "id": "mkxnvv0cxQzA",
        "outputId": "25dc10aa-9fb1-4d01-9d83-8d7825f8bf3e"
      },
      "source": [
        "df.head()"
      ],
      "execution_count": 4,
      "outputs": [
        {
          "output_type": "execute_result",
          "data": {
            "text/html": [
              "<div>\n",
              "<style scoped>\n",
              "    .dataframe tbody tr th:only-of-type {\n",
              "        vertical-align: middle;\n",
              "    }\n",
              "\n",
              "    .dataframe tbody tr th {\n",
              "        vertical-align: top;\n",
              "    }\n",
              "\n",
              "    .dataframe thead th {\n",
              "        text-align: right;\n",
              "    }\n",
              "</style>\n",
              "<table border=\"1\" class=\"dataframe\">\n",
              "  <thead>\n",
              "    <tr style=\"text-align: right;\">\n",
              "      <th></th>\n",
              "      <th>Project</th>\n",
              "      <th>dependencies</th>\n",
              "      <th>desc</th>\n",
              "      <th>id</th>\n",
              "      <th>relationCount</th>\n",
              "      <th>subject</th>\n",
              "    </tr>\n",
              "  </thead>\n",
              "  <tbody>\n",
              "    <tr>\n",
              "      <th>0</th>\n",
              "      <td>Redmine</td>\n",
              "      <td>NaN</td>\n",
              "      <td>How do I export a list which includes the pare...</td>\n",
              "      <td>34583</td>\n",
              "      <td>0</td>\n",
              "      <td>Group by parent project</td>\n",
              "    </tr>\n",
              "    <tr>\n",
              "      <th>1</th>\n",
              "      <td>Redmine</td>\n",
              "      <td>NaN</td>\n",
              "      <td>Currently, it is possible to re-title an issue...</td>\n",
              "      <td>34566</td>\n",
              "      <td>0</td>\n",
              "      <td>Always trim title</td>\n",
              "    </tr>\n",
              "    <tr>\n",
              "      <th>2</th>\n",
              "      <td>Redmine</td>\n",
              "      <td>34556relates8562#</td>\n",
              "      <td>Currently, the \"Watchers\" section in the new i...</td>\n",
              "      <td>34556</td>\n",
              "      <td>1</td>\n",
              "      <td>Setting to change the maximum number to displa...</td>\n",
              "    </tr>\n",
              "    <tr>\n",
              "      <th>3</th>\n",
              "      <td>Redmine</td>\n",
              "      <td>30459blocks34549#</td>\n",
              "      <td>Add keyboard shortcuts for the following butto...</td>\n",
              "      <td>34549</td>\n",
              "      <td>1</td>\n",
              "      <td>Add keyboard shortcuts for wiki toolbar buttons</td>\n",
              "    </tr>\n",
              "    <tr>\n",
              "      <th>4</th>\n",
              "      <td>Redmine</td>\n",
              "      <td>NaN</td>\n",
              "      <td>At the moment we can assign Tickets to a group...</td>\n",
              "      <td>34496</td>\n",
              "      <td>0</td>\n",
              "      <td>Assign Tickets only to groups</td>\n",
              "    </tr>\n",
              "  </tbody>\n",
              "</table>\n",
              "</div>"
            ],
            "text/plain": [
              "   Project  ...                                            subject\n",
              "0  Redmine  ...                            Group by parent project\n",
              "1  Redmine  ...                                  Always trim title\n",
              "2  Redmine  ...  Setting to change the maximum number to displa...\n",
              "3  Redmine  ...    Add keyboard shortcuts for wiki toolbar buttons\n",
              "4  Redmine  ...                      Assign Tickets only to groups\n",
              "\n",
              "[5 rows x 6 columns]"
            ]
          },
          "metadata": {
            "tags": []
          },
          "execution_count": 4
        }
      ]
    },
    {
      "cell_type": "code",
      "metadata": {
        "id": "iHiOXcaI222s"
      },
      "source": [
        "df1= df.dropna(subset=['dependencies']).reset_index(drop=True)"
      ],
      "execution_count": 5,
      "outputs": []
    },
    {
      "cell_type": "code",
      "metadata": {
        "colab": {
          "base_uri": "https://localhost:8080/",
          "height": 204
        },
        "id": "4EwRRQ-V3vmK",
        "outputId": "24f8ecff-e8c4-4a33-973a-65d70a1054b9"
      },
      "source": [
        "df1.head()"
      ],
      "execution_count": 6,
      "outputs": [
        {
          "output_type": "execute_result",
          "data": {
            "text/html": [
              "<div>\n",
              "<style scoped>\n",
              "    .dataframe tbody tr th:only-of-type {\n",
              "        vertical-align: middle;\n",
              "    }\n",
              "\n",
              "    .dataframe tbody tr th {\n",
              "        vertical-align: top;\n",
              "    }\n",
              "\n",
              "    .dataframe thead th {\n",
              "        text-align: right;\n",
              "    }\n",
              "</style>\n",
              "<table border=\"1\" class=\"dataframe\">\n",
              "  <thead>\n",
              "    <tr style=\"text-align: right;\">\n",
              "      <th></th>\n",
              "      <th>Project</th>\n",
              "      <th>dependencies</th>\n",
              "      <th>desc</th>\n",
              "      <th>id</th>\n",
              "      <th>relationCount</th>\n",
              "      <th>subject</th>\n",
              "    </tr>\n",
              "  </thead>\n",
              "  <tbody>\n",
              "    <tr>\n",
              "      <th>0</th>\n",
              "      <td>Redmine</td>\n",
              "      <td>34556relates8562#</td>\n",
              "      <td>Currently, the \"Watchers\" section in the new i...</td>\n",
              "      <td>34556</td>\n",
              "      <td>1</td>\n",
              "      <td>Setting to change the maximum number to displa...</td>\n",
              "    </tr>\n",
              "    <tr>\n",
              "      <th>1</th>\n",
              "      <td>Redmine</td>\n",
              "      <td>30459blocks34549#</td>\n",
              "      <td>Add keyboard shortcuts for the following butto...</td>\n",
              "      <td>34549</td>\n",
              "      <td>1</td>\n",
              "      <td>Add keyboard shortcuts for wiki toolbar buttons</td>\n",
              "    </tr>\n",
              "    <tr>\n",
              "      <th>2</th>\n",
              "      <td>Redmine</td>\n",
              "      <td>34495relates1237#</td>\n",
              "      <td>\"Two-factor authentication\" on a new user form...</td>\n",
              "      <td>34495</td>\n",
              "      <td>1</td>\n",
              "      <td>Don't show \"Two-factor authentication\" on new ...</td>\n",
              "    </tr>\n",
              "    <tr>\n",
              "      <th>3</th>\n",
              "      <td>Redmine</td>\n",
              "      <td>34340relates6938#</td>\n",
              "      <td>All projects are displayed in the tracker edit...</td>\n",
              "      <td>34340</td>\n",
              "      <td>1</td>\n",
              "      <td>Make archived projects visually distinguishabl...</td>\n",
              "    </tr>\n",
              "    <tr>\n",
              "      <th>4</th>\n",
              "      <td>Redmine</td>\n",
              "      <td>33383relates34337#</td>\n",
              "      <td>#33383#note-3:\\r\\n&gt; Because the update can bre...</td>\n",
              "      <td>34337</td>\n",
              "      <td>1</td>\n",
              "      <td>Remove jQuery Migrate</td>\n",
              "    </tr>\n",
              "  </tbody>\n",
              "</table>\n",
              "</div>"
            ],
            "text/plain": [
              "   Project  ...                                            subject\n",
              "0  Redmine  ...  Setting to change the maximum number to displa...\n",
              "1  Redmine  ...    Add keyboard shortcuts for wiki toolbar buttons\n",
              "2  Redmine  ...  Don't show \"Two-factor authentication\" on new ...\n",
              "3  Redmine  ...  Make archived projects visually distinguishabl...\n",
              "4  Redmine  ...                              Remove jQuery Migrate\n",
              "\n",
              "[5 rows x 6 columns]"
            ]
          },
          "metadata": {
            "tags": []
          },
          "execution_count": 6
        }
      ]
    },
    {
      "cell_type": "code",
      "metadata": {
        "colab": {
          "base_uri": "https://localhost:8080/"
        },
        "id": "k95D97VYDsXV",
        "outputId": "3626e2bd-4d0b-4a8c-b5fc-0b1fe5c97efd"
      },
      "source": [
        "df1.isnull().sum()"
      ],
      "execution_count": 7,
      "outputs": [
        {
          "output_type": "execute_result",
          "data": {
            "text/plain": [
              "Project          0\n",
              "dependencies     0\n",
              "desc             0\n",
              "id               0\n",
              "relationCount    0\n",
              "subject          0\n",
              "dtype: int64"
            ]
          },
          "metadata": {
            "tags": []
          },
          "execution_count": 7
        }
      ]
    },
    {
      "cell_type": "code",
      "metadata": {
        "colab": {
          "base_uri": "https://localhost:8080/"
        },
        "id": "hjhg3RYb0K7c",
        "outputId": "97a727fd-0556-419d-8731-ad8cd07ef6f7"
      },
      "source": [
        "df1.shape"
      ],
      "execution_count": 8,
      "outputs": [
        {
          "output_type": "execute_result",
          "data": {
            "text/plain": [
              "(3401, 6)"
            ]
          },
          "metadata": {
            "tags": []
          },
          "execution_count": 8
        }
      ]
    },
    {
      "cell_type": "code",
      "metadata": {
        "id": "o49-zJs12U3f"
      },
      "source": [
        "import re\n",
        "id1 = []\n",
        "id2 = []\n",
        "desc1 = []\n",
        "desc2 = []\n",
        "dependency  = []\n",
        "\n",
        "for i in range(3401):\n",
        "  a = df1['dependencies'][i]\n",
        "  a = a.split('#')\n",
        "  for j in range(len(a)-1):\n",
        "    b = a[j]\n",
        "    temp = re.findall(r'\\d+', b)                         # For extracting id's\n",
        "    r = list(map(int, temp))\n",
        "    id1.append(r[0])\n",
        "    id2.append(r[1])\n",
        "\n",
        "    c = df1[df1['id']==r[0]]['desc'].to_string()          # For extracting description wrt to each id\n",
        "    c1 = df1[df1['id']==r[1]]['desc'].to_string() \n",
        "    desc1.append(c[5:])\n",
        "    desc2.append(c1[5:])\n",
        "\n",
        "    temp1 = str(r[0])\n",
        "    temp2 = str(r[1])\n",
        "    result = re.search(f'{temp1}(.*){temp2}',b).group(1) # For extracting type of dependency\n",
        "    dependency.append(result)"
      ],
      "execution_count": 9,
      "outputs": []
    },
    {
      "cell_type": "code",
      "metadata": {
        "colab": {
          "base_uri": "https://localhost:8080/",
          "height": 359
        },
        "id": "YR_PMlSn7INp",
        "outputId": "eb9c4248-09ff-4ce1-b62d-642330cec42d"
      },
      "source": [
        "df2 = pd.DataFrame({'id1':id1,'Description1':desc1,'id2':id2,'Description2':desc2,'Type of dependency':dependency})\n",
        "df2.head(10)"
      ],
      "execution_count": 10,
      "outputs": [
        {
          "output_type": "execute_result",
          "data": {
            "text/html": [
              "<div>\n",
              "<style scoped>\n",
              "    .dataframe tbody tr th:only-of-type {\n",
              "        vertical-align: middle;\n",
              "    }\n",
              "\n",
              "    .dataframe tbody tr th {\n",
              "        vertical-align: top;\n",
              "    }\n",
              "\n",
              "    .dataframe thead th {\n",
              "        text-align: right;\n",
              "    }\n",
              "</style>\n",
              "<table border=\"1\" class=\"dataframe\">\n",
              "  <thead>\n",
              "    <tr style=\"text-align: right;\">\n",
              "      <th></th>\n",
              "      <th>id1</th>\n",
              "      <th>Description1</th>\n",
              "      <th>id2</th>\n",
              "      <th>Description2</th>\n",
              "      <th>Type of dependency</th>\n",
              "    </tr>\n",
              "  </thead>\n",
              "  <tbody>\n",
              "    <tr>\n",
              "      <th>0</th>\n",
              "      <td>34556</td>\n",
              "      <td>Currently, the \"Watchers\" section in the new i...</td>\n",
              "      <td>8562</td>\n",
              "      <td>We face the problem that we have many proje...</td>\n",
              "      <td>relates</td>\n",
              "    </tr>\n",
              "    <tr>\n",
              "      <th>1</th>\n",
              "      <td>30459</td>\n",
              "      <td>In Redmine 3.4 and earlier, you could update...</td>\n",
              "      <td>34549</td>\n",
              "      <td>Add keyboard shortcuts for the following butto...</td>\n",
              "      <td>blocks</td>\n",
              "    </tr>\n",
              "    <tr>\n",
              "      <th>2</th>\n",
              "      <td>34495</td>\n",
              "      <td>\"Two-factor authentication\" on a new user form...</td>\n",
              "      <td>1237</td>\n",
              "      <td>Please add support for a one time password ...</td>\n",
              "      <td>relates</td>\n",
              "    </tr>\n",
              "    <tr>\n",
              "      <th>3</th>\n",
              "      <td>34340</td>\n",
              "      <td>All projects are displayed in the tracker edit...</td>\n",
              "      <td>6938</td>\n",
              "      <td>I have a few ideas to enhance the edit trac...</td>\n",
              "      <td>relates</td>\n",
              "    </tr>\n",
              "    <tr>\n",
              "      <th>4</th>\n",
              "      <td>33383</td>\n",
              "      <td>jQuery 2 is end of life and we should update ...</td>\n",
              "      <td>34337</td>\n",
              "      <td>#33383#note-3:\\r\\n&gt; Because the update can bre...</td>\n",
              "      <td>relates</td>\n",
              "    </tr>\n",
              "    <tr>\n",
              "      <th>5</th>\n",
              "      <td>34336</td>\n",
              "      <td>Currently, there is no way to see the latest p...</td>\n",
              "      <td>12664</td>\n",
              "      <td>s([], )</td>\n",
              "      <td>relates</td>\n",
              "    </tr>\n",
              "    <tr>\n",
              "      <th>6</th>\n",
              "      <td>34258</td>\n",
              "      <td>When there are many custom fields or projects,...</td>\n",
              "      <td>9258</td>\n",
              "      <td>Allow creating a new role by copying an exi...</td>\n",
              "      <td>relates</td>\n",
              "    </tr>\n",
              "    <tr>\n",
              "      <th>7</th>\n",
              "      <td>34241</td>\n",
              "      <td>The upcoming Redmine 4.2 has a two-factor auth...</td>\n",
              "      <td>1237</td>\n",
              "      <td>Please add support for a one time password ...</td>\n",
              "      <td>relates</td>\n",
              "    </tr>\n",
              "    <tr>\n",
              "      <th>8</th>\n",
              "      <td>34142</td>\n",
              "      <td>The official support of Ruby 2.3 has already e...</td>\n",
              "      <td>32530</td>\n",
              "      <td>s([], )</td>\n",
              "      <td>relates</td>\n",
              "    </tr>\n",
              "    <tr>\n",
              "      <th>9</th>\n",
              "      <td>27780</td>\n",
              "      <td>s([], )</td>\n",
              "      <td>34142</td>\n",
              "      <td>The official support of Ruby 2.3 has already e...</td>\n",
              "      <td>relates</td>\n",
              "    </tr>\n",
              "  </tbody>\n",
              "</table>\n",
              "</div>"
            ],
            "text/plain": [
              "     id1  ... Type of dependency\n",
              "0  34556  ...            relates\n",
              "1  30459  ...             blocks\n",
              "2  34495  ...            relates\n",
              "3  34340  ...            relates\n",
              "4  33383  ...            relates\n",
              "5  34336  ...            relates\n",
              "6  34258  ...            relates\n",
              "7  34241  ...            relates\n",
              "8  34142  ...            relates\n",
              "9  27780  ...            relates\n",
              "\n",
              "[10 rows x 5 columns]"
            ]
          },
          "metadata": {
            "tags": []
          },
          "execution_count": 10
        }
      ]
    },
    {
      "cell_type": "code",
      "metadata": {
        "id": "u61ckjPWLki3"
      },
      "source": [
        "# Deleting empty lists\n",
        "l1 = []\n",
        "l2 = []\n",
        "for i in range(6810):\n",
        "  if df2['Description1'][i] == 's([], )':\n",
        "    l1.append(i)\n",
        "  if df2['Description2'][i] == 's([], )':\n",
        "    l2.append(i)\n",
        "l = list(set(l1+l2))"
      ],
      "execution_count": 11,
      "outputs": []
    },
    {
      "cell_type": "code",
      "metadata": {
        "id": "KWyxDZRANOC6"
      },
      "source": [
        "df2.drop(l,inplace = True)"
      ],
      "execution_count": 12,
      "outputs": []
    },
    {
      "cell_type": "code",
      "metadata": {
        "id": "h8yqhHuOPixv"
      },
      "source": [
        "df2 = df2.reset_index(drop = True)"
      ],
      "execution_count": 13,
      "outputs": []
    },
    {
      "cell_type": "markdown",
      "metadata": {
        "id": "TWHEJkqFEzSn"
      },
      "source": [
        "**Final DataFrame**"
      ]
    },
    {
      "cell_type": "code",
      "metadata": {
        "colab": {
          "base_uri": "https://localhost:8080/",
          "height": 359
        },
        "id": "e51LsRCIPPSt",
        "outputId": "f87cde4b-fa72-4f33-a873-8bea8bf74de0"
      },
      "source": [
        "df2.head(10)"
      ],
      "execution_count": 14,
      "outputs": [
        {
          "output_type": "execute_result",
          "data": {
            "text/html": [
              "<div>\n",
              "<style scoped>\n",
              "    .dataframe tbody tr th:only-of-type {\n",
              "        vertical-align: middle;\n",
              "    }\n",
              "\n",
              "    .dataframe tbody tr th {\n",
              "        vertical-align: top;\n",
              "    }\n",
              "\n",
              "    .dataframe thead th {\n",
              "        text-align: right;\n",
              "    }\n",
              "</style>\n",
              "<table border=\"1\" class=\"dataframe\">\n",
              "  <thead>\n",
              "    <tr style=\"text-align: right;\">\n",
              "      <th></th>\n",
              "      <th>id1</th>\n",
              "      <th>Description1</th>\n",
              "      <th>id2</th>\n",
              "      <th>Description2</th>\n",
              "      <th>Type of dependency</th>\n",
              "    </tr>\n",
              "  </thead>\n",
              "  <tbody>\n",
              "    <tr>\n",
              "      <th>0</th>\n",
              "      <td>34556</td>\n",
              "      <td>Currently, the \"Watchers\" section in the new i...</td>\n",
              "      <td>8562</td>\n",
              "      <td>We face the problem that we have many proje...</td>\n",
              "      <td>relates</td>\n",
              "    </tr>\n",
              "    <tr>\n",
              "      <th>1</th>\n",
              "      <td>30459</td>\n",
              "      <td>In Redmine 3.4 and earlier, you could update...</td>\n",
              "      <td>34549</td>\n",
              "      <td>Add keyboard shortcuts for the following butto...</td>\n",
              "      <td>blocks</td>\n",
              "    </tr>\n",
              "    <tr>\n",
              "      <th>2</th>\n",
              "      <td>34495</td>\n",
              "      <td>\"Two-factor authentication\" on a new user form...</td>\n",
              "      <td>1237</td>\n",
              "      <td>Please add support for a one time password ...</td>\n",
              "      <td>relates</td>\n",
              "    </tr>\n",
              "    <tr>\n",
              "      <th>3</th>\n",
              "      <td>34340</td>\n",
              "      <td>All projects are displayed in the tracker edit...</td>\n",
              "      <td>6938</td>\n",
              "      <td>I have a few ideas to enhance the edit trac...</td>\n",
              "      <td>relates</td>\n",
              "    </tr>\n",
              "    <tr>\n",
              "      <th>4</th>\n",
              "      <td>33383</td>\n",
              "      <td>jQuery 2 is end of life and we should update ...</td>\n",
              "      <td>34337</td>\n",
              "      <td>#33383#note-3:\\r\\n&gt; Because the update can bre...</td>\n",
              "      <td>relates</td>\n",
              "    </tr>\n",
              "    <tr>\n",
              "      <th>5</th>\n",
              "      <td>34258</td>\n",
              "      <td>When there are many custom fields or projects,...</td>\n",
              "      <td>9258</td>\n",
              "      <td>Allow creating a new role by copying an exi...</td>\n",
              "      <td>relates</td>\n",
              "    </tr>\n",
              "    <tr>\n",
              "      <th>6</th>\n",
              "      <td>34241</td>\n",
              "      <td>The upcoming Redmine 4.2 has a two-factor auth...</td>\n",
              "      <td>1237</td>\n",
              "      <td>Please add support for a one time password ...</td>\n",
              "      <td>relates</td>\n",
              "    </tr>\n",
              "    <tr>\n",
              "      <th>7</th>\n",
              "      <td>29473</td>\n",
              "      <td>While editing issue, Ctrl+Enter should invok...</td>\n",
              "      <td>33918</td>\n",
              "      <td>This feature should be documented on [[Redmine...</td>\n",
              "      <td>precedes</td>\n",
              "    </tr>\n",
              "    <tr>\n",
              "      <th>8</th>\n",
              "      <td>33884</td>\n",
              "      <td>Issue details page shows \"Due in X days\" info...</td>\n",
              "      <td>31499</td>\n",
              "      <td>This patch adds \"Due in X days\" / \"X days lat...</td>\n",
              "      <td>relates</td>\n",
              "    </tr>\n",
              "    <tr>\n",
              "      <th>9</th>\n",
              "      <td>33834</td>\n",
              "      <td>This patch adds open/closed badge to email no...</td>\n",
              "      <td>33254</td>\n",
              "      <td>#29391 added a useful badge that shows the st...</td>\n",
              "      <td>relates</td>\n",
              "    </tr>\n",
              "  </tbody>\n",
              "</table>\n",
              "</div>"
            ],
            "text/plain": [
              "     id1  ... Type of dependency\n",
              "0  34556  ...            relates\n",
              "1  30459  ...             blocks\n",
              "2  34495  ...            relates\n",
              "3  34340  ...            relates\n",
              "4  33383  ...            relates\n",
              "5  34258  ...            relates\n",
              "6  34241  ...            relates\n",
              "7  29473  ...           precedes\n",
              "8  33884  ...            relates\n",
              "9  33834  ...            relates\n",
              "\n",
              "[10 rows x 5 columns]"
            ]
          },
          "metadata": {
            "tags": []
          },
          "execution_count": 14
        }
      ]
    },
    {
      "cell_type": "code",
      "metadata": {
        "colab": {
          "base_uri": "https://localhost:8080/"
        },
        "id": "3ztot0OQVFuP",
        "outputId": "5a9e9111-ff8f-4a2d-ff51-c1a8839870c4"
      },
      "source": [
        "y1,y2 = [],[]\n",
        "y = df2['Description1']\n",
        "z = df2['Description2']\n",
        "for i in range(len(y)):\n",
        "  q = y[i].split(' ')\n",
        "  if len(q) <2:\n",
        "    y1.append(i)\n",
        "for i in range(len(y)):\n",
        "  q1 = z[i].split(' ')\n",
        "  if len(q1) <2:\n",
        "    y2.append(i)\n",
        "print(len(y1))\n",
        "print(len(y2))\n",
        "#q2 = list(set(y1+y2))\n",
        "#df2.drop(q2,inplace=True)\n",
        "#df2 = df2.reset_index(drop=True)"
      ],
      "execution_count": 15,
      "outputs": [
        {
          "output_type": "stream",
          "text": [
            "0\n",
            "0\n"
          ],
          "name": "stdout"
        }
      ]
    },
    {
      "cell_type": "code",
      "metadata": {
        "colab": {
          "base_uri": "https://localhost:8080/"
        },
        "id": "GwBktZmV-QYG",
        "outputId": "67fd8cb4-6de2-4a49-80a1-21cb79d2dc3e"
      },
      "source": [
        "df2.shape"
      ],
      "execution_count": 16,
      "outputs": [
        {
          "output_type": "execute_result",
          "data": {
            "text/plain": [
              "(5224, 5)"
            ]
          },
          "metadata": {
            "tags": []
          },
          "execution_count": 16
        }
      ]
    },
    {
      "cell_type": "code",
      "metadata": {
        "colab": {
          "base_uri": "https://localhost:8080/"
        },
        "id": "XotgX3FD9KYT",
        "outputId": "95c19031-d47c-432c-a63e-dfbf7eb9416a"
      },
      "source": [
        "df2['Type of dependency'].value_counts()"
      ],
      "execution_count": 17,
      "outputs": [
        {
          "output_type": "execute_result",
          "data": {
            "text/plain": [
              "relates       2824\n",
              "duplicates    2326\n",
              "blocks          36\n",
              "copied_to       20\n",
              "precedes        18\n",
              "Name: Type of dependency, dtype: int64"
            ]
          },
          "metadata": {
            "tags": []
          },
          "execution_count": 17
        }
      ]
    },
    {
      "cell_type": "code",
      "metadata": {
        "colab": {
          "base_uri": "https://localhost:8080/"
        },
        "id": "Ws-wjO3DJMDg",
        "outputId": "97898620-70a5-4f59-c3a1-d8bea1572d4f"
      },
      "source": [
        "df2.isnull().sum()"
      ],
      "execution_count": 18,
      "outputs": [
        {
          "output_type": "execute_result",
          "data": {
            "text/plain": [
              "id1                   0\n",
              "Description1          0\n",
              "id2                   0\n",
              "Description2          0\n",
              "Type of dependency    0\n",
              "dtype: int64"
            ]
          },
          "metadata": {
            "tags": []
          },
          "execution_count": 18
        }
      ]
    },
    {
      "cell_type": "code",
      "metadata": {
        "id": "54GhoXuchvQa"
      },
      "source": [
        "#df2.to_csv('/content/drive/MyDrive/SENG 607/Redmine_Pos_modified.csv')"
      ],
      "execution_count": 21,
      "outputs": []
    },
    {
      "cell_type": "markdown",
      "metadata": {
        "id": "0a_F7ABoBl0C"
      },
      "source": [
        "**Creating independent pairs**"
      ]
    },
    {
      "cell_type": "code",
      "metadata": {
        "colab": {
          "base_uri": "https://localhost:8080/"
        },
        "id": "GnJSDUuu-Lov",
        "outputId": "3ed61de9-8fe3-48ec-eea6-bac22d96fdf8"
      },
      "source": [
        "df['relationCount'].value_counts()"
      ],
      "execution_count": 29,
      "outputs": [
        {
          "output_type": "execute_result",
          "data": {
            "text/plain": [
              "0     3418\n",
              "1     2110\n",
              "2      607\n",
              "3      289\n",
              "4      143\n",
              "5       76\n",
              "6       41\n",
              "7       29\n",
              "8       27\n",
              "9       18\n",
              "10      16\n",
              "13      10\n",
              "11       9\n",
              "12       9\n",
              "16       3\n",
              "17       3\n",
              "28       2\n",
              "24       2\n",
              "27       1\n",
              "23       1\n",
              "14       1\n",
              "18       1\n",
              "22       1\n",
              "15       1\n",
              "21       1\n",
              "Name: relationCount, dtype: int64"
            ]
          },
          "metadata": {
            "tags": []
          },
          "execution_count": 29
        }
      ]
    },
    {
      "cell_type": "code",
      "metadata": {
        "id": "pvuKhnJTBwFr"
      },
      "source": [
        "i1 = []\n",
        "i2 = []\n",
        "d1 = []\n",
        "d2 = []\n",
        "\n",
        "n = df[df['relationCount']==0]['id'].values\n",
        "\n",
        "for i in range(10000):\n",
        "  d = np.random.choice(n,size=2)\n",
        "  i1.append(d[0])\n",
        "  i2.append(d[1])\n",
        "\n",
        "  c = df[df['id']==d[0]]['desc'].to_string()          # For extracting description wrt to each id\n",
        "  c1 = df[df['id']==d[1]]['desc'].to_string()\n",
        "  d1.append(c[5:])\n",
        "  d2.append(c1[5:])"
      ],
      "execution_count": 30,
      "outputs": []
    },
    {
      "cell_type": "code",
      "metadata": {
        "id": "yMJRIG-xDCuR"
      },
      "source": [
        "def ext(x):\n",
        "  return 'independent'"
      ],
      "execution_count": 31,
      "outputs": []
    },
    {
      "cell_type": "code",
      "metadata": {
        "colab": {
          "base_uri": "https://localhost:8080/",
          "height": 204
        },
        "id": "rnZOk9jCDT5F",
        "outputId": "f113240b-957f-4ecd-9551-6fd77978719e"
      },
      "source": [
        "df3 = pd.DataFrame({'id1':i1,'Description1':d1,'id2':i2,'Description2':d2})\n",
        "df3.head()"
      ],
      "execution_count": 32,
      "outputs": [
        {
          "output_type": "execute_result",
          "data": {
            "text/html": [
              "<div>\n",
              "<style scoped>\n",
              "    .dataframe tbody tr th:only-of-type {\n",
              "        vertical-align: middle;\n",
              "    }\n",
              "\n",
              "    .dataframe tbody tr th {\n",
              "        vertical-align: top;\n",
              "    }\n",
              "\n",
              "    .dataframe thead th {\n",
              "        text-align: right;\n",
              "    }\n",
              "</style>\n",
              "<table border=\"1\" class=\"dataframe\">\n",
              "  <thead>\n",
              "    <tr style=\"text-align: right;\">\n",
              "      <th></th>\n",
              "      <th>id1</th>\n",
              "      <th>Description1</th>\n",
              "      <th>id2</th>\n",
              "      <th>Description2</th>\n",
              "    </tr>\n",
              "  </thead>\n",
              "  <tbody>\n",
              "    <tr>\n",
              "      <th>0</th>\n",
              "      <td>1497</td>\n",
              "      <td>Add ability to add \"Target Version\" as a fi...</td>\n",
              "      <td>278</td>\n",
              "      <td>Hi,\\r\\n\\r\\nCan you add the option to add a ...</td>\n",
              "    </tr>\n",
              "    <tr>\n",
              "      <th>1</th>\n",
              "      <td>24188</td>\n",
              "      <td>Can I display the responsible name on gantt?...</td>\n",
              "      <td>3796</td>\n",
              "      <td>Dear All,\\r\\n\\r\\nUsers can create new issue...</td>\n",
              "    </tr>\n",
              "    <tr>\n",
              "      <th>2</th>\n",
              "      <td>10523</td>\n",
              "      <td>Hey guys,\\r\\n\\r\\nI really need an additiona...</td>\n",
              "      <td>317</td>\n",
              "      <td>I created an issue with lots of newlines. I...</td>\n",
              "    </tr>\n",
              "    <tr>\n",
              "      <th>3</th>\n",
              "      <td>12888</td>\n",
              "      <td>Since we've started using Redmine 2.2.x we'...</td>\n",
              "      <td>32695</td>\n",
              "      <td>The subject says it all... Please add the 4....</td>\n",
              "    </tr>\n",
              "    <tr>\n",
              "      <th>4</th>\n",
              "      <td>12559</td>\n",
              "      <td>I have a project set up in redmine. I want ...</td>\n",
              "      <td>4013</td>\n",
              "      <td>Hello, \\r\\nI usually use sub-projects. \\r\\n...</td>\n",
              "    </tr>\n",
              "  </tbody>\n",
              "</table>\n",
              "</div>"
            ],
            "text/plain": [
              "     id1  ...                                       Description2\n",
              "0   1497  ...     Hi,\\r\\n\\r\\nCan you add the option to add a ...\n",
              "1  24188  ...     Dear All,\\r\\n\\r\\nUsers can create new issue...\n",
              "2  10523  ...     I created an issue with lots of newlines. I...\n",
              "3  12888  ...    The subject says it all... Please add the 4....\n",
              "4  12559  ...     Hello, \\r\\nI usually use sub-projects. \\r\\n...\n",
              "\n",
              "[5 rows x 4 columns]"
            ]
          },
          "metadata": {
            "tags": []
          },
          "execution_count": 32
        }
      ]
    },
    {
      "cell_type": "code",
      "metadata": {
        "id": "nHE5Dq08Eeg1"
      },
      "source": [
        "df3['Type of dependency'] = df3['id1'].apply(ext)"
      ],
      "execution_count": 34,
      "outputs": []
    },
    {
      "cell_type": "code",
      "metadata": {
        "colab": {
          "base_uri": "https://localhost:8080/",
          "height": 204
        },
        "id": "16wKOENcEpJB",
        "outputId": "686df108-04b0-451e-9d97-43410a3eaabc"
      },
      "source": [
        "df3.head()"
      ],
      "execution_count": 35,
      "outputs": [
        {
          "output_type": "execute_result",
          "data": {
            "text/html": [
              "<div>\n",
              "<style scoped>\n",
              "    .dataframe tbody tr th:only-of-type {\n",
              "        vertical-align: middle;\n",
              "    }\n",
              "\n",
              "    .dataframe tbody tr th {\n",
              "        vertical-align: top;\n",
              "    }\n",
              "\n",
              "    .dataframe thead th {\n",
              "        text-align: right;\n",
              "    }\n",
              "</style>\n",
              "<table border=\"1\" class=\"dataframe\">\n",
              "  <thead>\n",
              "    <tr style=\"text-align: right;\">\n",
              "      <th></th>\n",
              "      <th>id1</th>\n",
              "      <th>Description1</th>\n",
              "      <th>id2</th>\n",
              "      <th>Description2</th>\n",
              "      <th>Type of dependency</th>\n",
              "    </tr>\n",
              "  </thead>\n",
              "  <tbody>\n",
              "    <tr>\n",
              "      <th>0</th>\n",
              "      <td>1497</td>\n",
              "      <td>Add ability to add \"Target Version\" as a fi...</td>\n",
              "      <td>278</td>\n",
              "      <td>Hi,\\r\\n\\r\\nCan you add the option to add a ...</td>\n",
              "      <td>independent</td>\n",
              "    </tr>\n",
              "    <tr>\n",
              "      <th>1</th>\n",
              "      <td>24188</td>\n",
              "      <td>Can I display the responsible name on gantt?...</td>\n",
              "      <td>3796</td>\n",
              "      <td>Dear All,\\r\\n\\r\\nUsers can create new issue...</td>\n",
              "      <td>independent</td>\n",
              "    </tr>\n",
              "    <tr>\n",
              "      <th>2</th>\n",
              "      <td>10523</td>\n",
              "      <td>Hey guys,\\r\\n\\r\\nI really need an additiona...</td>\n",
              "      <td>317</td>\n",
              "      <td>I created an issue with lots of newlines. I...</td>\n",
              "      <td>independent</td>\n",
              "    </tr>\n",
              "    <tr>\n",
              "      <th>3</th>\n",
              "      <td>12888</td>\n",
              "      <td>Since we've started using Redmine 2.2.x we'...</td>\n",
              "      <td>32695</td>\n",
              "      <td>The subject says it all... Please add the 4....</td>\n",
              "      <td>independent</td>\n",
              "    </tr>\n",
              "    <tr>\n",
              "      <th>4</th>\n",
              "      <td>12559</td>\n",
              "      <td>I have a project set up in redmine. I want ...</td>\n",
              "      <td>4013</td>\n",
              "      <td>Hello, \\r\\nI usually use sub-projects. \\r\\n...</td>\n",
              "      <td>independent</td>\n",
              "    </tr>\n",
              "  </tbody>\n",
              "</table>\n",
              "</div>"
            ],
            "text/plain": [
              "     id1  ... Type of dependency\n",
              "0   1497  ...        independent\n",
              "1  24188  ...        independent\n",
              "2  10523  ...        independent\n",
              "3  12888  ...        independent\n",
              "4  12559  ...        independent\n",
              "\n",
              "[5 rows x 5 columns]"
            ]
          },
          "metadata": {
            "tags": []
          },
          "execution_count": 35
        }
      ]
    },
    {
      "cell_type": "code",
      "metadata": {
        "colab": {
          "base_uri": "https://localhost:8080/"
        },
        "id": "JBg50B9xGTCd",
        "outputId": "8222ff05-c9f3-44c9-91a8-b706cdd85593"
      },
      "source": [
        "# Sentence Length Analysis\n",
        "y1,y2 = [],[]\n",
        "y = df3['Description1']\n",
        "z = df3['Description2']\n",
        "for i in range(len(y)):\n",
        "  q = y[i].split(' ')\n",
        "  if len(q) <2:\n",
        "    y1.append(i)\n",
        "for i in range(len(y)):\n",
        "  q1 = z[i].split(' ')\n",
        "  if len(q1) <2:\n",
        "    y2.append(i)\n",
        "print(len(y1))\n",
        "print(len(y2))\n",
        "q2 = list(set(y1+y2))\n",
        "df3.drop(q2,inplace=True)\n",
        "df3 = df3.reset_index(drop=True)"
      ],
      "execution_count": 36,
      "outputs": [
        {
          "output_type": "stream",
          "text": [
            "0\n",
            "0\n"
          ],
          "name": "stdout"
        }
      ]
    },
    {
      "cell_type": "code",
      "metadata": {
        "colab": {
          "base_uri": "https://localhost:8080/",
          "height": 204
        },
        "id": "EkVbb7Z7HvXr",
        "outputId": "4d61558d-ec3b-42e4-e8cd-a82b2c4f63b9"
      },
      "source": [
        "df3.head()"
      ],
      "execution_count": 37,
      "outputs": [
        {
          "output_type": "execute_result",
          "data": {
            "text/html": [
              "<div>\n",
              "<style scoped>\n",
              "    .dataframe tbody tr th:only-of-type {\n",
              "        vertical-align: middle;\n",
              "    }\n",
              "\n",
              "    .dataframe tbody tr th {\n",
              "        vertical-align: top;\n",
              "    }\n",
              "\n",
              "    .dataframe thead th {\n",
              "        text-align: right;\n",
              "    }\n",
              "</style>\n",
              "<table border=\"1\" class=\"dataframe\">\n",
              "  <thead>\n",
              "    <tr style=\"text-align: right;\">\n",
              "      <th></th>\n",
              "      <th>id1</th>\n",
              "      <th>Description1</th>\n",
              "      <th>id2</th>\n",
              "      <th>Description2</th>\n",
              "      <th>Type of dependency</th>\n",
              "    </tr>\n",
              "  </thead>\n",
              "  <tbody>\n",
              "    <tr>\n",
              "      <th>0</th>\n",
              "      <td>1497</td>\n",
              "      <td>Add ability to add \"Target Version\" as a fi...</td>\n",
              "      <td>278</td>\n",
              "      <td>Hi,\\r\\n\\r\\nCan you add the option to add a ...</td>\n",
              "      <td>independent</td>\n",
              "    </tr>\n",
              "    <tr>\n",
              "      <th>1</th>\n",
              "      <td>24188</td>\n",
              "      <td>Can I display the responsible name on gantt?...</td>\n",
              "      <td>3796</td>\n",
              "      <td>Dear All,\\r\\n\\r\\nUsers can create new issue...</td>\n",
              "      <td>independent</td>\n",
              "    </tr>\n",
              "    <tr>\n",
              "      <th>2</th>\n",
              "      <td>10523</td>\n",
              "      <td>Hey guys,\\r\\n\\r\\nI really need an additiona...</td>\n",
              "      <td>317</td>\n",
              "      <td>I created an issue with lots of newlines. I...</td>\n",
              "      <td>independent</td>\n",
              "    </tr>\n",
              "    <tr>\n",
              "      <th>3</th>\n",
              "      <td>12888</td>\n",
              "      <td>Since we've started using Redmine 2.2.x we'...</td>\n",
              "      <td>32695</td>\n",
              "      <td>The subject says it all... Please add the 4....</td>\n",
              "      <td>independent</td>\n",
              "    </tr>\n",
              "    <tr>\n",
              "      <th>4</th>\n",
              "      <td>12559</td>\n",
              "      <td>I have a project set up in redmine. I want ...</td>\n",
              "      <td>4013</td>\n",
              "      <td>Hello, \\r\\nI usually use sub-projects. \\r\\n...</td>\n",
              "      <td>independent</td>\n",
              "    </tr>\n",
              "  </tbody>\n",
              "</table>\n",
              "</div>"
            ],
            "text/plain": [
              "     id1  ... Type of dependency\n",
              "0   1497  ...        independent\n",
              "1  24188  ...        independent\n",
              "2  10523  ...        independent\n",
              "3  12888  ...        independent\n",
              "4  12559  ...        independent\n",
              "\n",
              "[5 rows x 5 columns]"
            ]
          },
          "metadata": {
            "tags": []
          },
          "execution_count": 37
        }
      ]
    },
    {
      "cell_type": "code",
      "metadata": {
        "colab": {
          "base_uri": "https://localhost:8080/"
        },
        "id": "9pMPJ2pUI2hw",
        "outputId": "e7300640-eaf3-4090-9807-7dbc11d8dce1"
      },
      "source": [
        "df3.isnull().sum()"
      ],
      "execution_count": 38,
      "outputs": [
        {
          "output_type": "execute_result",
          "data": {
            "text/plain": [
              "id1                   0\n",
              "Description1          0\n",
              "id2                   0\n",
              "Description2          0\n",
              "Type of dependency    0\n",
              "dtype: int64"
            ]
          },
          "metadata": {
            "tags": []
          },
          "execution_count": 38
        }
      ]
    },
    {
      "cell_type": "code",
      "metadata": {
        "id": "IJ7JwaAkH4KB"
      },
      "source": [
        "#df3.to_csv('/content/drive/MyDrive/SENG 607/Redmine_Neg_modified.csv')"
      ],
      "execution_count": 39,
      "outputs": []
    },
    {
      "cell_type": "markdown",
      "metadata": {
        "id": "tsiFgb3dl9jO"
      },
      "source": [
        "**Processed Dependent Data**"
      ]
    },
    {
      "cell_type": "code",
      "metadata": {
        "id": "KsAB4uKcmIDh"
      },
      "source": [
        "fd = pd.read_csv('/content/drive/MyDrive/SENG 607/AL_redmineP.csv')"
      ],
      "execution_count": null,
      "outputs": []
    },
    {
      "cell_type": "code",
      "metadata": {
        "id": "zhfu0FOAoD7G"
      },
      "source": [
        "fd.drop(['Unnamed: 0'],axis=1,inplace=True)"
      ],
      "execution_count": null,
      "outputs": []
    },
    {
      "cell_type": "code",
      "metadata": {
        "colab": {
          "base_uri": "https://localhost:8080/",
          "height": 204
        },
        "id": "Yw2qhWqxoYLW",
        "outputId": "d6da59c6-0559-4b1a-e317-df040612e2e0"
      },
      "source": [
        "fd.head()"
      ],
      "execution_count": null,
      "outputs": [
        {
          "output_type": "execute_result",
          "data": {
            "text/html": [
              "<div>\n",
              "<style scoped>\n",
              "    .dataframe tbody tr th:only-of-type {\n",
              "        vertical-align: middle;\n",
              "    }\n",
              "\n",
              "    .dataframe tbody tr th {\n",
              "        vertical-align: top;\n",
              "    }\n",
              "\n",
              "    .dataframe thead th {\n",
              "        text-align: right;\n",
              "    }\n",
              "</style>\n",
              "<table border=\"1\" class=\"dataframe\">\n",
              "  <thead>\n",
              "    <tr style=\"text-align: right;\">\n",
              "      <th></th>\n",
              "      <th>id1</th>\n",
              "      <th>Description1</th>\n",
              "      <th>id2</th>\n",
              "      <th>Description2</th>\n",
              "      <th>Type of dependency</th>\n",
              "    </tr>\n",
              "  </thead>\n",
              "  <tbody>\n",
              "    <tr>\n",
              "      <th>0</th>\n",
              "      <td>34556</td>\n",
              "      <td>currently watcher section new</td>\n",
              "      <td>8562</td>\n",
              "      <td>face problem many project</td>\n",
              "      <td>relates</td>\n",
              "    </tr>\n",
              "    <tr>\n",
              "      <th>1</th>\n",
              "      <td>30459</td>\n",
              "      <td>redmine earlier could update</td>\n",
              "      <td>34549</td>\n",
              "      <td>add keyboard shortcut following butto</td>\n",
              "      <td>blocks</td>\n",
              "    </tr>\n",
              "    <tr>\n",
              "      <th>2</th>\n",
              "      <td>34495</td>\n",
              "      <td>twofactor authentication new user form</td>\n",
              "      <td>1237</td>\n",
              "      <td>please add support one time password ser</td>\n",
              "      <td>relates</td>\n",
              "    </tr>\n",
              "    <tr>\n",
              "      <th>3</th>\n",
              "      <td>34340</td>\n",
              "      <td>project displayed tracker edit</td>\n",
              "      <td>6938</td>\n",
              "      <td>idea enhance edit tracker</td>\n",
              "      <td>relates</td>\n",
              "    </tr>\n",
              "    <tr>\n",
              "      <th>4</th>\n",
              "      <td>33383</td>\n",
              "      <td>jquery end life update</td>\n",
              "      <td>34337</td>\n",
              "      <td>update bre</td>\n",
              "      <td>relates</td>\n",
              "    </tr>\n",
              "  </tbody>\n",
              "</table>\n",
              "</div>"
            ],
            "text/plain": [
              "     id1  ... Type of dependency\n",
              "0  34556  ...            relates\n",
              "1  30459  ...             blocks\n",
              "2  34495  ...            relates\n",
              "3  34340  ...            relates\n",
              "4  33383  ...            relates\n",
              "\n",
              "[5 rows x 5 columns]"
            ]
          },
          "metadata": {
            "tags": []
          },
          "execution_count": 87
        }
      ]
    },
    {
      "cell_type": "code",
      "metadata": {
        "colab": {
          "base_uri": "https://localhost:8080/"
        },
        "id": "_1AScQTWJ1_g",
        "outputId": "74f99c9f-f173-423f-ad30-f982e915aa9e"
      },
      "source": [
        "fd.shape"
      ],
      "execution_count": null,
      "outputs": [
        {
          "output_type": "execute_result",
          "data": {
            "text/plain": [
              "(5224, 5)"
            ]
          },
          "metadata": {
            "tags": []
          },
          "execution_count": 88
        }
      ]
    },
    {
      "cell_type": "code",
      "metadata": {
        "colab": {
          "base_uri": "https://localhost:8080/"
        },
        "id": "ruoJKGKwnYmN",
        "outputId": "80c53ce1-5b9a-468c-c0eb-588b3683e9af"
      },
      "source": [
        "fd.isnull().sum()"
      ],
      "execution_count": null,
      "outputs": [
        {
          "output_type": "execute_result",
          "data": {
            "text/plain": [
              "id1                    0\n",
              "Description1          22\n",
              "id2                    0\n",
              "Description2          14\n",
              "Type of dependency     0\n",
              "dtype: int64"
            ]
          },
          "metadata": {
            "tags": []
          },
          "execution_count": 89
        }
      ]
    },
    {
      "cell_type": "code",
      "metadata": {
        "id": "JB_fHzucNQhn"
      },
      "source": [
        "fd.dropna(inplace=True)\n",
        "fd = fd.reset_index(drop=True)"
      ],
      "execution_count": null,
      "outputs": []
    },
    {
      "cell_type": "code",
      "metadata": {
        "colab": {
          "base_uri": "https://localhost:8080/"
        },
        "id": "Hv3zHTwRcdvH",
        "outputId": "9dbe445e-d8ec-4d01-f1ec-e2c3caf944d1"
      },
      "source": [
        "y1,y2 = [],[]\n",
        "y = fd['Description1']\n",
        "z = fd['Description2']\n",
        "for i in range(len(y)):\n",
        "  if len(str(y[i])) < 5 :\n",
        "    y1.append(i)\n",
        "for i in range(len(z)):\n",
        "  if len(str(z[i])) < 5 :\n",
        "    y2.append(i)\n",
        "print(len(y1))\n",
        "print(len(y2))\n",
        "r = list(set(y1+y2))"
      ],
      "execution_count": null,
      "outputs": [
        {
          "output_type": "stream",
          "text": [
            "0\n",
            "0\n"
          ],
          "name": "stdout"
        }
      ]
    },
    {
      "cell_type": "code",
      "metadata": {
        "colab": {
          "base_uri": "https://localhost:8080/"
        },
        "id": "5MAavz9encRx",
        "outputId": "02599f65-5ad0-4b09-ec56-e7368f47739b"
      },
      "source": [
        "fd.shape"
      ],
      "execution_count": null,
      "outputs": [
        {
          "output_type": "execute_result",
          "data": {
            "text/plain": [
              "(5190, 5)"
            ]
          },
          "metadata": {
            "tags": []
          },
          "execution_count": 92
        }
      ]
    },
    {
      "cell_type": "code",
      "metadata": {
        "id": "2gX3eIZwpijQ"
      },
      "source": [
        "a = fd[fd['id2']==3713]['Description2'].index\n",
        "b = fd[fd['id2']==1255]['Description2'].index\n",
        "a = list(a)\n",
        "b = list(b)\n",
        "c = a+b\n",
        "fd.drop(c,inplace=True)\n",
        "fd = fd.reset_index(drop=True)"
      ],
      "execution_count": null,
      "outputs": []
    },
    {
      "cell_type": "code",
      "metadata": {
        "colab": {
          "base_uri": "https://localhost:8080/",
          "height": 204
        },
        "id": "_OAsSD2SqNjm",
        "outputId": "fccfda91-47d1-4b84-a9db-eecef48a3f5d"
      },
      "source": [
        "fd.head()"
      ],
      "execution_count": null,
      "outputs": [
        {
          "output_type": "execute_result",
          "data": {
            "text/html": [
              "<div>\n",
              "<style scoped>\n",
              "    .dataframe tbody tr th:only-of-type {\n",
              "        vertical-align: middle;\n",
              "    }\n",
              "\n",
              "    .dataframe tbody tr th {\n",
              "        vertical-align: top;\n",
              "    }\n",
              "\n",
              "    .dataframe thead th {\n",
              "        text-align: right;\n",
              "    }\n",
              "</style>\n",
              "<table border=\"1\" class=\"dataframe\">\n",
              "  <thead>\n",
              "    <tr style=\"text-align: right;\">\n",
              "      <th></th>\n",
              "      <th>id1</th>\n",
              "      <th>Description1</th>\n",
              "      <th>id2</th>\n",
              "      <th>Description2</th>\n",
              "      <th>Type of dependency</th>\n",
              "    </tr>\n",
              "  </thead>\n",
              "  <tbody>\n",
              "    <tr>\n",
              "      <th>0</th>\n",
              "      <td>34556</td>\n",
              "      <td>currently watcher section new</td>\n",
              "      <td>8562</td>\n",
              "      <td>face problem many project</td>\n",
              "      <td>relates</td>\n",
              "    </tr>\n",
              "    <tr>\n",
              "      <th>1</th>\n",
              "      <td>30459</td>\n",
              "      <td>redmine earlier could update</td>\n",
              "      <td>34549</td>\n",
              "      <td>add keyboard shortcut following butto</td>\n",
              "      <td>blocks</td>\n",
              "    </tr>\n",
              "    <tr>\n",
              "      <th>2</th>\n",
              "      <td>34495</td>\n",
              "      <td>twofactor authentication new user form</td>\n",
              "      <td>1237</td>\n",
              "      <td>please add support one time password ser</td>\n",
              "      <td>relates</td>\n",
              "    </tr>\n",
              "    <tr>\n",
              "      <th>3</th>\n",
              "      <td>34340</td>\n",
              "      <td>project displayed tracker edit</td>\n",
              "      <td>6938</td>\n",
              "      <td>idea enhance edit tracker</td>\n",
              "      <td>relates</td>\n",
              "    </tr>\n",
              "    <tr>\n",
              "      <th>4</th>\n",
              "      <td>33383</td>\n",
              "      <td>jquery end life update</td>\n",
              "      <td>34337</td>\n",
              "      <td>update bre</td>\n",
              "      <td>relates</td>\n",
              "    </tr>\n",
              "  </tbody>\n",
              "</table>\n",
              "</div>"
            ],
            "text/plain": [
              "     id1  ... Type of dependency\n",
              "0  34556  ...            relates\n",
              "1  30459  ...             blocks\n",
              "2  34495  ...            relates\n",
              "3  34340  ...            relates\n",
              "4  33383  ...            relates\n",
              "\n",
              "[5 rows x 5 columns]"
            ]
          },
          "metadata": {
            "tags": []
          },
          "execution_count": 95
        }
      ]
    },
    {
      "cell_type": "code",
      "metadata": {
        "colab": {
          "base_uri": "https://localhost:8080/"
        },
        "id": "FBxTU7OHqQdl",
        "outputId": "3c2ed737-1f78-4b77-c3f1-f8f5646dfef2"
      },
      "source": [
        "fd.shape"
      ],
      "execution_count": null,
      "outputs": [
        {
          "output_type": "execute_result",
          "data": {
            "text/plain": [
              "(5186, 5)"
            ]
          },
          "metadata": {
            "tags": []
          },
          "execution_count": 96
        }
      ]
    },
    {
      "cell_type": "code",
      "metadata": {
        "colab": {
          "base_uri": "https://localhost:8080/"
        },
        "id": "kcXf-CETMr3x",
        "outputId": "5f50ede4-b6b7-4aca-fb54-8d92ec8012d0"
      },
      "source": [
        "fd.isnull().sum()"
      ],
      "execution_count": null,
      "outputs": [
        {
          "output_type": "execute_result",
          "data": {
            "text/plain": [
              "id1                   0\n",
              "Description1          0\n",
              "id2                   0\n",
              "Description2          0\n",
              "Type of dependency    0\n",
              "dtype: int64"
            ]
          },
          "metadata": {
            "tags": []
          },
          "execution_count": 97
        }
      ]
    },
    {
      "cell_type": "code",
      "metadata": {
        "colab": {
          "base_uri": "https://localhost:8080/"
        },
        "id": "_5X5EmtR6dD4",
        "outputId": "ffe9d735-2d35-468b-e8ff-486a59f00b9c"
      },
      "source": [
        "fd['Type of dependency'].value_counts()"
      ],
      "execution_count": null,
      "outputs": [
        {
          "output_type": "execute_result",
          "data": {
            "text/plain": [
              "relates       2804\n",
              "duplicates    2310\n",
              "blocks          36\n",
              "copied_to       18\n",
              "precedes        18\n",
              "Name: Type of dependency, dtype: int64"
            ]
          },
          "metadata": {
            "tags": []
          },
          "execution_count": 98
        }
      ]
    },
    {
      "cell_type": "code",
      "metadata": {
        "id": "ylC64No6n_rJ"
      },
      "source": [
        "#fd.to_csv('/content/drive/MyDrive/Redmine_Processed_ALPos.csv')"
      ],
      "execution_count": null,
      "outputs": []
    },
    {
      "cell_type": "markdown",
      "metadata": {
        "id": "p0etGTms2xHi"
      },
      "source": [
        "**Independent pairs processed data**"
      ]
    },
    {
      "cell_type": "code",
      "metadata": {
        "id": "5SeOEXSX6SwD"
      },
      "source": [
        "fd1 = pd.read_csv('/content/drive/MyDrive/SENG 607/AL_redmine_IndP.csv')"
      ],
      "execution_count": null,
      "outputs": []
    },
    {
      "cell_type": "code",
      "metadata": {
        "id": "uqYAsEDuLCse"
      },
      "source": [
        "fd1.drop(['Unnamed: 0'],axis=1,inplace=True)"
      ],
      "execution_count": null,
      "outputs": []
    },
    {
      "cell_type": "code",
      "metadata": {
        "colab": {
          "base_uri": "https://localhost:8080/",
          "height": 204
        },
        "id": "mXUZSP9kK5Vh",
        "outputId": "c5e04651-a618-4569-85f0-f60c78caa873"
      },
      "source": [
        "fd1.head()"
      ],
      "execution_count": null,
      "outputs": [
        {
          "output_type": "execute_result",
          "data": {
            "text/html": [
              "<div>\n",
              "<style scoped>\n",
              "    .dataframe tbody tr th:only-of-type {\n",
              "        vertical-align: middle;\n",
              "    }\n",
              "\n",
              "    .dataframe tbody tr th {\n",
              "        vertical-align: top;\n",
              "    }\n",
              "\n",
              "    .dataframe thead th {\n",
              "        text-align: right;\n",
              "    }\n",
              "</style>\n",
              "<table border=\"1\" class=\"dataframe\">\n",
              "  <thead>\n",
              "    <tr style=\"text-align: right;\">\n",
              "      <th></th>\n",
              "      <th>id1</th>\n",
              "      <th>Description1</th>\n",
              "      <th>id2</th>\n",
              "      <th>Description2</th>\n",
              "      <th>Type of dependency</th>\n",
              "    </tr>\n",
              "  </thead>\n",
              "  <tbody>\n",
              "    <tr>\n",
              "      <th>0</th>\n",
              "      <td>3314</td>\n",
              "      <td>editing user detail via admin panel</td>\n",
              "      <td>544</td>\n",
              "      <td>issue summary page get summar</td>\n",
              "      <td>independent</td>\n",
              "    </tr>\n",
              "    <tr>\n",
              "      <th>1</th>\n",
              "      <td>27315</td>\n",
              "      <td>sort column attachment alphabetical</td>\n",
              "      <td>12628</td>\n",
              "      <td>would also great enhancement</td>\n",
              "      <td>independent</td>\n",
              "    </tr>\n",
              "    <tr>\n",
              "      <th>2</th>\n",
              "      <td>27211</td>\n",
              "      <td>import field missing project let kno</td>\n",
              "      <td>6268</td>\n",
              "      <td>issue easy way get</td>\n",
              "      <td>independent</td>\n",
              "    </tr>\n",
              "    <tr>\n",
              "      <th>3</th>\n",
              "      <td>547</td>\n",
              "      <td>wiki extremely practical documentat</td>\n",
              "      <td>4695</td>\n",
              "      <td>redmine could provide special stack trace form</td>\n",
              "      <td>independent</td>\n",
              "    </tr>\n",
              "    <tr>\n",
              "      <th>4</th>\n",
              "      <td>4717</td>\n",
              "      <td>observed rndirect link</td>\n",
              "      <td>18122</td>\n",
              "      <td>installation tutorial step regarding</td>\n",
              "      <td>independent</td>\n",
              "    </tr>\n",
              "  </tbody>\n",
              "</table>\n",
              "</div>"
            ],
            "text/plain": [
              "     id1  ... Type of dependency\n",
              "0   3314  ...        independent\n",
              "1  27315  ...        independent\n",
              "2  27211  ...        independent\n",
              "3    547  ...        independent\n",
              "4   4717  ...        independent\n",
              "\n",
              "[5 rows x 5 columns]"
            ]
          },
          "metadata": {
            "tags": []
          },
          "execution_count": 125
        }
      ]
    },
    {
      "cell_type": "code",
      "metadata": {
        "colab": {
          "base_uri": "https://localhost:8080/"
        },
        "id": "DGxDZfm_a8oA",
        "outputId": "3b040f15-2422-40fa-901b-04ce1545039d"
      },
      "source": [
        "y1,y2 = [],[]\n",
        "y = fd1['Description1']\n",
        "z = fd1['Description2']\n",
        "for i in range(len(y)):\n",
        "  if len(str(y[i])) < 6 :\n",
        "    y1.append(i)\n",
        "for i in range(len(z)):\n",
        "  if len(str(z[i])) < 6 :\n",
        "    y2.append(i)\n",
        "print(len(y1))\n",
        "print(len(y2))\n",
        "r = list(set(y1+y2))"
      ],
      "execution_count": null,
      "outputs": [
        {
          "output_type": "stream",
          "text": [
            "346\n",
            "334\n"
          ],
          "name": "stdout"
        }
      ]
    },
    {
      "cell_type": "code",
      "metadata": {
        "id": "xPzEvsY4bldq"
      },
      "source": [
        "fd1.drop(r,inplace=True)\n",
        "fd1 = fd1.reset_index(drop=True)"
      ],
      "execution_count": null,
      "outputs": []
    },
    {
      "cell_type": "code",
      "metadata": {
        "colab": {
          "base_uri": "https://localhost:8080/",
          "height": 204
        },
        "id": "goxIlGnfUCwx",
        "outputId": "53de1cd0-e646-4ff7-ec07-ffd94d1c3189"
      },
      "source": [
        "fd1.head()"
      ],
      "execution_count": null,
      "outputs": [
        {
          "output_type": "execute_result",
          "data": {
            "text/html": [
              "<div>\n",
              "<style scoped>\n",
              "    .dataframe tbody tr th:only-of-type {\n",
              "        vertical-align: middle;\n",
              "    }\n",
              "\n",
              "    .dataframe tbody tr th {\n",
              "        vertical-align: top;\n",
              "    }\n",
              "\n",
              "    .dataframe thead th {\n",
              "        text-align: right;\n",
              "    }\n",
              "</style>\n",
              "<table border=\"1\" class=\"dataframe\">\n",
              "  <thead>\n",
              "    <tr style=\"text-align: right;\">\n",
              "      <th></th>\n",
              "      <th>id1</th>\n",
              "      <th>Description1</th>\n",
              "      <th>id2</th>\n",
              "      <th>Description2</th>\n",
              "      <th>Type of dependency</th>\n",
              "    </tr>\n",
              "  </thead>\n",
              "  <tbody>\n",
              "    <tr>\n",
              "      <th>0</th>\n",
              "      <td>3314</td>\n",
              "      <td>editing user detail via admin panel</td>\n",
              "      <td>544</td>\n",
              "      <td>issue summary page get summar</td>\n",
              "      <td>independent</td>\n",
              "    </tr>\n",
              "    <tr>\n",
              "      <th>1</th>\n",
              "      <td>27315</td>\n",
              "      <td>sort column attachment alphabetical</td>\n",
              "      <td>12628</td>\n",
              "      <td>would also great enhancement</td>\n",
              "      <td>independent</td>\n",
              "    </tr>\n",
              "    <tr>\n",
              "      <th>2</th>\n",
              "      <td>27211</td>\n",
              "      <td>import field missing project let kno</td>\n",
              "      <td>6268</td>\n",
              "      <td>issue easy way get</td>\n",
              "      <td>independent</td>\n",
              "    </tr>\n",
              "    <tr>\n",
              "      <th>3</th>\n",
              "      <td>547</td>\n",
              "      <td>wiki extremely practical documentat</td>\n",
              "      <td>4695</td>\n",
              "      <td>redmine could provide special stack trace form</td>\n",
              "      <td>independent</td>\n",
              "    </tr>\n",
              "    <tr>\n",
              "      <th>4</th>\n",
              "      <td>4717</td>\n",
              "      <td>observed rndirect link</td>\n",
              "      <td>18122</td>\n",
              "      <td>installation tutorial step regarding</td>\n",
              "      <td>independent</td>\n",
              "    </tr>\n",
              "  </tbody>\n",
              "</table>\n",
              "</div>"
            ],
            "text/plain": [
              "     id1  ... Type of dependency\n",
              "0   3314  ...        independent\n",
              "1  27315  ...        independent\n",
              "2  27211  ...        independent\n",
              "3    547  ...        independent\n",
              "4   4717  ...        independent\n",
              "\n",
              "[5 rows x 5 columns]"
            ]
          },
          "metadata": {
            "tags": []
          },
          "execution_count": 128
        }
      ]
    },
    {
      "cell_type": "code",
      "metadata": {
        "colab": {
          "base_uri": "https://localhost:8080/"
        },
        "id": "H_x7v1CPflUE",
        "outputId": "713d86ea-c6e4-4b4b-ca47-7a9f021d95fe"
      },
      "source": [
        "u,u1 = [],[]\n",
        "drop1 = [9152,6660,5843,5842,5848,2886,7897,4553,9153,6516,2338,8665,78662,7673,13170,8402,5841,4937,6106]\n",
        "drop2 = [7196,6160,7862,2886,9251,4553,8752,8791,806,7869,6106,5377,8635,8791,13787,8260,8752,1255,342,9251]\n",
        "drop = drop1+drop2\n",
        "for i in drop:\n",
        "  a = fd1[fd1['id2']==i]['Description2'].index\n",
        "  a = list(a)\n",
        "  for j in a:\n",
        "    u.append(j)\n",
        "print(len(u))\n",
        "\n",
        "drop2 = [7196,6160,7862,2886,9251,4553,8752,8791,806,7869,6106,5377,8635,8791,13787,8260,8752,1255,342,9251]\n",
        "for i in drop:\n",
        "  b = fd1[fd1['id1']==i]['Description1'].index\n",
        "  b = list(b)\n",
        "  for j in b:\n",
        "    u1.append(j)\n",
        "print(len(u1))\n",
        "s = list(set(u1+u))\n",
        "print(len(s))"
      ],
      "execution_count": null,
      "outputs": [
        {
          "output_type": "stream",
          "text": [
            "543\n",
            "521\n",
            "863\n"
          ],
          "name": "stdout"
        }
      ]
    },
    {
      "cell_type": "code",
      "metadata": {
        "id": "dj2518Axof5c"
      },
      "source": [
        "fd1.drop(s,inplace=True)\n",
        "fd1 = fd1.reset_index(drop=True)"
      ],
      "execution_count": null,
      "outputs": []
    },
    {
      "cell_type": "code",
      "metadata": {
        "colab": {
          "base_uri": "https://localhost:8080/",
          "height": 204
        },
        "id": "eJemMKzto2hU",
        "outputId": "4c69e8e8-73a5-4d8c-fc39-f13797ea0f60"
      },
      "source": [
        "fd1.head()"
      ],
      "execution_count": null,
      "outputs": [
        {
          "output_type": "execute_result",
          "data": {
            "text/html": [
              "<div>\n",
              "<style scoped>\n",
              "    .dataframe tbody tr th:only-of-type {\n",
              "        vertical-align: middle;\n",
              "    }\n",
              "\n",
              "    .dataframe tbody tr th {\n",
              "        vertical-align: top;\n",
              "    }\n",
              "\n",
              "    .dataframe thead th {\n",
              "        text-align: right;\n",
              "    }\n",
              "</style>\n",
              "<table border=\"1\" class=\"dataframe\">\n",
              "  <thead>\n",
              "    <tr style=\"text-align: right;\">\n",
              "      <th></th>\n",
              "      <th>id1</th>\n",
              "      <th>Description1</th>\n",
              "      <th>id2</th>\n",
              "      <th>Description2</th>\n",
              "      <th>Type of dependency</th>\n",
              "    </tr>\n",
              "  </thead>\n",
              "  <tbody>\n",
              "    <tr>\n",
              "      <th>0</th>\n",
              "      <td>3314</td>\n",
              "      <td>editing user detail via admin panel</td>\n",
              "      <td>544</td>\n",
              "      <td>issue summary page get summar</td>\n",
              "      <td>independent</td>\n",
              "    </tr>\n",
              "    <tr>\n",
              "      <th>1</th>\n",
              "      <td>27315</td>\n",
              "      <td>sort column attachment alphabetical</td>\n",
              "      <td>12628</td>\n",
              "      <td>would also great enhancement</td>\n",
              "      <td>independent</td>\n",
              "    </tr>\n",
              "    <tr>\n",
              "      <th>2</th>\n",
              "      <td>27211</td>\n",
              "      <td>import field missing project let kno</td>\n",
              "      <td>6268</td>\n",
              "      <td>issue easy way get</td>\n",
              "      <td>independent</td>\n",
              "    </tr>\n",
              "    <tr>\n",
              "      <th>3</th>\n",
              "      <td>547</td>\n",
              "      <td>wiki extremely practical documentat</td>\n",
              "      <td>4695</td>\n",
              "      <td>redmine could provide special stack trace form</td>\n",
              "      <td>independent</td>\n",
              "    </tr>\n",
              "    <tr>\n",
              "      <th>4</th>\n",
              "      <td>4717</td>\n",
              "      <td>observed rndirect link</td>\n",
              "      <td>18122</td>\n",
              "      <td>installation tutorial step regarding</td>\n",
              "      <td>independent</td>\n",
              "    </tr>\n",
              "  </tbody>\n",
              "</table>\n",
              "</div>"
            ],
            "text/plain": [
              "     id1  ... Type of dependency\n",
              "0   3314  ...        independent\n",
              "1  27315  ...        independent\n",
              "2  27211  ...        independent\n",
              "3    547  ...        independent\n",
              "4   4717  ...        independent\n",
              "\n",
              "[5 rows x 5 columns]"
            ]
          },
          "metadata": {
            "tags": []
          },
          "execution_count": 131
        }
      ]
    },
    {
      "cell_type": "code",
      "metadata": {
        "colab": {
          "base_uri": "https://localhost:8080/"
        },
        "id": "C32nbnOgo4Xo",
        "outputId": "89a36b1a-0497-4c95-d238-1ef9db088d0d"
      },
      "source": [
        "fd1.isnull().sum()"
      ],
      "execution_count": null,
      "outputs": [
        {
          "output_type": "execute_result",
          "data": {
            "text/plain": [
              "id1                   0\n",
              "Description1          0\n",
              "id2                   0\n",
              "Description2          0\n",
              "Type of dependency    0\n",
              "dtype: int64"
            ]
          },
          "metadata": {
            "tags": []
          },
          "execution_count": 132
        }
      ]
    },
    {
      "cell_type": "code",
      "metadata": {
        "id": "qrDdlSHspN6F"
      },
      "source": [
        "#fd1.to_csv('/content/drive/MyDrive/Redmine_Processed_ALNeg.csv')"
      ],
      "execution_count": null,
      "outputs": []
    },
    {
      "cell_type": "markdown",
      "metadata": {
        "id": "shpvBnKKWZMU"
      },
      "source": [
        "**BERT DATASET**"
      ]
    },
    {
      "cell_type": "code",
      "metadata": {
        "id": "IqaF1SPCpbFk"
      },
      "source": [
        "ber = pd.read_csv('/content/drive/MyDrive/SENG 607/Redmine_Processed_BERTPos_init_modified.csv')"
      ],
      "execution_count": 50,
      "outputs": []
    },
    {
      "cell_type": "code",
      "metadata": {
        "colab": {
          "base_uri": "https://localhost:8080/",
          "height": 204
        },
        "id": "NlP7cuWxYsVy",
        "outputId": "c0a33a31-1f9b-4001-f933-87360eb31d5f"
      },
      "source": [
        "ber.head()"
      ],
      "execution_count": 51,
      "outputs": [
        {
          "output_type": "execute_result",
          "data": {
            "text/html": [
              "<div>\n",
              "<style scoped>\n",
              "    .dataframe tbody tr th:only-of-type {\n",
              "        vertical-align: middle;\n",
              "    }\n",
              "\n",
              "    .dataframe tbody tr th {\n",
              "        vertical-align: top;\n",
              "    }\n",
              "\n",
              "    .dataframe thead th {\n",
              "        text-align: right;\n",
              "    }\n",
              "</style>\n",
              "<table border=\"1\" class=\"dataframe\">\n",
              "  <thead>\n",
              "    <tr style=\"text-align: right;\">\n",
              "      <th></th>\n",
              "      <th>Unnamed: 0</th>\n",
              "      <th>id1</th>\n",
              "      <th>Description1</th>\n",
              "      <th>id2</th>\n",
              "      <th>Description2</th>\n",
              "      <th>Type of dependency</th>\n",
              "    </tr>\n",
              "  </thead>\n",
              "  <tbody>\n",
              "    <tr>\n",
              "      <th>0</th>\n",
              "      <td>0</td>\n",
              "      <td>34556</td>\n",
              "      <td>currently the watchers section in the new i</td>\n",
              "      <td>8562</td>\n",
              "      <td>we face the problem that we have many project</td>\n",
              "      <td>relates</td>\n",
              "    </tr>\n",
              "    <tr>\n",
              "      <th>1</th>\n",
              "      <td>1</td>\n",
              "      <td>30459</td>\n",
              "      <td>in redmine and earlier you could update t</td>\n",
              "      <td>34549</td>\n",
              "      <td>add keyboard shortcuts for the following butto</td>\n",
              "      <td>blocks</td>\n",
              "    </tr>\n",
              "    <tr>\n",
              "      <th>2</th>\n",
              "      <td>2</td>\n",
              "      <td>34495</td>\n",
              "      <td>twofactor authentication on new user form</td>\n",
              "      <td>1237</td>\n",
              "      <td>please add support for one time password ser</td>\n",
              "      <td>relates</td>\n",
              "    </tr>\n",
              "    <tr>\n",
              "      <th>3</th>\n",
              "      <td>3</td>\n",
              "      <td>34340</td>\n",
              "      <td>all projects are displayed in the tracker edit</td>\n",
              "      <td>6938</td>\n",
              "      <td>have few ideas to enhance the edit tracker</td>\n",
              "      <td>relates</td>\n",
              "    </tr>\n",
              "    <tr>\n",
              "      <th>4</th>\n",
              "      <td>4</td>\n",
              "      <td>33383</td>\n",
              "      <td>jquery is end of life and we should update t</td>\n",
              "      <td>34337</td>\n",
              "      <td>because the update can bre</td>\n",
              "      <td>relates</td>\n",
              "    </tr>\n",
              "  </tbody>\n",
              "</table>\n",
              "</div>"
            ],
            "text/plain": [
              "   Unnamed: 0  ...  Type of dependency\n",
              "0           0  ...             relates\n",
              "1           1  ...              blocks\n",
              "2           2  ...             relates\n",
              "3           3  ...             relates\n",
              "4           4  ...             relates\n",
              "\n",
              "[5 rows x 6 columns]"
            ]
          },
          "metadata": {
            "tags": []
          },
          "execution_count": 51
        }
      ]
    },
    {
      "cell_type": "code",
      "metadata": {
        "colab": {
          "base_uri": "https://localhost:8080/"
        },
        "id": "HxKisS4rYtNg",
        "outputId": "4d530284-91ed-4295-93a4-6fd62744e440"
      },
      "source": [
        "ber.isnull().sum()"
      ],
      "execution_count": 52,
      "outputs": [
        {
          "output_type": "execute_result",
          "data": {
            "text/plain": [
              "Unnamed: 0             0\n",
              "id1                    0\n",
              "Description1          20\n",
              "id2                    0\n",
              "Description2          14\n",
              "Type of dependency     0\n",
              "dtype: int64"
            ]
          },
          "metadata": {
            "tags": []
          },
          "execution_count": 52
        }
      ]
    },
    {
      "cell_type": "code",
      "metadata": {
        "id": "-XtDFn19YwPw"
      },
      "source": [
        "ber.drop(['Unnamed: 0'],axis=1,inplace=True)"
      ],
      "execution_count": 53,
      "outputs": []
    },
    {
      "cell_type": "code",
      "metadata": {
        "id": "srNr3PxpY68_"
      },
      "source": [
        "ber.dropna(inplace=True)\n",
        "ber = ber.reset_index(drop=True)"
      ],
      "execution_count": 54,
      "outputs": []
    },
    {
      "cell_type": "code",
      "metadata": {
        "colab": {
          "base_uri": "https://localhost:8080/",
          "height": 204
        },
        "id": "-o-B1kM0ZBFt",
        "outputId": "c40d81f8-7eb9-410a-bb04-3312ba4dbf59"
      },
      "source": [
        "ber.head()"
      ],
      "execution_count": 55,
      "outputs": [
        {
          "output_type": "execute_result",
          "data": {
            "text/html": [
              "<div>\n",
              "<style scoped>\n",
              "    .dataframe tbody tr th:only-of-type {\n",
              "        vertical-align: middle;\n",
              "    }\n",
              "\n",
              "    .dataframe tbody tr th {\n",
              "        vertical-align: top;\n",
              "    }\n",
              "\n",
              "    .dataframe thead th {\n",
              "        text-align: right;\n",
              "    }\n",
              "</style>\n",
              "<table border=\"1\" class=\"dataframe\">\n",
              "  <thead>\n",
              "    <tr style=\"text-align: right;\">\n",
              "      <th></th>\n",
              "      <th>id1</th>\n",
              "      <th>Description1</th>\n",
              "      <th>id2</th>\n",
              "      <th>Description2</th>\n",
              "      <th>Type of dependency</th>\n",
              "    </tr>\n",
              "  </thead>\n",
              "  <tbody>\n",
              "    <tr>\n",
              "      <th>0</th>\n",
              "      <td>34556</td>\n",
              "      <td>currently the watchers section in the new i</td>\n",
              "      <td>8562</td>\n",
              "      <td>we face the problem that we have many project</td>\n",
              "      <td>relates</td>\n",
              "    </tr>\n",
              "    <tr>\n",
              "      <th>1</th>\n",
              "      <td>30459</td>\n",
              "      <td>in redmine and earlier you could update t</td>\n",
              "      <td>34549</td>\n",
              "      <td>add keyboard shortcuts for the following butto</td>\n",
              "      <td>blocks</td>\n",
              "    </tr>\n",
              "    <tr>\n",
              "      <th>2</th>\n",
              "      <td>34495</td>\n",
              "      <td>twofactor authentication on new user form</td>\n",
              "      <td>1237</td>\n",
              "      <td>please add support for one time password ser</td>\n",
              "      <td>relates</td>\n",
              "    </tr>\n",
              "    <tr>\n",
              "      <th>3</th>\n",
              "      <td>34340</td>\n",
              "      <td>all projects are displayed in the tracker edit</td>\n",
              "      <td>6938</td>\n",
              "      <td>have few ideas to enhance the edit tracker</td>\n",
              "      <td>relates</td>\n",
              "    </tr>\n",
              "    <tr>\n",
              "      <th>4</th>\n",
              "      <td>33383</td>\n",
              "      <td>jquery is end of life and we should update t</td>\n",
              "      <td>34337</td>\n",
              "      <td>because the update can bre</td>\n",
              "      <td>relates</td>\n",
              "    </tr>\n",
              "  </tbody>\n",
              "</table>\n",
              "</div>"
            ],
            "text/plain": [
              "     id1  ... Type of dependency\n",
              "0  34556  ...            relates\n",
              "1  30459  ...             blocks\n",
              "2  34495  ...            relates\n",
              "3  34340  ...            relates\n",
              "4  33383  ...            relates\n",
              "\n",
              "[5 rows x 5 columns]"
            ]
          },
          "metadata": {
            "tags": []
          },
          "execution_count": 55
        }
      ]
    },
    {
      "cell_type": "code",
      "metadata": {
        "colab": {
          "base_uri": "https://localhost:8080/"
        },
        "id": "0YE8cCR6ZCMR",
        "outputId": "c31c9a34-f364-46a5-b2f0-b104cd6029cd"
      },
      "source": [
        "ber.isnull().sum()"
      ],
      "execution_count": 56,
      "outputs": [
        {
          "output_type": "execute_result",
          "data": {
            "text/plain": [
              "id1                   0\n",
              "Description1          0\n",
              "id2                   0\n",
              "Description2          0\n",
              "Type of dependency    0\n",
              "dtype: int64"
            ]
          },
          "metadata": {
            "tags": []
          },
          "execution_count": 56
        }
      ]
    },
    {
      "cell_type": "code",
      "metadata": {
        "colab": {
          "base_uri": "https://localhost:8080/"
        },
        "id": "tvA_qEzv3Ba7",
        "outputId": "806dd892-ae19-4ee9-c784-cd3bfc5704f2"
      },
      "source": [
        "def isEnglish(s):\n",
        "  return s.isascii()\n",
        "\n",
        "a1 , a2 = [] , []\n",
        "a = ber['Description1'].values\n",
        "b = ber['Description2'].values\n",
        "\n",
        "for i in range(len(a)):\n",
        "  if isEnglish(a[i])==False:\n",
        "    a1.append(i)\n",
        "for j in range(len(b)):\n",
        "  if isEnglish(b[j])==False:\n",
        "    a2.append(j)\n",
        "\n",
        "print(len(a1))\n",
        "print(len(a2))\n",
        "a3 = list(set(a1+a2))\n",
        "print(len(a3))\n",
        "\n",
        "ber.drop(a3,inplace=True)\n",
        "ber = ber.reset_index(drop=True)"
      ],
      "execution_count": 57,
      "outputs": [
        {
          "output_type": "stream",
          "text": [
            "6\n",
            "16\n",
            "22\n"
          ],
          "name": "stdout"
        }
      ]
    },
    {
      "cell_type": "code",
      "metadata": {
        "colab": {
          "base_uri": "https://localhost:8080/"
        },
        "id": "n70aXz1j3OdD",
        "outputId": "d0feea21-ee72-4dbd-8725-2d3069f8b768"
      },
      "source": [
        "# Sentence Length Analysis\n",
        "y1,y2 = [],[]\n",
        "y = ber['Description1']\n",
        "z = ber['Description2']\n",
        "for i in range(len(y)):\n",
        "  q = y[i].split(' ')\n",
        "  if len(q) <2:\n",
        "    y1.append(i)\n",
        "for i in range(len(y)):\n",
        "  q1 = z[i].split(' ')\n",
        "  if len(q1) <2:\n",
        "    y2.append(i)\n",
        "print(len(y1))\n",
        "print(len(y2))\n",
        "q2 = list(set(y1+y2))\n",
        "ber.drop(q2,inplace=True)\n",
        "ber = ber.reset_index(drop=True)"
      ],
      "execution_count": 58,
      "outputs": [
        {
          "output_type": "stream",
          "text": [
            "8\n",
            "20\n"
          ],
          "name": "stdout"
        }
      ]
    },
    {
      "cell_type": "code",
      "metadata": {
        "id": "a_uoU7IuZFhm"
      },
      "source": [
        "#ber.to_csv('/content/drive/MyDrive/SENG 607/Redmine_Processed_BERTPos_modified.csv')"
      ],
      "execution_count": 59,
      "outputs": []
    },
    {
      "cell_type": "markdown",
      "metadata": {
        "id": "4TeGvKVtaU_i"
      },
      "source": [
        "**BERT independent**"
      ]
    },
    {
      "cell_type": "code",
      "metadata": {
        "id": "OpICbiqSaaFg"
      },
      "source": [
        "beri = pd.read_csv('/content/drive/MyDrive/SENG 607/Redmine_Processed_BERTNeg_init_modified.csv')"
      ],
      "execution_count": 72,
      "outputs": []
    },
    {
      "cell_type": "code",
      "metadata": {
        "id": "EOzpo0m-bvC9"
      },
      "source": [
        "beri.drop(['Unnamed: 0'],axis=1,inplace=True)"
      ],
      "execution_count": 73,
      "outputs": []
    },
    {
      "cell_type": "code",
      "metadata": {
        "colab": {
          "base_uri": "https://localhost:8080/",
          "height": 204
        },
        "id": "Y69vofHhb1DF",
        "outputId": "afc6ae04-441d-4405-8d62-c01ddd9715a9"
      },
      "source": [
        "beri.head()"
      ],
      "execution_count": 74,
      "outputs": [
        {
          "output_type": "execute_result",
          "data": {
            "text/html": [
              "<div>\n",
              "<style scoped>\n",
              "    .dataframe tbody tr th:only-of-type {\n",
              "        vertical-align: middle;\n",
              "    }\n",
              "\n",
              "    .dataframe tbody tr th {\n",
              "        vertical-align: top;\n",
              "    }\n",
              "\n",
              "    .dataframe thead th {\n",
              "        text-align: right;\n",
              "    }\n",
              "</style>\n",
              "<table border=\"1\" class=\"dataframe\">\n",
              "  <thead>\n",
              "    <tr style=\"text-align: right;\">\n",
              "      <th></th>\n",
              "      <th>id1</th>\n",
              "      <th>Description1</th>\n",
              "      <th>id2</th>\n",
              "      <th>Description2</th>\n",
              "      <th>Type of dependency</th>\n",
              "    </tr>\n",
              "  </thead>\n",
              "  <tbody>\n",
              "    <tr>\n",
              "      <th>0</th>\n",
              "      <td>1497</td>\n",
              "      <td>add ability to add target version as filte</td>\n",
              "      <td>278</td>\n",
              "      <td>hirnrncan you add the option to add wik</td>\n",
              "      <td>independent</td>\n",
              "    </tr>\n",
              "    <tr>\n",
              "      <th>1</th>\n",
              "      <td>24188</td>\n",
              "      <td>can display the responsible name on ganttr</td>\n",
              "      <td>3796</td>\n",
              "      <td>dear allrnrnusers can create new issues d</td>\n",
              "      <td>independent</td>\n",
              "    </tr>\n",
              "    <tr>\n",
              "      <th>2</th>\n",
              "      <td>10523</td>\n",
              "      <td>hey guysrnrni really need an additional f</td>\n",
              "      <td>317</td>\n",
              "      <td>created an issue with lots of newlines sa</td>\n",
              "      <td>independent</td>\n",
              "    </tr>\n",
              "    <tr>\n",
              "      <th>3</th>\n",
              "      <td>12888</td>\n",
              "      <td>since weve started using redmine weve</td>\n",
              "      <td>32695</td>\n",
              "      <td>the subject says it all please add the</td>\n",
              "      <td>independent</td>\n",
              "    </tr>\n",
              "    <tr>\n",
              "      <th>4</th>\n",
              "      <td>12559</td>\n",
              "      <td>have project set up in redmine want to</td>\n",
              "      <td>4013</td>\n",
              "      <td>hello rni usually use subprojects rnwhe</td>\n",
              "      <td>independent</td>\n",
              "    </tr>\n",
              "  </tbody>\n",
              "</table>\n",
              "</div>"
            ],
            "text/plain": [
              "     id1  ... Type of dependency\n",
              "0   1497  ...        independent\n",
              "1  24188  ...        independent\n",
              "2  10523  ...        independent\n",
              "3  12888  ...        independent\n",
              "4  12559  ...        independent\n",
              "\n",
              "[5 rows x 5 columns]"
            ]
          },
          "metadata": {
            "tags": []
          },
          "execution_count": 74
        }
      ]
    },
    {
      "cell_type": "code",
      "metadata": {
        "colab": {
          "base_uri": "https://localhost:8080/"
        },
        "id": "EzIkZrOhb18V",
        "outputId": "31439e2b-0fa8-4516-9537-96c954edc19d"
      },
      "source": [
        "beri.shape"
      ],
      "execution_count": 75,
      "outputs": [
        {
          "output_type": "execute_result",
          "data": {
            "text/plain": [
              "(10000, 5)"
            ]
          },
          "metadata": {
            "tags": []
          },
          "execution_count": 75
        }
      ]
    },
    {
      "cell_type": "code",
      "metadata": {
        "colab": {
          "base_uri": "https://localhost:8080/"
        },
        "id": "R6JlRYBJb31k",
        "outputId": "1964b324-585c-4bb9-9f06-624d3c5edf9f"
      },
      "source": [
        "beri.isnull().sum()"
      ],
      "execution_count": 76,
      "outputs": [
        {
          "output_type": "execute_result",
          "data": {
            "text/plain": [
              "id1                    0\n",
              "Description1          34\n",
              "id2                    0\n",
              "Description2          31\n",
              "Type of dependency     0\n",
              "dtype: int64"
            ]
          },
          "metadata": {
            "tags": []
          },
          "execution_count": 76
        }
      ]
    },
    {
      "cell_type": "code",
      "metadata": {
        "id": "TIsgbqaxb6Em"
      },
      "source": [
        "beri.dropna(inplace=True)\n",
        "beri = beri.reset_index(drop=True)"
      ],
      "execution_count": 77,
      "outputs": []
    },
    {
      "cell_type": "code",
      "metadata": {
        "colab": {
          "base_uri": "https://localhost:8080/",
          "height": 204
        },
        "id": "x9buJxfkcBTO",
        "outputId": "e98dfb21-0f86-4e79-eb49-592fe61d05d8"
      },
      "source": [
        "beri.head()"
      ],
      "execution_count": 78,
      "outputs": [
        {
          "output_type": "execute_result",
          "data": {
            "text/html": [
              "<div>\n",
              "<style scoped>\n",
              "    .dataframe tbody tr th:only-of-type {\n",
              "        vertical-align: middle;\n",
              "    }\n",
              "\n",
              "    .dataframe tbody tr th {\n",
              "        vertical-align: top;\n",
              "    }\n",
              "\n",
              "    .dataframe thead th {\n",
              "        text-align: right;\n",
              "    }\n",
              "</style>\n",
              "<table border=\"1\" class=\"dataframe\">\n",
              "  <thead>\n",
              "    <tr style=\"text-align: right;\">\n",
              "      <th></th>\n",
              "      <th>id1</th>\n",
              "      <th>Description1</th>\n",
              "      <th>id2</th>\n",
              "      <th>Description2</th>\n",
              "      <th>Type of dependency</th>\n",
              "    </tr>\n",
              "  </thead>\n",
              "  <tbody>\n",
              "    <tr>\n",
              "      <th>0</th>\n",
              "      <td>1497</td>\n",
              "      <td>add ability to add target version as filte</td>\n",
              "      <td>278</td>\n",
              "      <td>hirnrncan you add the option to add wik</td>\n",
              "      <td>independent</td>\n",
              "    </tr>\n",
              "    <tr>\n",
              "      <th>1</th>\n",
              "      <td>24188</td>\n",
              "      <td>can display the responsible name on ganttr</td>\n",
              "      <td>3796</td>\n",
              "      <td>dear allrnrnusers can create new issues d</td>\n",
              "      <td>independent</td>\n",
              "    </tr>\n",
              "    <tr>\n",
              "      <th>2</th>\n",
              "      <td>10523</td>\n",
              "      <td>hey guysrnrni really need an additional f</td>\n",
              "      <td>317</td>\n",
              "      <td>created an issue with lots of newlines sa</td>\n",
              "      <td>independent</td>\n",
              "    </tr>\n",
              "    <tr>\n",
              "      <th>3</th>\n",
              "      <td>12888</td>\n",
              "      <td>since weve started using redmine weve</td>\n",
              "      <td>32695</td>\n",
              "      <td>the subject says it all please add the</td>\n",
              "      <td>independent</td>\n",
              "    </tr>\n",
              "    <tr>\n",
              "      <th>4</th>\n",
              "      <td>12559</td>\n",
              "      <td>have project set up in redmine want to</td>\n",
              "      <td>4013</td>\n",
              "      <td>hello rni usually use subprojects rnwhe</td>\n",
              "      <td>independent</td>\n",
              "    </tr>\n",
              "  </tbody>\n",
              "</table>\n",
              "</div>"
            ],
            "text/plain": [
              "     id1  ... Type of dependency\n",
              "0   1497  ...        independent\n",
              "1  24188  ...        independent\n",
              "2  10523  ...        independent\n",
              "3  12888  ...        independent\n",
              "4  12559  ...        independent\n",
              "\n",
              "[5 rows x 5 columns]"
            ]
          },
          "metadata": {
            "tags": []
          },
          "execution_count": 78
        }
      ]
    },
    {
      "cell_type": "code",
      "metadata": {
        "colab": {
          "base_uri": "https://localhost:8080/"
        },
        "id": "f2zaOZ9ecIah",
        "outputId": "73f999ef-3656-496d-ca80-74b7883fa6dd"
      },
      "source": [
        "beri.isnull().sum()"
      ],
      "execution_count": 79,
      "outputs": [
        {
          "output_type": "execute_result",
          "data": {
            "text/plain": [
              "id1                   0\n",
              "Description1          0\n",
              "id2                   0\n",
              "Description2          0\n",
              "Type of dependency    0\n",
              "dtype: int64"
            ]
          },
          "metadata": {
            "tags": []
          },
          "execution_count": 79
        }
      ]
    },
    {
      "cell_type": "code",
      "metadata": {
        "colab": {
          "base_uri": "https://localhost:8080/"
        },
        "id": "Jwwk6tsUcK3h",
        "outputId": "d295c9ab-e25a-4fe3-bac3-ec8daf9e3693"
      },
      "source": [
        "beri.shape"
      ],
      "execution_count": 80,
      "outputs": [
        {
          "output_type": "execute_result",
          "data": {
            "text/plain": [
              "(9935, 5)"
            ]
          },
          "metadata": {
            "tags": []
          },
          "execution_count": 80
        }
      ]
    },
    {
      "cell_type": "code",
      "metadata": {
        "colab": {
          "base_uri": "https://localhost:8080/"
        },
        "id": "fDG3kBwJ3nn1",
        "outputId": "39c01ab6-1619-4964-9f36-92b6201a51ce"
      },
      "source": [
        "def isEnglish(s):\n",
        "  return s.isascii()\n",
        "\n",
        "a1 , a2 = [] , []\n",
        "a = beri['Description1'].values\n",
        "b = beri['Description2'].values\n",
        "\n",
        "for i in range(len(a)):\n",
        "  if isEnglish(a[i])==False:\n",
        "    a1.append(i)\n",
        "for j in range(len(b)):\n",
        "  if isEnglish(b[j])==False:\n",
        "    a2.append(j)\n",
        "\n",
        "print(len(a1))\n",
        "print(len(a2))\n",
        "a3 = list(set(a1+a2))\n",
        "print(len(a3))\n",
        "\n",
        "beri.drop(a3,inplace=True)\n",
        "beri = beri.reset_index(drop=True)"
      ],
      "execution_count": 81,
      "outputs": [
        {
          "output_type": "stream",
          "text": [
            "153\n",
            "181\n",
            "332\n"
          ],
          "name": "stdout"
        }
      ]
    },
    {
      "cell_type": "code",
      "metadata": {
        "colab": {
          "base_uri": "https://localhost:8080/"
        },
        "id": "m4VAqo8D3tK_",
        "outputId": "ca68ca6d-ea66-4ac3-a6e4-892db1b833c6"
      },
      "source": [
        "# Sentence Length Analysis\n",
        "y1,y2 = [],[]\n",
        "y = beri['Description1']\n",
        "z = beri['Description2']\n",
        "for i in range(len(y)):\n",
        "  q = y[i].split(' ')\n",
        "  if len(q) <2:\n",
        "    y1.append(i)\n",
        "for i in range(len(y)):\n",
        "  q1 = z[i].split(' ')\n",
        "  if len(q1) <2:\n",
        "    y2.append(i)\n",
        "print(len(y1))\n",
        "print(len(y2))\n",
        "q2 = list(set(y1+y2))\n",
        "beri.drop(q2,inplace=True)\n",
        "beri = beri.reset_index(drop=True)"
      ],
      "execution_count": 82,
      "outputs": [
        {
          "output_type": "stream",
          "text": [
            "101\n",
            "110\n"
          ],
          "name": "stdout"
        }
      ]
    },
    {
      "cell_type": "code",
      "metadata": {
        "colab": {
          "base_uri": "https://localhost:8080/"
        },
        "id": "ed6KtZOv349d",
        "outputId": "6aaf7a35-e688-4ba1-ce57-a8d46950b75b"
      },
      "source": [
        "beri.isnull().sum()"
      ],
      "execution_count": 86,
      "outputs": [
        {
          "output_type": "execute_result",
          "data": {
            "text/plain": [
              "id1                   0\n",
              "Description1          0\n",
              "id2                   0\n",
              "Description2          0\n",
              "Type of dependency    0\n",
              "dtype: int64"
            ]
          },
          "metadata": {
            "tags": []
          },
          "execution_count": 86
        }
      ]
    },
    {
      "cell_type": "code",
      "metadata": {
        "colab": {
          "base_uri": "https://localhost:8080/"
        },
        "id": "WaI3iyi_4CPo",
        "outputId": "28aeb9d7-8094-4081-f97d-4abbc37ffc76"
      },
      "source": [
        "beri.shape"
      ],
      "execution_count": 87,
      "outputs": [
        {
          "output_type": "execute_result",
          "data": {
            "text/plain": [
              "(9393, 5)"
            ]
          },
          "metadata": {
            "tags": []
          },
          "execution_count": 87
        }
      ]
    },
    {
      "cell_type": "code",
      "metadata": {
        "id": "2bp_giDCcXwl"
      },
      "source": [
        "#beri.to_csv('/content/drive/MyDrive/SENG 607/Redmine_Processed_BERTNeg_modified.csv')"
      ],
      "execution_count": 88,
      "outputs": []
    }
  ]
}