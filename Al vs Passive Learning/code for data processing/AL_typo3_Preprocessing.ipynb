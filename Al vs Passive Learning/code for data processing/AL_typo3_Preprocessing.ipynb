{
  "nbformat": 4,
  "nbformat_minor": 0,
  "metadata": {
    "colab": {
      "name": "AL typo3 Preprocessing.ipynb",
      "provenance": [],
      "collapsed_sections": []
    },
    "kernelspec": {
      "name": "python3",
      "display_name": "Python 3"
    }
  },
  "cells": [
    {
      "cell_type": "code",
      "metadata": {
        "id": "EtPldaq3_7MO"
      },
      "source": [
        "import numpy as np\n",
        "import pandas as pd"
      ],
      "execution_count": 1,
      "outputs": []
    },
    {
      "cell_type": "code",
      "metadata": {
        "colab": {
          "base_uri": "https://localhost:8080/",
          "height": 544
        },
        "id": "mGvQzpFI_-eq",
        "outputId": "c960cc42-ae02-44a2-eb0a-eb5f8bb6e10a"
      },
      "source": [
        "df = pd.read_csv('/content/drive/MyDrive/SENG 607/Typo3/processedDataTypo3.csv')\n",
        "df.head()"
      ],
      "execution_count": 2,
      "outputs": [
        {
          "output_type": "execute_result",
          "data": {
            "text/html": [
              "<div>\n",
              "<style scoped>\n",
              "    .dataframe tbody tr th:only-of-type {\n",
              "        vertical-align: middle;\n",
              "    }\n",
              "\n",
              "    .dataframe tbody tr th {\n",
              "        vertical-align: top;\n",
              "    }\n",
              "\n",
              "    .dataframe thead th {\n",
              "        text-align: right;\n",
              "    }\n",
              "</style>\n",
              "<table border=\"1\" class=\"dataframe\">\n",
              "  <thead>\n",
              "    <tr style=\"text-align: right;\">\n",
              "      <th></th>\n",
              "      <th>Unnamed: 0</th>\n",
              "      <th>Project</th>\n",
              "      <th>created_on</th>\n",
              "      <th>dependencies</th>\n",
              "      <th>desc</th>\n",
              "      <th>id</th>\n",
              "      <th>relationCount</th>\n",
              "      <th>status</th>\n",
              "      <th>strtDate</th>\n",
              "      <th>subject</th>\n",
              "      <th>tracker</th>\n",
              "    </tr>\n",
              "  </thead>\n",
              "  <tbody>\n",
              "    <tr>\n",
              "      <th>0</th>\n",
              "      <td>0</td>\n",
              "      <td>TYPO3 Core</td>\n",
              "      <td>2021-01-14T08:23:43Z</td>\n",
              "      <td>89301relates93288#93287relates93288#</td>\n",
              "      <td>If URLs are changed several times, redirect ch...</td>\n",
              "      <td>93288</td>\n",
              "      <td>2</td>\n",
              "      <td>New</td>\n",
              "      <td>2021-01-14</td>\n",
              "      <td>Merge redirect chains</td>\n",
              "      <td>Feature</td>\n",
              "    </tr>\n",
              "    <tr>\n",
              "      <th>1</th>\n",
              "      <td>1</td>\n",
              "      <td>TYPO3 Core</td>\n",
              "      <td>2021-01-11T15:04:55Z</td>\n",
              "      <td>NaN</td>\n",
              "      <td>Since version 10.3, webp can also be used as a...</td>\n",
              "      <td>93264</td>\n",
              "      <td>0</td>\n",
              "      <td>New</td>\n",
              "      <td>2021-01-11</td>\n",
              "      <td>Add webp check</td>\n",
              "      <td>Feature</td>\n",
              "    </tr>\n",
              "    <tr>\n",
              "      <th>2</th>\n",
              "      <td>2</td>\n",
              "      <td>TYPO3 Core</td>\n",
              "      <td>2021-01-08T15:22:50Z</td>\n",
              "      <td>NaN</td>\n",
              "      <td>Options for \"Textmedia\" set by \"Media Adjustme...</td>\n",
              "      <td>93247</td>\n",
              "      <td>0</td>\n",
              "      <td>New</td>\n",
              "      <td>2021-01-08</td>\n",
              "      <td>Modernize \"Textmedia\" and extend \"Media Adjust...</td>\n",
              "      <td>Feature</td>\n",
              "    </tr>\n",
              "    <tr>\n",
              "      <th>3</th>\n",
              "      <td>3</td>\n",
              "      <td>TYPO3 Core</td>\n",
              "      <td>2021-01-04T10:05:37Z</td>\n",
              "      <td>NaN</td>\n",
              "      <td>Hi,\\r\\n\\r\\nIt would be great to add a method i...</td>\n",
              "      <td>93210</td>\n",
              "      <td>0</td>\n",
              "      <td>New</td>\n",
              "      <td>2021-01-04</td>\n",
              "      <td>Allow refreshing single widget</td>\n",
              "      <td>Feature</td>\n",
              "    </tr>\n",
              "    <tr>\n",
              "      <th>4</th>\n",
              "      <td>4</td>\n",
              "      <td>TYPO3 Core</td>\n",
              "      <td>2021-01-03T22:59:44Z</td>\n",
              "      <td>NaN</td>\n",
              "      <td>Working with Files and Folders in FAL is quite...</td>\n",
              "      <td>93209</td>\n",
              "      <td>0</td>\n",
              "      <td>Under Review</td>\n",
              "      <td>2021-01-03</td>\n",
              "      <td>Add getFile() to TYPO3\\CMS\\Core\\Resource\\Folder</td>\n",
              "      <td>Feature</td>\n",
              "    </tr>\n",
              "  </tbody>\n",
              "</table>\n",
              "</div>"
            ],
            "text/plain": [
              "   Unnamed: 0  ...  tracker\n",
              "0           0  ...  Feature\n",
              "1           1  ...  Feature\n",
              "2           2  ...  Feature\n",
              "3           3  ...  Feature\n",
              "4           4  ...  Feature\n",
              "\n",
              "[5 rows x 11 columns]"
            ]
          },
          "metadata": {
            "tags": []
          },
          "execution_count": 2
        }
      ]
    },
    {
      "cell_type": "code",
      "metadata": {
        "id": "cQx6ujTiAaU0"
      },
      "source": [
        "df.drop(['Unnamed: 0','Project','created_on','status','strtDate','subject','tracker'],inplace=True,axis=1)"
      ],
      "execution_count": 3,
      "outputs": []
    },
    {
      "cell_type": "code",
      "metadata": {
        "colab": {
          "base_uri": "https://localhost:8080/"
        },
        "id": "Ukf0gmMmAKo2",
        "outputId": "037dbf88-5062-467c-998c-3789da371567"
      },
      "source": [
        "print(df.shape)\n",
        "print(df.isnull().sum())"
      ],
      "execution_count": 4,
      "outputs": [
        {
          "output_type": "stream",
          "text": [
            "(9291, 4)\n",
            "dependencies     6678\n",
            "desc              686\n",
            "id                  0\n",
            "relationCount       0\n",
            "dtype: int64\n"
          ],
          "name": "stdout"
        }
      ]
    },
    {
      "cell_type": "code",
      "metadata": {
        "id": "ClE4BUmUAO5J"
      },
      "source": [
        "df.dropna(subset=['dependencies','desc'],inplace=True)\n",
        "df = df.reset_index(drop=True)"
      ],
      "execution_count": 5,
      "outputs": []
    },
    {
      "cell_type": "code",
      "metadata": {
        "colab": {
          "base_uri": "https://localhost:8080/",
          "height": 204
        },
        "id": "oi3fJKeoA6aR",
        "outputId": "769bcc0c-2c34-49ff-f516-3f854b44952a"
      },
      "source": [
        "df.head()"
      ],
      "execution_count": 6,
      "outputs": [
        {
          "output_type": "execute_result",
          "data": {
            "text/html": [
              "<div>\n",
              "<style scoped>\n",
              "    .dataframe tbody tr th:only-of-type {\n",
              "        vertical-align: middle;\n",
              "    }\n",
              "\n",
              "    .dataframe tbody tr th {\n",
              "        vertical-align: top;\n",
              "    }\n",
              "\n",
              "    .dataframe thead th {\n",
              "        text-align: right;\n",
              "    }\n",
              "</style>\n",
              "<table border=\"1\" class=\"dataframe\">\n",
              "  <thead>\n",
              "    <tr style=\"text-align: right;\">\n",
              "      <th></th>\n",
              "      <th>dependencies</th>\n",
              "      <th>desc</th>\n",
              "      <th>id</th>\n",
              "      <th>relationCount</th>\n",
              "    </tr>\n",
              "  </thead>\n",
              "  <tbody>\n",
              "    <tr>\n",
              "      <th>0</th>\n",
              "      <td>89301relates93288#93287relates93288#</td>\n",
              "      <td>If URLs are changed several times, redirect ch...</td>\n",
              "      <td>93288</td>\n",
              "      <td>2</td>\n",
              "    </tr>\n",
              "    <tr>\n",
              "      <th>1</th>\n",
              "      <td>87457relates93197#</td>\n",
              "      <td>Right now only the property @var annotation ca...</td>\n",
              "      <td>93197</td>\n",
              "      <td>1</td>\n",
              "    </tr>\n",
              "    <tr>\n",
              "      <th>2</th>\n",
              "      <td>75043relates93182#</td>\n",
              "      <td>Make the compressed file extension configurabl...</td>\n",
              "      <td>93182</td>\n",
              "      <td>1</td>\n",
              "    </tr>\n",
              "    <tr>\n",
              "      <th>3</th>\n",
              "      <td>93170relates93171#</td>\n",
              "      <td>Introduce a fallback site configuration to be ...</td>\n",
              "      <td>93171</td>\n",
              "      <td>1</td>\n",
              "    </tr>\n",
              "    <tr>\n",
              "      <th>4</th>\n",
              "      <td>93170relates93171#</td>\n",
              "      <td>I would suggest to deprecate the following pag...</td>\n",
              "      <td>93170</td>\n",
              "      <td>1</td>\n",
              "    </tr>\n",
              "  </tbody>\n",
              "</table>\n",
              "</div>"
            ],
            "text/plain": [
              "                           dependencies  ... relationCount\n",
              "0  89301relates93288#93287relates93288#  ...             2\n",
              "1                    87457relates93197#  ...             1\n",
              "2                    75043relates93182#  ...             1\n",
              "3                    93170relates93171#  ...             1\n",
              "4                    93170relates93171#  ...             1\n",
              "\n",
              "[5 rows x 4 columns]"
            ]
          },
          "metadata": {
            "tags": []
          },
          "execution_count": 6
        }
      ]
    },
    {
      "cell_type": "code",
      "metadata": {
        "colab": {
          "base_uri": "https://localhost:8080/"
        },
        "id": "I0HtvQRgBFfe",
        "outputId": "ab7f4afb-6144-4d62-d12f-7a79b682978a"
      },
      "source": [
        "print(df.shape)\n",
        "print(df.isnull().sum())"
      ],
      "execution_count": 7,
      "outputs": [
        {
          "output_type": "stream",
          "text": [
            "(2477, 4)\n",
            "dependencies     0\n",
            "desc             0\n",
            "id               0\n",
            "relationCount    0\n",
            "dtype: int64\n"
          ],
          "name": "stdout"
        }
      ]
    },
    {
      "cell_type": "markdown",
      "metadata": {
        "id": "vq7RrP5HBebs"
      },
      "source": [
        "**Creating Dependent Pairs**"
      ]
    },
    {
      "cell_type": "code",
      "metadata": {
        "id": "5lFfmu6QBbyl"
      },
      "source": [
        "import re\n",
        "id1 = []\n",
        "id2 = []\n",
        "desc1 = []\n",
        "desc2 = []\n",
        "dependency  = []\n",
        "\n",
        "for i in range(2477):\n",
        "  a = df['dependencies'][i]\n",
        "  a = a.split('#')\n",
        "  for j in range(len(a)-1):\n",
        "    b = a[j]\n",
        "    temp = re.findall(r'\\d+', b)                         # For extracting id's\n",
        "    r = list(map(int, temp))\n",
        "    id1.append(r[0])\n",
        "    id2.append(r[1])\n",
        "\n",
        "    c = df[df['id']==r[0]]['desc'].to_string()          # For extracting description wrt to each id\n",
        "    c1 = df[df['id']==r[1]]['desc'].to_string() \n",
        "    desc1.append(c[5:])\n",
        "    desc2.append(c1[5:])\n",
        "\n",
        "    temp1 = str(r[0])\n",
        "    temp2 = str(r[1])\n",
        "    result = re.search(f'{temp1}(.*){temp2}',b).group(1) # For extracting type of dependency\n",
        "    dependency.append(result)"
      ],
      "execution_count": 8,
      "outputs": []
    },
    {
      "cell_type": "code",
      "metadata": {
        "colab": {
          "base_uri": "https://localhost:8080/",
          "height": 359
        },
        "id": "gGVuDKxXCDSW",
        "outputId": "306ed63f-de54-43f2-baa2-4c90cd83c67b"
      },
      "source": [
        "df1 = pd.DataFrame({'id1':id1,'Description1':desc1,'id2':id2,'Description2':desc2,'Type of dependency':dependency})\n",
        "df1.head(10)"
      ],
      "execution_count": 9,
      "outputs": [
        {
          "output_type": "execute_result",
          "data": {
            "text/html": [
              "<div>\n",
              "<style scoped>\n",
              "    .dataframe tbody tr th:only-of-type {\n",
              "        vertical-align: middle;\n",
              "    }\n",
              "\n",
              "    .dataframe tbody tr th {\n",
              "        vertical-align: top;\n",
              "    }\n",
              "\n",
              "    .dataframe thead th {\n",
              "        text-align: right;\n",
              "    }\n",
              "</style>\n",
              "<table border=\"1\" class=\"dataframe\">\n",
              "  <thead>\n",
              "    <tr style=\"text-align: right;\">\n",
              "      <th></th>\n",
              "      <th>id1</th>\n",
              "      <th>Description1</th>\n",
              "      <th>id2</th>\n",
              "      <th>Description2</th>\n",
              "      <th>Type of dependency</th>\n",
              "    </tr>\n",
              "  </thead>\n",
              "  <tbody>\n",
              "    <tr>\n",
              "      <th>0</th>\n",
              "      <td>89301</td>\n",
              "      <td>s([], )</td>\n",
              "      <td>93288</td>\n",
              "      <td>If URLs are changed several times, redirect ch...</td>\n",
              "      <td>relates</td>\n",
              "    </tr>\n",
              "    <tr>\n",
              "      <th>1</th>\n",
              "      <td>93287</td>\n",
              "      <td>s([], )</td>\n",
              "      <td>93288</td>\n",
              "      <td>If URLs are changed several times, redirect ch...</td>\n",
              "      <td>relates</td>\n",
              "    </tr>\n",
              "    <tr>\n",
              "      <th>2</th>\n",
              "      <td>87457</td>\n",
              "      <td>This patch introduces the requirement to sym...</td>\n",
              "      <td>93197</td>\n",
              "      <td>Right now only the property @var annotation ca...</td>\n",
              "      <td>relates</td>\n",
              "    </tr>\n",
              "    <tr>\n",
              "      <th>3</th>\n",
              "      <td>75043</td>\n",
              "      <td>Please use .gz instead of .gzip for statical...</td>\n",
              "      <td>93182</td>\n",
              "      <td>Make the compressed file extension configurabl...</td>\n",
              "      <td>relates</td>\n",
              "    </tr>\n",
              "    <tr>\n",
              "      <th>4</th>\n",
              "      <td>93170</td>\n",
              "      <td>I would suggest to deprecate the following pag...</td>\n",
              "      <td>93171</td>\n",
              "      <td>Introduce a fallback site configuration to be ...</td>\n",
              "      <td>relates</td>\n",
              "    </tr>\n",
              "    <tr>\n",
              "      <th>5</th>\n",
              "      <td>93170</td>\n",
              "      <td>I would suggest to deprecate the following pag...</td>\n",
              "      <td>93171</td>\n",
              "      <td>Introduce a fallback site configuration to be ...</td>\n",
              "      <td>relates</td>\n",
              "    </tr>\n",
              "    <tr>\n",
              "      <th>6</th>\n",
              "      <td>92553</td>\n",
              "      <td>s([], )</td>\n",
              "      <td>93162</td>\n",
              "      <td>The sysext *redirects* allows for redirects to...</td>\n",
              "      <td>relates</td>\n",
              "    </tr>\n",
              "    <tr>\n",
              "      <th>7</th>\n",
              "      <td>75266</td>\n",
              "      <td>There should be a possibility to have at lea...</td>\n",
              "      <td>92903</td>\n",
              "      <td>It would be great to be able to arrange FlexFo...</td>\n",
              "      <td>relates</td>\n",
              "    </tr>\n",
              "    <tr>\n",
              "      <th>8</th>\n",
              "      <td>89509</td>\n",
              "      <td>Fluid does not provide a way to access flexfo...</td>\n",
              "      <td>92875</td>\n",
              "      <td>The tCA allows the field flex. I want use some...</td>\n",
              "      <td>relates</td>\n",
              "    </tr>\n",
              "    <tr>\n",
              "      <th>9</th>\n",
              "      <td>92297</td>\n",
              "      <td>This is one of several possible solution to i...</td>\n",
              "      <td>92822</td>\n",
              "      <td>As already mentioned the problem of \"false pos...</td>\n",
              "      <td>relates</td>\n",
              "    </tr>\n",
              "  </tbody>\n",
              "</table>\n",
              "</div>"
            ],
            "text/plain": [
              "     id1  ... Type of dependency\n",
              "0  89301  ...            relates\n",
              "1  93287  ...            relates\n",
              "2  87457  ...            relates\n",
              "3  75043  ...            relates\n",
              "4  93170  ...            relates\n",
              "5  93170  ...            relates\n",
              "6  92553  ...            relates\n",
              "7  75266  ...            relates\n",
              "8  89509  ...            relates\n",
              "9  92297  ...            relates\n",
              "\n",
              "[10 rows x 5 columns]"
            ]
          },
          "metadata": {
            "tags": []
          },
          "execution_count": 9
        }
      ]
    },
    {
      "cell_type": "code",
      "metadata": {
        "colab": {
          "base_uri": "https://localhost:8080/"
        },
        "id": "i-64vhdgCdyG",
        "outputId": "00b185e5-3ac3-45ff-8d8d-055f2de529ad"
      },
      "source": [
        "df1.shape"
      ],
      "execution_count": null,
      "outputs": [
        {
          "output_type": "execute_result",
          "data": {
            "text/plain": [
              "(4092, 5)"
            ]
          },
          "metadata": {
            "tags": []
          },
          "execution_count": 56
        }
      ]
    },
    {
      "cell_type": "code",
      "metadata": {
        "colab": {
          "base_uri": "https://localhost:8080/"
        },
        "id": "fXRM5tP1CKC5",
        "outputId": "bc83f979-10fc-4141-93fd-0f2a1078b93d"
      },
      "source": [
        "# Deleting empty lists\n",
        "l1 = []\n",
        "l2 = []\n",
        "for i in range(4092):\n",
        "  if df1['Description1'][i] == 's([], )':\n",
        "    l1.append(i)\n",
        "  if df1['Description2'][i] == 's([], )':\n",
        "    l2.append(i)\n",
        "l = list(set(l1+l2))\n",
        "print(len(l))\n",
        "\n",
        "df1.drop(l,inplace = True)\n",
        "df1 = df1.reset_index(drop = True)"
      ],
      "execution_count": 10,
      "outputs": [
        {
          "output_type": "stream",
          "text": [
            "2270\n"
          ],
          "name": "stdout"
        }
      ]
    },
    {
      "cell_type": "code",
      "metadata": {
        "colab": {
          "base_uri": "https://localhost:8080/",
          "height": 359
        },
        "id": "Rtn7f-PJCgZU",
        "outputId": "b2ec48a0-90ba-49da-b237-d4cf0475c45e"
      },
      "source": [
        "df1.head(10)"
      ],
      "execution_count": 11,
      "outputs": [
        {
          "output_type": "execute_result",
          "data": {
            "text/html": [
              "<div>\n",
              "<style scoped>\n",
              "    .dataframe tbody tr th:only-of-type {\n",
              "        vertical-align: middle;\n",
              "    }\n",
              "\n",
              "    .dataframe tbody tr th {\n",
              "        vertical-align: top;\n",
              "    }\n",
              "\n",
              "    .dataframe thead th {\n",
              "        text-align: right;\n",
              "    }\n",
              "</style>\n",
              "<table border=\"1\" class=\"dataframe\">\n",
              "  <thead>\n",
              "    <tr style=\"text-align: right;\">\n",
              "      <th></th>\n",
              "      <th>id1</th>\n",
              "      <th>Description1</th>\n",
              "      <th>id2</th>\n",
              "      <th>Description2</th>\n",
              "      <th>Type of dependency</th>\n",
              "    </tr>\n",
              "  </thead>\n",
              "  <tbody>\n",
              "    <tr>\n",
              "      <th>0</th>\n",
              "      <td>87457</td>\n",
              "      <td>This patch introduces the requirement to sym...</td>\n",
              "      <td>93197</td>\n",
              "      <td>Right now only the property @var annotation ca...</td>\n",
              "      <td>relates</td>\n",
              "    </tr>\n",
              "    <tr>\n",
              "      <th>1</th>\n",
              "      <td>75043</td>\n",
              "      <td>Please use .gz instead of .gzip for statical...</td>\n",
              "      <td>93182</td>\n",
              "      <td>Make the compressed file extension configurabl...</td>\n",
              "      <td>relates</td>\n",
              "    </tr>\n",
              "    <tr>\n",
              "      <th>2</th>\n",
              "      <td>93170</td>\n",
              "      <td>I would suggest to deprecate the following pag...</td>\n",
              "      <td>93171</td>\n",
              "      <td>Introduce a fallback site configuration to be ...</td>\n",
              "      <td>relates</td>\n",
              "    </tr>\n",
              "    <tr>\n",
              "      <th>3</th>\n",
              "      <td>93170</td>\n",
              "      <td>I would suggest to deprecate the following pag...</td>\n",
              "      <td>93171</td>\n",
              "      <td>Introduce a fallback site configuration to be ...</td>\n",
              "      <td>relates</td>\n",
              "    </tr>\n",
              "    <tr>\n",
              "      <th>4</th>\n",
              "      <td>75266</td>\n",
              "      <td>There should be a possibility to have at lea...</td>\n",
              "      <td>92903</td>\n",
              "      <td>It would be great to be able to arrange FlexFo...</td>\n",
              "      <td>relates</td>\n",
              "    </tr>\n",
              "    <tr>\n",
              "      <th>5</th>\n",
              "      <td>89509</td>\n",
              "      <td>Fluid does not provide a way to access flexfo...</td>\n",
              "      <td>92875</td>\n",
              "      <td>The tCA allows the field flex. I want use some...</td>\n",
              "      <td>relates</td>\n",
              "    </tr>\n",
              "    <tr>\n",
              "      <th>6</th>\n",
              "      <td>92297</td>\n",
              "      <td>This is one of several possible solution to i...</td>\n",
              "      <td>92822</td>\n",
              "      <td>As already mentioned the problem of \"false pos...</td>\n",
              "      <td>relates</td>\n",
              "    </tr>\n",
              "    <tr>\n",
              "      <th>7</th>\n",
              "      <td>36075</td>\n",
              "      <td>In the original concept for the new Page-Tr...</td>\n",
              "      <td>92576</td>\n",
              "      <td>h2. Use case: \\r\\n\\r\\nIt is possible to filte...</td>\n",
              "      <td>relates</td>\n",
              "    </tr>\n",
              "    <tr>\n",
              "      <th>8</th>\n",
              "      <td>89177</td>\n",
              "      <td>The linkvalidator's default PageTsConfig cur...</td>\n",
              "      <td>92542</td>\n",
              "      <td>We repeatedly have errors in the log due to i...</td>\n",
              "      <td>relates</td>\n",
              "    </tr>\n",
              "    <tr>\n",
              "      <th>9</th>\n",
              "      <td>92432</td>\n",
              "      <td>&lt;pre&gt;\\r\\nImported from T3cm 2020 (https://not...</td>\n",
              "      <td>66343</td>\n",
              "      <td>At the T3UXW15 we get the feedback, that hot...</td>\n",
              "      <td>duplicates</td>\n",
              "    </tr>\n",
              "  </tbody>\n",
              "</table>\n",
              "</div>"
            ],
            "text/plain": [
              "     id1  ... Type of dependency\n",
              "0  87457  ...            relates\n",
              "1  75043  ...            relates\n",
              "2  93170  ...            relates\n",
              "3  93170  ...            relates\n",
              "4  75266  ...            relates\n",
              "5  89509  ...            relates\n",
              "6  92297  ...            relates\n",
              "7  36075  ...            relates\n",
              "8  89177  ...            relates\n",
              "9  92432  ...         duplicates\n",
              "\n",
              "[10 rows x 5 columns]"
            ]
          },
          "metadata": {
            "tags": []
          },
          "execution_count": 11
        }
      ]
    },
    {
      "cell_type": "code",
      "metadata": {
        "colab": {
          "base_uri": "https://localhost:8080/"
        },
        "id": "EKqvGD_OCjGg",
        "outputId": "f01778e0-a607-4667-e185-afaff1a29531"
      },
      "source": [
        "print(df1.shape)\n",
        "print(df1.isnull().sum())"
      ],
      "execution_count": 12,
      "outputs": [
        {
          "output_type": "stream",
          "text": [
            "(1822, 5)\n",
            "id1                   0\n",
            "Description1          0\n",
            "id2                   0\n",
            "Description2          0\n",
            "Type of dependency    0\n",
            "dtype: int64\n"
          ],
          "name": "stdout"
        }
      ]
    },
    {
      "cell_type": "code",
      "metadata": {
        "colab": {
          "base_uri": "https://localhost:8080/"
        },
        "id": "oV_ZAb_oCp-z",
        "outputId": "19d7ae0a-6ea7-4bff-a48b-811dd837af73"
      },
      "source": [
        "# Sentence length analysis\n",
        "q1 = []\n",
        "q = df1['Description1']\n",
        "p = df1['Description2']\n",
        "for i in range(len(q)):\n",
        "  if len(q[i])<5:\n",
        "    q1.append(i)\n",
        "for i in range(len(p)):\n",
        "  if len(p[i])<5:\n",
        "    q1.append(i)\n",
        "\n",
        "print(q1) \n",
        "df1.drop(q1,inplace = True)\n",
        "df1 = df1.reset_index(drop = True)"
      ],
      "execution_count": 13,
      "outputs": [
        {
          "output_type": "stream",
          "text": [
            "[1802, 1820]\n"
          ],
          "name": "stdout"
        }
      ]
    },
    {
      "cell_type": "markdown",
      "metadata": {
        "id": "A-FrLbDZEg8_"
      },
      "source": [
        "**Final Depenent Pairs**"
      ]
    },
    {
      "cell_type": "code",
      "metadata": {
        "colab": {
          "base_uri": "https://localhost:8080/",
          "height": 204
        },
        "id": "prSTjzokDfvO",
        "outputId": "125c9e1e-4c30-4a53-c168-a9f8faba96f7"
      },
      "source": [
        "df1.head()"
      ],
      "execution_count": null,
      "outputs": [
        {
          "output_type": "execute_result",
          "data": {
            "text/html": [
              "<div>\n",
              "<style scoped>\n",
              "    .dataframe tbody tr th:only-of-type {\n",
              "        vertical-align: middle;\n",
              "    }\n",
              "\n",
              "    .dataframe tbody tr th {\n",
              "        vertical-align: top;\n",
              "    }\n",
              "\n",
              "    .dataframe thead th {\n",
              "        text-align: right;\n",
              "    }\n",
              "</style>\n",
              "<table border=\"1\" class=\"dataframe\">\n",
              "  <thead>\n",
              "    <tr style=\"text-align: right;\">\n",
              "      <th></th>\n",
              "      <th>id1</th>\n",
              "      <th>Description1</th>\n",
              "      <th>id2</th>\n",
              "      <th>Description2</th>\n",
              "      <th>Type of dependency</th>\n",
              "    </tr>\n",
              "  </thead>\n",
              "  <tbody>\n",
              "    <tr>\n",
              "      <th>0</th>\n",
              "      <td>87457</td>\n",
              "      <td>This patch introduces the requirement to sym...</td>\n",
              "      <td>93197</td>\n",
              "      <td>Right now only the property @var annotation ca...</td>\n",
              "      <td>relates</td>\n",
              "    </tr>\n",
              "    <tr>\n",
              "      <th>1</th>\n",
              "      <td>75043</td>\n",
              "      <td>Please use .gz instead of .gzip for statical...</td>\n",
              "      <td>93182</td>\n",
              "      <td>Make the compressed file extension configurabl...</td>\n",
              "      <td>relates</td>\n",
              "    </tr>\n",
              "    <tr>\n",
              "      <th>2</th>\n",
              "      <td>93170</td>\n",
              "      <td>I would suggest to deprecate the following pag...</td>\n",
              "      <td>93171</td>\n",
              "      <td>Introduce a fallback site configuration to be ...</td>\n",
              "      <td>relates</td>\n",
              "    </tr>\n",
              "    <tr>\n",
              "      <th>3</th>\n",
              "      <td>93170</td>\n",
              "      <td>I would suggest to deprecate the following pag...</td>\n",
              "      <td>93171</td>\n",
              "      <td>Introduce a fallback site configuration to be ...</td>\n",
              "      <td>relates</td>\n",
              "    </tr>\n",
              "    <tr>\n",
              "      <th>4</th>\n",
              "      <td>75266</td>\n",
              "      <td>There should be a possibility to have at lea...</td>\n",
              "      <td>92903</td>\n",
              "      <td>It would be great to be able to arrange FlexFo...</td>\n",
              "      <td>relates</td>\n",
              "    </tr>\n",
              "  </tbody>\n",
              "</table>\n",
              "</div>"
            ],
            "text/plain": [
              "     id1  ... Type of dependency\n",
              "0  87457  ...            relates\n",
              "1  75043  ...            relates\n",
              "2  93170  ...            relates\n",
              "3  93170  ...            relates\n",
              "4  75266  ...            relates\n",
              "\n",
              "[5 rows x 5 columns]"
            ]
          },
          "metadata": {
            "tags": []
          },
          "execution_count": 61
        }
      ]
    },
    {
      "cell_type": "code",
      "metadata": {
        "colab": {
          "base_uri": "https://localhost:8080/"
        },
        "id": "FhaYUv9XD_2u",
        "outputId": "84b0f21f-aa55-4803-a6c5-73128f7847d5"
      },
      "source": [
        "print(df1.shape)\n",
        "print(df1.isnull().sum())\n",
        "print(df1['Type of dependency'].value_counts())"
      ],
      "execution_count": null,
      "outputs": [
        {
          "output_type": "stream",
          "text": [
            "(1820, 5)\n",
            "id1                   0\n",
            "Description1          0\n",
            "id2                   0\n",
            "Description2          0\n",
            "Type of dependency    0\n",
            "dtype: int64\n",
            "relates       1370\n",
            "duplicates     372\n",
            "precedes        42\n",
            "blocks          34\n",
            "copied_to        2\n",
            "Name: Type of dependency, dtype: int64\n"
          ],
          "name": "stdout"
        }
      ]
    },
    {
      "cell_type": "code",
      "metadata": {
        "id": "RY2y03rlEGj1"
      },
      "source": [
        "#df1.to_csv('/content/drive/MyDrive/SENG 607/Typo3/Typo3_Pos.csv')"
      ],
      "execution_count": null,
      "outputs": []
    },
    {
      "cell_type": "markdown",
      "metadata": {
        "id": "JfIAAZ9VFQ5e"
      },
      "source": [
        "**Creating independent pairs**"
      ]
    },
    {
      "cell_type": "code",
      "metadata": {
        "colab": {
          "base_uri": "https://localhost:8080/",
          "height": 204
        },
        "id": "cNCI4eBsE5xt",
        "outputId": "910ffb05-d1b0-49d4-92af-684115470103"
      },
      "source": [
        "df2 = pd.read_csv('/content/drive/MyDrive/SENG 607/Typo3/processedDataTypo3.csv')\n",
        "df2.drop(['Unnamed: 0','Project','created_on','status','strtDate','subject','tracker'],inplace=True,axis=1)\n",
        "df2.dropna(subset=['desc'],inplace=True)\n",
        "df2.head()"
      ],
      "execution_count": null,
      "outputs": [
        {
          "output_type": "execute_result",
          "data": {
            "text/html": [
              "<div>\n",
              "<style scoped>\n",
              "    .dataframe tbody tr th:only-of-type {\n",
              "        vertical-align: middle;\n",
              "    }\n",
              "\n",
              "    .dataframe tbody tr th {\n",
              "        vertical-align: top;\n",
              "    }\n",
              "\n",
              "    .dataframe thead th {\n",
              "        text-align: right;\n",
              "    }\n",
              "</style>\n",
              "<table border=\"1\" class=\"dataframe\">\n",
              "  <thead>\n",
              "    <tr style=\"text-align: right;\">\n",
              "      <th></th>\n",
              "      <th>dependencies</th>\n",
              "      <th>desc</th>\n",
              "      <th>id</th>\n",
              "      <th>relationCount</th>\n",
              "    </tr>\n",
              "  </thead>\n",
              "  <tbody>\n",
              "    <tr>\n",
              "      <th>0</th>\n",
              "      <td>89301relates93288#93287relates93288#</td>\n",
              "      <td>If URLs are changed several times, redirect ch...</td>\n",
              "      <td>93288</td>\n",
              "      <td>2</td>\n",
              "    </tr>\n",
              "    <tr>\n",
              "      <th>1</th>\n",
              "      <td>NaN</td>\n",
              "      <td>Since version 10.3, webp can also be used as a...</td>\n",
              "      <td>93264</td>\n",
              "      <td>0</td>\n",
              "    </tr>\n",
              "    <tr>\n",
              "      <th>2</th>\n",
              "      <td>NaN</td>\n",
              "      <td>Options for \"Textmedia\" set by \"Media Adjustme...</td>\n",
              "      <td>93247</td>\n",
              "      <td>0</td>\n",
              "    </tr>\n",
              "    <tr>\n",
              "      <th>3</th>\n",
              "      <td>NaN</td>\n",
              "      <td>Hi,\\r\\n\\r\\nIt would be great to add a method i...</td>\n",
              "      <td>93210</td>\n",
              "      <td>0</td>\n",
              "    </tr>\n",
              "    <tr>\n",
              "      <th>4</th>\n",
              "      <td>NaN</td>\n",
              "      <td>Working with Files and Folders in FAL is quite...</td>\n",
              "      <td>93209</td>\n",
              "      <td>0</td>\n",
              "    </tr>\n",
              "  </tbody>\n",
              "</table>\n",
              "</div>"
            ],
            "text/plain": [
              "                           dependencies  ... relationCount\n",
              "0  89301relates93288#93287relates93288#  ...             2\n",
              "1                                   NaN  ...             0\n",
              "2                                   NaN  ...             0\n",
              "3                                   NaN  ...             0\n",
              "4                                   NaN  ...             0\n",
              "\n",
              "[5 rows x 4 columns]"
            ]
          },
          "metadata": {
            "tags": []
          },
          "execution_count": 86
        }
      ]
    },
    {
      "cell_type": "code",
      "metadata": {
        "colab": {
          "base_uri": "https://localhost:8080/"
        },
        "id": "l3IhzotIFc5Q",
        "outputId": "b8dff0d1-96ab-41dd-b886-73f27631dfd6"
      },
      "source": [
        "df2['relationCount'].value_counts()"
      ],
      "execution_count": null,
      "outputs": [
        {
          "output_type": "execute_result",
          "data": {
            "text/plain": [
              "0     6128\n",
              "1     1566\n",
              "2      568\n",
              "3      191\n",
              "4       74\n",
              "5       37\n",
              "6       17\n",
              "8        7\n",
              "7        5\n",
              "9        5\n",
              "15       2\n",
              "12       2\n",
              "18       1\n",
              "10       1\n",
              "16       1\n",
              "Name: relationCount, dtype: int64"
            ]
          },
          "metadata": {
            "tags": []
          },
          "execution_count": 87
        }
      ]
    },
    {
      "cell_type": "code",
      "metadata": {
        "id": "6h0xOuDvFrgl"
      },
      "source": [
        "i1 = []\n",
        "i2 = []\n",
        "d1 = []\n",
        "d2 = []\n",
        "\n",
        "n = df2[df2['relationCount']==0]['id'].values\n",
        "\n",
        "for i in range(10000):\n",
        "  d = np.random.choice(n,size=2)\n",
        "  i1.append(d[0])\n",
        "  i2.append(d[1])\n",
        "\n",
        "  c = df2[df2['id']==d[0]]['desc'].to_string()          # For extracting description wrt to each id\n",
        "  c1 = df2[df2['id']==d[1]]['desc'].to_string()\n",
        "  d1.append(c[5:])\n",
        "  d2.append(c1[5:])"
      ],
      "execution_count": null,
      "outputs": []
    },
    {
      "cell_type": "code",
      "metadata": {
        "colab": {
          "base_uri": "https://localhost:8080/",
          "height": 204
        },
        "id": "j9It9LitF2Ay",
        "outputId": "b0b25cba-4342-433e-f476-bf1e35620cc5"
      },
      "source": [
        "df3 = pd.DataFrame({'id1':i1,'Description1':d1,'id2':i2,'Description2':d2})\n",
        "df3.head()"
      ],
      "execution_count": null,
      "outputs": [
        {
          "output_type": "execute_result",
          "data": {
            "text/html": [
              "<div>\n",
              "<style scoped>\n",
              "    .dataframe tbody tr th:only-of-type {\n",
              "        vertical-align: middle;\n",
              "    }\n",
              "\n",
              "    .dataframe tbody tr th {\n",
              "        vertical-align: top;\n",
              "    }\n",
              "\n",
              "    .dataframe thead th {\n",
              "        text-align: right;\n",
              "    }\n",
              "</style>\n",
              "<table border=\"1\" class=\"dataframe\">\n",
              "  <thead>\n",
              "    <tr style=\"text-align: right;\">\n",
              "      <th></th>\n",
              "      <th>id1</th>\n",
              "      <th>Description1</th>\n",
              "      <th>id2</th>\n",
              "      <th>Description2</th>\n",
              "    </tr>\n",
              "  </thead>\n",
              "  <tbody>\n",
              "    <tr>\n",
              "      <th>0</th>\n",
              "      <td>91745</td>\n",
              "      <td>When will it come?\\r\\nThx\\r\\nStefan</td>\n",
              "      <td>6354</td>\n",
              "      <td>Implement/finish customer addresses and imp...</td>\n",
              "    </tr>\n",
              "    <tr>\n",
              "      <th>1</th>\n",
              "      <td>80689</td>\n",
              "      <td>As for the result of the polls [1],\\r\\n\\r\\n...</td>\n",
              "      <td>71251</td>\n",
              "      <td>Flash messages have different queues, depen...</td>\n",
              "    </tr>\n",
              "    <tr>\n",
              "      <th>2</th>\n",
              "      <td>13515</td>\n",
              "      <td>workspaces -&gt; empty \"notification dropdown\"...</td>\n",
              "      <td>3109</td>\n",
              "      <td>It seems to be not supported by t3lib_htmlM...</td>\n",
              "    </tr>\n",
              "    <tr>\n",
              "      <th>3</th>\n",
              "      <td>3264</td>\n",
              "      <td>Hi,\\r\\n\\r\\nI'm not sure, if the standalone ...</td>\n",
              "      <td>50136</td>\n",
              "      <td>- SVG is missing a image icon (svg_icon.png...</td>\n",
              "    </tr>\n",
              "    <tr>\n",
              "      <th>4</th>\n",
              "      <td>13948</td>\n",
              "      <td>We need a banner that announces the T3BOARD...</td>\n",
              "      <td>12348</td>\n",
              "      <td>It would be great to implement a pagebrowse...</td>\n",
              "    </tr>\n",
              "  </tbody>\n",
              "</table>\n",
              "</div>"
            ],
            "text/plain": [
              "     id1  ...                                       Description2\n",
              "0  91745  ...     Implement/finish customer addresses and imp...\n",
              "1  80689  ...     Flash messages have different queues, depen...\n",
              "2  13515  ...     It seems to be not supported by t3lib_htmlM...\n",
              "3   3264  ...     - SVG is missing a image icon (svg_icon.png...\n",
              "4  13948  ...     It would be great to implement a pagebrowse...\n",
              "\n",
              "[5 rows x 4 columns]"
            ]
          },
          "metadata": {
            "tags": []
          },
          "execution_count": 89
        }
      ]
    },
    {
      "cell_type": "code",
      "metadata": {
        "colab": {
          "base_uri": "https://localhost:8080/",
          "height": 204
        },
        "id": "QerItv72GDbO",
        "outputId": "a45fd52e-1bb9-4c37-e4e7-eebe0d81ed57"
      },
      "source": [
        "def ext(x):\n",
        "  return 'independent'\n",
        "df3['Type of dependency'] = df3['id1'].apply(ext)\n",
        "df3.head()"
      ],
      "execution_count": null,
      "outputs": [
        {
          "output_type": "execute_result",
          "data": {
            "text/html": [
              "<div>\n",
              "<style scoped>\n",
              "    .dataframe tbody tr th:only-of-type {\n",
              "        vertical-align: middle;\n",
              "    }\n",
              "\n",
              "    .dataframe tbody tr th {\n",
              "        vertical-align: top;\n",
              "    }\n",
              "\n",
              "    .dataframe thead th {\n",
              "        text-align: right;\n",
              "    }\n",
              "</style>\n",
              "<table border=\"1\" class=\"dataframe\">\n",
              "  <thead>\n",
              "    <tr style=\"text-align: right;\">\n",
              "      <th></th>\n",
              "      <th>id1</th>\n",
              "      <th>Description1</th>\n",
              "      <th>id2</th>\n",
              "      <th>Description2</th>\n",
              "      <th>Type of dependency</th>\n",
              "    </tr>\n",
              "  </thead>\n",
              "  <tbody>\n",
              "    <tr>\n",
              "      <th>0</th>\n",
              "      <td>91745</td>\n",
              "      <td>When will it come?\\r\\nThx\\r\\nStefan</td>\n",
              "      <td>6354</td>\n",
              "      <td>Implement/finish customer addresses and imp...</td>\n",
              "      <td>independent</td>\n",
              "    </tr>\n",
              "    <tr>\n",
              "      <th>1</th>\n",
              "      <td>80689</td>\n",
              "      <td>As for the result of the polls [1],\\r\\n\\r\\n...</td>\n",
              "      <td>71251</td>\n",
              "      <td>Flash messages have different queues, depen...</td>\n",
              "      <td>independent</td>\n",
              "    </tr>\n",
              "    <tr>\n",
              "      <th>2</th>\n",
              "      <td>13515</td>\n",
              "      <td>workspaces -&gt; empty \"notification dropdown\"...</td>\n",
              "      <td>3109</td>\n",
              "      <td>It seems to be not supported by t3lib_htmlM...</td>\n",
              "      <td>independent</td>\n",
              "    </tr>\n",
              "    <tr>\n",
              "      <th>3</th>\n",
              "      <td>3264</td>\n",
              "      <td>Hi,\\r\\n\\r\\nI'm not sure, if the standalone ...</td>\n",
              "      <td>50136</td>\n",
              "      <td>- SVG is missing a image icon (svg_icon.png...</td>\n",
              "      <td>independent</td>\n",
              "    </tr>\n",
              "    <tr>\n",
              "      <th>4</th>\n",
              "      <td>13948</td>\n",
              "      <td>We need a banner that announces the T3BOARD...</td>\n",
              "      <td>12348</td>\n",
              "      <td>It would be great to implement a pagebrowse...</td>\n",
              "      <td>independent</td>\n",
              "    </tr>\n",
              "  </tbody>\n",
              "</table>\n",
              "</div>"
            ],
            "text/plain": [
              "     id1  ... Type of dependency\n",
              "0  91745  ...        independent\n",
              "1  80689  ...        independent\n",
              "2  13515  ...        independent\n",
              "3   3264  ...        independent\n",
              "4  13948  ...        independent\n",
              "\n",
              "[5 rows x 5 columns]"
            ]
          },
          "metadata": {
            "tags": []
          },
          "execution_count": 90
        }
      ]
    },
    {
      "cell_type": "code",
      "metadata": {
        "colab": {
          "base_uri": "https://localhost:8080/"
        },
        "id": "-6Gp9MVpGcKW",
        "outputId": "46a9e678-5cbb-49ec-a208-a605b18c715a"
      },
      "source": [
        "# Sentence length analysis\n",
        "q1 = []\n",
        "q2 = []\n",
        "q = df3['Description1']\n",
        "p = df3['Description2']\n",
        "for i in range(len(q)):\n",
        "  if len(q[i])<5:\n",
        "    q1.append(i)\n",
        "for i in range(len(p)):\n",
        "  if len(p[i])<5:\n",
        "    q2.append(i)\n",
        "\n",
        "print(q1)\n",
        "print(q2)\n",
        "\n",
        "w = list(set(q1+q2))\n",
        "df3.drop(w,inplace=True)\n",
        "df3 = df3.reset_index(drop=True)    "
      ],
      "execution_count": null,
      "outputs": [
        {
          "output_type": "stream",
          "text": [
            "[676, 885, 902, 1608, 1616, 2022, 2388, 3077, 3317, 3407, 3544, 3879, 3999, 4063, 4324, 5474, 5498, 5499, 6380, 6821, 9012]\n",
            "[737, 1349, 1862, 3217, 4828, 4924, 6189, 6643, 7317, 7567, 8632, 8773, 9469]\n"
          ],
          "name": "stdout"
        }
      ]
    },
    {
      "cell_type": "markdown",
      "metadata": {
        "id": "aMkAxIZeHLk5"
      },
      "source": [
        "**Final independent pairs**"
      ]
    },
    {
      "cell_type": "code",
      "metadata": {
        "colab": {
          "base_uri": "https://localhost:8080/",
          "height": 204
        },
        "id": "IG5rHcKOGf4L",
        "outputId": "2801049a-5539-4914-d63d-54d4978f6f61"
      },
      "source": [
        "df3.head()"
      ],
      "execution_count": null,
      "outputs": [
        {
          "output_type": "execute_result",
          "data": {
            "text/html": [
              "<div>\n",
              "<style scoped>\n",
              "    .dataframe tbody tr th:only-of-type {\n",
              "        vertical-align: middle;\n",
              "    }\n",
              "\n",
              "    .dataframe tbody tr th {\n",
              "        vertical-align: top;\n",
              "    }\n",
              "\n",
              "    .dataframe thead th {\n",
              "        text-align: right;\n",
              "    }\n",
              "</style>\n",
              "<table border=\"1\" class=\"dataframe\">\n",
              "  <thead>\n",
              "    <tr style=\"text-align: right;\">\n",
              "      <th></th>\n",
              "      <th>id1</th>\n",
              "      <th>Description1</th>\n",
              "      <th>id2</th>\n",
              "      <th>Description2</th>\n",
              "      <th>Type of dependency</th>\n",
              "    </tr>\n",
              "  </thead>\n",
              "  <tbody>\n",
              "    <tr>\n",
              "      <th>0</th>\n",
              "      <td>91745</td>\n",
              "      <td>When will it come?\\r\\nThx\\r\\nStefan</td>\n",
              "      <td>6354</td>\n",
              "      <td>Implement/finish customer addresses and imp...</td>\n",
              "      <td>independent</td>\n",
              "    </tr>\n",
              "    <tr>\n",
              "      <th>1</th>\n",
              "      <td>80689</td>\n",
              "      <td>As for the result of the polls [1],\\r\\n\\r\\n...</td>\n",
              "      <td>71251</td>\n",
              "      <td>Flash messages have different queues, depen...</td>\n",
              "      <td>independent</td>\n",
              "    </tr>\n",
              "    <tr>\n",
              "      <th>2</th>\n",
              "      <td>13515</td>\n",
              "      <td>workspaces -&gt; empty \"notification dropdown\"...</td>\n",
              "      <td>3109</td>\n",
              "      <td>It seems to be not supported by t3lib_htmlM...</td>\n",
              "      <td>independent</td>\n",
              "    </tr>\n",
              "    <tr>\n",
              "      <th>3</th>\n",
              "      <td>3264</td>\n",
              "      <td>Hi,\\r\\n\\r\\nI'm not sure, if the standalone ...</td>\n",
              "      <td>50136</td>\n",
              "      <td>- SVG is missing a image icon (svg_icon.png...</td>\n",
              "      <td>independent</td>\n",
              "    </tr>\n",
              "    <tr>\n",
              "      <th>4</th>\n",
              "      <td>13948</td>\n",
              "      <td>We need a banner that announces the T3BOARD...</td>\n",
              "      <td>12348</td>\n",
              "      <td>It would be great to implement a pagebrowse...</td>\n",
              "      <td>independent</td>\n",
              "    </tr>\n",
              "  </tbody>\n",
              "</table>\n",
              "</div>"
            ],
            "text/plain": [
              "     id1  ... Type of dependency\n",
              "0  91745  ...        independent\n",
              "1  80689  ...        independent\n",
              "2  13515  ...        independent\n",
              "3   3264  ...        independent\n",
              "4  13948  ...        independent\n",
              "\n",
              "[5 rows x 5 columns]"
            ]
          },
          "metadata": {
            "tags": []
          },
          "execution_count": 95
        }
      ]
    },
    {
      "cell_type": "code",
      "metadata": {
        "colab": {
          "base_uri": "https://localhost:8080/"
        },
        "id": "3Cd7Wv4JHAfX",
        "outputId": "a09d34d7-bad5-4491-b491-5e8361a287ed"
      },
      "source": [
        "print(df3.shape)\n",
        "print(df3.isnull().sum())"
      ],
      "execution_count": null,
      "outputs": [
        {
          "output_type": "stream",
          "text": [
            "(9966, 5)\n",
            "id1                   0\n",
            "Description1          0\n",
            "id2                   0\n",
            "Description2          0\n",
            "Type of dependency    0\n",
            "dtype: int64\n"
          ],
          "name": "stdout"
        }
      ]
    },
    {
      "cell_type": "code",
      "metadata": {
        "id": "Fg3krE21HGYe"
      },
      "source": [
        "#df3.to_csv('/content/drive/MyDrive/SENG 607/Typo3/Typo3_Neg.csv')"
      ],
      "execution_count": null,
      "outputs": []
    },
    {
      "cell_type": "markdown",
      "metadata": {
        "id": "WNLDHbQaI1o_"
      },
      "source": [
        "**Processed Dependent Pairs**"
      ]
    },
    {
      "cell_type": "code",
      "metadata": {
        "colab": {
          "base_uri": "https://localhost:8080/",
          "height": 204
        },
        "id": "0HKoqupGHbpj",
        "outputId": "42a225d9-d029-40a4-9602-b0dbd1b3cc56"
      },
      "source": [
        "df4 = pd.read_csv('/content/drive/MyDrive/SENG 607/Typo3/Typo3_Processed_Pos_init.csv')\n",
        "df4.drop(['Unnamed: 0'],axis=1,inplace=True)\n",
        "df4.head()"
      ],
      "execution_count": null,
      "outputs": [
        {
          "output_type": "execute_result",
          "data": {
            "text/html": [
              "<div>\n",
              "<style scoped>\n",
              "    .dataframe tbody tr th:only-of-type {\n",
              "        vertical-align: middle;\n",
              "    }\n",
              "\n",
              "    .dataframe tbody tr th {\n",
              "        vertical-align: top;\n",
              "    }\n",
              "\n",
              "    .dataframe thead th {\n",
              "        text-align: right;\n",
              "    }\n",
              "</style>\n",
              "<table border=\"1\" class=\"dataframe\">\n",
              "  <thead>\n",
              "    <tr style=\"text-align: right;\">\n",
              "      <th></th>\n",
              "      <th>id1</th>\n",
              "      <th>Description1</th>\n",
              "      <th>id2</th>\n",
              "      <th>Description2</th>\n",
              "      <th>Type of dependency</th>\n",
              "    </tr>\n",
              "  </thead>\n",
              "  <tbody>\n",
              "    <tr>\n",
              "      <th>0</th>\n",
              "      <td>87457</td>\n",
              "      <td>patch introduces requirement symfo</td>\n",
              "      <td>93197</td>\n",
              "      <td>right property var annotation ca</td>\n",
              "      <td>relates</td>\n",
              "    </tr>\n",
              "    <tr>\n",
              "      <th>1</th>\n",
              "      <td>75043</td>\n",
              "      <td>please use gz instead gzip statically</td>\n",
              "      <td>93182</td>\n",
              "      <td>make compressed file extension configurabl</td>\n",
              "      <td>relates</td>\n",
              "    </tr>\n",
              "    <tr>\n",
              "      <th>2</th>\n",
              "      <td>93170</td>\n",
              "      <td>would suggest deprecate following pag</td>\n",
              "      <td>93171</td>\n",
              "      <td>introduce fallback site configuration</td>\n",
              "      <td>relates</td>\n",
              "    </tr>\n",
              "    <tr>\n",
              "      <th>3</th>\n",
              "      <td>93170</td>\n",
              "      <td>would suggest deprecate following pag</td>\n",
              "      <td>93171</td>\n",
              "      <td>introduce fallback site configuration</td>\n",
              "      <td>relates</td>\n",
              "    </tr>\n",
              "    <tr>\n",
              "      <th>4</th>\n",
              "      <td>75266</td>\n",
              "      <td>possibility least</td>\n",
              "      <td>92903</td>\n",
              "      <td>would great able arrange flexfo</td>\n",
              "      <td>relates</td>\n",
              "    </tr>\n",
              "  </tbody>\n",
              "</table>\n",
              "</div>"
            ],
            "text/plain": [
              "     id1  ... Type of dependency\n",
              "0  87457  ...            relates\n",
              "1  75043  ...            relates\n",
              "2  93170  ...            relates\n",
              "3  93170  ...            relates\n",
              "4  75266  ...            relates\n",
              "\n",
              "[5 rows x 5 columns]"
            ]
          },
          "metadata": {
            "tags": []
          },
          "execution_count": 2
        }
      ]
    },
    {
      "cell_type": "code",
      "metadata": {
        "colab": {
          "base_uri": "https://localhost:8080/"
        },
        "id": "JTA7V_oyN6vl",
        "outputId": "507d8e78-dba0-4539-f517-449d7e4e3ed7"
      },
      "source": [
        "df4.isnull().sum()"
      ],
      "execution_count": null,
      "outputs": [
        {
          "output_type": "execute_result",
          "data": {
            "text/plain": [
              "id1                   0\n",
              "Description1          6\n",
              "id2                   0\n",
              "Description2          2\n",
              "Type of dependency    0\n",
              "dtype: int64"
            ]
          },
          "metadata": {
            "tags": []
          },
          "execution_count": 3
        }
      ]
    },
    {
      "cell_type": "code",
      "metadata": {
        "id": "EycleAUaOIjL"
      },
      "source": [
        "df4.dropna(inplace=True)\n",
        "df4 = df4.reset_index(drop=True)"
      ],
      "execution_count": null,
      "outputs": []
    },
    {
      "cell_type": "code",
      "metadata": {
        "colab": {
          "base_uri": "https://localhost:8080/"
        },
        "id": "KayClALEObJ0",
        "outputId": "b613d5d0-d8ac-4fdb-e187-dcdd3cca5b51"
      },
      "source": [
        "y1,y2 = [],[]\n",
        "y = df4['Description1']\n",
        "z = df4['Description2']\n",
        "for i in range(len(y)):\n",
        "  q = y[i].split(' ')\n",
        "  if len(q) <2:\n",
        "    y1.append(i)\n",
        "for i in range(len(y)):\n",
        "  q1 = z[i].split(' ')\n",
        "  if len(q1) <2:\n",
        "    y2.append(i)\n",
        "print(len(y1))\n",
        "print(len(y2))\n",
        "q2 = list(set(y1+y2))\n",
        "df4.drop(q2,inplace=True)\n",
        "df4 = df4.reset_index(drop=True)"
      ],
      "execution_count": null,
      "outputs": [
        {
          "output_type": "stream",
          "text": [
            "28\n",
            "26\n"
          ],
          "name": "stdout"
        }
      ]
    },
    {
      "cell_type": "code",
      "metadata": {
        "colab": {
          "base_uri": "https://localhost:8080/"
        },
        "id": "4whsJsvnjxXP",
        "outputId": "d6e65927-2fbb-4521-90d8-2c9a0a8808c3"
      },
      "source": [
        "def isEnglish(s):\n",
        "  return s.isascii()\n",
        "\n",
        "a1 , a2 = [] , []\n",
        "a = df4['Description1'].values\n",
        "b = df4['Description2'].values\n",
        "\n",
        "for i in range(len(a)):\n",
        "  if isEnglish(a[i])==False:\n",
        "    a1.append(i)\n",
        "for j in range(len(b)):\n",
        "  if isEnglish(b[j])==False:\n",
        "    a2.append(j)\n",
        "\n",
        "print(len(a1))\n",
        "print(len(a2))\n",
        "a3 = list(set(a1+a2))\n",
        "print(len(a3))\n",
        "\n",
        "df4.drop(a3,inplace=True)\n",
        "df4 = df4.reset_index(drop=True)"
      ],
      "execution_count": null,
      "outputs": [
        {
          "output_type": "stream",
          "text": [
            "2\n",
            "6\n",
            "8\n"
          ],
          "name": "stdout"
        }
      ]
    },
    {
      "cell_type": "markdown",
      "metadata": {
        "id": "-mGL7C6CRzW7"
      },
      "source": [
        "**Final Processed Dependent**"
      ]
    },
    {
      "cell_type": "code",
      "metadata": {
        "colab": {
          "base_uri": "https://localhost:8080/",
          "height": 204
        },
        "id": "10-VrUG1RrFq",
        "outputId": "116bd0d0-8ae0-4819-e5ad-e261871e23e4"
      },
      "source": [
        "df4.head()"
      ],
      "execution_count": null,
      "outputs": [
        {
          "output_type": "execute_result",
          "data": {
            "text/html": [
              "<div>\n",
              "<style scoped>\n",
              "    .dataframe tbody tr th:only-of-type {\n",
              "        vertical-align: middle;\n",
              "    }\n",
              "\n",
              "    .dataframe tbody tr th {\n",
              "        vertical-align: top;\n",
              "    }\n",
              "\n",
              "    .dataframe thead th {\n",
              "        text-align: right;\n",
              "    }\n",
              "</style>\n",
              "<table border=\"1\" class=\"dataframe\">\n",
              "  <thead>\n",
              "    <tr style=\"text-align: right;\">\n",
              "      <th></th>\n",
              "      <th>id1</th>\n",
              "      <th>Description1</th>\n",
              "      <th>id2</th>\n",
              "      <th>Description2</th>\n",
              "      <th>Type of dependency</th>\n",
              "    </tr>\n",
              "  </thead>\n",
              "  <tbody>\n",
              "    <tr>\n",
              "      <th>0</th>\n",
              "      <td>87457</td>\n",
              "      <td>patch introduces requirement symfo</td>\n",
              "      <td>93197</td>\n",
              "      <td>right property var annotation ca</td>\n",
              "      <td>relates</td>\n",
              "    </tr>\n",
              "    <tr>\n",
              "      <th>1</th>\n",
              "      <td>75043</td>\n",
              "      <td>please use gz instead gzip statically</td>\n",
              "      <td>93182</td>\n",
              "      <td>make compressed file extension configurabl</td>\n",
              "      <td>relates</td>\n",
              "    </tr>\n",
              "    <tr>\n",
              "      <th>2</th>\n",
              "      <td>93170</td>\n",
              "      <td>would suggest deprecate following pag</td>\n",
              "      <td>93171</td>\n",
              "      <td>introduce fallback site configuration</td>\n",
              "      <td>relates</td>\n",
              "    </tr>\n",
              "    <tr>\n",
              "      <th>3</th>\n",
              "      <td>93170</td>\n",
              "      <td>would suggest deprecate following pag</td>\n",
              "      <td>93171</td>\n",
              "      <td>introduce fallback site configuration</td>\n",
              "      <td>relates</td>\n",
              "    </tr>\n",
              "    <tr>\n",
              "      <th>4</th>\n",
              "      <td>75266</td>\n",
              "      <td>possibility least</td>\n",
              "      <td>92903</td>\n",
              "      <td>would great able arrange flexfo</td>\n",
              "      <td>relates</td>\n",
              "    </tr>\n",
              "  </tbody>\n",
              "</table>\n",
              "</div>"
            ],
            "text/plain": [
              "     id1  ... Type of dependency\n",
              "0  87457  ...            relates\n",
              "1  75043  ...            relates\n",
              "2  93170  ...            relates\n",
              "3  93170  ...            relates\n",
              "4  75266  ...            relates\n",
              "\n",
              "[5 rows x 5 columns]"
            ]
          },
          "metadata": {
            "tags": []
          },
          "execution_count": 8
        }
      ]
    },
    {
      "cell_type": "code",
      "metadata": {
        "colab": {
          "base_uri": "https://localhost:8080/"
        },
        "id": "kovcw4xrRDcK",
        "outputId": "71b8a07e-5b8b-419e-c2ea-561bacdec203"
      },
      "source": [
        "print(df4.shape)\n",
        "print(df4.isnull().sum())"
      ],
      "execution_count": null,
      "outputs": [
        {
          "output_type": "stream",
          "text": [
            "(1752, 5)\n",
            "id1                   0\n",
            "Description1          0\n",
            "id2                   0\n",
            "Description2          0\n",
            "Type of dependency    0\n",
            "dtype: int64\n"
          ],
          "name": "stdout"
        }
      ]
    },
    {
      "cell_type": "code",
      "metadata": {
        "colab": {
          "base_uri": "https://localhost:8080/"
        },
        "id": "r-vgDpSURwqz",
        "outputId": "0fea5b7b-9903-42d0-a8ec-a36b6a019a4b"
      },
      "source": [
        "df4['Type of dependency'].value_counts()"
      ],
      "execution_count": null,
      "outputs": [
        {
          "output_type": "execute_result",
          "data": {
            "text/plain": [
              "relates       1324\n",
              "duplicates     356\n",
              "precedes        38\n",
              "blocks          32\n",
              "copied_to        2\n",
              "Name: Type of dependency, dtype: int64"
            ]
          },
          "metadata": {
            "tags": []
          },
          "execution_count": 10
        }
      ]
    },
    {
      "cell_type": "code",
      "metadata": {
        "id": "tNN8xfL0R-Ot"
      },
      "source": [
        "#df4.to_csv('/content/drive/MyDrive/SENG 607/Typo3/Typo3_Processed_ALPos.csv')"
      ],
      "execution_count": null,
      "outputs": []
    },
    {
      "cell_type": "markdown",
      "metadata": {
        "id": "4qn8tmq3S0-K"
      },
      "source": [
        "**Processed independent pairs**"
      ]
    },
    {
      "cell_type": "code",
      "metadata": {
        "colab": {
          "base_uri": "https://localhost:8080/",
          "height": 204
        },
        "id": "UXpTV9dtS5qB",
        "outputId": "eb03c951-bc71-4af2-c6fb-7a5746e3c1a9"
      },
      "source": [
        "df5 = pd.read_csv('/content/drive/MyDrive/SENG 607/Typo3/Typo3_Processed_Neg_init.csv')\n",
        "df5.drop(['Unnamed: 0'],axis=1,inplace=True)\n",
        "df5.head()"
      ],
      "execution_count": null,
      "outputs": [
        {
          "output_type": "execute_result",
          "data": {
            "text/html": [
              "<div>\n",
              "<style scoped>\n",
              "    .dataframe tbody tr th:only-of-type {\n",
              "        vertical-align: middle;\n",
              "    }\n",
              "\n",
              "    .dataframe tbody tr th {\n",
              "        vertical-align: top;\n",
              "    }\n",
              "\n",
              "    .dataframe thead th {\n",
              "        text-align: right;\n",
              "    }\n",
              "</style>\n",
              "<table border=\"1\" class=\"dataframe\">\n",
              "  <thead>\n",
              "    <tr style=\"text-align: right;\">\n",
              "      <th></th>\n",
              "      <th>id1</th>\n",
              "      <th>Description1</th>\n",
              "      <th>id2</th>\n",
              "      <th>Description2</th>\n",
              "      <th>Type of dependency</th>\n",
              "    </tr>\n",
              "  </thead>\n",
              "  <tbody>\n",
              "    <tr>\n",
              "      <th>0</th>\n",
              "      <td>91745</td>\n",
              "      <td>comernthxrnstefan</td>\n",
              "      <td>6354</td>\n",
              "      <td>implementfinish customer address implem</td>\n",
              "      <td>independent</td>\n",
              "    </tr>\n",
              "    <tr>\n",
              "      <th>1</th>\n",
              "      <td>80689</td>\n",
              "      <td>result poll</td>\n",
              "      <td>71251</td>\n",
              "      <td>flash message different queue dependin</td>\n",
              "      <td>independent</td>\n",
              "    </tr>\n",
              "    <tr>\n",
              "      <th>2</th>\n",
              "      <td>13515</td>\n",
              "      <td>workspace empty notification dropdown sh</td>\n",
              "      <td>3109</td>\n",
              "      <td>seems supported htmlmail</td>\n",
              "      <td>independent</td>\n",
              "    </tr>\n",
              "    <tr>\n",
              "      <th>3</th>\n",
              "      <td>3264</td>\n",
              "      <td>hirnrnim sure standalone ver</td>\n",
              "      <td>50136</td>\n",
              "      <td>svg missing image icon svg iconpngr</td>\n",
              "      <td>independent</td>\n",
              "    </tr>\n",
              "    <tr>\n",
              "      <th>4</th>\n",
              "      <td>13948</td>\n",
              "      <td>need banner announces</td>\n",
              "      <td>12348</td>\n",
              "      <td>would great implement pagebrowser</td>\n",
              "      <td>independent</td>\n",
              "    </tr>\n",
              "  </tbody>\n",
              "</table>\n",
              "</div>"
            ],
            "text/plain": [
              "     id1  ... Type of dependency\n",
              "0  91745  ...        independent\n",
              "1  80689  ...        independent\n",
              "2  13515  ...        independent\n",
              "3   3264  ...        independent\n",
              "4  13948  ...        independent\n",
              "\n",
              "[5 rows x 5 columns]"
            ]
          },
          "metadata": {
            "tags": []
          },
          "execution_count": 12
        }
      ]
    },
    {
      "cell_type": "code",
      "metadata": {
        "colab": {
          "base_uri": "https://localhost:8080/"
        },
        "id": "g3jXgqQYTHjZ",
        "outputId": "a55cca90-fa1e-4091-cb41-2c4637d74cbc"
      },
      "source": [
        "df5.isnull().sum()"
      ],
      "execution_count": null,
      "outputs": [
        {
          "output_type": "execute_result",
          "data": {
            "text/plain": [
              "id1                    0\n",
              "Description1          95\n",
              "id2                    0\n",
              "Description2          86\n",
              "Type of dependency     0\n",
              "dtype: int64"
            ]
          },
          "metadata": {
            "tags": []
          },
          "execution_count": 13
        }
      ]
    },
    {
      "cell_type": "code",
      "metadata": {
        "id": "S9nB9_PDTL6d"
      },
      "source": [
        "df5.dropna(inplace=True)\n",
        "df5 = df5.reset_index(drop=True)"
      ],
      "execution_count": null,
      "outputs": []
    },
    {
      "cell_type": "code",
      "metadata": {
        "colab": {
          "base_uri": "https://localhost:8080/"
        },
        "id": "4X_8wrtvTP8l",
        "outputId": "5e550114-9fbe-4bf7-a61a-a58f725ea75f"
      },
      "source": [
        "y1,y2 = [],[]\n",
        "y = df5['Description1']\n",
        "z = df5['Description2']\n",
        "for i in range(len(y)):\n",
        "  q = y[i].split(' ')\n",
        "  if len(q) <2:\n",
        "    y1.append(i)\n",
        "for i in range(len(y)):\n",
        "  q1 = z[i].split(' ')\n",
        "  if len(q1) <2:\n",
        "    y2.append(i)\n",
        "print(len(y1))\n",
        "print(len(y2))\n",
        "q2 = list(set(y1+y2))\n",
        "df5.drop(q2,inplace=True)\n",
        "df5 = df5.reset_index(drop=True)"
      ],
      "execution_count": null,
      "outputs": [
        {
          "output_type": "stream",
          "text": [
            "199\n",
            "153\n"
          ],
          "name": "stdout"
        }
      ]
    },
    {
      "cell_type": "code",
      "metadata": {
        "colab": {
          "base_uri": "https://localhost:8080/"
        },
        "id": "IdIW3wJPp0R-",
        "outputId": "0061c266-3674-4af6-f950-b23d7a7b52fe"
      },
      "source": [
        "u,u1 = [],[]\n",
        "drop = [27908,38097,53148,33591]\n",
        "for i in drop:\n",
        "  a = df5[df5['id2']==i]['Description2'].index\n",
        "  a = list(a)\n",
        "  for j in a:\n",
        "    u.append(j)\n",
        "print(len(u))\n",
        "\n",
        "for i in drop:\n",
        "  b = df5[df5['id1']==i]['Description1'].index\n",
        "  b = list(b)\n",
        "  for j in b:\n",
        "    u1.append(j)\n",
        "print(len(u1))\n",
        "s = list(set(u1+u))\n",
        "print(len(s))\n",
        "\n",
        "df5.drop(s,inplace=True)\n",
        "df5 = df5.reset_index(drop=True)"
      ],
      "execution_count": null,
      "outputs": [
        {
          "output_type": "stream",
          "text": [
            "12\n",
            "4\n",
            "16\n"
          ],
          "name": "stdout"
        }
      ]
    },
    {
      "cell_type": "code",
      "metadata": {
        "colab": {
          "base_uri": "https://localhost:8080/"
        },
        "id": "eyxb0knEkH4v",
        "outputId": "ab2a7e37-b06d-40a8-875b-64d82cc4af04"
      },
      "source": [
        "def isEnglish(s):\n",
        "  return s.isascii()\n",
        "\n",
        "a1 , a2 = [] , []\n",
        "a = df5['Description1'].values\n",
        "b = df5['Description2'].values\n",
        "\n",
        "for i in range(len(a)):\n",
        "  if isEnglish(a[i])==False:\n",
        "    a1.append(i)\n",
        "for j in range(len(b)):\n",
        "  if isEnglish(b[j])==False:\n",
        "    a2.append(j)\n",
        "\n",
        "print(len(a1))\n",
        "print(len(a2))\n",
        "a3 = list(set(a1+a2))\n",
        "print(len(a3))\n",
        "\n",
        "df5.drop(a3,inplace=True)\n",
        "df5 = df5.reset_index(drop=True)"
      ],
      "execution_count": null,
      "outputs": [
        {
          "output_type": "stream",
          "text": [
            "72\n",
            "80\n",
            "152\n"
          ],
          "name": "stdout"
        }
      ]
    },
    {
      "cell_type": "markdown",
      "metadata": {
        "id": "mMb148DwTzUJ"
      },
      "source": [
        "**Final Processed independent**"
      ]
    },
    {
      "cell_type": "code",
      "metadata": {
        "colab": {
          "base_uri": "https://localhost:8080/",
          "height": 204
        },
        "id": "6DUMYvDYTkZB",
        "outputId": "cdf61d2a-8074-44e0-adae-55aa6404f841"
      },
      "source": [
        "df5.head()"
      ],
      "execution_count": null,
      "outputs": [
        {
          "output_type": "execute_result",
          "data": {
            "text/html": [
              "<div>\n",
              "<style scoped>\n",
              "    .dataframe tbody tr th:only-of-type {\n",
              "        vertical-align: middle;\n",
              "    }\n",
              "\n",
              "    .dataframe tbody tr th {\n",
              "        vertical-align: top;\n",
              "    }\n",
              "\n",
              "    .dataframe thead th {\n",
              "        text-align: right;\n",
              "    }\n",
              "</style>\n",
              "<table border=\"1\" class=\"dataframe\">\n",
              "  <thead>\n",
              "    <tr style=\"text-align: right;\">\n",
              "      <th></th>\n",
              "      <th>id1</th>\n",
              "      <th>Description1</th>\n",
              "      <th>id2</th>\n",
              "      <th>Description2</th>\n",
              "      <th>Type of dependency</th>\n",
              "    </tr>\n",
              "  </thead>\n",
              "  <tbody>\n",
              "    <tr>\n",
              "      <th>0</th>\n",
              "      <td>80689</td>\n",
              "      <td>result poll</td>\n",
              "      <td>71251</td>\n",
              "      <td>flash message different queue dependin</td>\n",
              "      <td>independent</td>\n",
              "    </tr>\n",
              "    <tr>\n",
              "      <th>1</th>\n",
              "      <td>13515</td>\n",
              "      <td>workspace empty notification dropdown sh</td>\n",
              "      <td>3109</td>\n",
              "      <td>seems supported htmlmail</td>\n",
              "      <td>independent</td>\n",
              "    </tr>\n",
              "    <tr>\n",
              "      <th>2</th>\n",
              "      <td>3264</td>\n",
              "      <td>hirnrnim sure standalone ver</td>\n",
              "      <td>50136</td>\n",
              "      <td>svg missing image icon svg iconpngr</td>\n",
              "      <td>independent</td>\n",
              "    </tr>\n",
              "    <tr>\n",
              "      <th>3</th>\n",
              "      <td>13948</td>\n",
              "      <td>need banner announces</td>\n",
              "      <td>12348</td>\n",
              "      <td>would great implement pagebrowser</td>\n",
              "      <td>independent</td>\n",
              "    </tr>\n",
              "    <tr>\n",
              "      <th>4</th>\n",
              "      <td>77336</td>\n",
              "      <td>currently way inject li</td>\n",
              "      <td>1011</td>\n",
              "      <td>optionally show select link</td>\n",
              "      <td>independent</td>\n",
              "    </tr>\n",
              "  </tbody>\n",
              "</table>\n",
              "</div>"
            ],
            "text/plain": [
              "     id1  ... Type of dependency\n",
              "0  80689  ...        independent\n",
              "1  13515  ...        independent\n",
              "2   3264  ...        independent\n",
              "3  13948  ...        independent\n",
              "4  77336  ...        independent\n",
              "\n",
              "[5 rows x 5 columns]"
            ]
          },
          "metadata": {
            "tags": []
          },
          "execution_count": 18
        }
      ]
    },
    {
      "cell_type": "code",
      "metadata": {
        "colab": {
          "base_uri": "https://localhost:8080/"
        },
        "id": "dkvxIxdRToVQ",
        "outputId": "a12d4265-4425-4318-dd08-0daff9b5bff0"
      },
      "source": [
        "print(df5.shape)\n",
        "print(df5.isnull().sum())"
      ],
      "execution_count": null,
      "outputs": [
        {
          "output_type": "stream",
          "text": [
            "(9270, 5)\n",
            "id1                   0\n",
            "Description1          0\n",
            "id2                   0\n",
            "Description2          0\n",
            "Type of dependency    0\n",
            "dtype: int64\n"
          ],
          "name": "stdout"
        }
      ]
    },
    {
      "cell_type": "code",
      "metadata": {
        "id": "Pgunaf5yTv_s"
      },
      "source": [
        "#df5.to_csv('/content/drive/MyDrive/SENG 607/Typo3/Typo3_Processed_ALNeg.csv')"
      ],
      "execution_count": null,
      "outputs": []
    },
    {
      "cell_type": "markdown",
      "metadata": {
        "id": "mVn0oPv210Y2"
      },
      "source": [
        "**BERT**"
      ]
    },
    {
      "cell_type": "code",
      "metadata": {
        "colab": {
          "base_uri": "https://localhost:8080/",
          "height": 204
        },
        "id": "dfWlsbKm12G_",
        "outputId": "bf984dcf-a19c-4498-ecad-6834ecbfa199"
      },
      "source": [
        "df6 = pd.read_csv('/content/drive/MyDrive/SENG 607/Typo3/Typo3_Processed_BERTPos_init.csv')\n",
        "df6.drop(['Unnamed: 0'],axis=1,inplace=True)\n",
        "df6.head()"
      ],
      "execution_count": null,
      "outputs": [
        {
          "output_type": "execute_result",
          "data": {
            "text/html": [
              "<div>\n",
              "<style scoped>\n",
              "    .dataframe tbody tr th:only-of-type {\n",
              "        vertical-align: middle;\n",
              "    }\n",
              "\n",
              "    .dataframe tbody tr th {\n",
              "        vertical-align: top;\n",
              "    }\n",
              "\n",
              "    .dataframe thead th {\n",
              "        text-align: right;\n",
              "    }\n",
              "</style>\n",
              "<table border=\"1\" class=\"dataframe\">\n",
              "  <thead>\n",
              "    <tr style=\"text-align: right;\">\n",
              "      <th></th>\n",
              "      <th>id1</th>\n",
              "      <th>Description1</th>\n",
              "      <th>id2</th>\n",
              "      <th>Description2</th>\n",
              "      <th>Type of dependency</th>\n",
              "    </tr>\n",
              "  </thead>\n",
              "  <tbody>\n",
              "    <tr>\n",
              "      <th>0</th>\n",
              "      <td>87457</td>\n",
              "      <td>this patch introduces the requirement to symfo</td>\n",
              "      <td>93197</td>\n",
              "      <td>right now only the property var annotation ca</td>\n",
              "      <td>relates</td>\n",
              "    </tr>\n",
              "    <tr>\n",
              "      <th>1</th>\n",
              "      <td>75043</td>\n",
              "      <td>please use gz instead of gzip for statically</td>\n",
              "      <td>93182</td>\n",
              "      <td>make the compressed file extension configurabl</td>\n",
              "      <td>relates</td>\n",
              "    </tr>\n",
              "    <tr>\n",
              "      <th>2</th>\n",
              "      <td>93170</td>\n",
              "      <td>i would suggest to deprecate the following pag</td>\n",
              "      <td>93171</td>\n",
              "      <td>introduce fallback site configuration to be</td>\n",
              "      <td>relates</td>\n",
              "    </tr>\n",
              "    <tr>\n",
              "      <th>3</th>\n",
              "      <td>93170</td>\n",
              "      <td>i would suggest to deprecate the following pag</td>\n",
              "      <td>93171</td>\n",
              "      <td>introduce fallback site configuration to be</td>\n",
              "      <td>relates</td>\n",
              "    </tr>\n",
              "    <tr>\n",
              "      <th>4</th>\n",
              "      <td>75266</td>\n",
              "      <td>there should be possibility to have at least</td>\n",
              "      <td>92903</td>\n",
              "      <td>it would be great to be able to arrange flexfo</td>\n",
              "      <td>relates</td>\n",
              "    </tr>\n",
              "  </tbody>\n",
              "</table>\n",
              "</div>"
            ],
            "text/plain": [
              "     id1  ... Type of dependency\n",
              "0  87457  ...            relates\n",
              "1  75043  ...            relates\n",
              "2  93170  ...            relates\n",
              "3  93170  ...            relates\n",
              "4  75266  ...            relates\n",
              "\n",
              "[5 rows x 5 columns]"
            ]
          },
          "metadata": {
            "tags": []
          },
          "execution_count": 26
        }
      ]
    },
    {
      "cell_type": "code",
      "metadata": {
        "colab": {
          "base_uri": "https://localhost:8080/"
        },
        "id": "7W-pMer22HT2",
        "outputId": "628238e2-1fdb-4b9b-b7f1-4022d6a4249d"
      },
      "source": [
        "df6.isnull().sum()"
      ],
      "execution_count": null,
      "outputs": [
        {
          "output_type": "execute_result",
          "data": {
            "text/plain": [
              "id1                   0\n",
              "Description1          6\n",
              "id2                   0\n",
              "Description2          2\n",
              "Type of dependency    0\n",
              "dtype: int64"
            ]
          },
          "metadata": {
            "tags": []
          },
          "execution_count": 27
        }
      ]
    },
    {
      "cell_type": "code",
      "metadata": {
        "id": "7_V7t3GI2LwJ"
      },
      "source": [
        "df6.dropna(inplace=True)\n",
        "df6 = df6.reset_index(drop=True)"
      ],
      "execution_count": null,
      "outputs": []
    },
    {
      "cell_type": "code",
      "metadata": {
        "colab": {
          "base_uri": "https://localhost:8080/"
        },
        "id": "ztQbmPYJkSN4",
        "outputId": "1acb17b6-c0af-4523-a83f-a7ef8668b052"
      },
      "source": [
        "def isEnglish(s):\n",
        "  return s.isascii()\n",
        "\n",
        "a1 , a2 = [] , []\n",
        "a = df6['Description1'].values\n",
        "b = df6['Description2'].values\n",
        "\n",
        "for i in range(len(a)):\n",
        "  if isEnglish(a[i])==False:\n",
        "    a1.append(i)\n",
        "for j in range(len(b)):\n",
        "  if isEnglish(b[j])==False:\n",
        "    a2.append(j)\n",
        "\n",
        "print(len(a1))\n",
        "print(len(a2))\n",
        "a3 = list(set(a1+a2))\n",
        "print(len(a3))\n",
        "\n",
        "df6.drop(a3,inplace=True)\n",
        "df6 = df6.reset_index(drop=True)"
      ],
      "execution_count": null,
      "outputs": [
        {
          "output_type": "stream",
          "text": [
            "2\n",
            "6\n",
            "8\n"
          ],
          "name": "stdout"
        }
      ]
    },
    {
      "cell_type": "code",
      "metadata": {
        "colab": {
          "base_uri": "https://localhost:8080/"
        },
        "id": "jWDm8NKY2Qxr",
        "outputId": "e66841c4-9ce4-49b7-9136-f22dbac565d7"
      },
      "source": [
        "df6.isnull().sum()"
      ],
      "execution_count": null,
      "outputs": [
        {
          "output_type": "execute_result",
          "data": {
            "text/plain": [
              "id1                   0\n",
              "Description1          0\n",
              "id2                   0\n",
              "Description2          0\n",
              "Type of dependency    0\n",
              "dtype: int64"
            ]
          },
          "metadata": {
            "tags": []
          },
          "execution_count": 30
        }
      ]
    },
    {
      "cell_type": "code",
      "metadata": {
        "colab": {
          "base_uri": "https://localhost:8080/",
          "height": 204
        },
        "id": "Pmlx6Ao62TER",
        "outputId": "182e024a-778e-4980-a0f9-5e29976bb1ca"
      },
      "source": [
        "df6.head()"
      ],
      "execution_count": null,
      "outputs": [
        {
          "output_type": "execute_result",
          "data": {
            "text/html": [
              "<div>\n",
              "<style scoped>\n",
              "    .dataframe tbody tr th:only-of-type {\n",
              "        vertical-align: middle;\n",
              "    }\n",
              "\n",
              "    .dataframe tbody tr th {\n",
              "        vertical-align: top;\n",
              "    }\n",
              "\n",
              "    .dataframe thead th {\n",
              "        text-align: right;\n",
              "    }\n",
              "</style>\n",
              "<table border=\"1\" class=\"dataframe\">\n",
              "  <thead>\n",
              "    <tr style=\"text-align: right;\">\n",
              "      <th></th>\n",
              "      <th>id1</th>\n",
              "      <th>Description1</th>\n",
              "      <th>id2</th>\n",
              "      <th>Description2</th>\n",
              "      <th>Type of dependency</th>\n",
              "    </tr>\n",
              "  </thead>\n",
              "  <tbody>\n",
              "    <tr>\n",
              "      <th>0</th>\n",
              "      <td>87457</td>\n",
              "      <td>this patch introduces the requirement to symfo</td>\n",
              "      <td>93197</td>\n",
              "      <td>right now only the property var annotation ca</td>\n",
              "      <td>relates</td>\n",
              "    </tr>\n",
              "    <tr>\n",
              "      <th>1</th>\n",
              "      <td>75043</td>\n",
              "      <td>please use gz instead of gzip for statically</td>\n",
              "      <td>93182</td>\n",
              "      <td>make the compressed file extension configurabl</td>\n",
              "      <td>relates</td>\n",
              "    </tr>\n",
              "    <tr>\n",
              "      <th>2</th>\n",
              "      <td>93170</td>\n",
              "      <td>i would suggest to deprecate the following pag</td>\n",
              "      <td>93171</td>\n",
              "      <td>introduce fallback site configuration to be</td>\n",
              "      <td>relates</td>\n",
              "    </tr>\n",
              "    <tr>\n",
              "      <th>3</th>\n",
              "      <td>93170</td>\n",
              "      <td>i would suggest to deprecate the following pag</td>\n",
              "      <td>93171</td>\n",
              "      <td>introduce fallback site configuration to be</td>\n",
              "      <td>relates</td>\n",
              "    </tr>\n",
              "    <tr>\n",
              "      <th>4</th>\n",
              "      <td>75266</td>\n",
              "      <td>there should be possibility to have at least</td>\n",
              "      <td>92903</td>\n",
              "      <td>it would be great to be able to arrange flexfo</td>\n",
              "      <td>relates</td>\n",
              "    </tr>\n",
              "  </tbody>\n",
              "</table>\n",
              "</div>"
            ],
            "text/plain": [
              "     id1  ... Type of dependency\n",
              "0  87457  ...            relates\n",
              "1  75043  ...            relates\n",
              "2  93170  ...            relates\n",
              "3  93170  ...            relates\n",
              "4  75266  ...            relates\n",
              "\n",
              "[5 rows x 5 columns]"
            ]
          },
          "metadata": {
            "tags": []
          },
          "execution_count": 31
        }
      ]
    },
    {
      "cell_type": "code",
      "metadata": {
        "id": "zSzOymzT2Uko"
      },
      "source": [
        "#df6.to_csv('/content/drive/MyDrive/SENG 607/Typo3/Typo3_Processed_BERTPos.csv')"
      ],
      "execution_count": null,
      "outputs": []
    },
    {
      "cell_type": "code",
      "metadata": {
        "colab": {
          "base_uri": "https://localhost:8080/",
          "height": 204
        },
        "id": "Nw9HONVB2g1s",
        "outputId": "f6370880-aad9-4b7c-c11c-f16faf131400"
      },
      "source": [
        "df7 = pd.read_csv('/content/drive/MyDrive/SENG 607/Typo3/Typo3_Processed_BERTNeg_init.csv')\n",
        "df7.drop(['Unnamed: 0'],axis=1,inplace=True)\n",
        "df7.head()"
      ],
      "execution_count": null,
      "outputs": [
        {
          "output_type": "execute_result",
          "data": {
            "text/html": [
              "<div>\n",
              "<style scoped>\n",
              "    .dataframe tbody tr th:only-of-type {\n",
              "        vertical-align: middle;\n",
              "    }\n",
              "\n",
              "    .dataframe tbody tr th {\n",
              "        vertical-align: top;\n",
              "    }\n",
              "\n",
              "    .dataframe thead th {\n",
              "        text-align: right;\n",
              "    }\n",
              "</style>\n",
              "<table border=\"1\" class=\"dataframe\">\n",
              "  <thead>\n",
              "    <tr style=\"text-align: right;\">\n",
              "      <th></th>\n",
              "      <th>id1</th>\n",
              "      <th>Description1</th>\n",
              "      <th>id2</th>\n",
              "      <th>Description2</th>\n",
              "      <th>Type of dependency</th>\n",
              "    </tr>\n",
              "  </thead>\n",
              "  <tbody>\n",
              "    <tr>\n",
              "      <th>0</th>\n",
              "      <td>91745</td>\n",
              "      <td>when will it comernthxrnstefan</td>\n",
              "      <td>6354</td>\n",
              "      <td>implementfinish customer addresses and implem</td>\n",
              "      <td>independent</td>\n",
              "    </tr>\n",
              "    <tr>\n",
              "      <th>1</th>\n",
              "      <td>80689</td>\n",
              "      <td>as for the result of the polls</td>\n",
              "      <td>71251</td>\n",
              "      <td>flash messages have different queues dependin</td>\n",
              "      <td>independent</td>\n",
              "    </tr>\n",
              "    <tr>\n",
              "      <th>2</th>\n",
              "      <td>13515</td>\n",
              "      <td>workspaces empty notification dropdown sh</td>\n",
              "      <td>3109</td>\n",
              "      <td>it seems to be not supported by htmlmail</td>\n",
              "      <td>independent</td>\n",
              "    </tr>\n",
              "    <tr>\n",
              "      <th>3</th>\n",
              "      <td>3264</td>\n",
              "      <td>hirnrnim not sure if the standalone ver</td>\n",
              "      <td>50136</td>\n",
              "      <td>svg is missing image icon svg iconpngr</td>\n",
              "      <td>independent</td>\n",
              "    </tr>\n",
              "    <tr>\n",
              "      <th>4</th>\n",
              "      <td>13948</td>\n",
              "      <td>we need banner that announces the</td>\n",
              "      <td>12348</td>\n",
              "      <td>it would be great to implement pagebrowser i</td>\n",
              "      <td>independent</td>\n",
              "    </tr>\n",
              "  </tbody>\n",
              "</table>\n",
              "</div>"
            ],
            "text/plain": [
              "     id1  ... Type of dependency\n",
              "0  91745  ...        independent\n",
              "1  80689  ...        independent\n",
              "2  13515  ...        independent\n",
              "3   3264  ...        independent\n",
              "4  13948  ...        independent\n",
              "\n",
              "[5 rows x 5 columns]"
            ]
          },
          "metadata": {
            "tags": []
          },
          "execution_count": 44
        }
      ]
    },
    {
      "cell_type": "code",
      "metadata": {
        "colab": {
          "base_uri": "https://localhost:8080/"
        },
        "id": "UfIdN4XG2pla",
        "outputId": "b1b355db-6091-4e79-de7f-1bc41b5befdf"
      },
      "source": [
        "df7.isnull().sum()"
      ],
      "execution_count": null,
      "outputs": [
        {
          "output_type": "execute_result",
          "data": {
            "text/plain": [
              "id1                    0\n",
              "Description1          84\n",
              "id2                    0\n",
              "Description2          74\n",
              "Type of dependency     0\n",
              "dtype: int64"
            ]
          },
          "metadata": {
            "tags": []
          },
          "execution_count": 45
        }
      ]
    },
    {
      "cell_type": "code",
      "metadata": {
        "id": "38DVfqkt2reP"
      },
      "source": [
        "df7.dropna(inplace=True)\n",
        "df7 = df7.reset_index(drop=True)"
      ],
      "execution_count": null,
      "outputs": []
    },
    {
      "cell_type": "code",
      "metadata": {
        "colab": {
          "base_uri": "https://localhost:8080/"
        },
        "id": "H3T-fU4_kgXA",
        "outputId": "2d7ff957-21f8-4847-b6a4-4e7648de5e6f"
      },
      "source": [
        "def isEnglish(s):\n",
        "  return s.isascii()\n",
        "\n",
        "a1 , a2 = [] , []\n",
        "a = df7['Description1'].values\n",
        "b = df7['Description2'].values\n",
        "\n",
        "for i in range(len(a)):\n",
        "  if isEnglish(a[i])==False:\n",
        "    a1.append(i)\n",
        "for j in range(len(b)):\n",
        "  if isEnglish(b[j])==False:\n",
        "    a2.append(j)\n",
        "\n",
        "print(len(a1))\n",
        "print(len(a2))\n",
        "a3 = list(set(a1+a2))\n",
        "print(len(a3))\n",
        "\n",
        "df7.drop(a3,inplace=True)\n",
        "df7 = df7.reset_index(drop=True)"
      ],
      "execution_count": null,
      "outputs": [
        {
          "output_type": "stream",
          "text": [
            "80\n",
            "93\n",
            "173\n"
          ],
          "name": "stdout"
        }
      ]
    },
    {
      "cell_type": "code",
      "metadata": {
        "colab": {
          "base_uri": "https://localhost:8080/"
        },
        "id": "fd-KtH532u5M",
        "outputId": "20039ec1-b4a8-4b39-92b7-92d1ff11dc47"
      },
      "source": [
        "df7.isnull().sum()"
      ],
      "execution_count": null,
      "outputs": [
        {
          "output_type": "execute_result",
          "data": {
            "text/plain": [
              "id1                   0\n",
              "Description1          0\n",
              "id2                   0\n",
              "Description2          0\n",
              "Type of dependency    0\n",
              "dtype: int64"
            ]
          },
          "metadata": {
            "tags": []
          },
          "execution_count": 48
        }
      ]
    },
    {
      "cell_type": "code",
      "metadata": {
        "colab": {
          "base_uri": "https://localhost:8080/",
          "height": 204
        },
        "id": "ma9BPp582wlS",
        "outputId": "a7361ff6-6431-4c71-cd57-87b6efa0cd2f"
      },
      "source": [
        "df7.head()"
      ],
      "execution_count": null,
      "outputs": [
        {
          "output_type": "execute_result",
          "data": {
            "text/html": [
              "<div>\n",
              "<style scoped>\n",
              "    .dataframe tbody tr th:only-of-type {\n",
              "        vertical-align: middle;\n",
              "    }\n",
              "\n",
              "    .dataframe tbody tr th {\n",
              "        vertical-align: top;\n",
              "    }\n",
              "\n",
              "    .dataframe thead th {\n",
              "        text-align: right;\n",
              "    }\n",
              "</style>\n",
              "<table border=\"1\" class=\"dataframe\">\n",
              "  <thead>\n",
              "    <tr style=\"text-align: right;\">\n",
              "      <th></th>\n",
              "      <th>id1</th>\n",
              "      <th>Description1</th>\n",
              "      <th>id2</th>\n",
              "      <th>Description2</th>\n",
              "      <th>Type of dependency</th>\n",
              "    </tr>\n",
              "  </thead>\n",
              "  <tbody>\n",
              "    <tr>\n",
              "      <th>0</th>\n",
              "      <td>91745</td>\n",
              "      <td>when will it comernthxrnstefan</td>\n",
              "      <td>6354</td>\n",
              "      <td>implementfinish customer addresses and implem</td>\n",
              "      <td>independent</td>\n",
              "    </tr>\n",
              "    <tr>\n",
              "      <th>1</th>\n",
              "      <td>80689</td>\n",
              "      <td>as for the result of the polls</td>\n",
              "      <td>71251</td>\n",
              "      <td>flash messages have different queues dependin</td>\n",
              "      <td>independent</td>\n",
              "    </tr>\n",
              "    <tr>\n",
              "      <th>2</th>\n",
              "      <td>13515</td>\n",
              "      <td>workspaces empty notification dropdown sh</td>\n",
              "      <td>3109</td>\n",
              "      <td>it seems to be not supported by htmlmail</td>\n",
              "      <td>independent</td>\n",
              "    </tr>\n",
              "    <tr>\n",
              "      <th>3</th>\n",
              "      <td>3264</td>\n",
              "      <td>hirnrnim not sure if the standalone ver</td>\n",
              "      <td>50136</td>\n",
              "      <td>svg is missing image icon svg iconpngr</td>\n",
              "      <td>independent</td>\n",
              "    </tr>\n",
              "    <tr>\n",
              "      <th>4</th>\n",
              "      <td>13948</td>\n",
              "      <td>we need banner that announces the</td>\n",
              "      <td>12348</td>\n",
              "      <td>it would be great to implement pagebrowser i</td>\n",
              "      <td>independent</td>\n",
              "    </tr>\n",
              "  </tbody>\n",
              "</table>\n",
              "</div>"
            ],
            "text/plain": [
              "     id1  ... Type of dependency\n",
              "0  91745  ...        independent\n",
              "1  80689  ...        independent\n",
              "2  13515  ...        independent\n",
              "3   3264  ...        independent\n",
              "4  13948  ...        independent\n",
              "\n",
              "[5 rows x 5 columns]"
            ]
          },
          "metadata": {
            "tags": []
          },
          "execution_count": 49
        }
      ]
    },
    {
      "cell_type": "code",
      "metadata": {
        "id": "RdKi1X_82xuY"
      },
      "source": [
        "#df7.to_csv('/content/drive/MyDrive/SENG 607/Typo3/Typo3_Processed_BERTNeg.csv')"
      ],
      "execution_count": null,
      "outputs": []
    },
    {
      "cell_type": "code",
      "metadata": {
        "id": "Oo3CeEbr24R7"
      },
      "source": [
        ""
      ],
      "execution_count": null,
      "outputs": []
    }
  ]
}