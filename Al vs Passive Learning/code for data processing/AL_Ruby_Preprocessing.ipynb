{
  "nbformat": 4,
  "nbformat_minor": 0,
  "metadata": {
    "colab": {
      "name": "AL Ruby Preprocessing.ipynb",
      "provenance": [],
      "collapsed_sections": []
    },
    "kernelspec": {
      "name": "python3",
      "display_name": "Python 3"
    },
    "language_info": {
      "name": "python"
    }
  },
  "cells": [
    {
      "cell_type": "code",
      "metadata": {
        "id": "ctV07b0CO6Hz"
      },
      "source": [
        "import numpy as np\n",
        "import pandas as pd"
      ],
      "execution_count": null,
      "outputs": []
    },
    {
      "cell_type": "code",
      "metadata": {
        "colab": {
          "base_uri": "https://localhost:8080/",
          "height": 306
        },
        "id": "-XBecN-hPAwX",
        "outputId": "89cffded-d084-4d2e-fcb6-5495616c25ef"
      },
      "source": [
        "df = pd.read_csv('/content/drive/MyDrive/SENG 607/Ruby/processedData_Ruby.csv')\n",
        "df.head()"
      ],
      "execution_count": null,
      "outputs": [
        {
          "output_type": "execute_result",
          "data": {
            "text/html": [
              "<div>\n",
              "<style scoped>\n",
              "    .dataframe tbody tr th:only-of-type {\n",
              "        vertical-align: middle;\n",
              "    }\n",
              "\n",
              "    .dataframe tbody tr th {\n",
              "        vertical-align: top;\n",
              "    }\n",
              "\n",
              "    .dataframe thead th {\n",
              "        text-align: right;\n",
              "    }\n",
              "</style>\n",
              "<table border=\"1\" class=\"dataframe\">\n",
              "  <thead>\n",
              "    <tr style=\"text-align: right;\">\n",
              "      <th></th>\n",
              "      <th>Unnamed: 0</th>\n",
              "      <th>Project</th>\n",
              "      <th>created_on</th>\n",
              "      <th>dependencies</th>\n",
              "      <th>desc</th>\n",
              "      <th>id</th>\n",
              "      <th>relationCount</th>\n",
              "      <th>status</th>\n",
              "      <th>subject</th>\n",
              "      <th>tracker</th>\n",
              "    </tr>\n",
              "  </thead>\n",
              "  <tbody>\n",
              "    <tr>\n",
              "      <th>0</th>\n",
              "      <td>0</td>\n",
              "      <td>Ruby master</td>\n",
              "      <td>2021-01-18T04:25:24Z</td>\n",
              "      <td>NaN</td>\n",
              "      <td>Pattern Matching is a very powerful feature, b...</td>\n",
              "      <td>17551</td>\n",
              "      <td>0</td>\n",
              "      <td>Open</td>\n",
              "      <td>Pattern Matching - Default Object#deconstruct ...</td>\n",
              "      <td>Feature</td>\n",
              "    </tr>\n",
              "    <tr>\n",
              "      <th>1</th>\n",
              "      <td>1</td>\n",
              "      <td>Ruby master</td>\n",
              "      <td>2021-01-17T20:59:19Z</td>\n",
              "      <td>NaN</td>\n",
              "      <td>Googling around, this seems to be a relatively...</td>\n",
              "      <td>17550</td>\n",
              "      <td>0</td>\n",
              "      <td>Open</td>\n",
              "      <td>Why no function to get all subdirectories of a...</td>\n",
              "      <td>Feature</td>\n",
              "    </tr>\n",
              "    <tr>\n",
              "      <th>2</th>\n",
              "      <td>2</td>\n",
              "      <td>Ruby master</td>\n",
              "      <td>2021-01-17T00:46:53Z</td>\n",
              "      <td>NaN</td>\n",
              "      <td>I would like to suggest that Ruby provide a si...</td>\n",
              "      <td>17548</td>\n",
              "      <td>0</td>\n",
              "      <td>Open</td>\n",
              "      <td>Need simple way to include symlink directories...</td>\n",
              "      <td>Feature</td>\n",
              "    </tr>\n",
              "    <tr>\n",
              "      <th>3</th>\n",
              "      <td>3</td>\n",
              "      <td>Ruby master</td>\n",
              "      <td>2021-01-15T23:48:37Z</td>\n",
              "      <td>NaN</td>\n",
              "      <td>The RISC-V architecture is getting more and mo...</td>\n",
              "      <td>17546</td>\n",
              "      <td>0</td>\n",
              "      <td>Assigned</td>\n",
              "      <td>Native coroutine implementation for riscv64 Linux</td>\n",
              "      <td>Feature</td>\n",
              "    </tr>\n",
              "    <tr>\n",
              "      <th>4</th>\n",
              "      <td>4</td>\n",
              "      <td>Ruby master</td>\n",
              "      <td>2021-01-15T08:54:49Z</td>\n",
              "      <td>NaN</td>\n",
              "      <td>In RFC 3339, -00:00 is used for the time in UT...</td>\n",
              "      <td>17544</td>\n",
              "      <td>0</td>\n",
              "      <td>Open</td>\n",
              "      <td>Support RFC 3339 UTC for unknown offset local ...</td>\n",
              "      <td>Feature</td>\n",
              "    </tr>\n",
              "  </tbody>\n",
              "</table>\n",
              "</div>"
            ],
            "text/plain": [
              "   Unnamed: 0  ...  tracker\n",
              "0           0  ...  Feature\n",
              "1           1  ...  Feature\n",
              "2           2  ...  Feature\n",
              "3           3  ...  Feature\n",
              "4           4  ...  Feature\n",
              "\n",
              "[5 rows x 10 columns]"
            ]
          },
          "metadata": {
            "tags": []
          },
          "execution_count": 2
        }
      ]
    },
    {
      "cell_type": "code",
      "metadata": {
        "id": "gRjq2hLePK_5"
      },
      "source": [
        "df.drop(['Unnamed: 0','Project','created_on','status','subject','tracker'],inplace=True,axis=1)"
      ],
      "execution_count": null,
      "outputs": []
    },
    {
      "cell_type": "code",
      "metadata": {
        "colab": {
          "base_uri": "https://localhost:8080/"
        },
        "id": "g_7ItLUuPbWg",
        "outputId": "71c27d14-e774-436c-d103-881f409e463d"
      },
      "source": [
        "print(df.shape)\n",
        "print(df.isnull().sum())"
      ],
      "execution_count": null,
      "outputs": [
        {
          "output_type": "stream",
          "text": [
            "(3600, 4)\n",
            "dependencies     2598\n",
            "desc                5\n",
            "id                  0\n",
            "relationCount       0\n",
            "dtype: int64\n"
          ],
          "name": "stdout"
        }
      ]
    },
    {
      "cell_type": "code",
      "metadata": {
        "id": "yRhT0D3KPboh"
      },
      "source": [
        "df.dropna(subset=['dependencies','desc'],inplace=True)\n",
        "df = df.reset_index(drop=True)"
      ],
      "execution_count": null,
      "outputs": []
    },
    {
      "cell_type": "code",
      "metadata": {
        "colab": {
          "base_uri": "https://localhost:8080/",
          "height": 204
        },
        "id": "FIZS7SPQPlIU",
        "outputId": "50b9acf3-8ab0-405d-ca4f-1405af37ab52"
      },
      "source": [
        "df.head()"
      ],
      "execution_count": null,
      "outputs": [
        {
          "output_type": "execute_result",
          "data": {
            "text/html": [
              "<div>\n",
              "<style scoped>\n",
              "    .dataframe tbody tr th:only-of-type {\n",
              "        vertical-align: middle;\n",
              "    }\n",
              "\n",
              "    .dataframe tbody tr th {\n",
              "        vertical-align: top;\n",
              "    }\n",
              "\n",
              "    .dataframe thead th {\n",
              "        text-align: right;\n",
              "    }\n",
              "</style>\n",
              "<table border=\"1\" class=\"dataframe\">\n",
              "  <thead>\n",
              "    <tr style=\"text-align: right;\">\n",
              "      <th></th>\n",
              "      <th>dependencies</th>\n",
              "      <th>desc</th>\n",
              "      <th>id</th>\n",
              "      <th>relationCount</th>\n",
              "    </tr>\n",
              "  </thead>\n",
              "  <tbody>\n",
              "    <tr>\n",
              "      <th>0</th>\n",
              "      <td>15628relates17525#</td>\n",
              "      <td>https://github.com/ruby/ruby/pull/4038\\r\\n\\r\\n...</td>\n",
              "      <td>17525</td>\n",
              "      <td>1</td>\n",
              "    </tr>\n",
              "    <tr>\n",
              "      <th>1</th>\n",
              "      <td>15743relates17500#15752relates17500#</td>\n",
              "      <td>`RubyVM` is a trap:\\r\\n* Users will think from...</td>\n",
              "      <td>17500</td>\n",
              "      <td>2</td>\n",
              "    </tr>\n",
              "    <tr>\n",
              "      <th>2</th>\n",
              "      <td>17496duplicates4897#</td>\n",
              "      <td>Excuse me if this has been brought up before.\\...</td>\n",
              "      <td>17496</td>\n",
              "      <td>1</td>\n",
              "    </tr>\n",
              "    <tr>\n",
              "      <th>3</th>\n",
              "      <td>17485relates17504#</td>\n",
              "      <td>Currently, `Time.at` and `Time.now` accept a t...</td>\n",
              "      <td>17485</td>\n",
              "      <td>1</td>\n",
              "    </tr>\n",
              "    <tr>\n",
              "      <th>4</th>\n",
              "      <td>8804relates17474#</td>\n",
              "      <td>Ruby has borrowed concepts/idioms from allot o...</td>\n",
              "      <td>17474</td>\n",
              "      <td>1</td>\n",
              "    </tr>\n",
              "  </tbody>\n",
              "</table>\n",
              "</div>"
            ],
            "text/plain": [
              "                           dependencies  ... relationCount\n",
              "0                    15628relates17525#  ...             1\n",
              "1  15743relates17500#15752relates17500#  ...             2\n",
              "2                  17496duplicates4897#  ...             1\n",
              "3                    17485relates17504#  ...             1\n",
              "4                     8804relates17474#  ...             1\n",
              "\n",
              "[5 rows x 4 columns]"
            ]
          },
          "metadata": {
            "tags": []
          },
          "execution_count": 7
        }
      ]
    },
    {
      "cell_type": "code",
      "metadata": {
        "colab": {
          "base_uri": "https://localhost:8080/"
        },
        "id": "hU4tVryKPlws",
        "outputId": "9493fee4-90a5-415d-f7a9-b30fe6758b6f"
      },
      "source": [
        "print(df.shape)\n",
        "print(df.isnull().sum())"
      ],
      "execution_count": null,
      "outputs": [
        {
          "output_type": "stream",
          "text": [
            "(1002, 4)\n",
            "dependencies     0\n",
            "desc             0\n",
            "id               0\n",
            "relationCount    0\n",
            "dtype: int64\n"
          ],
          "name": "stdout"
        }
      ]
    },
    {
      "cell_type": "markdown",
      "metadata": {
        "id": "VzLGZYtPPr1N"
      },
      "source": [
        "Creating Dependent Pairs"
      ]
    },
    {
      "cell_type": "code",
      "metadata": {
        "id": "Si7-azV-Pp3X"
      },
      "source": [
        "import re\n",
        "id1 = []\n",
        "id2 = []\n",
        "desc1 = []\n",
        "desc2 = []\n",
        "dependency  = []\n",
        "\n",
        "for i in range(1002):\n",
        "  a = df['dependencies'][i]\n",
        "  a = a.split('#')\n",
        "  for j in range(len(a)-1):\n",
        "    b = a[j]\n",
        "    temp = re.findall(r'\\d+', b)                         # For extracting id's\n",
        "    r = list(map(int, temp))\n",
        "    id1.append(r[0])\n",
        "    id2.append(r[1])\n",
        "\n",
        "    c = df[df['id']==r[0]]['desc'].to_string()          # For extracting description wrt to each id\n",
        "    c1 = df[df['id']==r[1]]['desc'].to_string() \n",
        "    desc1.append(c[5:])\n",
        "    desc2.append(c1[5:])\n",
        "\n",
        "    temp1 = str(r[0])\n",
        "    temp2 = str(r[1])\n",
        "    result = re.search(f'{temp1}(.*){temp2}',b).group(1) # For extracting type of dependency\n",
        "    dependency.append(result)"
      ],
      "execution_count": null,
      "outputs": []
    },
    {
      "cell_type": "code",
      "metadata": {
        "colab": {
          "base_uri": "https://localhost:8080/",
          "height": 359
        },
        "id": "9O5cF-MDPza0",
        "outputId": "81b97ea5-13fe-4f31-ffb3-40209c0781bf"
      },
      "source": [
        "df1 = pd.DataFrame({'id1':id1,'Description1':desc1,'id2':id2,'Description2':desc2,'Type of dependency':dependency})\n",
        "df1.head(10)"
      ],
      "execution_count": null,
      "outputs": [
        {
          "output_type": "execute_result",
          "data": {
            "text/html": [
              "<div>\n",
              "<style scoped>\n",
              "    .dataframe tbody tr th:only-of-type {\n",
              "        vertical-align: middle;\n",
              "    }\n",
              "\n",
              "    .dataframe tbody tr th {\n",
              "        vertical-align: top;\n",
              "    }\n",
              "\n",
              "    .dataframe thead th {\n",
              "        text-align: right;\n",
              "    }\n",
              "</style>\n",
              "<table border=\"1\" class=\"dataframe\">\n",
              "  <thead>\n",
              "    <tr style=\"text-align: right;\">\n",
              "      <th></th>\n",
              "      <th>id1</th>\n",
              "      <th>Description1</th>\n",
              "      <th>id2</th>\n",
              "      <th>Description2</th>\n",
              "      <th>Type of dependency</th>\n",
              "    </tr>\n",
              "  </thead>\n",
              "  <tbody>\n",
              "    <tr>\n",
              "      <th>0</th>\n",
              "      <td>15628</td>\n",
              "      <td>Hi,\\r\\n\\r\\nThis is not really bug but more o...</td>\n",
              "      <td>17525</td>\n",
              "      <td>https://github.com/ruby/ruby/pull/4038\\r\\n\\r\\n...</td>\n",
              "      <td>relates</td>\n",
              "    </tr>\n",
              "    <tr>\n",
              "      <th>1</th>\n",
              "      <td>15743</td>\n",
              "      <td>My understanding is that `RubyVM` is suppose...</td>\n",
              "      <td>17500</td>\n",
              "      <td>`RubyVM` is a trap:\\r\\n* Users will think from...</td>\n",
              "      <td>relates</td>\n",
              "    </tr>\n",
              "    <tr>\n",
              "      <th>2</th>\n",
              "      <td>15752</td>\n",
              "      <td>I believe we should introduce a module for e...</td>\n",
              "      <td>17500</td>\n",
              "      <td>`RubyVM` is a trap:\\r\\n* Users will think from...</td>\n",
              "      <td>relates</td>\n",
              "    </tr>\n",
              "    <tr>\n",
              "      <th>3</th>\n",
              "      <td>17496</td>\n",
              "      <td>Excuse me if this has been brought up before.\\...</td>\n",
              "      <td>4897</td>\n",
              "      <td>Firstly please read the Tau Manifesto at htt...</td>\n",
              "      <td>duplicates</td>\n",
              "    </tr>\n",
              "    <tr>\n",
              "      <th>4</th>\n",
              "      <td>17485</td>\n",
              "      <td>Currently, `Time.at` and `Time.now` accept a t...</td>\n",
              "      <td>17504</td>\n",
              "      <td>s([], )</td>\n",
              "      <td>relates</td>\n",
              "    </tr>\n",
              "    <tr>\n",
              "      <th>5</th>\n",
              "      <td>8804</td>\n",
              "      <td>How about to introduce ONCE{...} syntax whic...</td>\n",
              "      <td>17474</td>\n",
              "      <td>Ruby has borrowed concepts/idioms from allot o...</td>\n",
              "      <td>relates</td>\n",
              "    </tr>\n",
              "    <tr>\n",
              "      <th>6</th>\n",
              "      <td>17273</td>\n",
              "      <td>This proposal is to introduce `# shareable_co...</td>\n",
              "      <td>17397</td>\n",
              "      <td>I think `shareable_constant_value: literal` is...</td>\n",
              "      <td>relates</td>\n",
              "    </tr>\n",
              "    <tr>\n",
              "      <th>7</th>\n",
              "      <td>17384</td>\n",
              "      <td>Hi, all.\\r\\nWhen I used Hash#merge, I thought ...</td>\n",
              "      <td>6225</td>\n",
              "      <td>Strings and Arrays can be combined with #+. ...</td>\n",
              "      <td>duplicates</td>\n",
              "    </tr>\n",
              "    <tr>\n",
              "      <th>8</th>\n",
              "      <td>17374</td>\n",
              "      <td>s([], )</td>\n",
              "      <td>17380</td>\n",
              "      <td>Currently, `prepend/include` within a `refine`...</td>\n",
              "      <td>relates</td>\n",
              "    </tr>\n",
              "    <tr>\n",
              "      <th>9</th>\n",
              "      <td>17365</td>\n",
              "      <td>Summary: currently there is no good way to re...</td>\n",
              "      <td>17378</td>\n",
              "      <td>With discussion with @marcandre, we found good...</td>\n",
              "      <td>relates</td>\n",
              "    </tr>\n",
              "  </tbody>\n",
              "</table>\n",
              "</div>"
            ],
            "text/plain": [
              "     id1  ... Type of dependency\n",
              "0  15628  ...            relates\n",
              "1  15743  ...            relates\n",
              "2  15752  ...            relates\n",
              "3  17496  ...         duplicates\n",
              "4  17485  ...            relates\n",
              "5   8804  ...            relates\n",
              "6  17273  ...            relates\n",
              "7  17384  ...         duplicates\n",
              "8  17374  ...            relates\n",
              "9  17365  ...            relates\n",
              "\n",
              "[10 rows x 5 columns]"
            ]
          },
          "metadata": {
            "tags": []
          },
          "execution_count": 10
        }
      ]
    },
    {
      "cell_type": "code",
      "metadata": {
        "colab": {
          "base_uri": "https://localhost:8080/"
        },
        "id": "Zv0w2YzSP6Il",
        "outputId": "4d11479b-e824-428c-90a8-790fbc072dee"
      },
      "source": [
        "df1.shape"
      ],
      "execution_count": null,
      "outputs": [
        {
          "output_type": "execute_result",
          "data": {
            "text/plain": [
              "(1613, 5)"
            ]
          },
          "metadata": {
            "tags": []
          },
          "execution_count": 12
        }
      ]
    },
    {
      "cell_type": "code",
      "metadata": {
        "colab": {
          "base_uri": "https://localhost:8080/"
        },
        "id": "2LAKh-z4P2Nm",
        "outputId": "38d8ced2-d805-4c1a-9a7e-9536a886587c"
      },
      "source": [
        "# Deleting empty lists\n",
        "l1 = []\n",
        "l2 = []\n",
        "for i in range(1613):\n",
        "  if df1['Description1'][i] == 's([], )':\n",
        "    l1.append(i)\n",
        "  if df1['Description2'][i] == 's([], )':\n",
        "    l2.append(i)\n",
        "l = list(set(l1+l2))\n",
        "print(len(l))\n",
        "\n",
        "df1.drop(l,inplace = True)\n",
        "df1 = df1.reset_index(drop = True)"
      ],
      "execution_count": null,
      "outputs": [
        {
          "output_type": "stream",
          "text": [
            "393\n"
          ],
          "name": "stdout"
        }
      ]
    },
    {
      "cell_type": "code",
      "metadata": {
        "colab": {
          "base_uri": "https://localhost:8080/",
          "height": 204
        },
        "id": "phIu2n5wP9ED",
        "outputId": "118e1df3-3ae9-48ec-9c58-34b61ee633f0"
      },
      "source": [
        "df1.head()"
      ],
      "execution_count": null,
      "outputs": [
        {
          "output_type": "execute_result",
          "data": {
            "text/html": [
              "<div>\n",
              "<style scoped>\n",
              "    .dataframe tbody tr th:only-of-type {\n",
              "        vertical-align: middle;\n",
              "    }\n",
              "\n",
              "    .dataframe tbody tr th {\n",
              "        vertical-align: top;\n",
              "    }\n",
              "\n",
              "    .dataframe thead th {\n",
              "        text-align: right;\n",
              "    }\n",
              "</style>\n",
              "<table border=\"1\" class=\"dataframe\">\n",
              "  <thead>\n",
              "    <tr style=\"text-align: right;\">\n",
              "      <th></th>\n",
              "      <th>id1</th>\n",
              "      <th>Description1</th>\n",
              "      <th>id2</th>\n",
              "      <th>Description2</th>\n",
              "      <th>Type of dependency</th>\n",
              "    </tr>\n",
              "  </thead>\n",
              "  <tbody>\n",
              "    <tr>\n",
              "      <th>0</th>\n",
              "      <td>15628</td>\n",
              "      <td>Hi,\\r\\n\\r\\nThis is not really bug but more o...</td>\n",
              "      <td>17525</td>\n",
              "      <td>https://github.com/ruby/ruby/pull/4038\\r\\n\\r\\n...</td>\n",
              "      <td>relates</td>\n",
              "    </tr>\n",
              "    <tr>\n",
              "      <th>1</th>\n",
              "      <td>15743</td>\n",
              "      <td>My understanding is that `RubyVM` is suppose...</td>\n",
              "      <td>17500</td>\n",
              "      <td>`RubyVM` is a trap:\\r\\n* Users will think from...</td>\n",
              "      <td>relates</td>\n",
              "    </tr>\n",
              "    <tr>\n",
              "      <th>2</th>\n",
              "      <td>15752</td>\n",
              "      <td>I believe we should introduce a module for e...</td>\n",
              "      <td>17500</td>\n",
              "      <td>`RubyVM` is a trap:\\r\\n* Users will think from...</td>\n",
              "      <td>relates</td>\n",
              "    </tr>\n",
              "    <tr>\n",
              "      <th>3</th>\n",
              "      <td>17496</td>\n",
              "      <td>Excuse me if this has been brought up before.\\...</td>\n",
              "      <td>4897</td>\n",
              "      <td>Firstly please read the Tau Manifesto at htt...</td>\n",
              "      <td>duplicates</td>\n",
              "    </tr>\n",
              "    <tr>\n",
              "      <th>4</th>\n",
              "      <td>8804</td>\n",
              "      <td>How about to introduce ONCE{...} syntax whic...</td>\n",
              "      <td>17474</td>\n",
              "      <td>Ruby has borrowed concepts/idioms from allot o...</td>\n",
              "      <td>relates</td>\n",
              "    </tr>\n",
              "  </tbody>\n",
              "</table>\n",
              "</div>"
            ],
            "text/plain": [
              "     id1  ... Type of dependency\n",
              "0  15628  ...            relates\n",
              "1  15743  ...            relates\n",
              "2  15752  ...            relates\n",
              "3  17496  ...         duplicates\n",
              "4   8804  ...            relates\n",
              "\n",
              "[5 rows x 5 columns]"
            ]
          },
          "metadata": {
            "tags": []
          },
          "execution_count": 14
        }
      ]
    },
    {
      "cell_type": "code",
      "metadata": {
        "colab": {
          "base_uri": "https://localhost:8080/"
        },
        "id": "7UjDUyMZQAfL",
        "outputId": "a3fbaef5-008c-4795-dd39-23e915a01e0a"
      },
      "source": [
        "print(df1.shape)\n",
        "print(df1.isnull().sum())"
      ],
      "execution_count": null,
      "outputs": [
        {
          "output_type": "stream",
          "text": [
            "(1220, 5)\n",
            "id1                   0\n",
            "Description1          0\n",
            "id2                   0\n",
            "Description2          0\n",
            "Type of dependency    0\n",
            "dtype: int64\n"
          ],
          "name": "stdout"
        }
      ]
    },
    {
      "cell_type": "code",
      "metadata": {
        "colab": {
          "base_uri": "https://localhost:8080/"
        },
        "id": "XESTaCgZQDL6",
        "outputId": "9afa1bd0-b006-4ba0-9a05-c2267b99122f"
      },
      "source": [
        "# Sentence length analysis\n",
        "q1 = []\n",
        "q = df1['Description1']\n",
        "p = df1['Description2']\n",
        "for i in range(len(q)):\n",
        "  if len(q[i])<5:\n",
        "    q1.append(i)\n",
        "for i in range(len(p)):\n",
        "  if len(p[i])<5:\n",
        "    q1.append(i)\n",
        "\n",
        "print(q1) \n",
        "df1.drop(q1,inplace = True)\n",
        "df1 = df1.reset_index(drop = True)"
      ],
      "execution_count": null,
      "outputs": [
        {
          "output_type": "stream",
          "text": [
            "[]\n"
          ],
          "name": "stdout"
        }
      ]
    },
    {
      "cell_type": "code",
      "metadata": {
        "colab": {
          "base_uri": "https://localhost:8080/",
          "height": 204
        },
        "id": "XUlakSTRQKTY",
        "outputId": "51f51d1e-1bc8-47d1-e440-26250f6da4f6"
      },
      "source": [
        "df1.head()"
      ],
      "execution_count": null,
      "outputs": [
        {
          "output_type": "execute_result",
          "data": {
            "text/html": [
              "<div>\n",
              "<style scoped>\n",
              "    .dataframe tbody tr th:only-of-type {\n",
              "        vertical-align: middle;\n",
              "    }\n",
              "\n",
              "    .dataframe tbody tr th {\n",
              "        vertical-align: top;\n",
              "    }\n",
              "\n",
              "    .dataframe thead th {\n",
              "        text-align: right;\n",
              "    }\n",
              "</style>\n",
              "<table border=\"1\" class=\"dataframe\">\n",
              "  <thead>\n",
              "    <tr style=\"text-align: right;\">\n",
              "      <th></th>\n",
              "      <th>id1</th>\n",
              "      <th>Description1</th>\n",
              "      <th>id2</th>\n",
              "      <th>Description2</th>\n",
              "      <th>Type of dependency</th>\n",
              "    </tr>\n",
              "  </thead>\n",
              "  <tbody>\n",
              "    <tr>\n",
              "      <th>0</th>\n",
              "      <td>15628</td>\n",
              "      <td>Hi,\\r\\n\\r\\nThis is not really bug but more o...</td>\n",
              "      <td>17525</td>\n",
              "      <td>https://github.com/ruby/ruby/pull/4038\\r\\n\\r\\n...</td>\n",
              "      <td>relates</td>\n",
              "    </tr>\n",
              "    <tr>\n",
              "      <th>1</th>\n",
              "      <td>15743</td>\n",
              "      <td>My understanding is that `RubyVM` is suppose...</td>\n",
              "      <td>17500</td>\n",
              "      <td>`RubyVM` is a trap:\\r\\n* Users will think from...</td>\n",
              "      <td>relates</td>\n",
              "    </tr>\n",
              "    <tr>\n",
              "      <th>2</th>\n",
              "      <td>15752</td>\n",
              "      <td>I believe we should introduce a module for e...</td>\n",
              "      <td>17500</td>\n",
              "      <td>`RubyVM` is a trap:\\r\\n* Users will think from...</td>\n",
              "      <td>relates</td>\n",
              "    </tr>\n",
              "    <tr>\n",
              "      <th>3</th>\n",
              "      <td>17496</td>\n",
              "      <td>Excuse me if this has been brought up before.\\...</td>\n",
              "      <td>4897</td>\n",
              "      <td>Firstly please read the Tau Manifesto at htt...</td>\n",
              "      <td>duplicates</td>\n",
              "    </tr>\n",
              "    <tr>\n",
              "      <th>4</th>\n",
              "      <td>8804</td>\n",
              "      <td>How about to introduce ONCE{...} syntax whic...</td>\n",
              "      <td>17474</td>\n",
              "      <td>Ruby has borrowed concepts/idioms from allot o...</td>\n",
              "      <td>relates</td>\n",
              "    </tr>\n",
              "  </tbody>\n",
              "</table>\n",
              "</div>"
            ],
            "text/plain": [
              "     id1  ... Type of dependency\n",
              "0  15628  ...            relates\n",
              "1  15743  ...            relates\n",
              "2  15752  ...            relates\n",
              "3  17496  ...         duplicates\n",
              "4   8804  ...            relates\n",
              "\n",
              "[5 rows x 5 columns]"
            ]
          },
          "metadata": {
            "tags": []
          },
          "execution_count": 17
        }
      ]
    },
    {
      "cell_type": "code",
      "metadata": {
        "colab": {
          "base_uri": "https://localhost:8080/"
        },
        "id": "_UJJNksJQLNc",
        "outputId": "520de194-b4a1-4584-a020-9b8ed5a092bd"
      },
      "source": [
        "print(df1.shape)\n",
        "print(df1.isnull().sum())\n",
        "print(df1['Type of dependency'].value_counts())"
      ],
      "execution_count": null,
      "outputs": [
        {
          "output_type": "stream",
          "text": [
            "(1220, 5)\n",
            "id1                   0\n",
            "Description1          0\n",
            "id2                   0\n",
            "Description2          0\n",
            "Type of dependency    0\n",
            "dtype: int64\n",
            "relates       902\n",
            "duplicates    284\n",
            "blocks         22\n",
            "precedes        8\n",
            "copied_to       4\n",
            "Name: Type of dependency, dtype: int64\n"
          ],
          "name": "stdout"
        }
      ]
    },
    {
      "cell_type": "code",
      "metadata": {
        "id": "vmmlS3FbQNpM"
      },
      "source": [
        "#df1.to_csv('/content/drive/MyDrive/SENG 607/Ruby/Ruby_Pos.csv')"
      ],
      "execution_count": null,
      "outputs": []
    },
    {
      "cell_type": "markdown",
      "metadata": {
        "id": "p9Pq7lFQQgOv"
      },
      "source": [
        "Creating Independent Pairs"
      ]
    },
    {
      "cell_type": "code",
      "metadata": {
        "colab": {
          "base_uri": "https://localhost:8080/",
          "height": 204
        },
        "id": "gyJ4xtk1Qil4",
        "outputId": "97df34ae-f8f6-45c9-a39c-0da8b4416288"
      },
      "source": [
        "df2 = pd.read_csv('/content/drive/MyDrive/SENG 607/Ruby/processedData_Ruby.csv')\n",
        "df2.drop(['Unnamed: 0','Project','created_on','status','subject','tracker'],inplace=True,axis=1)\n",
        "df2.dropna(subset=['desc'],inplace=True)\n",
        "df2.head()"
      ],
      "execution_count": null,
      "outputs": [
        {
          "output_type": "execute_result",
          "data": {
            "text/html": [
              "<div>\n",
              "<style scoped>\n",
              "    .dataframe tbody tr th:only-of-type {\n",
              "        vertical-align: middle;\n",
              "    }\n",
              "\n",
              "    .dataframe tbody tr th {\n",
              "        vertical-align: top;\n",
              "    }\n",
              "\n",
              "    .dataframe thead th {\n",
              "        text-align: right;\n",
              "    }\n",
              "</style>\n",
              "<table border=\"1\" class=\"dataframe\">\n",
              "  <thead>\n",
              "    <tr style=\"text-align: right;\">\n",
              "      <th></th>\n",
              "      <th>dependencies</th>\n",
              "      <th>desc</th>\n",
              "      <th>id</th>\n",
              "      <th>relationCount</th>\n",
              "    </tr>\n",
              "  </thead>\n",
              "  <tbody>\n",
              "    <tr>\n",
              "      <th>0</th>\n",
              "      <td>NaN</td>\n",
              "      <td>Pattern Matching is a very powerful feature, b...</td>\n",
              "      <td>17551</td>\n",
              "      <td>0</td>\n",
              "    </tr>\n",
              "    <tr>\n",
              "      <th>1</th>\n",
              "      <td>NaN</td>\n",
              "      <td>Googling around, this seems to be a relatively...</td>\n",
              "      <td>17550</td>\n",
              "      <td>0</td>\n",
              "    </tr>\n",
              "    <tr>\n",
              "      <th>2</th>\n",
              "      <td>NaN</td>\n",
              "      <td>I would like to suggest that Ruby provide a si...</td>\n",
              "      <td>17548</td>\n",
              "      <td>0</td>\n",
              "    </tr>\n",
              "    <tr>\n",
              "      <th>3</th>\n",
              "      <td>NaN</td>\n",
              "      <td>The RISC-V architecture is getting more and mo...</td>\n",
              "      <td>17546</td>\n",
              "      <td>0</td>\n",
              "    </tr>\n",
              "    <tr>\n",
              "      <th>4</th>\n",
              "      <td>NaN</td>\n",
              "      <td>In RFC 3339, -00:00 is used for the time in UT...</td>\n",
              "      <td>17544</td>\n",
              "      <td>0</td>\n",
              "    </tr>\n",
              "  </tbody>\n",
              "</table>\n",
              "</div>"
            ],
            "text/plain": [
              "  dependencies  ... relationCount\n",
              "0          NaN  ...             0\n",
              "1          NaN  ...             0\n",
              "2          NaN  ...             0\n",
              "3          NaN  ...             0\n",
              "4          NaN  ...             0\n",
              "\n",
              "[5 rows x 4 columns]"
            ]
          },
          "metadata": {
            "tags": []
          },
          "execution_count": 20
        }
      ]
    },
    {
      "cell_type": "code",
      "metadata": {
        "colab": {
          "base_uri": "https://localhost:8080/"
        },
        "id": "f_AuoTtbQ_Lv",
        "outputId": "9466333f-6f31-4256-855d-adbaaaf6466e"
      },
      "source": [
        "df2['relationCount'].value_counts()"
      ],
      "execution_count": null,
      "outputs": [
        {
          "output_type": "execute_result",
          "data": {
            "text/plain": [
              "0     2593\n",
              "1      665\n",
              "2      213\n",
              "3       69\n",
              "4       26\n",
              "5       13\n",
              "6        9\n",
              "7        3\n",
              "27       1\n",
              "23       1\n",
              "13       1\n",
              "8        1\n",
              "Name: relationCount, dtype: int64"
            ]
          },
          "metadata": {
            "tags": []
          },
          "execution_count": 22
        }
      ]
    },
    {
      "cell_type": "code",
      "metadata": {
        "id": "FIbTVQG5RCdG"
      },
      "source": [
        "i1 = []\n",
        "i2 = []\n",
        "d1 = []\n",
        "d2 = []\n",
        "\n",
        "n = df2[df2['relationCount']==0]['id'].values\n",
        "\n",
        "for i in range(10000):\n",
        "  d = np.random.choice(n,size=2)\n",
        "  i1.append(d[0])\n",
        "  i2.append(d[1])\n",
        "\n",
        "  c = df2[df2['id']==d[0]]['desc'].to_string()          # For extracting description wrt to each id\n",
        "  c1 = df2[df2['id']==d[1]]['desc'].to_string()\n",
        "  d1.append(c[5:])\n",
        "  d2.append(c1[5:])"
      ],
      "execution_count": null,
      "outputs": []
    },
    {
      "cell_type": "code",
      "metadata": {
        "colab": {
          "base_uri": "https://localhost:8080/",
          "height": 204
        },
        "id": "9zvpZNDFRRTO",
        "outputId": "bd1fd612-100a-4609-d9fc-17dd36627838"
      },
      "source": [
        "df3 = pd.DataFrame({'id1':i1,'Description1':d1,'id2':i2,'Description2':d2})\n",
        "df3.head()"
      ],
      "execution_count": null,
      "outputs": [
        {
          "output_type": "execute_result",
          "data": {
            "text/html": [
              "<div>\n",
              "<style scoped>\n",
              "    .dataframe tbody tr th:only-of-type {\n",
              "        vertical-align: middle;\n",
              "    }\n",
              "\n",
              "    .dataframe tbody tr th {\n",
              "        vertical-align: top;\n",
              "    }\n",
              "\n",
              "    .dataframe thead th {\n",
              "        text-align: right;\n",
              "    }\n",
              "</style>\n",
              "<table border=\"1\" class=\"dataframe\">\n",
              "  <thead>\n",
              "    <tr style=\"text-align: right;\">\n",
              "      <th></th>\n",
              "      <th>id1</th>\n",
              "      <th>Description1</th>\n",
              "      <th>id2</th>\n",
              "      <th>Description2</th>\n",
              "    </tr>\n",
              "  </thead>\n",
              "  <tbody>\n",
              "    <tr>\n",
              "      <th>0</th>\n",
              "      <td>10318</td>\n",
              "      <td>I’m so sorry for just proposing this future...</td>\n",
              "      <td>15974</td>\n",
              "      <td>There's a really common mistake people make ...</td>\n",
              "    </tr>\n",
              "    <tr>\n",
              "      <th>1</th>\n",
              "      <td>6521</td>\n",
              "      <td>I've added a patch to cover Kernel module d...</td>\n",
              "      <td>13801</td>\n",
              "      <td>In keeping with other class semantics, Set s...</td>\n",
              "    </tr>\n",
              "    <tr>\n",
              "      <th>2</th>\n",
              "      <td>5692</td>\n",
              "      <td>I am getting errors in msg_att and it would...</td>\n",
              "      <td>12350</td>\n",
              "      <td>It would be great to have some function (li...</td>\n",
              "    </tr>\n",
              "    <tr>\n",
              "      <th>3</th>\n",
              "      <td>3627</td>\n",
              "      <td>=begin\\n catchとthrowで、ネストを飛び越えたbreakのようなことが...</td>\n",
              "      <td>2833</td>\n",
              "      <td>=begin\\n 絵文字に対応したエンコーディングを実装しました。\\r\\n これらを ...</td>\n",
              "    </tr>\n",
              "    <tr>\n",
              "      <th>4</th>\n",
              "      <td>15982</td>\n",
              "      <td>The y2racc and racc2y are not available upst...</td>\n",
              "      <td>13544</td>\n",
              "      <td>Currently the only way to load an Instructi...</td>\n",
              "    </tr>\n",
              "  </tbody>\n",
              "</table>\n",
              "</div>"
            ],
            "text/plain": [
              "     id1  ...                                       Description2\n",
              "0  10318  ...    There's a really common mistake people make ...\n",
              "1   6521  ...    In keeping with other class semantics, Set s...\n",
              "2   5692  ...     It would be great to have some function (li...\n",
              "3   3627  ...     =begin\\n 絵文字に対応したエンコーディングを実装しました。\\r\\n これらを ...\n",
              "4  15982  ...     Currently the only way to load an Instructi...\n",
              "\n",
              "[5 rows x 4 columns]"
            ]
          },
          "metadata": {
            "tags": []
          },
          "execution_count": 24
        }
      ]
    },
    {
      "cell_type": "code",
      "metadata": {
        "colab": {
          "base_uri": "https://localhost:8080/",
          "height": 221
        },
        "id": "FVIXHYZmRRvc",
        "outputId": "4cd037bd-084b-48c8-c176-2a29032b6e17"
      },
      "source": [
        "def ext(x):\n",
        "  return 'independent'\n",
        "df3['Type of dependency'] = df3['id1'].apply(ext)\n",
        "df3.head()"
      ],
      "execution_count": null,
      "outputs": [
        {
          "output_type": "execute_result",
          "data": {
            "text/html": [
              "<div>\n",
              "<style scoped>\n",
              "    .dataframe tbody tr th:only-of-type {\n",
              "        vertical-align: middle;\n",
              "    }\n",
              "\n",
              "    .dataframe tbody tr th {\n",
              "        vertical-align: top;\n",
              "    }\n",
              "\n",
              "    .dataframe thead th {\n",
              "        text-align: right;\n",
              "    }\n",
              "</style>\n",
              "<table border=\"1\" class=\"dataframe\">\n",
              "  <thead>\n",
              "    <tr style=\"text-align: right;\">\n",
              "      <th></th>\n",
              "      <th>id1</th>\n",
              "      <th>Description1</th>\n",
              "      <th>id2</th>\n",
              "      <th>Description2</th>\n",
              "      <th>Type of dependency</th>\n",
              "    </tr>\n",
              "  </thead>\n",
              "  <tbody>\n",
              "    <tr>\n",
              "      <th>0</th>\n",
              "      <td>10318</td>\n",
              "      <td>I’m so sorry for just proposing this future...</td>\n",
              "      <td>15974</td>\n",
              "      <td>There's a really common mistake people make ...</td>\n",
              "      <td>independent</td>\n",
              "    </tr>\n",
              "    <tr>\n",
              "      <th>1</th>\n",
              "      <td>6521</td>\n",
              "      <td>I've added a patch to cover Kernel module d...</td>\n",
              "      <td>13801</td>\n",
              "      <td>In keeping with other class semantics, Set s...</td>\n",
              "      <td>independent</td>\n",
              "    </tr>\n",
              "    <tr>\n",
              "      <th>2</th>\n",
              "      <td>5692</td>\n",
              "      <td>I am getting errors in msg_att and it would...</td>\n",
              "      <td>12350</td>\n",
              "      <td>It would be great to have some function (li...</td>\n",
              "      <td>independent</td>\n",
              "    </tr>\n",
              "    <tr>\n",
              "      <th>3</th>\n",
              "      <td>3627</td>\n",
              "      <td>=begin\\n catchとthrowで、ネストを飛び越えたbreakのようなことが...</td>\n",
              "      <td>2833</td>\n",
              "      <td>=begin\\n 絵文字に対応したエンコーディングを実装しました。\\r\\n これらを ...</td>\n",
              "      <td>independent</td>\n",
              "    </tr>\n",
              "    <tr>\n",
              "      <th>4</th>\n",
              "      <td>15982</td>\n",
              "      <td>The y2racc and racc2y are not available upst...</td>\n",
              "      <td>13544</td>\n",
              "      <td>Currently the only way to load an Instructi...</td>\n",
              "      <td>independent</td>\n",
              "    </tr>\n",
              "  </tbody>\n",
              "</table>\n",
              "</div>"
            ],
            "text/plain": [
              "     id1  ... Type of dependency\n",
              "0  10318  ...        independent\n",
              "1   6521  ...        independent\n",
              "2   5692  ...        independent\n",
              "3   3627  ...        independent\n",
              "4  15982  ...        independent\n",
              "\n",
              "[5 rows x 5 columns]"
            ]
          },
          "metadata": {
            "tags": []
          },
          "execution_count": 25
        }
      ]
    },
    {
      "cell_type": "code",
      "metadata": {
        "colab": {
          "base_uri": "https://localhost:8080/"
        },
        "id": "WCj5wjzuRYGQ",
        "outputId": "4586effb-1864-4090-8b24-ad5a08ed5bc2"
      },
      "source": [
        "# Sentence length analysis\n",
        "q1 = []\n",
        "q2 = []\n",
        "q = df3['Description1']\n",
        "p = df3['Description2']\n",
        "for i in range(len(q)):\n",
        "  if len(q[i])<5:\n",
        "    q1.append(i)\n",
        "for i in range(len(p)):\n",
        "  if len(p[i])<5:\n",
        "    q2.append(i)\n",
        "\n",
        "print(q1)\n",
        "print(q2)\n",
        "\n",
        "w = list(set(q1+q2))\n",
        "df3.drop(w,inplace=True)\n",
        "df3 = df3.reset_index(drop=True)    "
      ],
      "execution_count": null,
      "outputs": [
        {
          "output_type": "stream",
          "text": [
            "[]\n",
            "[]\n"
          ],
          "name": "stdout"
        }
      ]
    },
    {
      "cell_type": "code",
      "metadata": {
        "colab": {
          "base_uri": "https://localhost:8080/",
          "height": 221
        },
        "id": "bLtXQLsZRayt",
        "outputId": "9f478efb-4b9d-41db-a755-5213833ca459"
      },
      "source": [
        "df3.head()"
      ],
      "execution_count": null,
      "outputs": [
        {
          "output_type": "execute_result",
          "data": {
            "text/html": [
              "<div>\n",
              "<style scoped>\n",
              "    .dataframe tbody tr th:only-of-type {\n",
              "        vertical-align: middle;\n",
              "    }\n",
              "\n",
              "    .dataframe tbody tr th {\n",
              "        vertical-align: top;\n",
              "    }\n",
              "\n",
              "    .dataframe thead th {\n",
              "        text-align: right;\n",
              "    }\n",
              "</style>\n",
              "<table border=\"1\" class=\"dataframe\">\n",
              "  <thead>\n",
              "    <tr style=\"text-align: right;\">\n",
              "      <th></th>\n",
              "      <th>id1</th>\n",
              "      <th>Description1</th>\n",
              "      <th>id2</th>\n",
              "      <th>Description2</th>\n",
              "      <th>Type of dependency</th>\n",
              "    </tr>\n",
              "  </thead>\n",
              "  <tbody>\n",
              "    <tr>\n",
              "      <th>0</th>\n",
              "      <td>10318</td>\n",
              "      <td>I’m so sorry for just proposing this future...</td>\n",
              "      <td>15974</td>\n",
              "      <td>There's a really common mistake people make ...</td>\n",
              "      <td>independent</td>\n",
              "    </tr>\n",
              "    <tr>\n",
              "      <th>1</th>\n",
              "      <td>6521</td>\n",
              "      <td>I've added a patch to cover Kernel module d...</td>\n",
              "      <td>13801</td>\n",
              "      <td>In keeping with other class semantics, Set s...</td>\n",
              "      <td>independent</td>\n",
              "    </tr>\n",
              "    <tr>\n",
              "      <th>2</th>\n",
              "      <td>5692</td>\n",
              "      <td>I am getting errors in msg_att and it would...</td>\n",
              "      <td>12350</td>\n",
              "      <td>It would be great to have some function (li...</td>\n",
              "      <td>independent</td>\n",
              "    </tr>\n",
              "    <tr>\n",
              "      <th>3</th>\n",
              "      <td>3627</td>\n",
              "      <td>=begin\\n catchとthrowで、ネストを飛び越えたbreakのようなことが...</td>\n",
              "      <td>2833</td>\n",
              "      <td>=begin\\n 絵文字に対応したエンコーディングを実装しました。\\r\\n これらを ...</td>\n",
              "      <td>independent</td>\n",
              "    </tr>\n",
              "    <tr>\n",
              "      <th>4</th>\n",
              "      <td>15982</td>\n",
              "      <td>The y2racc and racc2y are not available upst...</td>\n",
              "      <td>13544</td>\n",
              "      <td>Currently the only way to load an Instructi...</td>\n",
              "      <td>independent</td>\n",
              "    </tr>\n",
              "  </tbody>\n",
              "</table>\n",
              "</div>"
            ],
            "text/plain": [
              "     id1  ... Type of dependency\n",
              "0  10318  ...        independent\n",
              "1   6521  ...        independent\n",
              "2   5692  ...        independent\n",
              "3   3627  ...        independent\n",
              "4  15982  ...        independent\n",
              "\n",
              "[5 rows x 5 columns]"
            ]
          },
          "metadata": {
            "tags": []
          },
          "execution_count": 27
        }
      ]
    },
    {
      "cell_type": "code",
      "metadata": {
        "colab": {
          "base_uri": "https://localhost:8080/"
        },
        "id": "_TAe99foRc8j",
        "outputId": "dc21176b-cff3-4514-a6d2-1e2d54ed8dd3"
      },
      "source": [
        "print(df3.shape)\n",
        "print(df3.isnull().sum())"
      ],
      "execution_count": null,
      "outputs": [
        {
          "output_type": "stream",
          "text": [
            "(10000, 5)\n",
            "id1                   0\n",
            "Description1          0\n",
            "id2                   0\n",
            "Description2          0\n",
            "Type of dependency    0\n",
            "dtype: int64\n"
          ],
          "name": "stdout"
        }
      ]
    },
    {
      "cell_type": "code",
      "metadata": {
        "id": "P-_-84uhRgEV"
      },
      "source": [
        "#df3.to_csv('/content/drive/MyDrive/SENG 607/Ruby/Ruby_Neg.csv')"
      ],
      "execution_count": null,
      "outputs": []
    },
    {
      "cell_type": "markdown",
      "metadata": {
        "id": "72-iqGakT_2K"
      },
      "source": [
        "Processed Dependent Pairs"
      ]
    },
    {
      "cell_type": "code",
      "metadata": {
        "colab": {
          "base_uri": "https://localhost:8080/",
          "height": 204
        },
        "id": "2zF4NNq-UCMU",
        "outputId": "fcdfc42e-e230-4106-8077-1bdd43c4183c"
      },
      "source": [
        "df4 = pd.read_csv('/content/drive/MyDrive/SENG 607/Ruby/Ruby_Processed_Pos_init.csv')\n",
        "df4.drop(['Unnamed: 0'],axis=1,inplace=True)\n",
        "df4.head()"
      ],
      "execution_count": null,
      "outputs": [
        {
          "output_type": "execute_result",
          "data": {
            "text/html": [
              "<div>\n",
              "<style scoped>\n",
              "    .dataframe tbody tr th:only-of-type {\n",
              "        vertical-align: middle;\n",
              "    }\n",
              "\n",
              "    .dataframe tbody tr th {\n",
              "        vertical-align: top;\n",
              "    }\n",
              "\n",
              "    .dataframe thead th {\n",
              "        text-align: right;\n",
              "    }\n",
              "</style>\n",
              "<table border=\"1\" class=\"dataframe\">\n",
              "  <thead>\n",
              "    <tr style=\"text-align: right;\">\n",
              "      <th></th>\n",
              "      <th>id1</th>\n",
              "      <th>Description1</th>\n",
              "      <th>id2</th>\n",
              "      <th>Description2</th>\n",
              "      <th>Type of dependency</th>\n",
              "    </tr>\n",
              "  </thead>\n",
              "  <tbody>\n",
              "    <tr>\n",
              "      <th>0</th>\n",
              "      <td>15628</td>\n",
              "      <td>hirnrnthis really bug</td>\n",
              "      <td>17525</td>\n",
              "      <td>NaN</td>\n",
              "      <td>relates</td>\n",
              "    </tr>\n",
              "    <tr>\n",
              "      <th>1</th>\n",
              "      <td>15743</td>\n",
              "      <td>understanding rubyvm supposed</td>\n",
              "      <td>17500</td>\n",
              "      <td>rubyvm traprn user think</td>\n",
              "      <td>relates</td>\n",
              "    </tr>\n",
              "    <tr>\n",
              "      <th>2</th>\n",
              "      <td>15752</td>\n",
              "      <td>believe introduce module exp</td>\n",
              "      <td>17500</td>\n",
              "      <td>rubyvm traprn user think</td>\n",
              "      <td>relates</td>\n",
              "    </tr>\n",
              "    <tr>\n",
              "      <th>3</th>\n",
              "      <td>17496</td>\n",
              "      <td>excuse brought</td>\n",
              "      <td>4897</td>\n",
              "      <td>firstly please read tau manifesto</td>\n",
              "      <td>duplicates</td>\n",
              "    </tr>\n",
              "    <tr>\n",
              "      <th>4</th>\n",
              "      <td>8804</td>\n",
              "      <td>introduce syntax</td>\n",
              "      <td>17474</td>\n",
              "      <td>ruby borrowed conceptsidioms allot</td>\n",
              "      <td>relates</td>\n",
              "    </tr>\n",
              "  </tbody>\n",
              "</table>\n",
              "</div>"
            ],
            "text/plain": [
              "     id1  ... Type of dependency\n",
              "0  15628  ...            relates\n",
              "1  15743  ...            relates\n",
              "2  15752  ...            relates\n",
              "3  17496  ...         duplicates\n",
              "4   8804  ...            relates\n",
              "\n",
              "[5 rows x 5 columns]"
            ]
          },
          "metadata": {
            "tags": []
          },
          "execution_count": 30
        }
      ]
    },
    {
      "cell_type": "code",
      "metadata": {
        "colab": {
          "base_uri": "https://localhost:8080/"
        },
        "id": "ooZ8DlxJUrsp",
        "outputId": "362ba472-51ca-4075-8169-57e216384cc2"
      },
      "source": [
        "df4.isnull().sum()"
      ],
      "execution_count": null,
      "outputs": [
        {
          "output_type": "execute_result",
          "data": {
            "text/plain": [
              "id1                    0\n",
              "Description1           6\n",
              "id2                    0\n",
              "Description2          20\n",
              "Type of dependency     0\n",
              "dtype: int64"
            ]
          },
          "metadata": {
            "tags": []
          },
          "execution_count": 31
        }
      ]
    },
    {
      "cell_type": "code",
      "metadata": {
        "id": "M-hLwjrpUzyr"
      },
      "source": [
        "df4.dropna(inplace=True)\n",
        "df4 = df4.reset_index(drop=True)"
      ],
      "execution_count": null,
      "outputs": []
    },
    {
      "cell_type": "code",
      "metadata": {
        "colab": {
          "base_uri": "https://localhost:8080/"
        },
        "id": "kciSPAtUU3uA",
        "outputId": "b8d339a7-a9bc-4f9f-8bed-f9b2908dd51a"
      },
      "source": [
        "y1,y2 = [],[]\n",
        "y = df4['Description1']\n",
        "z = df4['Description2']\n",
        "for i in range(len(y)):\n",
        "  q = y[i].split(' ')\n",
        "  if len(q) <2:\n",
        "    y1.append(i)\n",
        "for i in range(len(y)):\n",
        "  q1 = z[i].split(' ')\n",
        "  if len(q1) <2:\n",
        "    y2.append(i)\n",
        "print(len(y1))\n",
        "print(len(y2))\n",
        "q2 = list(set(y1+y2))\n",
        "df4.drop(q2,inplace=True)\n",
        "df4 = df4.reset_index(drop=True)"
      ],
      "execution_count": null,
      "outputs": [
        {
          "output_type": "stream",
          "text": [
            "32\n",
            "38\n"
          ],
          "name": "stdout"
        }
      ]
    },
    {
      "cell_type": "code",
      "metadata": {
        "colab": {
          "base_uri": "https://localhost:8080/"
        },
        "id": "R6zReKTccdUt",
        "outputId": "f44b4ddd-094f-4926-9128-febbabd9b392"
      },
      "source": [
        "def isEnglish(s):\n",
        "  return s.isascii()\n",
        "\n",
        "a1 , a2 = [] , []\n",
        "a = df4['Description1'].values\n",
        "b = df4['Description2'].values\n",
        "\n",
        "for i in range(len(a)):\n",
        "  if isEnglish(a[i])==False:\n",
        "    a1.append(i)\n",
        "for j in range(len(b)):\n",
        "  if isEnglish(b[j])==False:\n",
        "    a2.append(j)\n",
        "\n",
        "print(len(a1))\n",
        "print(len(a2))\n",
        "a3 = list(set(a1+a2))\n",
        "print(len(a3))\n",
        "\n",
        "df4.drop(a3,inplace=True)\n",
        "df4 = df4.reset_index(drop=True)"
      ],
      "execution_count": null,
      "outputs": [
        {
          "output_type": "stream",
          "text": [
            "26\n",
            "54\n",
            "74\n"
          ],
          "name": "stdout"
        }
      ]
    },
    {
      "cell_type": "markdown",
      "metadata": {
        "id": "TTsm8h5VVGMq"
      },
      "source": [
        "Final Processed Dependent"
      ]
    },
    {
      "cell_type": "code",
      "metadata": {
        "colab": {
          "base_uri": "https://localhost:8080/",
          "height": 204
        },
        "id": "CZ5CcfEsVHxv",
        "outputId": "ba4f3bb0-e6cd-4b3c-e2d6-f3707ca1ac0c"
      },
      "source": [
        "df4.head()"
      ],
      "execution_count": null,
      "outputs": [
        {
          "output_type": "execute_result",
          "data": {
            "text/html": [
              "<div>\n",
              "<style scoped>\n",
              "    .dataframe tbody tr th:only-of-type {\n",
              "        vertical-align: middle;\n",
              "    }\n",
              "\n",
              "    .dataframe tbody tr th {\n",
              "        vertical-align: top;\n",
              "    }\n",
              "\n",
              "    .dataframe thead th {\n",
              "        text-align: right;\n",
              "    }\n",
              "</style>\n",
              "<table border=\"1\" class=\"dataframe\">\n",
              "  <thead>\n",
              "    <tr style=\"text-align: right;\">\n",
              "      <th></th>\n",
              "      <th>id1</th>\n",
              "      <th>Description1</th>\n",
              "      <th>id2</th>\n",
              "      <th>Description2</th>\n",
              "      <th>Type of dependency</th>\n",
              "    </tr>\n",
              "  </thead>\n",
              "  <tbody>\n",
              "    <tr>\n",
              "      <th>0</th>\n",
              "      <td>15743</td>\n",
              "      <td>understanding rubyvm supposed</td>\n",
              "      <td>17500</td>\n",
              "      <td>rubyvm traprn user think</td>\n",
              "      <td>relates</td>\n",
              "    </tr>\n",
              "    <tr>\n",
              "      <th>1</th>\n",
              "      <td>15752</td>\n",
              "      <td>believe introduce module exp</td>\n",
              "      <td>17500</td>\n",
              "      <td>rubyvm traprn user think</td>\n",
              "      <td>relates</td>\n",
              "    </tr>\n",
              "    <tr>\n",
              "      <th>2</th>\n",
              "      <td>17496</td>\n",
              "      <td>excuse brought</td>\n",
              "      <td>4897</td>\n",
              "      <td>firstly please read tau manifesto</td>\n",
              "      <td>duplicates</td>\n",
              "    </tr>\n",
              "    <tr>\n",
              "      <th>3</th>\n",
              "      <td>8804</td>\n",
              "      <td>introduce syntax</td>\n",
              "      <td>17474</td>\n",
              "      <td>ruby borrowed conceptsidioms allot</td>\n",
              "      <td>relates</td>\n",
              "    </tr>\n",
              "    <tr>\n",
              "      <th>4</th>\n",
              "      <td>17273</td>\n",
              "      <td>proposal introduce shareable con</td>\n",
              "      <td>17397</td>\n",
              "      <td>think shareable constant value literal</td>\n",
              "      <td>relates</td>\n",
              "    </tr>\n",
              "  </tbody>\n",
              "</table>\n",
              "</div>"
            ],
            "text/plain": [
              "     id1  ... Type of dependency\n",
              "0  15743  ...            relates\n",
              "1  15752  ...            relates\n",
              "2  17496  ...         duplicates\n",
              "3   8804  ...            relates\n",
              "4  17273  ...            relates\n",
              "\n",
              "[5 rows x 5 columns]"
            ]
          },
          "metadata": {
            "tags": []
          },
          "execution_count": 75
        }
      ]
    },
    {
      "cell_type": "code",
      "metadata": {
        "colab": {
          "base_uri": "https://localhost:8080/"
        },
        "id": "vqFMlwLJVKaI",
        "outputId": "1a96d8ae-b745-495d-d37d-aa008e117b03"
      },
      "source": [
        "print(df4.shape)\n",
        "print(df4.isnull().sum())"
      ],
      "execution_count": null,
      "outputs": [
        {
          "output_type": "stream",
          "text": [
            "(1052, 5)\n",
            "id1                   0\n",
            "Description1          0\n",
            "id2                   0\n",
            "Description2          0\n",
            "Type of dependency    0\n",
            "dtype: int64\n"
          ],
          "name": "stdout"
        }
      ]
    },
    {
      "cell_type": "code",
      "metadata": {
        "colab": {
          "base_uri": "https://localhost:8080/"
        },
        "id": "yWlKwup4VMpo",
        "outputId": "514ab7ca-0d78-4314-939f-e9c06384609f"
      },
      "source": [
        "df4['Type of dependency'].value_counts()"
      ],
      "execution_count": null,
      "outputs": [
        {
          "output_type": "execute_result",
          "data": {
            "text/plain": [
              "relates       768\n",
              "duplicates    252\n",
              "blocks         20\n",
              "precedes        8\n",
              "copied_to       4\n",
              "Name: Type of dependency, dtype: int64"
            ]
          },
          "metadata": {
            "tags": []
          },
          "execution_count": 77
        }
      ]
    },
    {
      "cell_type": "code",
      "metadata": {
        "id": "XRKmVS43VOFm"
      },
      "source": [
        "#df4.to_csv('/content/drive/MyDrive/SENG 607/Ruby/Ruby_Processed_ALPos.csv')"
      ],
      "execution_count": null,
      "outputs": []
    },
    {
      "cell_type": "markdown",
      "metadata": {
        "id": "b-M79AQQVfoR"
      },
      "source": [
        "Processed independent Pairs"
      ]
    },
    {
      "cell_type": "code",
      "metadata": {
        "colab": {
          "base_uri": "https://localhost:8080/",
          "height": 204
        },
        "id": "ia7LIgi4ViSH",
        "outputId": "9d3e0e4b-6c20-4fca-adb3-7840b596854b"
      },
      "source": [
        "df5 = pd.read_csv('/content/drive/MyDrive/SENG 607/Ruby/Ruby_Processed_Neg_init.csv')\n",
        "df5.drop(['Unnamed: 0'],axis=1,inplace=True)\n",
        "df5.head()"
      ],
      "execution_count": null,
      "outputs": [
        {
          "output_type": "execute_result",
          "data": {
            "text/html": [
              "<div>\n",
              "<style scoped>\n",
              "    .dataframe tbody tr th:only-of-type {\n",
              "        vertical-align: middle;\n",
              "    }\n",
              "\n",
              "    .dataframe tbody tr th {\n",
              "        vertical-align: top;\n",
              "    }\n",
              "\n",
              "    .dataframe thead th {\n",
              "        text-align: right;\n",
              "    }\n",
              "</style>\n",
              "<table border=\"1\" class=\"dataframe\">\n",
              "  <thead>\n",
              "    <tr style=\"text-align: right;\">\n",
              "      <th></th>\n",
              "      <th>id1</th>\n",
              "      <th>Description1</th>\n",
              "      <th>id2</th>\n",
              "      <th>Description2</th>\n",
              "      <th>Type of dependency</th>\n",
              "    </tr>\n",
              "  </thead>\n",
              "  <tbody>\n",
              "    <tr>\n",
              "      <th>0</th>\n",
              "      <td>10318</td>\n",
              "      <td>im sorry proposing future wi</td>\n",
              "      <td>15974</td>\n",
              "      <td>there really common mistake people make wh</td>\n",
              "      <td>independent</td>\n",
              "    </tr>\n",
              "    <tr>\n",
              "      <th>1</th>\n",
              "      <td>6521</td>\n",
              "      <td>ive added patch cover kernel module docu</td>\n",
              "      <td>13801</td>\n",
              "      <td>keeping class semantics set sho</td>\n",
              "      <td>independent</td>\n",
              "    </tr>\n",
              "    <tr>\n",
              "      <th>2</th>\n",
              "      <td>5692</td>\n",
              "      <td>getting error msg att would</td>\n",
              "      <td>12350</td>\n",
              "      <td>would great function like</td>\n",
              "      <td>independent</td>\n",
              "    </tr>\n",
              "    <tr>\n",
              "      <th>3</th>\n",
              "      <td>3627</td>\n",
              "      <td>beginn catchとthrowでネストを飛び越えたbreakのようなことができる</td>\n",
              "      <td>2833</td>\n",
              "      <td>beginn 絵文字に対応したエンコーディングを実装しましたrn これらを</td>\n",
              "      <td>independent</td>\n",
              "    </tr>\n",
              "    <tr>\n",
              "      <th>4</th>\n",
              "      <td>15982</td>\n",
              "      <td>available upstre</td>\n",
              "      <td>13544</td>\n",
              "      <td>currently way load instruction</td>\n",
              "      <td>independent</td>\n",
              "    </tr>\n",
              "  </tbody>\n",
              "</table>\n",
              "</div>"
            ],
            "text/plain": [
              "     id1  ... Type of dependency\n",
              "0  10318  ...        independent\n",
              "1   6521  ...        independent\n",
              "2   5692  ...        independent\n",
              "3   3627  ...        independent\n",
              "4  15982  ...        independent\n",
              "\n",
              "[5 rows x 5 columns]"
            ]
          },
          "metadata": {
            "tags": []
          },
          "execution_count": 38
        }
      ]
    },
    {
      "cell_type": "code",
      "metadata": {
        "colab": {
          "base_uri": "https://localhost:8080/"
        },
        "id": "oY9pxbgRVuyp",
        "outputId": "a5bdbd14-1ed2-44de-dc5d-68c89d33bb09"
      },
      "source": [
        "df5.isnull().sum()"
      ],
      "execution_count": null,
      "outputs": [
        {
          "output_type": "execute_result",
          "data": {
            "text/plain": [
              "id1                     0\n",
              "Description1          112\n",
              "id2                     0\n",
              "Description2          107\n",
              "Type of dependency      0\n",
              "dtype: int64"
            ]
          },
          "metadata": {
            "tags": []
          },
          "execution_count": 39
        }
      ]
    },
    {
      "cell_type": "code",
      "metadata": {
        "id": "Y1Qf9rytVxyN"
      },
      "source": [
        "df5.dropna(inplace=True)\n",
        "df5 = df5.reset_index(drop=True)"
      ],
      "execution_count": null,
      "outputs": []
    },
    {
      "cell_type": "code",
      "metadata": {
        "colab": {
          "base_uri": "https://localhost:8080/"
        },
        "id": "Ln_jgU_tV0GW",
        "outputId": "76084e1b-e760-4614-c943-2526aab866ba"
      },
      "source": [
        "y1,y2 = [],[]\n",
        "y = df5['Description1']\n",
        "z = df5['Description2']\n",
        "for i in range(len(y)):\n",
        "  q = y[i].split(' ')\n",
        "  if len(q) <2:\n",
        "    y1.append(i)\n",
        "for i in range(len(y)):\n",
        "  q1 = z[i].split(' ')\n",
        "  if len(q1) <2:\n",
        "    y2.append(i)\n",
        "print(len(y1))\n",
        "print(len(y2))\n",
        "q2 = list(set(y1+y2))\n",
        "df5.drop(q2,inplace=True)\n",
        "df5 = df5.reset_index(drop=True)"
      ],
      "execution_count": null,
      "outputs": [
        {
          "output_type": "stream",
          "text": [
            "370\n",
            "374\n"
          ],
          "name": "stdout"
        }
      ]
    },
    {
      "cell_type": "code",
      "metadata": {
        "colab": {
          "base_uri": "https://localhost:8080/",
          "height": 359
        },
        "id": "L2z-AUm1V2vE",
        "outputId": "56423829-6ed6-4e03-a216-690ba17714dc"
      },
      "source": [
        "df5.head(10)"
      ],
      "execution_count": null,
      "outputs": [
        {
          "output_type": "execute_result",
          "data": {
            "text/html": [
              "<div>\n",
              "<style scoped>\n",
              "    .dataframe tbody tr th:only-of-type {\n",
              "        vertical-align: middle;\n",
              "    }\n",
              "\n",
              "    .dataframe tbody tr th {\n",
              "        vertical-align: top;\n",
              "    }\n",
              "\n",
              "    .dataframe thead th {\n",
              "        text-align: right;\n",
              "    }\n",
              "</style>\n",
              "<table border=\"1\" class=\"dataframe\">\n",
              "  <thead>\n",
              "    <tr style=\"text-align: right;\">\n",
              "      <th></th>\n",
              "      <th>id1</th>\n",
              "      <th>Description1</th>\n",
              "      <th>id2</th>\n",
              "      <th>Description2</th>\n",
              "      <th>Type of dependency</th>\n",
              "    </tr>\n",
              "  </thead>\n",
              "  <tbody>\n",
              "    <tr>\n",
              "      <th>0</th>\n",
              "      <td>10318</td>\n",
              "      <td>im sorry proposing future wi</td>\n",
              "      <td>15974</td>\n",
              "      <td>there really common mistake people make wh</td>\n",
              "      <td>independent</td>\n",
              "    </tr>\n",
              "    <tr>\n",
              "      <th>1</th>\n",
              "      <td>6521</td>\n",
              "      <td>ive added patch cover kernel module docu</td>\n",
              "      <td>13801</td>\n",
              "      <td>keeping class semantics set sho</td>\n",
              "      <td>independent</td>\n",
              "    </tr>\n",
              "    <tr>\n",
              "      <th>2</th>\n",
              "      <td>5692</td>\n",
              "      <td>getting error msg att would</td>\n",
              "      <td>12350</td>\n",
              "      <td>would great function like</td>\n",
              "      <td>independent</td>\n",
              "    </tr>\n",
              "    <tr>\n",
              "      <th>3</th>\n",
              "      <td>3627</td>\n",
              "      <td>beginn catchとthrowでネストを飛び越えたbreakのようなことができる</td>\n",
              "      <td>2833</td>\n",
              "      <td>beginn 絵文字に対応したエンコーディングを実装しましたrn これらを</td>\n",
              "      <td>independent</td>\n",
              "    </tr>\n",
              "    <tr>\n",
              "      <th>4</th>\n",
              "      <td>15982</td>\n",
              "      <td>available upstre</td>\n",
              "      <td>13544</td>\n",
              "      <td>currently way load instruction</td>\n",
              "      <td>independent</td>\n",
              "    </tr>\n",
              "    <tr>\n",
              "      <th>5</th>\n",
              "      <td>5196</td>\n",
              "      <td>helloim tomoki imairnrni found ruby</td>\n",
              "      <td>12553</td>\n",
              "      <td>ioreadlinesやioforeachioeach lineなどは戻り値または</td>\n",
              "      <td>independent</td>\n",
              "    </tr>\n",
              "    <tr>\n",
              "      <th>6</th>\n",
              "      <td>14114</td>\n",
              "      <td>must discussed beforernpleas</td>\n",
              "      <td>8714</td>\n",
              "      <td>beginrnrni propose new string non</td>\n",
              "      <td>independent</td>\n",
              "    </tr>\n",
              "    <tr>\n",
              "      <th>7</th>\n",
              "      <td>12721</td>\n",
              "      <td>hello ruby corernrnthis module</td>\n",
              "      <td>7068</td>\n",
              "      <td>hellornrni using ruby</td>\n",
              "      <td>independent</td>\n",
              "    </tr>\n",
              "    <tr>\n",
              "      <th>8</th>\n",
              "      <td>9143</td>\n",
              "      <td>currently csv header string</td>\n",
              "      <td>12673</td>\n",
              "      <td>following code change provides significa</td>\n",
              "      <td>independent</td>\n",
              "    </tr>\n",
              "    <tr>\n",
              "      <th>9</th>\n",
              "      <td>5512</td>\n",
              "      <td>integer を integerquo の別名として定義しなおす事を提案しますr</td>\n",
              "      <td>16183</td>\n",
              "      <td>reason way currently decla</td>\n",
              "      <td>independent</td>\n",
              "    </tr>\n",
              "  </tbody>\n",
              "</table>\n",
              "</div>"
            ],
            "text/plain": [
              "     id1  ... Type of dependency\n",
              "0  10318  ...        independent\n",
              "1   6521  ...        independent\n",
              "2   5692  ...        independent\n",
              "3   3627  ...        independent\n",
              "4  15982  ...        independent\n",
              "5   5196  ...        independent\n",
              "6  14114  ...        independent\n",
              "7  12721  ...        independent\n",
              "8   9143  ...        independent\n",
              "9   5512  ...        independent\n",
              "\n",
              "[10 rows x 5 columns]"
            ]
          },
          "metadata": {
            "tags": []
          },
          "execution_count": 42
        }
      ]
    },
    {
      "cell_type": "code",
      "metadata": {
        "colab": {
          "base_uri": "https://localhost:8080/"
        },
        "id": "mh5VlzozW6Rx",
        "outputId": "d529196f-fad3-483c-887b-3064daef1107"
      },
      "source": [
        "def isEnglish(s):\n",
        "  return s.isascii()\n",
        "\n",
        "a1 , a2 = [] , []\n",
        "a = df5['Description1'].values\n",
        "b = df5['Description2'].values\n",
        "\n",
        "for i in range(len(a)):\n",
        "  if isEnglish(a[i])==False:\n",
        "    a1.append(i)\n",
        "for j in range(len(b)):\n",
        "  if isEnglish(b[j])==False:\n",
        "    a2.append(j)\n",
        "\n",
        "print(len(a1))\n",
        "print(len(a2))\n",
        "a3 = list(set(a1+a2))\n",
        "print(len(a3))\n",
        "\n",
        "df5.drop(a3,inplace=True)\n",
        "df5 = df5.reset_index(drop=True)"
      ],
      "execution_count": null,
      "outputs": [
        {
          "output_type": "stream",
          "text": [
            "653\n",
            "642\n",
            "1254\n"
          ],
          "name": "stdout"
        }
      ]
    },
    {
      "cell_type": "code",
      "metadata": {
        "colab": {
          "base_uri": "https://localhost:8080/",
          "height": 204
        },
        "id": "gXPBmdF5bdcL",
        "outputId": "5b2808ca-3f95-44de-f55b-62410eea4b02"
      },
      "source": [
        "df5.head()"
      ],
      "execution_count": null,
      "outputs": [
        {
          "output_type": "execute_result",
          "data": {
            "text/html": [
              "<div>\n",
              "<style scoped>\n",
              "    .dataframe tbody tr th:only-of-type {\n",
              "        vertical-align: middle;\n",
              "    }\n",
              "\n",
              "    .dataframe tbody tr th {\n",
              "        vertical-align: top;\n",
              "    }\n",
              "\n",
              "    .dataframe thead th {\n",
              "        text-align: right;\n",
              "    }\n",
              "</style>\n",
              "<table border=\"1\" class=\"dataframe\">\n",
              "  <thead>\n",
              "    <tr style=\"text-align: right;\">\n",
              "      <th></th>\n",
              "      <th>id1</th>\n",
              "      <th>Description1</th>\n",
              "      <th>id2</th>\n",
              "      <th>Description2</th>\n",
              "      <th>Type of dependency</th>\n",
              "    </tr>\n",
              "  </thead>\n",
              "  <tbody>\n",
              "    <tr>\n",
              "      <th>0</th>\n",
              "      <td>10318</td>\n",
              "      <td>im sorry proposing future wi</td>\n",
              "      <td>15974</td>\n",
              "      <td>there really common mistake people make wh</td>\n",
              "      <td>independent</td>\n",
              "    </tr>\n",
              "    <tr>\n",
              "      <th>1</th>\n",
              "      <td>6521</td>\n",
              "      <td>ive added patch cover kernel module docu</td>\n",
              "      <td>13801</td>\n",
              "      <td>keeping class semantics set sho</td>\n",
              "      <td>independent</td>\n",
              "    </tr>\n",
              "    <tr>\n",
              "      <th>2</th>\n",
              "      <td>5692</td>\n",
              "      <td>getting error msg att would</td>\n",
              "      <td>12350</td>\n",
              "      <td>would great function like</td>\n",
              "      <td>independent</td>\n",
              "    </tr>\n",
              "    <tr>\n",
              "      <th>3</th>\n",
              "      <td>15982</td>\n",
              "      <td>available upstre</td>\n",
              "      <td>13544</td>\n",
              "      <td>currently way load instruction</td>\n",
              "      <td>independent</td>\n",
              "    </tr>\n",
              "    <tr>\n",
              "      <th>4</th>\n",
              "      <td>14114</td>\n",
              "      <td>must discussed beforernpleas</td>\n",
              "      <td>8714</td>\n",
              "      <td>beginrnrni propose new string non</td>\n",
              "      <td>independent</td>\n",
              "    </tr>\n",
              "  </tbody>\n",
              "</table>\n",
              "</div>"
            ],
            "text/plain": [
              "     id1  ... Type of dependency\n",
              "0  10318  ...        independent\n",
              "1   6521  ...        independent\n",
              "2   5692  ...        independent\n",
              "3  15982  ...        independent\n",
              "4  14114  ...        independent\n",
              "\n",
              "[5 rows x 5 columns]"
            ]
          },
          "metadata": {
            "tags": []
          },
          "execution_count": 67
        }
      ]
    },
    {
      "cell_type": "code",
      "metadata": {
        "colab": {
          "base_uri": "https://localhost:8080/"
        },
        "id": "ddqPLpj9bm8p",
        "outputId": "176657f7-0cd3-44ec-b4e6-c5b0a29262af"
      },
      "source": [
        "print(df5.shape)\n",
        "print(df5.isnull().sum())"
      ],
      "execution_count": null,
      "outputs": [
        {
          "output_type": "stream",
          "text": [
            "(7799, 5)\n",
            "id1                   0\n",
            "Description1          0\n",
            "id2                   0\n",
            "Description2          0\n",
            "Type of dependency    0\n",
            "dtype: int64\n"
          ],
          "name": "stdout"
        }
      ]
    },
    {
      "cell_type": "code",
      "metadata": {
        "id": "pESjNZBpb50j"
      },
      "source": [
        "#df5.to_csv('/content/drive/MyDrive/SENG 607/Ruby/Ruby_Processed_ALNeg.csv')"
      ],
      "execution_count": null,
      "outputs": []
    },
    {
      "cell_type": "markdown",
      "metadata": {
        "id": "TM90gFa2c_Fd"
      },
      "source": [
        "BERT"
      ]
    },
    {
      "cell_type": "code",
      "metadata": {
        "colab": {
          "base_uri": "https://localhost:8080/",
          "height": 204
        },
        "id": "JxZSIjVpc_8n",
        "outputId": "3106756c-7b60-453a-b45e-cf71cfc76fd2"
      },
      "source": [
        "df6 = pd.read_csv('/content/drive/MyDrive/SENG 607/Ruby/Ruby_Processed_BERTPos_init.csv')\n",
        "df6.drop(['Unnamed: 0'],axis=1,inplace=True)\n",
        "df6.head()"
      ],
      "execution_count": null,
      "outputs": [
        {
          "output_type": "execute_result",
          "data": {
            "text/html": [
              "<div>\n",
              "<style scoped>\n",
              "    .dataframe tbody tr th:only-of-type {\n",
              "        vertical-align: middle;\n",
              "    }\n",
              "\n",
              "    .dataframe tbody tr th {\n",
              "        vertical-align: top;\n",
              "    }\n",
              "\n",
              "    .dataframe thead th {\n",
              "        text-align: right;\n",
              "    }\n",
              "</style>\n",
              "<table border=\"1\" class=\"dataframe\">\n",
              "  <thead>\n",
              "    <tr style=\"text-align: right;\">\n",
              "      <th></th>\n",
              "      <th>id1</th>\n",
              "      <th>Description1</th>\n",
              "      <th>id2</th>\n",
              "      <th>Description2</th>\n",
              "      <th>Type of dependency</th>\n",
              "    </tr>\n",
              "  </thead>\n",
              "  <tbody>\n",
              "    <tr>\n",
              "      <th>0</th>\n",
              "      <td>15628</td>\n",
              "      <td>hirnrnthis is not really bug but more of</td>\n",
              "      <td>17525</td>\n",
              "      <td>NaN</td>\n",
              "      <td>relates</td>\n",
              "    </tr>\n",
              "    <tr>\n",
              "      <th>1</th>\n",
              "      <td>15743</td>\n",
              "      <td>my understanding is that rubyvm is supposed</td>\n",
              "      <td>17500</td>\n",
              "      <td>rubyvm is traprn users will think from</td>\n",
              "      <td>relates</td>\n",
              "    </tr>\n",
              "    <tr>\n",
              "      <th>2</th>\n",
              "      <td>15752</td>\n",
              "      <td>believe we should introduce module for exp</td>\n",
              "      <td>17500</td>\n",
              "      <td>rubyvm is traprn users will think from</td>\n",
              "      <td>relates</td>\n",
              "    </tr>\n",
              "    <tr>\n",
              "      <th>3</th>\n",
              "      <td>17496</td>\n",
              "      <td>excuse me if this has been brought up before</td>\n",
              "      <td>4897</td>\n",
              "      <td>firstly please read the tau manifesto at</td>\n",
              "      <td>duplicates</td>\n",
              "    </tr>\n",
              "    <tr>\n",
              "      <th>4</th>\n",
              "      <td>8804</td>\n",
              "      <td>how about to introduce once syntax which</td>\n",
              "      <td>17474</td>\n",
              "      <td>ruby has borrowed conceptsidioms from allot o</td>\n",
              "      <td>relates</td>\n",
              "    </tr>\n",
              "  </tbody>\n",
              "</table>\n",
              "</div>"
            ],
            "text/plain": [
              "     id1  ... Type of dependency\n",
              "0  15628  ...            relates\n",
              "1  15743  ...            relates\n",
              "2  15752  ...            relates\n",
              "3  17496  ...         duplicates\n",
              "4   8804  ...            relates\n",
              "\n",
              "[5 rows x 5 columns]"
            ]
          },
          "metadata": {
            "tags": []
          },
          "execution_count": 79
        }
      ]
    },
    {
      "cell_type": "code",
      "metadata": {
        "colab": {
          "base_uri": "https://localhost:8080/"
        },
        "id": "Cq0agSgYdKGT",
        "outputId": "e5be4a8b-a4b1-4ead-fd5e-7f3989ae8160"
      },
      "source": [
        "df6.isnull().sum()"
      ],
      "execution_count": null,
      "outputs": [
        {
          "output_type": "execute_result",
          "data": {
            "text/plain": [
              "id1                   0\n",
              "Description1          4\n",
              "id2                   0\n",
              "Description2          4\n",
              "Type of dependency    0\n",
              "dtype: int64"
            ]
          },
          "metadata": {
            "tags": []
          },
          "execution_count": 80
        }
      ]
    },
    {
      "cell_type": "code",
      "metadata": {
        "id": "umnVWEUcdL5p"
      },
      "source": [
        "df6.dropna(inplace=True)\n",
        "df6 = df6.reset_index(drop=True)"
      ],
      "execution_count": null,
      "outputs": []
    },
    {
      "cell_type": "code",
      "metadata": {
        "colab": {
          "base_uri": "https://localhost:8080/"
        },
        "id": "UbcNlrfsdOPC",
        "outputId": "231850ec-8bdc-4ef9-a845-3d5d8adc3821"
      },
      "source": [
        "def isEnglish(s):\n",
        "  return s.isascii()\n",
        "\n",
        "a1 , a2 = [] , []\n",
        "a = df6['Description1'].values\n",
        "b = df6['Description2'].values\n",
        "\n",
        "for i in range(len(a)):\n",
        "  if isEnglish(a[i])==False:\n",
        "    a1.append(i)\n",
        "for j in range(len(b)):\n",
        "  if isEnglish(b[j])==False:\n",
        "    a2.append(j)\n",
        "\n",
        "print(len(a1))\n",
        "print(len(a2))\n",
        "a3 = list(set(a1+a2))\n",
        "print(len(a3))\n",
        "\n",
        "df6.drop(a3,inplace=True)\n",
        "df6 = df6.reset_index(drop=True)"
      ],
      "execution_count": null,
      "outputs": [
        {
          "output_type": "stream",
          "text": [
            "40\n",
            "68\n",
            "98\n"
          ],
          "name": "stdout"
        }
      ]
    },
    {
      "cell_type": "code",
      "metadata": {
        "colab": {
          "base_uri": "https://localhost:8080/",
          "height": 204
        },
        "id": "dIGccNhddUul",
        "outputId": "22a1d969-4e40-43e6-d538-2a2ad4c2b43d"
      },
      "source": [
        "df6.head()"
      ],
      "execution_count": null,
      "outputs": [
        {
          "output_type": "execute_result",
          "data": {
            "text/html": [
              "<div>\n",
              "<style scoped>\n",
              "    .dataframe tbody tr th:only-of-type {\n",
              "        vertical-align: middle;\n",
              "    }\n",
              "\n",
              "    .dataframe tbody tr th {\n",
              "        vertical-align: top;\n",
              "    }\n",
              "\n",
              "    .dataframe thead th {\n",
              "        text-align: right;\n",
              "    }\n",
              "</style>\n",
              "<table border=\"1\" class=\"dataframe\">\n",
              "  <thead>\n",
              "    <tr style=\"text-align: right;\">\n",
              "      <th></th>\n",
              "      <th>id1</th>\n",
              "      <th>Description1</th>\n",
              "      <th>id2</th>\n",
              "      <th>Description2</th>\n",
              "      <th>Type of dependency</th>\n",
              "    </tr>\n",
              "  </thead>\n",
              "  <tbody>\n",
              "    <tr>\n",
              "      <th>0</th>\n",
              "      <td>15743</td>\n",
              "      <td>my understanding is that rubyvm is supposed</td>\n",
              "      <td>17500</td>\n",
              "      <td>rubyvm is traprn users will think from</td>\n",
              "      <td>relates</td>\n",
              "    </tr>\n",
              "    <tr>\n",
              "      <th>1</th>\n",
              "      <td>15752</td>\n",
              "      <td>believe we should introduce module for exp</td>\n",
              "      <td>17500</td>\n",
              "      <td>rubyvm is traprn users will think from</td>\n",
              "      <td>relates</td>\n",
              "    </tr>\n",
              "    <tr>\n",
              "      <th>2</th>\n",
              "      <td>17496</td>\n",
              "      <td>excuse me if this has been brought up before</td>\n",
              "      <td>4897</td>\n",
              "      <td>firstly please read the tau manifesto at</td>\n",
              "      <td>duplicates</td>\n",
              "    </tr>\n",
              "    <tr>\n",
              "      <th>3</th>\n",
              "      <td>8804</td>\n",
              "      <td>how about to introduce once syntax which</td>\n",
              "      <td>17474</td>\n",
              "      <td>ruby has borrowed conceptsidioms from allot o</td>\n",
              "      <td>relates</td>\n",
              "    </tr>\n",
              "    <tr>\n",
              "      <th>4</th>\n",
              "      <td>17273</td>\n",
              "      <td>this proposal is to introduce shareable con</td>\n",
              "      <td>17397</td>\n",
              "      <td>i think shareable constant value literal is</td>\n",
              "      <td>relates</td>\n",
              "    </tr>\n",
              "  </tbody>\n",
              "</table>\n",
              "</div>"
            ],
            "text/plain": [
              "     id1  ... Type of dependency\n",
              "0  15743  ...            relates\n",
              "1  15752  ...            relates\n",
              "2  17496  ...         duplicates\n",
              "3   8804  ...            relates\n",
              "4  17273  ...            relates\n",
              "\n",
              "[5 rows x 5 columns]"
            ]
          },
          "metadata": {
            "tags": []
          },
          "execution_count": 83
        }
      ]
    },
    {
      "cell_type": "code",
      "metadata": {
        "colab": {
          "base_uri": "https://localhost:8080/"
        },
        "id": "l9cApR2EdYC4",
        "outputId": "71a12c39-23dd-47b3-b171-d801493105be"
      },
      "source": [
        "df6.isnull().sum()"
      ],
      "execution_count": null,
      "outputs": [
        {
          "output_type": "execute_result",
          "data": {
            "text/plain": [
              "id1                   0\n",
              "Description1          0\n",
              "id2                   0\n",
              "Description2          0\n",
              "Type of dependency    0\n",
              "dtype: int64"
            ]
          },
          "metadata": {
            "tags": []
          },
          "execution_count": 84
        }
      ]
    },
    {
      "cell_type": "code",
      "metadata": {
        "id": "6HU-BxLYdbXa"
      },
      "source": [
        "#df6.to_csv('/content/drive/MyDrive/SENG 607/Ruby/Ruby_Processed_BERTPos.csv')"
      ],
      "execution_count": null,
      "outputs": []
    },
    {
      "cell_type": "code",
      "metadata": {
        "colab": {
          "base_uri": "https://localhost:8080/",
          "height": 204
        },
        "id": "R9zoIJWqdlmY",
        "outputId": "ca2e1703-f632-4b70-e53d-1f91d749647b"
      },
      "source": [
        "df7 = pd.read_csv('/content/drive/MyDrive/SENG 607/Ruby/Ruby_Processed_BERTNeg_init.csv')\n",
        "df7.drop(['Unnamed: 0'],axis=1,inplace=True)\n",
        "df7.head()"
      ],
      "execution_count": null,
      "outputs": [
        {
          "output_type": "execute_result",
          "data": {
            "text/html": [
              "<div>\n",
              "<style scoped>\n",
              "    .dataframe tbody tr th:only-of-type {\n",
              "        vertical-align: middle;\n",
              "    }\n",
              "\n",
              "    .dataframe tbody tr th {\n",
              "        vertical-align: top;\n",
              "    }\n",
              "\n",
              "    .dataframe thead th {\n",
              "        text-align: right;\n",
              "    }\n",
              "</style>\n",
              "<table border=\"1\" class=\"dataframe\">\n",
              "  <thead>\n",
              "    <tr style=\"text-align: right;\">\n",
              "      <th></th>\n",
              "      <th>id1</th>\n",
              "      <th>Description1</th>\n",
              "      <th>id2</th>\n",
              "      <th>Description2</th>\n",
              "      <th>Type of dependency</th>\n",
              "    </tr>\n",
              "  </thead>\n",
              "  <tbody>\n",
              "    <tr>\n",
              "      <th>0</th>\n",
              "      <td>10318</td>\n",
              "      <td>im so sorry for just proposing this future wi</td>\n",
              "      <td>15974</td>\n",
              "      <td>theres really common mistake people make wh</td>\n",
              "      <td>independent</td>\n",
              "    </tr>\n",
              "    <tr>\n",
              "      <th>1</th>\n",
              "      <td>6521</td>\n",
              "      <td>ive added patch to cover kernel module docu</td>\n",
              "      <td>13801</td>\n",
              "      <td>in keeping with other class semantics set sho</td>\n",
              "      <td>independent</td>\n",
              "    </tr>\n",
              "    <tr>\n",
              "      <th>2</th>\n",
              "      <td>5692</td>\n",
              "      <td>am getting errors in msg att and it would be</td>\n",
              "      <td>12350</td>\n",
              "      <td>it would be great to have some function like</td>\n",
              "      <td>independent</td>\n",
              "    </tr>\n",
              "    <tr>\n",
              "      <th>3</th>\n",
              "      <td>3627</td>\n",
              "      <td>beginn catchとthrowでネストを飛び越えたbreakのようなことができる</td>\n",
              "      <td>2833</td>\n",
              "      <td>beginn 絵文字に対応したエンコーディングを実装しましたrn これらを</td>\n",
              "      <td>independent</td>\n",
              "    </tr>\n",
              "    <tr>\n",
              "      <th>4</th>\n",
              "      <td>15982</td>\n",
              "      <td>the and are not available upstre</td>\n",
              "      <td>13544</td>\n",
              "      <td>currently the only way to load an instructions</td>\n",
              "      <td>independent</td>\n",
              "    </tr>\n",
              "  </tbody>\n",
              "</table>\n",
              "</div>"
            ],
            "text/plain": [
              "     id1  ... Type of dependency\n",
              "0  10318  ...        independent\n",
              "1   6521  ...        independent\n",
              "2   5692  ...        independent\n",
              "3   3627  ...        independent\n",
              "4  15982  ...        independent\n",
              "\n",
              "[5 rows x 5 columns]"
            ]
          },
          "metadata": {
            "tags": []
          },
          "execution_count": 91
        }
      ]
    },
    {
      "cell_type": "code",
      "metadata": {
        "colab": {
          "base_uri": "https://localhost:8080/"
        },
        "id": "zmGtsXHrdrWq",
        "outputId": "96f6fe34-d62c-43fe-930d-21bba4670d35"
      },
      "source": [
        "df7.isnull().sum()"
      ],
      "execution_count": null,
      "outputs": [
        {
          "output_type": "execute_result",
          "data": {
            "text/plain": [
              "id1                    0\n",
              "Description1          86\n",
              "id2                    0\n",
              "Description2          74\n",
              "Type of dependency     0\n",
              "dtype: int64"
            ]
          },
          "metadata": {
            "tags": []
          },
          "execution_count": 92
        }
      ]
    },
    {
      "cell_type": "code",
      "metadata": {
        "id": "UIM5pExidu6d"
      },
      "source": [
        "df7.dropna(inplace=True)\n",
        "df7 = df7.reset_index(drop=True)"
      ],
      "execution_count": null,
      "outputs": []
    },
    {
      "cell_type": "code",
      "metadata": {
        "colab": {
          "base_uri": "https://localhost:8080/"
        },
        "id": "IpupSd9ed0AZ",
        "outputId": "03a84da1-e0d6-4101-f647-bb0d897511a7"
      },
      "source": [
        "def isEnglish(s):\n",
        "  return s.isascii()\n",
        "\n",
        "a1 , a2 = [] , []\n",
        "a = df7['Description1'].values\n",
        "b = df7['Description2'].values\n",
        "\n",
        "for i in range(len(a)):\n",
        "  if isEnglish(a[i])==False:\n",
        "    a1.append(i)\n",
        "for j in range(len(b)):\n",
        "  if isEnglish(b[j])==False:\n",
        "    a2.append(j)\n",
        "\n",
        "print(len(a1))\n",
        "print(len(a2))\n",
        "a3 = list(set(a1+a2))\n",
        "print(len(a3))\n",
        "\n",
        "df7.drop(a3,inplace=True)\n",
        "df7 = df7.reset_index(drop=True)"
      ],
      "execution_count": null,
      "outputs": [
        {
          "output_type": "stream",
          "text": [
            "813\n",
            "772\n",
            "1525\n"
          ],
          "name": "stdout"
        }
      ]
    },
    {
      "cell_type": "code",
      "metadata": {
        "colab": {
          "base_uri": "https://localhost:8080/",
          "height": 204
        },
        "id": "epGkI_oYeIYU",
        "outputId": "96cf065d-f970-4780-e334-4d172a07e228"
      },
      "source": [
        "df7.head()"
      ],
      "execution_count": null,
      "outputs": [
        {
          "output_type": "execute_result",
          "data": {
            "text/html": [
              "<div>\n",
              "<style scoped>\n",
              "    .dataframe tbody tr th:only-of-type {\n",
              "        vertical-align: middle;\n",
              "    }\n",
              "\n",
              "    .dataframe tbody tr th {\n",
              "        vertical-align: top;\n",
              "    }\n",
              "\n",
              "    .dataframe thead th {\n",
              "        text-align: right;\n",
              "    }\n",
              "</style>\n",
              "<table border=\"1\" class=\"dataframe\">\n",
              "  <thead>\n",
              "    <tr style=\"text-align: right;\">\n",
              "      <th></th>\n",
              "      <th>id1</th>\n",
              "      <th>Description1</th>\n",
              "      <th>id2</th>\n",
              "      <th>Description2</th>\n",
              "      <th>Type of dependency</th>\n",
              "    </tr>\n",
              "  </thead>\n",
              "  <tbody>\n",
              "    <tr>\n",
              "      <th>0</th>\n",
              "      <td>10318</td>\n",
              "      <td>im so sorry for just proposing this future wi</td>\n",
              "      <td>15974</td>\n",
              "      <td>theres really common mistake people make wh</td>\n",
              "      <td>independent</td>\n",
              "    </tr>\n",
              "    <tr>\n",
              "      <th>1</th>\n",
              "      <td>6521</td>\n",
              "      <td>ive added patch to cover kernel module docu</td>\n",
              "      <td>13801</td>\n",
              "      <td>in keeping with other class semantics set sho</td>\n",
              "      <td>independent</td>\n",
              "    </tr>\n",
              "    <tr>\n",
              "      <th>2</th>\n",
              "      <td>5692</td>\n",
              "      <td>am getting errors in msg att and it would be</td>\n",
              "      <td>12350</td>\n",
              "      <td>it would be great to have some function like</td>\n",
              "      <td>independent</td>\n",
              "    </tr>\n",
              "    <tr>\n",
              "      <th>3</th>\n",
              "      <td>15982</td>\n",
              "      <td>the and are not available upstre</td>\n",
              "      <td>13544</td>\n",
              "      <td>currently the only way to load an instructions</td>\n",
              "      <td>independent</td>\n",
              "    </tr>\n",
              "    <tr>\n",
              "      <th>4</th>\n",
              "      <td>14114</td>\n",
              "      <td>this must have been discussed beforernpleas</td>\n",
              "      <td>8714</td>\n",
              "      <td>beginrnrni propose new string for non</td>\n",
              "      <td>independent</td>\n",
              "    </tr>\n",
              "  </tbody>\n",
              "</table>\n",
              "</div>"
            ],
            "text/plain": [
              "     id1  ... Type of dependency\n",
              "0  10318  ...        independent\n",
              "1   6521  ...        independent\n",
              "2   5692  ...        independent\n",
              "3  15982  ...        independent\n",
              "4  14114  ...        independent\n",
              "\n",
              "[5 rows x 5 columns]"
            ]
          },
          "metadata": {
            "tags": []
          },
          "execution_count": 95
        }
      ]
    },
    {
      "cell_type": "code",
      "metadata": {
        "colab": {
          "base_uri": "https://localhost:8080/"
        },
        "id": "XsKmDVH1eJMn",
        "outputId": "2156ad2f-fdab-4248-e23a-39262d2224fd"
      },
      "source": [
        "df7.isnull().sum()"
      ],
      "execution_count": null,
      "outputs": [
        {
          "output_type": "execute_result",
          "data": {
            "text/plain": [
              "id1                   0\n",
              "Description1          0\n",
              "id2                   0\n",
              "Description2          0\n",
              "Type of dependency    0\n",
              "dtype: int64"
            ]
          },
          "metadata": {
            "tags": []
          },
          "execution_count": 96
        }
      ]
    },
    {
      "cell_type": "code",
      "metadata": {
        "id": "bY_3A_hyeMaA"
      },
      "source": [
        "#df7.to_csv('/content/drive/MyDrive/SENG 607/Ruby/Ruby_Processed_BERTNeg.csv')"
      ],
      "execution_count": null,
      "outputs": []
    }
  ]
}