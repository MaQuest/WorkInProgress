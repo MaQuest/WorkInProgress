{
  "nbformat": 4,
  "nbformat_minor": 0,
  "metadata": {
    "colab": {
      "name": "AL_Redmine_Preprocessing.ipynb",
      "provenance": [],
      "collapsed_sections": []
    },
    "kernelspec": {
      "name": "python3",
      "display_name": "Python 3"
    }
  },
  "cells": [
    {
      "cell_type": "code",
      "metadata": {
        "id": "q2Qd1eptwpWU"
      },
      "source": [
        "import numpy as np\n",
        "import pandas as pd"
      ],
      "execution_count": 1,
      "outputs": []
    },
    {
      "cell_type": "code",
      "metadata": {
        "colab": {
          "base_uri": "https://localhost:8080/",
          "height": 306
        },
        "id": "P1tjMo9Iwy72",
        "outputId": "ddacd3f5-9379-43fd-928c-bdd12a263756"
      },
      "source": [
        "df = pd.read_csv('/content/drive/MyDrive/SENG 607/processedData_Dataminer.csv')\n",
        "df.head()"
      ],
      "execution_count": 2,
      "outputs": [
        {
          "output_type": "execute_result",
          "data": {
            "text/html": [
              "<div>\n",
              "<style scoped>\n",
              "    .dataframe tbody tr th:only-of-type {\n",
              "        vertical-align: middle;\n",
              "    }\n",
              "\n",
              "    .dataframe tbody tr th {\n",
              "        vertical-align: top;\n",
              "    }\n",
              "\n",
              "    .dataframe thead th {\n",
              "        text-align: right;\n",
              "    }\n",
              "</style>\n",
              "<table border=\"1\" class=\"dataframe\">\n",
              "  <thead>\n",
              "    <tr style=\"text-align: right;\">\n",
              "      <th></th>\n",
              "      <th>Unnamed: 0</th>\n",
              "      <th>Project</th>\n",
              "      <th>created_on</th>\n",
              "      <th>dependencies</th>\n",
              "      <th>desc</th>\n",
              "      <th>id</th>\n",
              "      <th>relationCount</th>\n",
              "      <th>status</th>\n",
              "      <th>subject</th>\n",
              "      <th>tracker</th>\n",
              "    </tr>\n",
              "  </thead>\n",
              "  <tbody>\n",
              "    <tr>\n",
              "      <th>0</th>\n",
              "      <td>0</td>\n",
              "      <td>Redmine</td>\n",
              "      <td>2021-01-11T10:42:46Z</td>\n",
              "      <td>NaN</td>\n",
              "      <td>How do I export a list which includes the pare...</td>\n",
              "      <td>34583</td>\n",
              "      <td>0</td>\n",
              "      <td>New</td>\n",
              "      <td>Group by parent project</td>\n",
              "      <td>Feature</td>\n",
              "    </tr>\n",
              "    <tr>\n",
              "      <th>1</th>\n",
              "      <td>1</td>\n",
              "      <td>Redmine</td>\n",
              "      <td>2021-01-06T09:07:16Z</td>\n",
              "      <td>NaN</td>\n",
              "      <td>Currently, it is possible to re-title an issue...</td>\n",
              "      <td>34566</td>\n",
              "      <td>0</td>\n",
              "      <td>New</td>\n",
              "      <td>Always trim title</td>\n",
              "      <td>Feature</td>\n",
              "    </tr>\n",
              "    <tr>\n",
              "      <th>2</th>\n",
              "      <td>2</td>\n",
              "      <td>Redmine</td>\n",
              "      <td>2021-01-05T09:09:54Z</td>\n",
              "      <td>34556relates8562#</td>\n",
              "      <td>Currently, the \"Watchers\" section in the new i...</td>\n",
              "      <td>34556</td>\n",
              "      <td>1</td>\n",
              "      <td>New</td>\n",
              "      <td>Setting to change the maximum number to displa...</td>\n",
              "      <td>Feature</td>\n",
              "    </tr>\n",
              "    <tr>\n",
              "      <th>3</th>\n",
              "      <td>3</td>\n",
              "      <td>Redmine</td>\n",
              "      <td>2021-01-02T22:18:17Z</td>\n",
              "      <td>30459blocks34549#</td>\n",
              "      <td>Add keyboard shortcuts for the following butto...</td>\n",
              "      <td>34549</td>\n",
              "      <td>1</td>\n",
              "      <td>New</td>\n",
              "      <td>Add keyboard shortcuts for wiki toolbar buttons</td>\n",
              "      <td>Feature</td>\n",
              "    </tr>\n",
              "    <tr>\n",
              "      <th>4</th>\n",
              "      <td>4</td>\n",
              "      <td>Redmine</td>\n",
              "      <td>2020-12-23T11:20:28Z</td>\n",
              "      <td>NaN</td>\n",
              "      <td>At the moment we can assign Tickets to a group...</td>\n",
              "      <td>34496</td>\n",
              "      <td>0</td>\n",
              "      <td>New</td>\n",
              "      <td>Assign Tickets only to groups</td>\n",
              "      <td>Feature</td>\n",
              "    </tr>\n",
              "  </tbody>\n",
              "</table>\n",
              "</div>"
            ],
            "text/plain": [
              "   Unnamed: 0  ...  tracker\n",
              "0           0  ...  Feature\n",
              "1           1  ...  Feature\n",
              "2           2  ...  Feature\n",
              "3           3  ...  Feature\n",
              "4           4  ...  Feature\n",
              "\n",
              "[5 rows x 10 columns]"
            ]
          },
          "metadata": {
            "tags": []
          },
          "execution_count": 2
        }
      ]
    },
    {
      "cell_type": "code",
      "metadata": {
        "id": "YZh-1gahxCYJ"
      },
      "source": [
        "df.drop(['Unnamed: 0','created_on','tracker','status'],axis=1,inplace=True)\n",
        "df= df.dropna(subset=['desc']).reset_index(drop=True)"
      ],
      "execution_count": 3,
      "outputs": []
    },
    {
      "cell_type": "code",
      "metadata": {
        "colab": {
          "base_uri": "https://localhost:8080/",
          "height": 204
        },
        "id": "mkxnvv0cxQzA",
        "outputId": "c7f61695-e355-4a08-c4fb-c5e7c9277988"
      },
      "source": [
        "df.head()"
      ],
      "execution_count": 4,
      "outputs": [
        {
          "output_type": "execute_result",
          "data": {
            "text/html": [
              "<div>\n",
              "<style scoped>\n",
              "    .dataframe tbody tr th:only-of-type {\n",
              "        vertical-align: middle;\n",
              "    }\n",
              "\n",
              "    .dataframe tbody tr th {\n",
              "        vertical-align: top;\n",
              "    }\n",
              "\n",
              "    .dataframe thead th {\n",
              "        text-align: right;\n",
              "    }\n",
              "</style>\n",
              "<table border=\"1\" class=\"dataframe\">\n",
              "  <thead>\n",
              "    <tr style=\"text-align: right;\">\n",
              "      <th></th>\n",
              "      <th>Project</th>\n",
              "      <th>dependencies</th>\n",
              "      <th>desc</th>\n",
              "      <th>id</th>\n",
              "      <th>relationCount</th>\n",
              "      <th>subject</th>\n",
              "    </tr>\n",
              "  </thead>\n",
              "  <tbody>\n",
              "    <tr>\n",
              "      <th>0</th>\n",
              "      <td>Redmine</td>\n",
              "      <td>NaN</td>\n",
              "      <td>How do I export a list which includes the pare...</td>\n",
              "      <td>34583</td>\n",
              "      <td>0</td>\n",
              "      <td>Group by parent project</td>\n",
              "    </tr>\n",
              "    <tr>\n",
              "      <th>1</th>\n",
              "      <td>Redmine</td>\n",
              "      <td>NaN</td>\n",
              "      <td>Currently, it is possible to re-title an issue...</td>\n",
              "      <td>34566</td>\n",
              "      <td>0</td>\n",
              "      <td>Always trim title</td>\n",
              "    </tr>\n",
              "    <tr>\n",
              "      <th>2</th>\n",
              "      <td>Redmine</td>\n",
              "      <td>34556relates8562#</td>\n",
              "      <td>Currently, the \"Watchers\" section in the new i...</td>\n",
              "      <td>34556</td>\n",
              "      <td>1</td>\n",
              "      <td>Setting to change the maximum number to displa...</td>\n",
              "    </tr>\n",
              "    <tr>\n",
              "      <th>3</th>\n",
              "      <td>Redmine</td>\n",
              "      <td>30459blocks34549#</td>\n",
              "      <td>Add keyboard shortcuts for the following butto...</td>\n",
              "      <td>34549</td>\n",
              "      <td>1</td>\n",
              "      <td>Add keyboard shortcuts for wiki toolbar buttons</td>\n",
              "    </tr>\n",
              "    <tr>\n",
              "      <th>4</th>\n",
              "      <td>Redmine</td>\n",
              "      <td>NaN</td>\n",
              "      <td>At the moment we can assign Tickets to a group...</td>\n",
              "      <td>34496</td>\n",
              "      <td>0</td>\n",
              "      <td>Assign Tickets only to groups</td>\n",
              "    </tr>\n",
              "  </tbody>\n",
              "</table>\n",
              "</div>"
            ],
            "text/plain": [
              "   Project  ...                                            subject\n",
              "0  Redmine  ...                            Group by parent project\n",
              "1  Redmine  ...                                  Always trim title\n",
              "2  Redmine  ...  Setting to change the maximum number to displa...\n",
              "3  Redmine  ...    Add keyboard shortcuts for wiki toolbar buttons\n",
              "4  Redmine  ...                      Assign Tickets only to groups\n",
              "\n",
              "[5 rows x 6 columns]"
            ]
          },
          "metadata": {
            "tags": []
          },
          "execution_count": 4
        }
      ]
    },
    {
      "cell_type": "code",
      "metadata": {
        "id": "iHiOXcaI222s"
      },
      "source": [
        "df1= df.dropna(subset=['dependencies']).reset_index(drop=True)"
      ],
      "execution_count": 5,
      "outputs": []
    },
    {
      "cell_type": "code",
      "metadata": {
        "colab": {
          "base_uri": "https://localhost:8080/",
          "height": 204
        },
        "id": "4EwRRQ-V3vmK",
        "outputId": "2b999bd8-f48f-4351-8b4c-8563a538248e"
      },
      "source": [
        "df1.head()"
      ],
      "execution_count": 6,
      "outputs": [
        {
          "output_type": "execute_result",
          "data": {
            "text/html": [
              "<div>\n",
              "<style scoped>\n",
              "    .dataframe tbody tr th:only-of-type {\n",
              "        vertical-align: middle;\n",
              "    }\n",
              "\n",
              "    .dataframe tbody tr th {\n",
              "        vertical-align: top;\n",
              "    }\n",
              "\n",
              "    .dataframe thead th {\n",
              "        text-align: right;\n",
              "    }\n",
              "</style>\n",
              "<table border=\"1\" class=\"dataframe\">\n",
              "  <thead>\n",
              "    <tr style=\"text-align: right;\">\n",
              "      <th></th>\n",
              "      <th>Project</th>\n",
              "      <th>dependencies</th>\n",
              "      <th>desc</th>\n",
              "      <th>id</th>\n",
              "      <th>relationCount</th>\n",
              "      <th>subject</th>\n",
              "    </tr>\n",
              "  </thead>\n",
              "  <tbody>\n",
              "    <tr>\n",
              "      <th>0</th>\n",
              "      <td>Redmine</td>\n",
              "      <td>34556relates8562#</td>\n",
              "      <td>Currently, the \"Watchers\" section in the new i...</td>\n",
              "      <td>34556</td>\n",
              "      <td>1</td>\n",
              "      <td>Setting to change the maximum number to displa...</td>\n",
              "    </tr>\n",
              "    <tr>\n",
              "      <th>1</th>\n",
              "      <td>Redmine</td>\n",
              "      <td>30459blocks34549#</td>\n",
              "      <td>Add keyboard shortcuts for the following butto...</td>\n",
              "      <td>34549</td>\n",
              "      <td>1</td>\n",
              "      <td>Add keyboard shortcuts for wiki toolbar buttons</td>\n",
              "    </tr>\n",
              "    <tr>\n",
              "      <th>2</th>\n",
              "      <td>Redmine</td>\n",
              "      <td>34495relates1237#</td>\n",
              "      <td>\"Two-factor authentication\" on a new user form...</td>\n",
              "      <td>34495</td>\n",
              "      <td>1</td>\n",
              "      <td>Don't show \"Two-factor authentication\" on new ...</td>\n",
              "    </tr>\n",
              "    <tr>\n",
              "      <th>3</th>\n",
              "      <td>Redmine</td>\n",
              "      <td>34340relates6938#</td>\n",
              "      <td>All projects are displayed in the tracker edit...</td>\n",
              "      <td>34340</td>\n",
              "      <td>1</td>\n",
              "      <td>Make archived projects visually distinguishabl...</td>\n",
              "    </tr>\n",
              "    <tr>\n",
              "      <th>4</th>\n",
              "      <td>Redmine</td>\n",
              "      <td>33383relates34337#</td>\n",
              "      <td>#33383#note-3:\\r\\n&gt; Because the update can bre...</td>\n",
              "      <td>34337</td>\n",
              "      <td>1</td>\n",
              "      <td>Remove jQuery Migrate</td>\n",
              "    </tr>\n",
              "  </tbody>\n",
              "</table>\n",
              "</div>"
            ],
            "text/plain": [
              "   Project  ...                                            subject\n",
              "0  Redmine  ...  Setting to change the maximum number to displa...\n",
              "1  Redmine  ...    Add keyboard shortcuts for wiki toolbar buttons\n",
              "2  Redmine  ...  Don't show \"Two-factor authentication\" on new ...\n",
              "3  Redmine  ...  Make archived projects visually distinguishabl...\n",
              "4  Redmine  ...                              Remove jQuery Migrate\n",
              "\n",
              "[5 rows x 6 columns]"
            ]
          },
          "metadata": {
            "tags": []
          },
          "execution_count": 6
        }
      ]
    },
    {
      "cell_type": "code",
      "metadata": {
        "colab": {
          "base_uri": "https://localhost:8080/"
        },
        "id": "k95D97VYDsXV",
        "outputId": "ab86aa45-2f9a-44cf-f5be-572fad839847"
      },
      "source": [
        "df1.isnull().sum()"
      ],
      "execution_count": 7,
      "outputs": [
        {
          "output_type": "execute_result",
          "data": {
            "text/plain": [
              "Project          0\n",
              "dependencies     0\n",
              "desc             0\n",
              "id               0\n",
              "relationCount    0\n",
              "subject          0\n",
              "dtype: int64"
            ]
          },
          "metadata": {
            "tags": []
          },
          "execution_count": 7
        }
      ]
    },
    {
      "cell_type": "code",
      "metadata": {
        "colab": {
          "base_uri": "https://localhost:8080/"
        },
        "id": "hjhg3RYb0K7c",
        "outputId": "f09c81bd-b66d-4ccd-fc8f-fa7eb45b91f6"
      },
      "source": [
        "df1.shape"
      ],
      "execution_count": 8,
      "outputs": [
        {
          "output_type": "execute_result",
          "data": {
            "text/plain": [
              "(3401, 6)"
            ]
          },
          "metadata": {
            "tags": []
          },
          "execution_count": 8
        }
      ]
    },
    {
      "cell_type": "code",
      "metadata": {
        "id": "o49-zJs12U3f"
      },
      "source": [
        "import re\n",
        "id1 = []\n",
        "id2 = []\n",
        "desc1 = []\n",
        "desc2 = []\n",
        "dependency  = []\n",
        "\n",
        "for i in range(3401):\n",
        "  a = df1['dependencies'][i]\n",
        "  a = a.split('#')\n",
        "  for j in range(len(a)-1):\n",
        "    b = a[j]\n",
        "    temp = re.findall(r'\\d+', b)                         # For extracting id's\n",
        "    r = list(map(int, temp))\n",
        "    id1.append(r[0])\n",
        "    id2.append(r[1])\n",
        "\n",
        "    c = df1[df1['id']==r[0]]['desc'].to_string()          # For extracting description wrt to each id\n",
        "    c1 = df1[df1['id']==r[1]]['desc'].to_string() \n",
        "    desc1.append(c[5:])\n",
        "    desc2.append(c1[5:])\n",
        "\n",
        "    temp1 = str(r[0])\n",
        "    temp2 = str(r[1])\n",
        "    result = re.search(f'{temp1}(.*){temp2}',b).group(1) # For extracting type of dependency\n",
        "    dependency.append(result)"
      ],
      "execution_count": 9,
      "outputs": []
    },
    {
      "cell_type": "code",
      "metadata": {
        "colab": {
          "base_uri": "https://localhost:8080/",
          "height": 359
        },
        "id": "YR_PMlSn7INp",
        "outputId": "fe72f4f0-2e33-42a7-a8cf-ded50d44941f"
      },
      "source": [
        "df2 = pd.DataFrame({'id1':id1,'Description1':desc1,'id2':id2,'Description2':desc2,'Type of dependency':dependency})\n",
        "df2.head(10)"
      ],
      "execution_count": 10,
      "outputs": [
        {
          "output_type": "execute_result",
          "data": {
            "text/html": [
              "<div>\n",
              "<style scoped>\n",
              "    .dataframe tbody tr th:only-of-type {\n",
              "        vertical-align: middle;\n",
              "    }\n",
              "\n",
              "    .dataframe tbody tr th {\n",
              "        vertical-align: top;\n",
              "    }\n",
              "\n",
              "    .dataframe thead th {\n",
              "        text-align: right;\n",
              "    }\n",
              "</style>\n",
              "<table border=\"1\" class=\"dataframe\">\n",
              "  <thead>\n",
              "    <tr style=\"text-align: right;\">\n",
              "      <th></th>\n",
              "      <th>id1</th>\n",
              "      <th>Description1</th>\n",
              "      <th>id2</th>\n",
              "      <th>Description2</th>\n",
              "      <th>Type of dependency</th>\n",
              "    </tr>\n",
              "  </thead>\n",
              "  <tbody>\n",
              "    <tr>\n",
              "      <th>0</th>\n",
              "      <td>34556</td>\n",
              "      <td>Currently, the \"Watchers\" section in the new i...</td>\n",
              "      <td>8562</td>\n",
              "      <td>We face the problem that we have many proje...</td>\n",
              "      <td>relates</td>\n",
              "    </tr>\n",
              "    <tr>\n",
              "      <th>1</th>\n",
              "      <td>30459</td>\n",
              "      <td>In Redmine 3.4 and earlier, you could update...</td>\n",
              "      <td>34549</td>\n",
              "      <td>Add keyboard shortcuts for the following butto...</td>\n",
              "      <td>blocks</td>\n",
              "    </tr>\n",
              "    <tr>\n",
              "      <th>2</th>\n",
              "      <td>34495</td>\n",
              "      <td>\"Two-factor authentication\" on a new user form...</td>\n",
              "      <td>1237</td>\n",
              "      <td>Please add support for a one time password ...</td>\n",
              "      <td>relates</td>\n",
              "    </tr>\n",
              "    <tr>\n",
              "      <th>3</th>\n",
              "      <td>34340</td>\n",
              "      <td>All projects are displayed in the tracker edit...</td>\n",
              "      <td>6938</td>\n",
              "      <td>I have a few ideas to enhance the edit trac...</td>\n",
              "      <td>relates</td>\n",
              "    </tr>\n",
              "    <tr>\n",
              "      <th>4</th>\n",
              "      <td>33383</td>\n",
              "      <td>jQuery 2 is end of life and we should update ...</td>\n",
              "      <td>34337</td>\n",
              "      <td>#33383#note-3:\\r\\n&gt; Because the update can bre...</td>\n",
              "      <td>relates</td>\n",
              "    </tr>\n",
              "    <tr>\n",
              "      <th>5</th>\n",
              "      <td>34336</td>\n",
              "      <td>Currently, there is no way to see the latest p...</td>\n",
              "      <td>12664</td>\n",
              "      <td>s([], )</td>\n",
              "      <td>relates</td>\n",
              "    </tr>\n",
              "    <tr>\n",
              "      <th>6</th>\n",
              "      <td>34258</td>\n",
              "      <td>When there are many custom fields or projects,...</td>\n",
              "      <td>9258</td>\n",
              "      <td>Allow creating a new role by copying an exi...</td>\n",
              "      <td>relates</td>\n",
              "    </tr>\n",
              "    <tr>\n",
              "      <th>7</th>\n",
              "      <td>34241</td>\n",
              "      <td>The upcoming Redmine 4.2 has a two-factor auth...</td>\n",
              "      <td>1237</td>\n",
              "      <td>Please add support for a one time password ...</td>\n",
              "      <td>relates</td>\n",
              "    </tr>\n",
              "    <tr>\n",
              "      <th>8</th>\n",
              "      <td>34142</td>\n",
              "      <td>The official support of Ruby 2.3 has already e...</td>\n",
              "      <td>32530</td>\n",
              "      <td>s([], )</td>\n",
              "      <td>relates</td>\n",
              "    </tr>\n",
              "    <tr>\n",
              "      <th>9</th>\n",
              "      <td>27780</td>\n",
              "      <td>s([], )</td>\n",
              "      <td>34142</td>\n",
              "      <td>The official support of Ruby 2.3 has already e...</td>\n",
              "      <td>relates</td>\n",
              "    </tr>\n",
              "  </tbody>\n",
              "</table>\n",
              "</div>"
            ],
            "text/plain": [
              "     id1  ... Type of dependency\n",
              "0  34556  ...            relates\n",
              "1  30459  ...             blocks\n",
              "2  34495  ...            relates\n",
              "3  34340  ...            relates\n",
              "4  33383  ...            relates\n",
              "5  34336  ...            relates\n",
              "6  34258  ...            relates\n",
              "7  34241  ...            relates\n",
              "8  34142  ...            relates\n",
              "9  27780  ...            relates\n",
              "\n",
              "[10 rows x 5 columns]"
            ]
          },
          "metadata": {
            "tags": []
          },
          "execution_count": 10
        }
      ]
    },
    {
      "cell_type": "code",
      "metadata": {
        "id": "u61ckjPWLki3"
      },
      "source": [
        "# Deleting empty lists\n",
        "l1 = []\n",
        "l2 = []\n",
        "for i in range(6810):\n",
        "  if df2['Description1'][i] == 's([], )':\n",
        "    l1.append(i)\n",
        "  if df2['Description2'][i] == 's([], )':\n",
        "    l2.append(i)\n",
        "l = list(set(l1+l2))"
      ],
      "execution_count": null,
      "outputs": []
    },
    {
      "cell_type": "code",
      "metadata": {
        "id": "KWyxDZRANOC6"
      },
      "source": [
        "df2.drop(l,inplace = True)"
      ],
      "execution_count": null,
      "outputs": []
    },
    {
      "cell_type": "code",
      "metadata": {
        "id": "h8yqhHuOPixv"
      },
      "source": [
        "df2 = df2.reset_index(drop = True)"
      ],
      "execution_count": null,
      "outputs": []
    },
    {
      "cell_type": "markdown",
      "metadata": {
        "id": "TWHEJkqFEzSn"
      },
      "source": [
        "**Final DataFrame**"
      ]
    },
    {
      "cell_type": "code",
      "metadata": {
        "colab": {
          "base_uri": "https://localhost:8080/",
          "height": 359
        },
        "id": "e51LsRCIPPSt",
        "outputId": "587405c1-3e0e-4468-b5d6-b7eb64c1a7ed"
      },
      "source": [
        "df2.head(10)"
      ],
      "execution_count": null,
      "outputs": [
        {
          "output_type": "execute_result",
          "data": {
            "text/html": [
              "<div>\n",
              "<style scoped>\n",
              "    .dataframe tbody tr th:only-of-type {\n",
              "        vertical-align: middle;\n",
              "    }\n",
              "\n",
              "    .dataframe tbody tr th {\n",
              "        vertical-align: top;\n",
              "    }\n",
              "\n",
              "    .dataframe thead th {\n",
              "        text-align: right;\n",
              "    }\n",
              "</style>\n",
              "<table border=\"1\" class=\"dataframe\">\n",
              "  <thead>\n",
              "    <tr style=\"text-align: right;\">\n",
              "      <th></th>\n",
              "      <th>id1</th>\n",
              "      <th>Description1</th>\n",
              "      <th>id2</th>\n",
              "      <th>Description2</th>\n",
              "      <th>Type of dependency</th>\n",
              "    </tr>\n",
              "  </thead>\n",
              "  <tbody>\n",
              "    <tr>\n",
              "      <th>0</th>\n",
              "      <td>34556</td>\n",
              "      <td>Currently, the \"Watchers\" section in the new i...</td>\n",
              "      <td>8562</td>\n",
              "      <td>We face the problem that we have many proje...</td>\n",
              "      <td>relates</td>\n",
              "    </tr>\n",
              "    <tr>\n",
              "      <th>1</th>\n",
              "      <td>30459</td>\n",
              "      <td>In Redmine 3.4 and earlier, you could update...</td>\n",
              "      <td>34549</td>\n",
              "      <td>Add keyboard shortcuts for the following butto...</td>\n",
              "      <td>blocks</td>\n",
              "    </tr>\n",
              "    <tr>\n",
              "      <th>2</th>\n",
              "      <td>34495</td>\n",
              "      <td>\"Two-factor authentication\" on a new user form...</td>\n",
              "      <td>1237</td>\n",
              "      <td>Please add support for a one time password ...</td>\n",
              "      <td>relates</td>\n",
              "    </tr>\n",
              "    <tr>\n",
              "      <th>3</th>\n",
              "      <td>34340</td>\n",
              "      <td>All projects are displayed in the tracker edit...</td>\n",
              "      <td>6938</td>\n",
              "      <td>I have a few ideas to enhance the edit trac...</td>\n",
              "      <td>relates</td>\n",
              "    </tr>\n",
              "    <tr>\n",
              "      <th>4</th>\n",
              "      <td>33383</td>\n",
              "      <td>jQuery 2 is end of life and we should update ...</td>\n",
              "      <td>34337</td>\n",
              "      <td>#33383#note-3:\\r\\n&gt; Because the update can bre...</td>\n",
              "      <td>relates</td>\n",
              "    </tr>\n",
              "    <tr>\n",
              "      <th>5</th>\n",
              "      <td>34258</td>\n",
              "      <td>When there are many custom fields or projects,...</td>\n",
              "      <td>9258</td>\n",
              "      <td>Allow creating a new role by copying an exi...</td>\n",
              "      <td>relates</td>\n",
              "    </tr>\n",
              "    <tr>\n",
              "      <th>6</th>\n",
              "      <td>34241</td>\n",
              "      <td>The upcoming Redmine 4.2 has a two-factor auth...</td>\n",
              "      <td>1237</td>\n",
              "      <td>Please add support for a one time password ...</td>\n",
              "      <td>relates</td>\n",
              "    </tr>\n",
              "    <tr>\n",
              "      <th>7</th>\n",
              "      <td>29473</td>\n",
              "      <td>While editing issue, Ctrl+Enter should invok...</td>\n",
              "      <td>33918</td>\n",
              "      <td>This feature should be documented on [[Redmine...</td>\n",
              "      <td>precedes</td>\n",
              "    </tr>\n",
              "    <tr>\n",
              "      <th>8</th>\n",
              "      <td>33884</td>\n",
              "      <td>Issue details page shows \"Due in X days\" info...</td>\n",
              "      <td>31499</td>\n",
              "      <td>This patch adds \"Due in X days\" / \"X days lat...</td>\n",
              "      <td>relates</td>\n",
              "    </tr>\n",
              "    <tr>\n",
              "      <th>9</th>\n",
              "      <td>33834</td>\n",
              "      <td>This patch adds open/closed badge to email no...</td>\n",
              "      <td>33254</td>\n",
              "      <td>#29391 added a useful badge that shows the st...</td>\n",
              "      <td>relates</td>\n",
              "    </tr>\n",
              "  </tbody>\n",
              "</table>\n",
              "</div>"
            ],
            "text/plain": [
              "     id1  ... Type of dependency\n",
              "0  34556  ...            relates\n",
              "1  30459  ...             blocks\n",
              "2  34495  ...            relates\n",
              "3  34340  ...            relates\n",
              "4  33383  ...            relates\n",
              "5  34258  ...            relates\n",
              "6  34241  ...            relates\n",
              "7  29473  ...           precedes\n",
              "8  33884  ...            relates\n",
              "9  33834  ...            relates\n",
              "\n",
              "[10 rows x 5 columns]"
            ]
          },
          "metadata": {
            "tags": []
          },
          "execution_count": 15
        }
      ]
    },
    {
      "cell_type": "code",
      "metadata": {
        "colab": {
          "base_uri": "https://localhost:8080/"
        },
        "id": "3ztot0OQVFuP",
        "outputId": "ef56de4b-578d-47c6-f197-987c65102a38"
      },
      "source": [
        "y1,y2 = [],[]\n",
        "y = df2['Description1']\n",
        "z = df2['Description2']\n",
        "for i in range(len(y)):\n",
        "  q = y[i].split(' ')\n",
        "  if len(q) <2:\n",
        "    y1.append(i)\n",
        "for i in range(len(y)):\n",
        "  q1 = z[i].split(' ')\n",
        "  if len(q1) <2:\n",
        "    y2.append(i)\n",
        "print(len(y1))\n",
        "print(len(y2))\n",
        "#q2 = list(set(y1+y2))\n",
        "#df2.drop(q2,inplace=True)\n",
        "#df2 = df2.reset_index(drop=True)"
      ],
      "execution_count": null,
      "outputs": [
        {
          "output_type": "stream",
          "text": [
            "0\n",
            "0\n"
          ],
          "name": "stdout"
        }
      ]
    },
    {
      "cell_type": "code",
      "metadata": {
        "colab": {
          "base_uri": "https://localhost:8080/"
        },
        "id": "0-RUjQgic2M6",
        "outputId": "1d9ac9c8-b129-4f6c-c356-7a736e10031e"
      },
      "source": [
        "# Sentence length analysis\n",
        "q1 = []\n",
        "q = df2['Description1']\n",
        "p = df2['Description2']\n",
        "for i in range(len(q)):\n",
        "  if len(q[i])<15:\n",
        "    q1.append(i)\n",
        "for i in range(len(p)):\n",
        "  if len(p[i])<20:\n",
        "    q1.append(i)\n",
        "\n",
        "print(q1)    "
      ],
      "execution_count": null,
      "outputs": [
        {
          "output_type": "stream",
          "text": [
            "[]\n"
          ],
          "name": "stdout"
        }
      ]
    },
    {
      "cell_type": "code",
      "metadata": {
        "colab": {
          "base_uri": "https://localhost:8080/"
        },
        "id": "GwBktZmV-QYG",
        "outputId": "5e3714c0-f088-40ba-ef16-a479f3bdbed7"
      },
      "source": [
        "df2.shape"
      ],
      "execution_count": null,
      "outputs": [
        {
          "output_type": "execute_result",
          "data": {
            "text/plain": [
              "(5224, 5)"
            ]
          },
          "metadata": {
            "tags": []
          },
          "execution_count": 33
        }
      ]
    },
    {
      "cell_type": "code",
      "metadata": {
        "colab": {
          "base_uri": "https://localhost:8080/"
        },
        "id": "XotgX3FD9KYT",
        "outputId": "00a3fda2-0c35-4b9c-b8aa-816fc29d54fb"
      },
      "source": [
        "df2['Type of dependency'].value_counts()"
      ],
      "execution_count": null,
      "outputs": [
        {
          "output_type": "execute_result",
          "data": {
            "text/plain": [
              "relates       2824\n",
              "duplicates    2326\n",
              "blocks          36\n",
              "copied_to       20\n",
              "precedes        18\n",
              "Name: Type of dependency, dtype: int64"
            ]
          },
          "metadata": {
            "tags": []
          },
          "execution_count": 34
        }
      ]
    },
    {
      "cell_type": "code",
      "metadata": {
        "colab": {
          "base_uri": "https://localhost:8080/"
        },
        "id": "Ws-wjO3DJMDg",
        "outputId": "074cfe53-b99c-4b9b-fe07-b29b7d134271"
      },
      "source": [
        "df2.isnull().sum()"
      ],
      "execution_count": null,
      "outputs": [
        {
          "output_type": "execute_result",
          "data": {
            "text/plain": [
              "id1                   0\n",
              "Description1          0\n",
              "id2                   0\n",
              "Description2          0\n",
              "Type of dependency    0\n",
              "dtype: int64"
            ]
          },
          "metadata": {
            "tags": []
          },
          "execution_count": 35
        }
      ]
    },
    {
      "cell_type": "code",
      "metadata": {
        "id": "54GhoXuchvQa"
      },
      "source": [
        "#df2.to_csv('/content/drive/MyDrive/SENG 607/AL_redmine.csv')"
      ],
      "execution_count": null,
      "outputs": []
    },
    {
      "cell_type": "markdown",
      "metadata": {
        "id": "0a_F7ABoBl0C"
      },
      "source": [
        "**Creating independent pairs**"
      ]
    },
    {
      "cell_type": "code",
      "metadata": {
        "colab": {
          "base_uri": "https://localhost:8080/"
        },
        "id": "GnJSDUuu-Lov",
        "outputId": "c7390757-bb13-4d71-da0d-25dd6d0600d8"
      },
      "source": [
        "df['relationCount'].value_counts()"
      ],
      "execution_count": null,
      "outputs": [
        {
          "output_type": "execute_result",
          "data": {
            "text/plain": [
              "0     3418\n",
              "1     2110\n",
              "2      607\n",
              "3      289\n",
              "4      143\n",
              "5       76\n",
              "6       41\n",
              "7       29\n",
              "8       27\n",
              "9       18\n",
              "10      16\n",
              "13      10\n",
              "11       9\n",
              "12       9\n",
              "16       3\n",
              "17       3\n",
              "28       2\n",
              "24       2\n",
              "27       1\n",
              "23       1\n",
              "14       1\n",
              "18       1\n",
              "22       1\n",
              "15       1\n",
              "21       1\n",
              "Name: relationCount, dtype: int64"
            ]
          },
          "metadata": {
            "tags": []
          },
          "execution_count": 135
        }
      ]
    },
    {
      "cell_type": "code",
      "metadata": {
        "id": "pvuKhnJTBwFr"
      },
      "source": [
        "i1 = []\n",
        "i2 = []\n",
        "d1 = []\n",
        "d2 = []\n",
        "\n",
        "n = df[df['relationCount']==0]['id'].values\n",
        "\n",
        "for i in range(50000):\n",
        "  d = np.random.choice(n,size=2)\n",
        "  i1.append(d[0])\n",
        "  i2.append(d[1])\n",
        "\n",
        "  c = df[df['id']==d[0]]['desc'].to_string()          # For extracting description wrt to each id\n",
        "  c1 = df[df['id']==d[1]]['desc'].to_string()\n",
        "  d1.append(c[5:])\n",
        "  d2.append(c1[5:])"
      ],
      "execution_count": null,
      "outputs": []
    },
    {
      "cell_type": "code",
      "metadata": {
        "id": "yMJRIG-xDCuR"
      },
      "source": [
        "def ext(x):\n",
        "  return 'independent'"
      ],
      "execution_count": null,
      "outputs": []
    },
    {
      "cell_type": "code",
      "metadata": {
        "colab": {
          "base_uri": "https://localhost:8080/",
          "height": 204
        },
        "id": "rnZOk9jCDT5F",
        "outputId": "96fff8cf-3d28-4c55-9edc-56d571945854"
      },
      "source": [
        "df3 = pd.DataFrame({'id1':i1,'Description1':d1,'id2':i2,'Description2':d2})\n",
        "df3.head()"
      ],
      "execution_count": null,
      "outputs": [
        {
          "output_type": "execute_result",
          "data": {
            "text/html": [
              "<div>\n",
              "<style scoped>\n",
              "    .dataframe tbody tr th:only-of-type {\n",
              "        vertical-align: middle;\n",
              "    }\n",
              "\n",
              "    .dataframe tbody tr th {\n",
              "        vertical-align: top;\n",
              "    }\n",
              "\n",
              "    .dataframe thead th {\n",
              "        text-align: right;\n",
              "    }\n",
              "</style>\n",
              "<table border=\"1\" class=\"dataframe\">\n",
              "  <thead>\n",
              "    <tr style=\"text-align: right;\">\n",
              "      <th></th>\n",
              "      <th>id1</th>\n",
              "      <th>Description1</th>\n",
              "      <th>id2</th>\n",
              "      <th>Description2</th>\n",
              "    </tr>\n",
              "  </thead>\n",
              "  <tbody>\n",
              "    <tr>\n",
              "      <th>0</th>\n",
              "      <td>21950</td>\n",
              "      <td>It would be highly useful to those integrat...</td>\n",
              "      <td>4280</td>\n",
              "      <td>Hey,\\r\\n\\r\\nWe have been using Redmine for ...</td>\n",
              "    </tr>\n",
              "    <tr>\n",
              "      <th>1</th>\n",
              "      <td>683</td>\n",
              "      <td>Currently we are able to produce some very ...</td>\n",
              "      <td>414</td>\n",
              "      <td>It would be great to have a feature that ca...</td>\n",
              "    </tr>\n",
              "    <tr>\n",
              "      <th>2</th>\n",
              "      <td>532</td>\n",
              "      <td>I would like for members of my integration ...</td>\n",
              "      <td>22001</td>\n",
              "      <td>I want to export structured PDF´s from wiki...</td>\n",
              "    </tr>\n",
              "    <tr>\n",
              "      <th>3</th>\n",
              "      <td>27381</td>\n",
              "      <td>Would like a hybrid option of % Complete dri...</td>\n",
              "      <td>24151</td>\n",
              "      <td>We use redmine extensively for IT support re...</td>\n",
              "    </tr>\n",
              "    <tr>\n",
              "      <th>4</th>\n",
              "      <td>4672</td>\n",
              "      <td>Currently, when copying a project that cont...</td>\n",
              "      <td>270</td>\n",
              "      <td>How about the ability to add/remove modules...</td>\n",
              "    </tr>\n",
              "  </tbody>\n",
              "</table>\n",
              "</div>"
            ],
            "text/plain": [
              "     id1  ...                                       Description2\n",
              "0  21950  ...     Hey,\\r\\n\\r\\nWe have been using Redmine for ...\n",
              "1    683  ...     It would be great to have a feature that ca...\n",
              "2    532  ...     I want to export structured PDF´s from wiki...\n",
              "3  27381  ...    We use redmine extensively for IT support re...\n",
              "4   4672  ...     How about the ability to add/remove modules...\n",
              "\n",
              "[5 rows x 4 columns]"
            ]
          },
          "metadata": {
            "tags": []
          },
          "execution_count": 138
        }
      ]
    },
    {
      "cell_type": "code",
      "metadata": {
        "id": "nHE5Dq08Eeg1"
      },
      "source": [
        "df3['Type of dependency'] = df3['id1'].apply(ext)"
      ],
      "execution_count": null,
      "outputs": []
    },
    {
      "cell_type": "code",
      "metadata": {
        "colab": {
          "base_uri": "https://localhost:8080/",
          "height": 204
        },
        "id": "16wKOENcEpJB",
        "outputId": "60197860-95f5-483d-ceef-7683ee3431ec"
      },
      "source": [
        "df3.head()"
      ],
      "execution_count": null,
      "outputs": [
        {
          "output_type": "execute_result",
          "data": {
            "text/html": [
              "<div>\n",
              "<style scoped>\n",
              "    .dataframe tbody tr th:only-of-type {\n",
              "        vertical-align: middle;\n",
              "    }\n",
              "\n",
              "    .dataframe tbody tr th {\n",
              "        vertical-align: top;\n",
              "    }\n",
              "\n",
              "    .dataframe thead th {\n",
              "        text-align: right;\n",
              "    }\n",
              "</style>\n",
              "<table border=\"1\" class=\"dataframe\">\n",
              "  <thead>\n",
              "    <tr style=\"text-align: right;\">\n",
              "      <th></th>\n",
              "      <th>id1</th>\n",
              "      <th>Description1</th>\n",
              "      <th>id2</th>\n",
              "      <th>Description2</th>\n",
              "      <th>Type of dependency</th>\n",
              "    </tr>\n",
              "  </thead>\n",
              "  <tbody>\n",
              "    <tr>\n",
              "      <th>0</th>\n",
              "      <td>21950</td>\n",
              "      <td>It would be highly useful to those integrat...</td>\n",
              "      <td>4280</td>\n",
              "      <td>Hey,\\r\\n\\r\\nWe have been using Redmine for ...</td>\n",
              "      <td>independent</td>\n",
              "    </tr>\n",
              "    <tr>\n",
              "      <th>1</th>\n",
              "      <td>683</td>\n",
              "      <td>Currently we are able to produce some very ...</td>\n",
              "      <td>414</td>\n",
              "      <td>It would be great to have a feature that ca...</td>\n",
              "      <td>independent</td>\n",
              "    </tr>\n",
              "    <tr>\n",
              "      <th>2</th>\n",
              "      <td>532</td>\n",
              "      <td>I would like for members of my integration ...</td>\n",
              "      <td>22001</td>\n",
              "      <td>I want to export structured PDF´s from wiki...</td>\n",
              "      <td>independent</td>\n",
              "    </tr>\n",
              "    <tr>\n",
              "      <th>3</th>\n",
              "      <td>27381</td>\n",
              "      <td>Would like a hybrid option of % Complete dri...</td>\n",
              "      <td>24151</td>\n",
              "      <td>We use redmine extensively for IT support re...</td>\n",
              "      <td>independent</td>\n",
              "    </tr>\n",
              "    <tr>\n",
              "      <th>4</th>\n",
              "      <td>4672</td>\n",
              "      <td>Currently, when copying a project that cont...</td>\n",
              "      <td>270</td>\n",
              "      <td>How about the ability to add/remove modules...</td>\n",
              "      <td>independent</td>\n",
              "    </tr>\n",
              "  </tbody>\n",
              "</table>\n",
              "</div>"
            ],
            "text/plain": [
              "     id1  ... Type of dependency\n",
              "0  21950  ...        independent\n",
              "1    683  ...        independent\n",
              "2    532  ...        independent\n",
              "3  27381  ...        independent\n",
              "4   4672  ...        independent\n",
              "\n",
              "[5 rows x 5 columns]"
            ]
          },
          "metadata": {
            "tags": []
          },
          "execution_count": 140
        }
      ]
    },
    {
      "cell_type": "code",
      "metadata": {
        "colab": {
          "base_uri": "https://localhost:8080/"
        },
        "id": "JBg50B9xGTCd",
        "outputId": "9db57528-422d-4995-a6f3-be47d424b413"
      },
      "source": [
        "# Sentence length analysis\n",
        "q1 = []\n",
        "q2 = []\n",
        "q = df3['Description1']\n",
        "p = df3['Description2']\n",
        "for i in range(len(q)):\n",
        "  if len(q[i])<5:\n",
        "    q1.append(i)\n",
        "for i in range(len(p)):\n",
        "  if len(p[i])<5:\n",
        "    q2.append(i)\n",
        "\n",
        "print(q1)\n",
        "print(q2)    "
      ],
      "execution_count": null,
      "outputs": [
        {
          "output_type": "stream",
          "text": [
            "[146, 259, 375, 2166, 2273, 3732, 4640, 5250, 5610, 8199, 10633, 10716, 11129, 11885, 14167, 14188, 14691, 17529, 17957, 19215, 19440, 23505, 24877, 27471, 28370, 29511, 29907, 30007, 33235, 34558, 35542, 36115, 39132, 39177, 39329, 39954, 40545, 40560, 42498, 42899, 44425, 45771, 46986, 47349, 47946, 48875, 49786]\n",
            "[5351, 5836, 6187, 6634, 6721, 6976, 8321, 8996, 9443, 9747, 10418, 10475, 12579, 14221, 14937, 15222, 16351, 16622, 17145, 17745, 18284, 20307, 20318, 25392, 28487, 29122, 29236, 30263, 30798, 31985, 32277, 33049, 33257, 33905, 35048, 35740, 35826, 35982, 38643, 39219, 41356, 42882, 43223, 43310, 43576, 44282, 45316, 45367, 46149, 49424]\n"
          ],
          "name": "stdout"
        }
      ]
    },
    {
      "cell_type": "code",
      "metadata": {
        "id": "wfwmM_doG_el"
      },
      "source": [
        "#Dropping rows\n",
        "w = list(set(q1+q2))\n",
        "df3.drop(w,inplace=True)\n",
        "df3 = df3.reset_index(drop=True)"
      ],
      "execution_count": null,
      "outputs": []
    },
    {
      "cell_type": "code",
      "metadata": {
        "colab": {
          "base_uri": "https://localhost:8080/",
          "height": 204
        },
        "id": "EkVbb7Z7HvXr",
        "outputId": "a96ef688-ba10-45b6-ad2a-17578a1b0fa4"
      },
      "source": [
        "df3.head()"
      ],
      "execution_count": null,
      "outputs": [
        {
          "output_type": "execute_result",
          "data": {
            "text/html": [
              "<div>\n",
              "<style scoped>\n",
              "    .dataframe tbody tr th:only-of-type {\n",
              "        vertical-align: middle;\n",
              "    }\n",
              "\n",
              "    .dataframe tbody tr th {\n",
              "        vertical-align: top;\n",
              "    }\n",
              "\n",
              "    .dataframe thead th {\n",
              "        text-align: right;\n",
              "    }\n",
              "</style>\n",
              "<table border=\"1\" class=\"dataframe\">\n",
              "  <thead>\n",
              "    <tr style=\"text-align: right;\">\n",
              "      <th></th>\n",
              "      <th>id1</th>\n",
              "      <th>Description1</th>\n",
              "      <th>id2</th>\n",
              "      <th>Description2</th>\n",
              "      <th>Type of dependency</th>\n",
              "    </tr>\n",
              "  </thead>\n",
              "  <tbody>\n",
              "    <tr>\n",
              "      <th>0</th>\n",
              "      <td>21950</td>\n",
              "      <td>It would be highly useful to those integrat...</td>\n",
              "      <td>4280</td>\n",
              "      <td>Hey,\\r\\n\\r\\nWe have been using Redmine for ...</td>\n",
              "      <td>independent</td>\n",
              "    </tr>\n",
              "    <tr>\n",
              "      <th>1</th>\n",
              "      <td>683</td>\n",
              "      <td>Currently we are able to produce some very ...</td>\n",
              "      <td>414</td>\n",
              "      <td>It would be great to have a feature that ca...</td>\n",
              "      <td>independent</td>\n",
              "    </tr>\n",
              "    <tr>\n",
              "      <th>2</th>\n",
              "      <td>532</td>\n",
              "      <td>I would like for members of my integration ...</td>\n",
              "      <td>22001</td>\n",
              "      <td>I want to export structured PDF´s from wiki...</td>\n",
              "      <td>independent</td>\n",
              "    </tr>\n",
              "    <tr>\n",
              "      <th>3</th>\n",
              "      <td>27381</td>\n",
              "      <td>Would like a hybrid option of % Complete dri...</td>\n",
              "      <td>24151</td>\n",
              "      <td>We use redmine extensively for IT support re...</td>\n",
              "      <td>independent</td>\n",
              "    </tr>\n",
              "    <tr>\n",
              "      <th>4</th>\n",
              "      <td>4672</td>\n",
              "      <td>Currently, when copying a project that cont...</td>\n",
              "      <td>270</td>\n",
              "      <td>How about the ability to add/remove modules...</td>\n",
              "      <td>independent</td>\n",
              "    </tr>\n",
              "  </tbody>\n",
              "</table>\n",
              "</div>"
            ],
            "text/plain": [
              "     id1  ... Type of dependency\n",
              "0  21950  ...        independent\n",
              "1    683  ...        independent\n",
              "2    532  ...        independent\n",
              "3  27381  ...        independent\n",
              "4   4672  ...        independent\n",
              "\n",
              "[5 rows x 5 columns]"
            ]
          },
          "metadata": {
            "tags": []
          },
          "execution_count": 145
        }
      ]
    },
    {
      "cell_type": "code",
      "metadata": {
        "colab": {
          "base_uri": "https://localhost:8080/"
        },
        "id": "9pMPJ2pUI2hw",
        "outputId": "941b4b8d-b782-4f7f-e0fb-88070058c5a1"
      },
      "source": [
        "df3.isnull().sum()"
      ],
      "execution_count": null,
      "outputs": [
        {
          "output_type": "execute_result",
          "data": {
            "text/plain": [
              "id1                   0\n",
              "Description1          0\n",
              "id2                   0\n",
              "Description2          0\n",
              "Type of dependency    0\n",
              "dtype: int64"
            ]
          },
          "metadata": {
            "tags": []
          },
          "execution_count": 146
        }
      ]
    },
    {
      "cell_type": "code",
      "metadata": {
        "id": "IJ7JwaAkH4KB"
      },
      "source": [
        "#df3.to_csv('/content/drive/MyDrive/SENG 607/Redmine_Neg.csv')"
      ],
      "execution_count": null,
      "outputs": []
    },
    {
      "cell_type": "markdown",
      "metadata": {
        "id": "tsiFgb3dl9jO"
      },
      "source": [
        "**Processed Dependent Data**"
      ]
    },
    {
      "cell_type": "code",
      "metadata": {
        "id": "KsAB4uKcmIDh"
      },
      "source": [
        "fd = pd.read_csv('/content/drive/MyDrive/SENG 607/AL_redmineP.csv')"
      ],
      "execution_count": null,
      "outputs": []
    },
    {
      "cell_type": "code",
      "metadata": {
        "id": "zhfu0FOAoD7G"
      },
      "source": [
        "fd.drop(['Unnamed: 0'],axis=1,inplace=True)"
      ],
      "execution_count": null,
      "outputs": []
    },
    {
      "cell_type": "code",
      "metadata": {
        "colab": {
          "base_uri": "https://localhost:8080/",
          "height": 204
        },
        "id": "Yw2qhWqxoYLW",
        "outputId": "d6da59c6-0559-4b1a-e317-df040612e2e0"
      },
      "source": [
        "fd.head()"
      ],
      "execution_count": null,
      "outputs": [
        {
          "output_type": "execute_result",
          "data": {
            "text/html": [
              "<div>\n",
              "<style scoped>\n",
              "    .dataframe tbody tr th:only-of-type {\n",
              "        vertical-align: middle;\n",
              "    }\n",
              "\n",
              "    .dataframe tbody tr th {\n",
              "        vertical-align: top;\n",
              "    }\n",
              "\n",
              "    .dataframe thead th {\n",
              "        text-align: right;\n",
              "    }\n",
              "</style>\n",
              "<table border=\"1\" class=\"dataframe\">\n",
              "  <thead>\n",
              "    <tr style=\"text-align: right;\">\n",
              "      <th></th>\n",
              "      <th>id1</th>\n",
              "      <th>Description1</th>\n",
              "      <th>id2</th>\n",
              "      <th>Description2</th>\n",
              "      <th>Type of dependency</th>\n",
              "    </tr>\n",
              "  </thead>\n",
              "  <tbody>\n",
              "    <tr>\n",
              "      <th>0</th>\n",
              "      <td>34556</td>\n",
              "      <td>currently watcher section new</td>\n",
              "      <td>8562</td>\n",
              "      <td>face problem many project</td>\n",
              "      <td>relates</td>\n",
              "    </tr>\n",
              "    <tr>\n",
              "      <th>1</th>\n",
              "      <td>30459</td>\n",
              "      <td>redmine earlier could update</td>\n",
              "      <td>34549</td>\n",
              "      <td>add keyboard shortcut following butto</td>\n",
              "      <td>blocks</td>\n",
              "    </tr>\n",
              "    <tr>\n",
              "      <th>2</th>\n",
              "      <td>34495</td>\n",
              "      <td>twofactor authentication new user form</td>\n",
              "      <td>1237</td>\n",
              "      <td>please add support one time password ser</td>\n",
              "      <td>relates</td>\n",
              "    </tr>\n",
              "    <tr>\n",
              "      <th>3</th>\n",
              "      <td>34340</td>\n",
              "      <td>project displayed tracker edit</td>\n",
              "      <td>6938</td>\n",
              "      <td>idea enhance edit tracker</td>\n",
              "      <td>relates</td>\n",
              "    </tr>\n",
              "    <tr>\n",
              "      <th>4</th>\n",
              "      <td>33383</td>\n",
              "      <td>jquery end life update</td>\n",
              "      <td>34337</td>\n",
              "      <td>update bre</td>\n",
              "      <td>relates</td>\n",
              "    </tr>\n",
              "  </tbody>\n",
              "</table>\n",
              "</div>"
            ],
            "text/plain": [
              "     id1  ... Type of dependency\n",
              "0  34556  ...            relates\n",
              "1  30459  ...             blocks\n",
              "2  34495  ...            relates\n",
              "3  34340  ...            relates\n",
              "4  33383  ...            relates\n",
              "\n",
              "[5 rows x 5 columns]"
            ]
          },
          "metadata": {
            "tags": []
          },
          "execution_count": 87
        }
      ]
    },
    {
      "cell_type": "code",
      "metadata": {
        "colab": {
          "base_uri": "https://localhost:8080/"
        },
        "id": "_1AScQTWJ1_g",
        "outputId": "74f99c9f-f173-423f-ad30-f982e915aa9e"
      },
      "source": [
        "fd.shape"
      ],
      "execution_count": null,
      "outputs": [
        {
          "output_type": "execute_result",
          "data": {
            "text/plain": [
              "(5224, 5)"
            ]
          },
          "metadata": {
            "tags": []
          },
          "execution_count": 88
        }
      ]
    },
    {
      "cell_type": "code",
      "metadata": {
        "colab": {
          "base_uri": "https://localhost:8080/"
        },
        "id": "ruoJKGKwnYmN",
        "outputId": "80c53ce1-5b9a-468c-c0eb-588b3683e9af"
      },
      "source": [
        "fd.isnull().sum()"
      ],
      "execution_count": null,
      "outputs": [
        {
          "output_type": "execute_result",
          "data": {
            "text/plain": [
              "id1                    0\n",
              "Description1          22\n",
              "id2                    0\n",
              "Description2          14\n",
              "Type of dependency     0\n",
              "dtype: int64"
            ]
          },
          "metadata": {
            "tags": []
          },
          "execution_count": 89
        }
      ]
    },
    {
      "cell_type": "code",
      "metadata": {
        "id": "JB_fHzucNQhn"
      },
      "source": [
        "fd.dropna(inplace=True)\n",
        "fd = fd.reset_index(drop=True)"
      ],
      "execution_count": null,
      "outputs": []
    },
    {
      "cell_type": "code",
      "metadata": {
        "colab": {
          "base_uri": "https://localhost:8080/"
        },
        "id": "Hv3zHTwRcdvH",
        "outputId": "9dbe445e-d8ec-4d01-f1ec-e2c3caf944d1"
      },
      "source": [
        "y1,y2 = [],[]\n",
        "y = fd['Description1']\n",
        "z = fd['Description2']\n",
        "for i in range(len(y)):\n",
        "  if len(str(y[i])) < 5 :\n",
        "    y1.append(i)\n",
        "for i in range(len(z)):\n",
        "  if len(str(z[i])) < 5 :\n",
        "    y2.append(i)\n",
        "print(len(y1))\n",
        "print(len(y2))\n",
        "r = list(set(y1+y2))"
      ],
      "execution_count": null,
      "outputs": [
        {
          "output_type": "stream",
          "text": [
            "0\n",
            "0\n"
          ],
          "name": "stdout"
        }
      ]
    },
    {
      "cell_type": "code",
      "metadata": {
        "colab": {
          "base_uri": "https://localhost:8080/"
        },
        "id": "5MAavz9encRx",
        "outputId": "02599f65-5ad0-4b09-ec56-e7368f47739b"
      },
      "source": [
        "fd.shape"
      ],
      "execution_count": null,
      "outputs": [
        {
          "output_type": "execute_result",
          "data": {
            "text/plain": [
              "(5190, 5)"
            ]
          },
          "metadata": {
            "tags": []
          },
          "execution_count": 92
        }
      ]
    },
    {
      "cell_type": "code",
      "metadata": {
        "id": "2gX3eIZwpijQ"
      },
      "source": [
        "a = fd[fd['id2']==3713]['Description2'].index\n",
        "b = fd[fd['id2']==1255]['Description2'].index\n",
        "a = list(a)\n",
        "b = list(b)\n",
        "c = a+b\n",
        "fd.drop(c,inplace=True)\n",
        "fd = fd.reset_index(drop=True)"
      ],
      "execution_count": null,
      "outputs": []
    },
    {
      "cell_type": "code",
      "metadata": {
        "colab": {
          "base_uri": "https://localhost:8080/",
          "height": 204
        },
        "id": "_OAsSD2SqNjm",
        "outputId": "fccfda91-47d1-4b84-a9db-eecef48a3f5d"
      },
      "source": [
        "fd.head()"
      ],
      "execution_count": null,
      "outputs": [
        {
          "output_type": "execute_result",
          "data": {
            "text/html": [
              "<div>\n",
              "<style scoped>\n",
              "    .dataframe tbody tr th:only-of-type {\n",
              "        vertical-align: middle;\n",
              "    }\n",
              "\n",
              "    .dataframe tbody tr th {\n",
              "        vertical-align: top;\n",
              "    }\n",
              "\n",
              "    .dataframe thead th {\n",
              "        text-align: right;\n",
              "    }\n",
              "</style>\n",
              "<table border=\"1\" class=\"dataframe\">\n",
              "  <thead>\n",
              "    <tr style=\"text-align: right;\">\n",
              "      <th></th>\n",
              "      <th>id1</th>\n",
              "      <th>Description1</th>\n",
              "      <th>id2</th>\n",
              "      <th>Description2</th>\n",
              "      <th>Type of dependency</th>\n",
              "    </tr>\n",
              "  </thead>\n",
              "  <tbody>\n",
              "    <tr>\n",
              "      <th>0</th>\n",
              "      <td>34556</td>\n",
              "      <td>currently watcher section new</td>\n",
              "      <td>8562</td>\n",
              "      <td>face problem many project</td>\n",
              "      <td>relates</td>\n",
              "    </tr>\n",
              "    <tr>\n",
              "      <th>1</th>\n",
              "      <td>30459</td>\n",
              "      <td>redmine earlier could update</td>\n",
              "      <td>34549</td>\n",
              "      <td>add keyboard shortcut following butto</td>\n",
              "      <td>blocks</td>\n",
              "    </tr>\n",
              "    <tr>\n",
              "      <th>2</th>\n",
              "      <td>34495</td>\n",
              "      <td>twofactor authentication new user form</td>\n",
              "      <td>1237</td>\n",
              "      <td>please add support one time password ser</td>\n",
              "      <td>relates</td>\n",
              "    </tr>\n",
              "    <tr>\n",
              "      <th>3</th>\n",
              "      <td>34340</td>\n",
              "      <td>project displayed tracker edit</td>\n",
              "      <td>6938</td>\n",
              "      <td>idea enhance edit tracker</td>\n",
              "      <td>relates</td>\n",
              "    </tr>\n",
              "    <tr>\n",
              "      <th>4</th>\n",
              "      <td>33383</td>\n",
              "      <td>jquery end life update</td>\n",
              "      <td>34337</td>\n",
              "      <td>update bre</td>\n",
              "      <td>relates</td>\n",
              "    </tr>\n",
              "  </tbody>\n",
              "</table>\n",
              "</div>"
            ],
            "text/plain": [
              "     id1  ... Type of dependency\n",
              "0  34556  ...            relates\n",
              "1  30459  ...             blocks\n",
              "2  34495  ...            relates\n",
              "3  34340  ...            relates\n",
              "4  33383  ...            relates\n",
              "\n",
              "[5 rows x 5 columns]"
            ]
          },
          "metadata": {
            "tags": []
          },
          "execution_count": 95
        }
      ]
    },
    {
      "cell_type": "code",
      "metadata": {
        "colab": {
          "base_uri": "https://localhost:8080/"
        },
        "id": "FBxTU7OHqQdl",
        "outputId": "3c2ed737-1f78-4b77-c3f1-f8f5646dfef2"
      },
      "source": [
        "fd.shape"
      ],
      "execution_count": null,
      "outputs": [
        {
          "output_type": "execute_result",
          "data": {
            "text/plain": [
              "(5186, 5)"
            ]
          },
          "metadata": {
            "tags": []
          },
          "execution_count": 96
        }
      ]
    },
    {
      "cell_type": "code",
      "metadata": {
        "colab": {
          "base_uri": "https://localhost:8080/"
        },
        "id": "kcXf-CETMr3x",
        "outputId": "5f50ede4-b6b7-4aca-fb54-8d92ec8012d0"
      },
      "source": [
        "fd.isnull().sum()"
      ],
      "execution_count": null,
      "outputs": [
        {
          "output_type": "execute_result",
          "data": {
            "text/plain": [
              "id1                   0\n",
              "Description1          0\n",
              "id2                   0\n",
              "Description2          0\n",
              "Type of dependency    0\n",
              "dtype: int64"
            ]
          },
          "metadata": {
            "tags": []
          },
          "execution_count": 97
        }
      ]
    },
    {
      "cell_type": "code",
      "metadata": {
        "colab": {
          "base_uri": "https://localhost:8080/"
        },
        "id": "_5X5EmtR6dD4",
        "outputId": "ffe9d735-2d35-468b-e8ff-486a59f00b9c"
      },
      "source": [
        "fd['Type of dependency'].value_counts()"
      ],
      "execution_count": null,
      "outputs": [
        {
          "output_type": "execute_result",
          "data": {
            "text/plain": [
              "relates       2804\n",
              "duplicates    2310\n",
              "blocks          36\n",
              "copied_to       18\n",
              "precedes        18\n",
              "Name: Type of dependency, dtype: int64"
            ]
          },
          "metadata": {
            "tags": []
          },
          "execution_count": 98
        }
      ]
    },
    {
      "cell_type": "code",
      "metadata": {
        "id": "ylC64No6n_rJ"
      },
      "source": [
        "#fd.to_csv('/content/drive/MyDrive/Redmine_Processed_ALPos.csv')"
      ],
      "execution_count": null,
      "outputs": []
    },
    {
      "cell_type": "markdown",
      "metadata": {
        "id": "p0etGTms2xHi"
      },
      "source": [
        "**Independent pairs processed data**"
      ]
    },
    {
      "cell_type": "code",
      "metadata": {
        "id": "5SeOEXSX6SwD"
      },
      "source": [
        "fd1 = pd.read_csv('/content/drive/MyDrive/SENG 607/AL_redmine_IndP.csv')"
      ],
      "execution_count": null,
      "outputs": []
    },
    {
      "cell_type": "code",
      "metadata": {
        "id": "uqYAsEDuLCse"
      },
      "source": [
        "fd1.drop(['Unnamed: 0'],axis=1,inplace=True)"
      ],
      "execution_count": null,
      "outputs": []
    },
    {
      "cell_type": "code",
      "metadata": {
        "colab": {
          "base_uri": "https://localhost:8080/",
          "height": 204
        },
        "id": "mXUZSP9kK5Vh",
        "outputId": "c5e04651-a618-4569-85f0-f60c78caa873"
      },
      "source": [
        "fd1.head()"
      ],
      "execution_count": null,
      "outputs": [
        {
          "output_type": "execute_result",
          "data": {
            "text/html": [
              "<div>\n",
              "<style scoped>\n",
              "    .dataframe tbody tr th:only-of-type {\n",
              "        vertical-align: middle;\n",
              "    }\n",
              "\n",
              "    .dataframe tbody tr th {\n",
              "        vertical-align: top;\n",
              "    }\n",
              "\n",
              "    .dataframe thead th {\n",
              "        text-align: right;\n",
              "    }\n",
              "</style>\n",
              "<table border=\"1\" class=\"dataframe\">\n",
              "  <thead>\n",
              "    <tr style=\"text-align: right;\">\n",
              "      <th></th>\n",
              "      <th>id1</th>\n",
              "      <th>Description1</th>\n",
              "      <th>id2</th>\n",
              "      <th>Description2</th>\n",
              "      <th>Type of dependency</th>\n",
              "    </tr>\n",
              "  </thead>\n",
              "  <tbody>\n",
              "    <tr>\n",
              "      <th>0</th>\n",
              "      <td>3314</td>\n",
              "      <td>editing user detail via admin panel</td>\n",
              "      <td>544</td>\n",
              "      <td>issue summary page get summar</td>\n",
              "      <td>independent</td>\n",
              "    </tr>\n",
              "    <tr>\n",
              "      <th>1</th>\n",
              "      <td>27315</td>\n",
              "      <td>sort column attachment alphabetical</td>\n",
              "      <td>12628</td>\n",
              "      <td>would also great enhancement</td>\n",
              "      <td>independent</td>\n",
              "    </tr>\n",
              "    <tr>\n",
              "      <th>2</th>\n",
              "      <td>27211</td>\n",
              "      <td>import field missing project let kno</td>\n",
              "      <td>6268</td>\n",
              "      <td>issue easy way get</td>\n",
              "      <td>independent</td>\n",
              "    </tr>\n",
              "    <tr>\n",
              "      <th>3</th>\n",
              "      <td>547</td>\n",
              "      <td>wiki extremely practical documentat</td>\n",
              "      <td>4695</td>\n",
              "      <td>redmine could provide special stack trace form</td>\n",
              "      <td>independent</td>\n",
              "    </tr>\n",
              "    <tr>\n",
              "      <th>4</th>\n",
              "      <td>4717</td>\n",
              "      <td>observed rndirect link</td>\n",
              "      <td>18122</td>\n",
              "      <td>installation tutorial step regarding</td>\n",
              "      <td>independent</td>\n",
              "    </tr>\n",
              "  </tbody>\n",
              "</table>\n",
              "</div>"
            ],
            "text/plain": [
              "     id1  ... Type of dependency\n",
              "0   3314  ...        independent\n",
              "1  27315  ...        independent\n",
              "2  27211  ...        independent\n",
              "3    547  ...        independent\n",
              "4   4717  ...        independent\n",
              "\n",
              "[5 rows x 5 columns]"
            ]
          },
          "metadata": {
            "tags": []
          },
          "execution_count": 125
        }
      ]
    },
    {
      "cell_type": "code",
      "metadata": {
        "colab": {
          "base_uri": "https://localhost:8080/"
        },
        "id": "DGxDZfm_a8oA",
        "outputId": "3b040f15-2422-40fa-901b-04ce1545039d"
      },
      "source": [
        "y1,y2 = [],[]\n",
        "y = fd1['Description1']\n",
        "z = fd1['Description2']\n",
        "for i in range(len(y)):\n",
        "  if len(str(y[i])) < 6 :\n",
        "    y1.append(i)\n",
        "for i in range(len(z)):\n",
        "  if len(str(z[i])) < 6 :\n",
        "    y2.append(i)\n",
        "print(len(y1))\n",
        "print(len(y2))\n",
        "r = list(set(y1+y2))"
      ],
      "execution_count": null,
      "outputs": [
        {
          "output_type": "stream",
          "text": [
            "346\n",
            "334\n"
          ],
          "name": "stdout"
        }
      ]
    },
    {
      "cell_type": "code",
      "metadata": {
        "id": "xPzEvsY4bldq"
      },
      "source": [
        "fd1.drop(r,inplace=True)\n",
        "fd1 = fd1.reset_index(drop=True)"
      ],
      "execution_count": null,
      "outputs": []
    },
    {
      "cell_type": "code",
      "metadata": {
        "colab": {
          "base_uri": "https://localhost:8080/",
          "height": 204
        },
        "id": "goxIlGnfUCwx",
        "outputId": "53de1cd0-e646-4ff7-ec07-ffd94d1c3189"
      },
      "source": [
        "fd1.head()"
      ],
      "execution_count": null,
      "outputs": [
        {
          "output_type": "execute_result",
          "data": {
            "text/html": [
              "<div>\n",
              "<style scoped>\n",
              "    .dataframe tbody tr th:only-of-type {\n",
              "        vertical-align: middle;\n",
              "    }\n",
              "\n",
              "    .dataframe tbody tr th {\n",
              "        vertical-align: top;\n",
              "    }\n",
              "\n",
              "    .dataframe thead th {\n",
              "        text-align: right;\n",
              "    }\n",
              "</style>\n",
              "<table border=\"1\" class=\"dataframe\">\n",
              "  <thead>\n",
              "    <tr style=\"text-align: right;\">\n",
              "      <th></th>\n",
              "      <th>id1</th>\n",
              "      <th>Description1</th>\n",
              "      <th>id2</th>\n",
              "      <th>Description2</th>\n",
              "      <th>Type of dependency</th>\n",
              "    </tr>\n",
              "  </thead>\n",
              "  <tbody>\n",
              "    <tr>\n",
              "      <th>0</th>\n",
              "      <td>3314</td>\n",
              "      <td>editing user detail via admin panel</td>\n",
              "      <td>544</td>\n",
              "      <td>issue summary page get summar</td>\n",
              "      <td>independent</td>\n",
              "    </tr>\n",
              "    <tr>\n",
              "      <th>1</th>\n",
              "      <td>27315</td>\n",
              "      <td>sort column attachment alphabetical</td>\n",
              "      <td>12628</td>\n",
              "      <td>would also great enhancement</td>\n",
              "      <td>independent</td>\n",
              "    </tr>\n",
              "    <tr>\n",
              "      <th>2</th>\n",
              "      <td>27211</td>\n",
              "      <td>import field missing project let kno</td>\n",
              "      <td>6268</td>\n",
              "      <td>issue easy way get</td>\n",
              "      <td>independent</td>\n",
              "    </tr>\n",
              "    <tr>\n",
              "      <th>3</th>\n",
              "      <td>547</td>\n",
              "      <td>wiki extremely practical documentat</td>\n",
              "      <td>4695</td>\n",
              "      <td>redmine could provide special stack trace form</td>\n",
              "      <td>independent</td>\n",
              "    </tr>\n",
              "    <tr>\n",
              "      <th>4</th>\n",
              "      <td>4717</td>\n",
              "      <td>observed rndirect link</td>\n",
              "      <td>18122</td>\n",
              "      <td>installation tutorial step regarding</td>\n",
              "      <td>independent</td>\n",
              "    </tr>\n",
              "  </tbody>\n",
              "</table>\n",
              "</div>"
            ],
            "text/plain": [
              "     id1  ... Type of dependency\n",
              "0   3314  ...        independent\n",
              "1  27315  ...        independent\n",
              "2  27211  ...        independent\n",
              "3    547  ...        independent\n",
              "4   4717  ...        independent\n",
              "\n",
              "[5 rows x 5 columns]"
            ]
          },
          "metadata": {
            "tags": []
          },
          "execution_count": 128
        }
      ]
    },
    {
      "cell_type": "code",
      "metadata": {
        "colab": {
          "base_uri": "https://localhost:8080/"
        },
        "id": "H_x7v1CPflUE",
        "outputId": "713d86ea-c6e4-4b4b-ca47-7a9f021d95fe"
      },
      "source": [
        "u,u1 = [],[]\n",
        "drop1 = [9152,6660,5843,5842,5848,2886,7897,4553,9153,6516,2338,8665,78662,7673,13170,8402,5841,4937,6106]\n",
        "drop2 = [7196,6160,7862,2886,9251,4553,8752,8791,806,7869,6106,5377,8635,8791,13787,8260,8752,1255,342,9251]\n",
        "drop = drop1+drop2\n",
        "for i in drop:\n",
        "  a = fd1[fd1['id2']==i]['Description2'].index\n",
        "  a = list(a)\n",
        "  for j in a:\n",
        "    u.append(j)\n",
        "print(len(u))\n",
        "\n",
        "drop2 = [7196,6160,7862,2886,9251,4553,8752,8791,806,7869,6106,5377,8635,8791,13787,8260,8752,1255,342,9251]\n",
        "for i in drop:\n",
        "  b = fd1[fd1['id1']==i]['Description1'].index\n",
        "  b = list(b)\n",
        "  for j in b:\n",
        "    u1.append(j)\n",
        "print(len(u1))\n",
        "s = list(set(u1+u))\n",
        "print(len(s))"
      ],
      "execution_count": null,
      "outputs": [
        {
          "output_type": "stream",
          "text": [
            "543\n",
            "521\n",
            "863\n"
          ],
          "name": "stdout"
        }
      ]
    },
    {
      "cell_type": "code",
      "metadata": {
        "id": "dj2518Axof5c"
      },
      "source": [
        "fd1.drop(s,inplace=True)\n",
        "fd1 = fd1.reset_index(drop=True)"
      ],
      "execution_count": null,
      "outputs": []
    },
    {
      "cell_type": "code",
      "metadata": {
        "colab": {
          "base_uri": "https://localhost:8080/",
          "height": 204
        },
        "id": "eJemMKzto2hU",
        "outputId": "4c69e8e8-73a5-4d8c-fc39-f13797ea0f60"
      },
      "source": [
        "fd1.head()"
      ],
      "execution_count": null,
      "outputs": [
        {
          "output_type": "execute_result",
          "data": {
            "text/html": [
              "<div>\n",
              "<style scoped>\n",
              "    .dataframe tbody tr th:only-of-type {\n",
              "        vertical-align: middle;\n",
              "    }\n",
              "\n",
              "    .dataframe tbody tr th {\n",
              "        vertical-align: top;\n",
              "    }\n",
              "\n",
              "    .dataframe thead th {\n",
              "        text-align: right;\n",
              "    }\n",
              "</style>\n",
              "<table border=\"1\" class=\"dataframe\">\n",
              "  <thead>\n",
              "    <tr style=\"text-align: right;\">\n",
              "      <th></th>\n",
              "      <th>id1</th>\n",
              "      <th>Description1</th>\n",
              "      <th>id2</th>\n",
              "      <th>Description2</th>\n",
              "      <th>Type of dependency</th>\n",
              "    </tr>\n",
              "  </thead>\n",
              "  <tbody>\n",
              "    <tr>\n",
              "      <th>0</th>\n",
              "      <td>3314</td>\n",
              "      <td>editing user detail via admin panel</td>\n",
              "      <td>544</td>\n",
              "      <td>issue summary page get summar</td>\n",
              "      <td>independent</td>\n",
              "    </tr>\n",
              "    <tr>\n",
              "      <th>1</th>\n",
              "      <td>27315</td>\n",
              "      <td>sort column attachment alphabetical</td>\n",
              "      <td>12628</td>\n",
              "      <td>would also great enhancement</td>\n",
              "      <td>independent</td>\n",
              "    </tr>\n",
              "    <tr>\n",
              "      <th>2</th>\n",
              "      <td>27211</td>\n",
              "      <td>import field missing project let kno</td>\n",
              "      <td>6268</td>\n",
              "      <td>issue easy way get</td>\n",
              "      <td>independent</td>\n",
              "    </tr>\n",
              "    <tr>\n",
              "      <th>3</th>\n",
              "      <td>547</td>\n",
              "      <td>wiki extremely practical documentat</td>\n",
              "      <td>4695</td>\n",
              "      <td>redmine could provide special stack trace form</td>\n",
              "      <td>independent</td>\n",
              "    </tr>\n",
              "    <tr>\n",
              "      <th>4</th>\n",
              "      <td>4717</td>\n",
              "      <td>observed rndirect link</td>\n",
              "      <td>18122</td>\n",
              "      <td>installation tutorial step regarding</td>\n",
              "      <td>independent</td>\n",
              "    </tr>\n",
              "  </tbody>\n",
              "</table>\n",
              "</div>"
            ],
            "text/plain": [
              "     id1  ... Type of dependency\n",
              "0   3314  ...        independent\n",
              "1  27315  ...        independent\n",
              "2  27211  ...        independent\n",
              "3    547  ...        independent\n",
              "4   4717  ...        independent\n",
              "\n",
              "[5 rows x 5 columns]"
            ]
          },
          "metadata": {
            "tags": []
          },
          "execution_count": 131
        }
      ]
    },
    {
      "cell_type": "code",
      "metadata": {
        "colab": {
          "base_uri": "https://localhost:8080/"
        },
        "id": "C32nbnOgo4Xo",
        "outputId": "89a36b1a-0497-4c95-d238-1ef9db088d0d"
      },
      "source": [
        "fd1.isnull().sum()"
      ],
      "execution_count": null,
      "outputs": [
        {
          "output_type": "execute_result",
          "data": {
            "text/plain": [
              "id1                   0\n",
              "Description1          0\n",
              "id2                   0\n",
              "Description2          0\n",
              "Type of dependency    0\n",
              "dtype: int64"
            ]
          },
          "metadata": {
            "tags": []
          },
          "execution_count": 132
        }
      ]
    },
    {
      "cell_type": "code",
      "metadata": {
        "id": "qrDdlSHspN6F"
      },
      "source": [
        "#fd1.to_csv('/content/drive/MyDrive/Redmine_Processed_ALNeg.csv')"
      ],
      "execution_count": null,
      "outputs": []
    },
    {
      "cell_type": "markdown",
      "metadata": {
        "id": "shpvBnKKWZMU"
      },
      "source": [
        "**BERT DATASET**"
      ]
    },
    {
      "cell_type": "code",
      "metadata": {
        "id": "IqaF1SPCpbFk"
      },
      "source": [
        "ber = pd.read_csv('/content/drive/MyDrive/SENG 607/Redmine_Processed_BERTinit.csv')"
      ],
      "execution_count": null,
      "outputs": []
    },
    {
      "cell_type": "code",
      "metadata": {
        "colab": {
          "base_uri": "https://localhost:8080/",
          "height": 204
        },
        "id": "NlP7cuWxYsVy",
        "outputId": "ffc9b008-00f5-485a-9dfb-6e4ae22a7213"
      },
      "source": [
        "ber.head()"
      ],
      "execution_count": null,
      "outputs": [
        {
          "output_type": "execute_result",
          "data": {
            "text/html": [
              "<div>\n",
              "<style scoped>\n",
              "    .dataframe tbody tr th:only-of-type {\n",
              "        vertical-align: middle;\n",
              "    }\n",
              "\n",
              "    .dataframe tbody tr th {\n",
              "        vertical-align: top;\n",
              "    }\n",
              "\n",
              "    .dataframe thead th {\n",
              "        text-align: right;\n",
              "    }\n",
              "</style>\n",
              "<table border=\"1\" class=\"dataframe\">\n",
              "  <thead>\n",
              "    <tr style=\"text-align: right;\">\n",
              "      <th></th>\n",
              "      <th>Unnamed: 0</th>\n",
              "      <th>id1</th>\n",
              "      <th>Description1</th>\n",
              "      <th>id2</th>\n",
              "      <th>Description2</th>\n",
              "      <th>Type of dependency</th>\n",
              "    </tr>\n",
              "  </thead>\n",
              "  <tbody>\n",
              "    <tr>\n",
              "      <th>0</th>\n",
              "      <td>0</td>\n",
              "      <td>34556</td>\n",
              "      <td>currently the watchers section in the new i</td>\n",
              "      <td>8562</td>\n",
              "      <td>we face the problem that we have many project</td>\n",
              "      <td>relates</td>\n",
              "    </tr>\n",
              "    <tr>\n",
              "      <th>1</th>\n",
              "      <td>1</td>\n",
              "      <td>30459</td>\n",
              "      <td>in redmine and earlier you could update t</td>\n",
              "      <td>34549</td>\n",
              "      <td>add keyboard shortcuts for the following butto</td>\n",
              "      <td>blocks</td>\n",
              "    </tr>\n",
              "    <tr>\n",
              "      <th>2</th>\n",
              "      <td>2</td>\n",
              "      <td>34495</td>\n",
              "      <td>twofactor authentication on new user form</td>\n",
              "      <td>1237</td>\n",
              "      <td>please add support for one time password ser</td>\n",
              "      <td>relates</td>\n",
              "    </tr>\n",
              "    <tr>\n",
              "      <th>3</th>\n",
              "      <td>3</td>\n",
              "      <td>34340</td>\n",
              "      <td>all projects are displayed in the tracker edit</td>\n",
              "      <td>6938</td>\n",
              "      <td>have few ideas to enhance the edit tracker</td>\n",
              "      <td>relates</td>\n",
              "    </tr>\n",
              "    <tr>\n",
              "      <th>4</th>\n",
              "      <td>4</td>\n",
              "      <td>33383</td>\n",
              "      <td>jquery is end of life and we should update t</td>\n",
              "      <td>34337</td>\n",
              "      <td>because the update can bre</td>\n",
              "      <td>relates</td>\n",
              "    </tr>\n",
              "  </tbody>\n",
              "</table>\n",
              "</div>"
            ],
            "text/plain": [
              "   Unnamed: 0  ...  Type of dependency\n",
              "0           0  ...             relates\n",
              "1           1  ...              blocks\n",
              "2           2  ...             relates\n",
              "3           3  ...             relates\n",
              "4           4  ...             relates\n",
              "\n",
              "[5 rows x 6 columns]"
            ]
          },
          "metadata": {
            "tags": []
          },
          "execution_count": 191
        }
      ]
    },
    {
      "cell_type": "code",
      "metadata": {
        "colab": {
          "base_uri": "https://localhost:8080/"
        },
        "id": "HxKisS4rYtNg",
        "outputId": "d7ba0769-5966-43c8-ead8-2ce69d9e899d"
      },
      "source": [
        "ber.isnull().sum()"
      ],
      "execution_count": null,
      "outputs": [
        {
          "output_type": "execute_result",
          "data": {
            "text/plain": [
              "Unnamed: 0             0\n",
              "id1                    0\n",
              "Description1          20\n",
              "id2                    0\n",
              "Description2          14\n",
              "Type of dependency     0\n",
              "dtype: int64"
            ]
          },
          "metadata": {
            "tags": []
          },
          "execution_count": 192
        }
      ]
    },
    {
      "cell_type": "code",
      "metadata": {
        "id": "-XtDFn19YwPw"
      },
      "source": [
        "ber.drop(['Unnamed: 0'],axis=1,inplace=True)"
      ],
      "execution_count": null,
      "outputs": []
    },
    {
      "cell_type": "code",
      "metadata": {
        "id": "srNr3PxpY68_"
      },
      "source": [
        "ber.dropna(inplace=True)\n",
        "ber = ber.reset_index(drop=True)"
      ],
      "execution_count": null,
      "outputs": []
    },
    {
      "cell_type": "code",
      "metadata": {
        "colab": {
          "base_uri": "https://localhost:8080/",
          "height": 204
        },
        "id": "-o-B1kM0ZBFt",
        "outputId": "f24c7797-88b6-4f88-a7ec-3fb4620ea6a6"
      },
      "source": [
        "ber.head()"
      ],
      "execution_count": null,
      "outputs": [
        {
          "output_type": "execute_result",
          "data": {
            "text/html": [
              "<div>\n",
              "<style scoped>\n",
              "    .dataframe tbody tr th:only-of-type {\n",
              "        vertical-align: middle;\n",
              "    }\n",
              "\n",
              "    .dataframe tbody tr th {\n",
              "        vertical-align: top;\n",
              "    }\n",
              "\n",
              "    .dataframe thead th {\n",
              "        text-align: right;\n",
              "    }\n",
              "</style>\n",
              "<table border=\"1\" class=\"dataframe\">\n",
              "  <thead>\n",
              "    <tr style=\"text-align: right;\">\n",
              "      <th></th>\n",
              "      <th>id1</th>\n",
              "      <th>Description1</th>\n",
              "      <th>id2</th>\n",
              "      <th>Description2</th>\n",
              "      <th>Type of dependency</th>\n",
              "    </tr>\n",
              "  </thead>\n",
              "  <tbody>\n",
              "    <tr>\n",
              "      <th>0</th>\n",
              "      <td>34556</td>\n",
              "      <td>currently the watchers section in the new i</td>\n",
              "      <td>8562</td>\n",
              "      <td>we face the problem that we have many project</td>\n",
              "      <td>relates</td>\n",
              "    </tr>\n",
              "    <tr>\n",
              "      <th>1</th>\n",
              "      <td>30459</td>\n",
              "      <td>in redmine and earlier you could update t</td>\n",
              "      <td>34549</td>\n",
              "      <td>add keyboard shortcuts for the following butto</td>\n",
              "      <td>blocks</td>\n",
              "    </tr>\n",
              "    <tr>\n",
              "      <th>2</th>\n",
              "      <td>34495</td>\n",
              "      <td>twofactor authentication on new user form</td>\n",
              "      <td>1237</td>\n",
              "      <td>please add support for one time password ser</td>\n",
              "      <td>relates</td>\n",
              "    </tr>\n",
              "    <tr>\n",
              "      <th>3</th>\n",
              "      <td>34340</td>\n",
              "      <td>all projects are displayed in the tracker edit</td>\n",
              "      <td>6938</td>\n",
              "      <td>have few ideas to enhance the edit tracker</td>\n",
              "      <td>relates</td>\n",
              "    </tr>\n",
              "    <tr>\n",
              "      <th>4</th>\n",
              "      <td>33383</td>\n",
              "      <td>jquery is end of life and we should update t</td>\n",
              "      <td>34337</td>\n",
              "      <td>because the update can bre</td>\n",
              "      <td>relates</td>\n",
              "    </tr>\n",
              "  </tbody>\n",
              "</table>\n",
              "</div>"
            ],
            "text/plain": [
              "     id1  ... Type of dependency\n",
              "0  34556  ...            relates\n",
              "1  30459  ...             blocks\n",
              "2  34495  ...            relates\n",
              "3  34340  ...            relates\n",
              "4  33383  ...            relates\n",
              "\n",
              "[5 rows x 5 columns]"
            ]
          },
          "metadata": {
            "tags": []
          },
          "execution_count": 198
        }
      ]
    },
    {
      "cell_type": "code",
      "metadata": {
        "colab": {
          "base_uri": "https://localhost:8080/"
        },
        "id": "0YE8cCR6ZCMR",
        "outputId": "af8c675e-1a9c-4a51-d3f8-ca218cc73999"
      },
      "source": [
        "ber.isnull().sum()"
      ],
      "execution_count": null,
      "outputs": [
        {
          "output_type": "execute_result",
          "data": {
            "text/plain": [
              "id1                   0\n",
              "Description1          0\n",
              "id2                   0\n",
              "Description2          0\n",
              "Type of dependency    0\n",
              "dtype: int64"
            ]
          },
          "metadata": {
            "tags": []
          },
          "execution_count": 196
        }
      ]
    },
    {
      "cell_type": "code",
      "metadata": {
        "id": "a_uoU7IuZFhm"
      },
      "source": [
        "#ber.to_csv('/content/drive/MyDrive/SENG 607/Redmine_Processed_BERTPos.csv')"
      ],
      "execution_count": null,
      "outputs": []
    },
    {
      "cell_type": "markdown",
      "metadata": {
        "id": "4TeGvKVtaU_i"
      },
      "source": [
        "**BERT independent**"
      ]
    },
    {
      "cell_type": "code",
      "metadata": {
        "id": "OpICbiqSaaFg"
      },
      "source": [
        "beri = pd.read_csv('/content/drive/MyDrive/SENG 607/Redmine_Processed_BERTNeginit.csv')"
      ],
      "execution_count": null,
      "outputs": []
    },
    {
      "cell_type": "code",
      "metadata": {
        "id": "EOzpo0m-bvC9"
      },
      "source": [
        "beri.drop(['Unnamed: 0'],axis=1,inplace=True)"
      ],
      "execution_count": null,
      "outputs": []
    },
    {
      "cell_type": "code",
      "metadata": {
        "colab": {
          "base_uri": "https://localhost:8080/",
          "height": 204
        },
        "id": "Y69vofHhb1DF",
        "outputId": "90edeaf9-7597-494c-dccc-fbdb71fb80c3"
      },
      "source": [
        "beri.head()"
      ],
      "execution_count": null,
      "outputs": [
        {
          "output_type": "execute_result",
          "data": {
            "text/html": [
              "<div>\n",
              "<style scoped>\n",
              "    .dataframe tbody tr th:only-of-type {\n",
              "        vertical-align: middle;\n",
              "    }\n",
              "\n",
              "    .dataframe tbody tr th {\n",
              "        vertical-align: top;\n",
              "    }\n",
              "\n",
              "    .dataframe thead th {\n",
              "        text-align: right;\n",
              "    }\n",
              "</style>\n",
              "<table border=\"1\" class=\"dataframe\">\n",
              "  <thead>\n",
              "    <tr style=\"text-align: right;\">\n",
              "      <th></th>\n",
              "      <th>id1</th>\n",
              "      <th>Description1</th>\n",
              "      <th>id2</th>\n",
              "      <th>Description2</th>\n",
              "      <th>Type of dependency</th>\n",
              "    </tr>\n",
              "  </thead>\n",
              "  <tbody>\n",
              "    <tr>\n",
              "      <th>0</th>\n",
              "      <td>21950</td>\n",
              "      <td>it would be highly useful to those integrating</td>\n",
              "      <td>4280</td>\n",
              "      <td>heyrnrnwe have been using redmine for our</td>\n",
              "      <td>independent</td>\n",
              "    </tr>\n",
              "    <tr>\n",
              "      <th>1</th>\n",
              "      <td>683</td>\n",
              "      <td>currently we are able to produce some very nic</td>\n",
              "      <td>414</td>\n",
              "      <td>it would be great to have feature that can d</td>\n",
              "      <td>independent</td>\n",
              "    </tr>\n",
              "    <tr>\n",
              "      <th>2</th>\n",
              "      <td>532</td>\n",
              "      <td>would like for members of my integration pro</td>\n",
              "      <td>22001</td>\n",
              "      <td>want to export structured pdfs from wiki i</td>\n",
              "      <td>independent</td>\n",
              "    </tr>\n",
              "    <tr>\n",
              "      <th>3</th>\n",
              "      <td>27381</td>\n",
              "      <td>would like hybrid option of complete drive</td>\n",
              "      <td>24151</td>\n",
              "      <td>we use redmine extensively for it support requ</td>\n",
              "      <td>independent</td>\n",
              "    </tr>\n",
              "    <tr>\n",
              "      <th>4</th>\n",
              "      <td>4672</td>\n",
              "      <td>currently when copying project that contain</td>\n",
              "      <td>270</td>\n",
              "      <td>how about the ability to addremove modules on</td>\n",
              "      <td>independent</td>\n",
              "    </tr>\n",
              "  </tbody>\n",
              "</table>\n",
              "</div>"
            ],
            "text/plain": [
              "     id1  ... Type of dependency\n",
              "0  21950  ...        independent\n",
              "1    683  ...        independent\n",
              "2    532  ...        independent\n",
              "3  27381  ...        independent\n",
              "4   4672  ...        independent\n",
              "\n",
              "[5 rows x 5 columns]"
            ]
          },
          "metadata": {
            "tags": []
          },
          "execution_count": 208
        }
      ]
    },
    {
      "cell_type": "code",
      "metadata": {
        "colab": {
          "base_uri": "https://localhost:8080/"
        },
        "id": "EzIkZrOhb18V",
        "outputId": "8097be5b-270c-4bc3-80c6-2c7b5afa8a96"
      },
      "source": [
        "beri.shape"
      ],
      "execution_count": null,
      "outputs": [
        {
          "output_type": "execute_result",
          "data": {
            "text/plain": [
              "(49903, 5)"
            ]
          },
          "metadata": {
            "tags": []
          },
          "execution_count": 209
        }
      ]
    },
    {
      "cell_type": "code",
      "metadata": {
        "colab": {
          "base_uri": "https://localhost:8080/"
        },
        "id": "R6JlRYBJb31k",
        "outputId": "8c0163f3-7001-4b16-c63f-7ed93494509b"
      },
      "source": [
        "beri.isnull().sum()"
      ],
      "execution_count": null,
      "outputs": [
        {
          "output_type": "execute_result",
          "data": {
            "text/plain": [
              "id1                     0\n",
              "Description1          168\n",
              "id2                     0\n",
              "Description2          170\n",
              "Type of dependency      0\n",
              "dtype: int64"
            ]
          },
          "metadata": {
            "tags": []
          },
          "execution_count": 210
        }
      ]
    },
    {
      "cell_type": "code",
      "metadata": {
        "id": "TIsgbqaxb6Em"
      },
      "source": [
        "beri.dropna(inplace=True)\n",
        "beri = beri.reset_index(drop=True)"
      ],
      "execution_count": null,
      "outputs": []
    },
    {
      "cell_type": "code",
      "metadata": {
        "colab": {
          "base_uri": "https://localhost:8080/",
          "height": 204
        },
        "id": "x9buJxfkcBTO",
        "outputId": "91032b99-8abb-4a2e-aa2d-eec3ba6b3e98"
      },
      "source": [
        "beri.head()"
      ],
      "execution_count": null,
      "outputs": [
        {
          "output_type": "execute_result",
          "data": {
            "text/html": [
              "<div>\n",
              "<style scoped>\n",
              "    .dataframe tbody tr th:only-of-type {\n",
              "        vertical-align: middle;\n",
              "    }\n",
              "\n",
              "    .dataframe tbody tr th {\n",
              "        vertical-align: top;\n",
              "    }\n",
              "\n",
              "    .dataframe thead th {\n",
              "        text-align: right;\n",
              "    }\n",
              "</style>\n",
              "<table border=\"1\" class=\"dataframe\">\n",
              "  <thead>\n",
              "    <tr style=\"text-align: right;\">\n",
              "      <th></th>\n",
              "      <th>id1</th>\n",
              "      <th>Description1</th>\n",
              "      <th>id2</th>\n",
              "      <th>Description2</th>\n",
              "      <th>Type of dependency</th>\n",
              "    </tr>\n",
              "  </thead>\n",
              "  <tbody>\n",
              "    <tr>\n",
              "      <th>0</th>\n",
              "      <td>21950</td>\n",
              "      <td>it would be highly useful to those integrating</td>\n",
              "      <td>4280</td>\n",
              "      <td>heyrnrnwe have been using redmine for our</td>\n",
              "      <td>independent</td>\n",
              "    </tr>\n",
              "    <tr>\n",
              "      <th>1</th>\n",
              "      <td>683</td>\n",
              "      <td>currently we are able to produce some very nic</td>\n",
              "      <td>414</td>\n",
              "      <td>it would be great to have feature that can d</td>\n",
              "      <td>independent</td>\n",
              "    </tr>\n",
              "    <tr>\n",
              "      <th>2</th>\n",
              "      <td>532</td>\n",
              "      <td>would like for members of my integration pro</td>\n",
              "      <td>22001</td>\n",
              "      <td>want to export structured pdfs from wiki i</td>\n",
              "      <td>independent</td>\n",
              "    </tr>\n",
              "    <tr>\n",
              "      <th>3</th>\n",
              "      <td>27381</td>\n",
              "      <td>would like hybrid option of complete drive</td>\n",
              "      <td>24151</td>\n",
              "      <td>we use redmine extensively for it support requ</td>\n",
              "      <td>independent</td>\n",
              "    </tr>\n",
              "    <tr>\n",
              "      <th>4</th>\n",
              "      <td>4672</td>\n",
              "      <td>currently when copying project that contain</td>\n",
              "      <td>270</td>\n",
              "      <td>how about the ability to addremove modules on</td>\n",
              "      <td>independent</td>\n",
              "    </tr>\n",
              "  </tbody>\n",
              "</table>\n",
              "</div>"
            ],
            "text/plain": [
              "     id1  ... Type of dependency\n",
              "0  21950  ...        independent\n",
              "1    683  ...        independent\n",
              "2    532  ...        independent\n",
              "3  27381  ...        independent\n",
              "4   4672  ...        independent\n",
              "\n",
              "[5 rows x 5 columns]"
            ]
          },
          "metadata": {
            "tags": []
          },
          "execution_count": 216
        }
      ]
    },
    {
      "cell_type": "code",
      "metadata": {
        "colab": {
          "base_uri": "https://localhost:8080/"
        },
        "id": "f2zaOZ9ecIah",
        "outputId": "b6c6a559-4359-4b6e-c9af-5f535c842493"
      },
      "source": [
        "beri.isnull().sum()"
      ],
      "execution_count": null,
      "outputs": [
        {
          "output_type": "execute_result",
          "data": {
            "text/plain": [
              "id1                   0\n",
              "Description1          0\n",
              "id2                   0\n",
              "Description2          0\n",
              "Type of dependency    0\n",
              "dtype: int64"
            ]
          },
          "metadata": {
            "tags": []
          },
          "execution_count": 213
        }
      ]
    },
    {
      "cell_type": "code",
      "metadata": {
        "colab": {
          "base_uri": "https://localhost:8080/"
        },
        "id": "Jwwk6tsUcK3h",
        "outputId": "43f417d8-b306-423f-ba9d-f5535a645225"
      },
      "source": [
        "beri.shape"
      ],
      "execution_count": null,
      "outputs": [
        {
          "output_type": "execute_result",
          "data": {
            "text/plain": [
              "(49566, 5)"
            ]
          },
          "metadata": {
            "tags": []
          },
          "execution_count": 217
        }
      ]
    },
    {
      "cell_type": "code",
      "metadata": {
        "id": "2bp_giDCcXwl"
      },
      "source": [
        "#beri.to_csv('/content/drive/MyDrive/SENG 607/Redmine_Processed_BERTNeg.csv')"
      ],
      "execution_count": null,
      "outputs": []
    }
  ]
}