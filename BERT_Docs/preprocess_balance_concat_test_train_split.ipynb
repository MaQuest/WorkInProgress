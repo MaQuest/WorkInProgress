{
  "nbformat": 4,
  "nbformat_minor": 0,
  "metadata": {
    "colab": {
      "name": "new_generating_typo3.ipynb",
      "provenance": [],
      "collapsed_sections": []
    },
    "kernelspec": {
      "name": "python3",
      "display_name": "Python 3"
    },
    "language_info": {
      "name": "python"
    }
  },
  "cells": [
    {
      "cell_type": "code",
      "metadata": {
        "id": "rLxIsO10lS_s"
      },
      "source": [
        "import pandas as pd\n",
        "from sklearn.feature_extraction.text import CountVectorizer,TfidfTransformer\n",
        "from sklearn.model_selection import GridSearchCV\n",
        "from sklearn.ensemble import RandomForestClassifier\n",
        "from sklearn import metrics\n",
        "import numpy as np\n",
        "import warnings\n",
        "from sklearn.preprocessing import LabelEncoder \n",
        "from sklearn.model_selection import cross_val_score,train_test_split\n",
        "import re, string, unicodedata\n",
        "from nltk.corpus import stopwords\n",
        "from nltk.stem import LancasterStemmer, WordNetLemmatizer\n",
        "from html.parser import HTMLParser\n",
        "html_parser = HTMLParser()"
      ],
      "execution_count": null,
      "outputs": []
    },
    {
      "cell_type": "code",
      "metadata": {
        "colab": {
          "base_uri": "https://localhost:8080/"
        },
        "id": "HtAQ0kUWlYgW",
        "outputId": "925531f5-ce25-41e9-aa0a-28fd32bc7623"
      },
      "source": [
        "from google.colab import drive\n",
        "drive.mount('/content/gdrive')"
      ],
      "execution_count": null,
      "outputs": [
        {
          "output_type": "stream",
          "text": [
            "Drive already mounted at /content/gdrive; to attempt to forcibly remount, call drive.mount(\"/content/gdrive\", force_remount=True).\n"
          ],
          "name": "stdout"
        }
      ]
    },
    {
      "cell_type": "code",
      "metadata": {
        "id": "x-UbfsFnln-K"
      },
      "source": [
        "df_pos=pd.read_csv(\"/content/gdrive/MyDrive/seng607/test_negative_roi/Redmine_Pos.csv\")\n"
      ],
      "execution_count": null,
      "outputs": []
    },
    {
      "cell_type": "code",
      "metadata": {
        "colab": {
          "base_uri": "https://localhost:8080/",
          "height": 306
        },
        "id": "7PuBba1nlw0W",
        "outputId": "224d78f9-0c06-494a-e510-da3f8dee830a"
      },
      "source": [
        "df_pos.head()"
      ],
      "execution_count": null,
      "outputs": [
        {
          "output_type": "execute_result",
          "data": {
            "text/html": [
              "<div>\n",
              "<style scoped>\n",
              "    .dataframe tbody tr th:only-of-type {\n",
              "        vertical-align: middle;\n",
              "    }\n",
              "\n",
              "    .dataframe tbody tr th {\n",
              "        vertical-align: top;\n",
              "    }\n",
              "\n",
              "    .dataframe thead th {\n",
              "        text-align: right;\n",
              "    }\n",
              "</style>\n",
              "<table border=\"1\" class=\"dataframe\">\n",
              "  <thead>\n",
              "    <tr style=\"text-align: right;\">\n",
              "      <th></th>\n",
              "      <th>Unnamed: 0</th>\n",
              "      <th>id1</th>\n",
              "      <th>Description1</th>\n",
              "      <th>id2</th>\n",
              "      <th>Description2</th>\n",
              "      <th>Type of dependency</th>\n",
              "    </tr>\n",
              "  </thead>\n",
              "  <tbody>\n",
              "    <tr>\n",
              "      <th>0</th>\n",
              "      <td>0</td>\n",
              "      <td>34556</td>\n",
              "      <td>Currently, the \"Watchers\" section in the new i...</td>\n",
              "      <td>8562</td>\n",
              "      <td>We face the problem that we have many proje...</td>\n",
              "      <td>relates</td>\n",
              "    </tr>\n",
              "    <tr>\n",
              "      <th>1</th>\n",
              "      <td>1</td>\n",
              "      <td>30459</td>\n",
              "      <td>In Redmine 3.4 and earlier, you could update...</td>\n",
              "      <td>34549</td>\n",
              "      <td>Add keyboard shortcuts for the following butto...</td>\n",
              "      <td>blocks</td>\n",
              "    </tr>\n",
              "    <tr>\n",
              "      <th>2</th>\n",
              "      <td>2</td>\n",
              "      <td>34495</td>\n",
              "      <td>\"Two-factor authentication\" on a new user form...</td>\n",
              "      <td>1237</td>\n",
              "      <td>Please add support for a one time password ...</td>\n",
              "      <td>relates</td>\n",
              "    </tr>\n",
              "    <tr>\n",
              "      <th>3</th>\n",
              "      <td>3</td>\n",
              "      <td>34340</td>\n",
              "      <td>All projects are displayed in the tracker edit...</td>\n",
              "      <td>6938</td>\n",
              "      <td>I have a few ideas to enhance the edit trac...</td>\n",
              "      <td>relates</td>\n",
              "    </tr>\n",
              "    <tr>\n",
              "      <th>4</th>\n",
              "      <td>4</td>\n",
              "      <td>33383</td>\n",
              "      <td>jQuery 2 is end of life and we should update ...</td>\n",
              "      <td>34337</td>\n",
              "      <td>#33383#note-3:\\r\\n&gt; Because the update can bre...</td>\n",
              "      <td>relates</td>\n",
              "    </tr>\n",
              "  </tbody>\n",
              "</table>\n",
              "</div>"
            ],
            "text/plain": [
              "   Unnamed: 0  ...  Type of dependency\n",
              "0           0  ...             relates\n",
              "1           1  ...              blocks\n",
              "2           2  ...             relates\n",
              "3           3  ...             relates\n",
              "4           4  ...             relates\n",
              "\n",
              "[5 rows x 6 columns]"
            ]
          },
          "metadata": {
            "tags": []
          },
          "execution_count": 6
        }
      ]
    },
    {
      "cell_type": "code",
      "metadata": {
        "colab": {
          "base_uri": "https://localhost:8080/"
        },
        "id": "oFE1d5Gtlyz1",
        "outputId": "fe86945a-e2e9-40dc-ee5c-0870500b7187"
      },
      "source": [
        "df_pos.info()"
      ],
      "execution_count": null,
      "outputs": [
        {
          "output_type": "stream",
          "text": [
            "<class 'pandas.core.frame.DataFrame'>\n",
            "RangeIndex: 5224 entries, 0 to 5223\n",
            "Data columns (total 6 columns):\n",
            " #   Column              Non-Null Count  Dtype \n",
            "---  ------              --------------  ----- \n",
            " 0   Unnamed: 0          5224 non-null   int64 \n",
            " 1   id1                 5224 non-null   int64 \n",
            " 2   Description1        5224 non-null   object\n",
            " 3   id2                 5224 non-null   int64 \n",
            " 4   Description2        5224 non-null   object\n",
            " 5   Type of dependency  5224 non-null   object\n",
            "dtypes: int64(3), object(3)\n",
            "memory usage: 245.0+ KB\n"
          ],
          "name": "stdout"
        }
      ]
    },
    {
      "cell_type": "code",
      "metadata": {
        "id": "a7y7DgsVmV6I"
      },
      "source": [
        "df_neg=pd.read_csv(\"/content/gdrive/MyDrive/seng607/test_negative_roi/Redmine_Neg.csv\")"
      ],
      "execution_count": null,
      "outputs": []
    },
    {
      "cell_type": "code",
      "metadata": {
        "colab": {
          "base_uri": "https://localhost:8080/",
          "height": 306
        },
        "id": "nsLVdSjImawT",
        "outputId": "b0d37e2f-5cfe-4286-f7ae-fc85b8f42136"
      },
      "source": [
        "df_neg.head()"
      ],
      "execution_count": null,
      "outputs": [
        {
          "output_type": "execute_result",
          "data": {
            "text/html": [
              "<div>\n",
              "<style scoped>\n",
              "    .dataframe tbody tr th:only-of-type {\n",
              "        vertical-align: middle;\n",
              "    }\n",
              "\n",
              "    .dataframe tbody tr th {\n",
              "        vertical-align: top;\n",
              "    }\n",
              "\n",
              "    .dataframe thead th {\n",
              "        text-align: right;\n",
              "    }\n",
              "</style>\n",
              "<table border=\"1\" class=\"dataframe\">\n",
              "  <thead>\n",
              "    <tr style=\"text-align: right;\">\n",
              "      <th></th>\n",
              "      <th>Unnamed: 0</th>\n",
              "      <th>id1</th>\n",
              "      <th>Description1</th>\n",
              "      <th>id2</th>\n",
              "      <th>Description2</th>\n",
              "      <th>Type of dependency</th>\n",
              "    </tr>\n",
              "  </thead>\n",
              "  <tbody>\n",
              "    <tr>\n",
              "      <th>0</th>\n",
              "      <td>0</td>\n",
              "      <td>21950</td>\n",
              "      <td>It would be highly useful to those integrat...</td>\n",
              "      <td>4280</td>\n",
              "      <td>Hey,\\r\\n\\r\\nWe have been using Redmine for ...</td>\n",
              "      <td>independent</td>\n",
              "    </tr>\n",
              "    <tr>\n",
              "      <th>1</th>\n",
              "      <td>1</td>\n",
              "      <td>683</td>\n",
              "      <td>Currently we are able to produce some very ...</td>\n",
              "      <td>414</td>\n",
              "      <td>It would be great to have a feature that ca...</td>\n",
              "      <td>independent</td>\n",
              "    </tr>\n",
              "    <tr>\n",
              "      <th>2</th>\n",
              "      <td>2</td>\n",
              "      <td>532</td>\n",
              "      <td>I would like for members of my integration ...</td>\n",
              "      <td>22001</td>\n",
              "      <td>I want to export structured PDF´s from wiki...</td>\n",
              "      <td>independent</td>\n",
              "    </tr>\n",
              "    <tr>\n",
              "      <th>3</th>\n",
              "      <td>3</td>\n",
              "      <td>27381</td>\n",
              "      <td>Would like a hybrid option of % Complete dri...</td>\n",
              "      <td>24151</td>\n",
              "      <td>We use redmine extensively for IT support re...</td>\n",
              "      <td>independent</td>\n",
              "    </tr>\n",
              "    <tr>\n",
              "      <th>4</th>\n",
              "      <td>4</td>\n",
              "      <td>4672</td>\n",
              "      <td>Currently, when copying a project that cont...</td>\n",
              "      <td>270</td>\n",
              "      <td>How about the ability to add/remove modules...</td>\n",
              "      <td>independent</td>\n",
              "    </tr>\n",
              "  </tbody>\n",
              "</table>\n",
              "</div>"
            ],
            "text/plain": [
              "   Unnamed: 0  ...  Type of dependency\n",
              "0           0  ...         independent\n",
              "1           1  ...         independent\n",
              "2           2  ...         independent\n",
              "3           3  ...         independent\n",
              "4           4  ...         independent\n",
              "\n",
              "[5 rows x 6 columns]"
            ]
          },
          "metadata": {
            "tags": []
          },
          "execution_count": 9
        }
      ]
    },
    {
      "cell_type": "code",
      "metadata": {
        "colab": {
          "base_uri": "https://localhost:8080/"
        },
        "id": "x-WvxiJJmdp_",
        "outputId": "e529048f-6508-44ba-9d96-7ef4a5a311ae"
      },
      "source": [
        "df_neg.info()"
      ],
      "execution_count": null,
      "outputs": [
        {
          "output_type": "stream",
          "text": [
            "<class 'pandas.core.frame.DataFrame'>\n",
            "RangeIndex: 49903 entries, 0 to 49902\n",
            "Data columns (total 6 columns):\n",
            " #   Column              Non-Null Count  Dtype \n",
            "---  ------              --------------  ----- \n",
            " 0   Unnamed: 0          49903 non-null  int64 \n",
            " 1   id1                 49903 non-null  int64 \n",
            " 2   Description1        49903 non-null  object\n",
            " 3   id2                 49903 non-null  int64 \n",
            " 4   Description2        49903 non-null  object\n",
            " 5   Type of dependency  49903 non-null  object\n",
            "dtypes: int64(3), object(3)\n",
            "memory usage: 2.3+ MB\n"
          ],
          "name": "stdout"
        }
      ]
    },
    {
      "cell_type": "code",
      "metadata": {
        "id": "eC1VJmLr8MP8"
      },
      "source": [
        "def processData(df_pos):\n",
        "\n",
        "    for i in range(len(df_pos)):\n",
        "          sample=df_pos.iloc[i].Description1\n",
        "          # print(\"req1\",sample,'\\n')\n",
        "          sample =  re.sub(r\"http\\S+\", \"\", sample)\n",
        "          sample = re.sub(r\"[\\[\\],@\\'?\\.$%_:()\\-\\\"&;<>{}|+!*#]\", \" \", sample, flags=re.I)\n",
        "          sample = re.sub(r\"\\s+[a-zA-Z]\\s+\", \" \", sample)\n",
        "          sample = ' '.join(w for w in sample.split() if not any(x.isdigit() for x in w))\n",
        "          sample =sample.lower()\n",
        "          words=sample\n",
        "          words = words.split() \n",
        "          noise_free_words = [word for word in words if not word.isdigit()]\n",
        "          noise_free_text = \" \".join(noise_free_words)\n",
        "          df_pos.at[i, 'Description1']= noise_free_text\n",
        "          # end of req1\n",
        "          sample2=df_pos.iloc[i].Description2\n",
        "          # print(\"req2\",sample,\"\\n\")\n",
        "          sample2 =  re.sub(r\"http\\S+\", \"\", sample2)\n",
        "          sample2 = re.sub(r\"[\\[\\],@\\'?\\.$%_:()\\-\\\"&;<>{}|+!*#]\", \" \", sample2, flags=re.I)\n",
        "          sample2 = re.sub(r\"\\s+[a-zA-Z]\\s+\", \" \", sample2)\n",
        "          sample2 = ' '.join(w for w in sample2.split() if not any(x.isdigit() for x in w))\n",
        "          sample2 =sample2.lower()\n",
        "          words=sample2\n",
        "          words = words.split() \n",
        "          noise_free_words = [word for word in words if not word.isdigit()]\n",
        "          noise_free_text = \" \".join(noise_free_words)\n",
        "          df_pos.at[i, 'Description2']= noise_free_text          \n",
        "    return df_pos"
      ],
      "execution_count": null,
      "outputs": []
    },
    {
      "cell_type": "code",
      "metadata": {
        "id": "78E5_Jcy8Pad"
      },
      "source": [
        "df_firefox_pos=processData(df_pos)"
      ],
      "execution_count": null,
      "outputs": []
    },
    {
      "cell_type": "code",
      "metadata": {
        "id": "ZXy7FNdc8xg_"
      },
      "source": [
        "df_firefox_neg=processData(df_neg)"
      ],
      "execution_count": null,
      "outputs": []
    },
    {
      "cell_type": "code",
      "metadata": {
        "colab": {
          "base_uri": "https://localhost:8080/"
        },
        "id": "IcR-0SOU8R6n",
        "outputId": "e6223dc8-37e3-4f93-b8f7-baba750e858d"
      },
      "source": [
        "df_firefox_pos.info()"
      ],
      "execution_count": null,
      "outputs": [
        {
          "output_type": "stream",
          "text": [
            "<class 'pandas.core.frame.DataFrame'>\n",
            "RangeIndex: 5224 entries, 0 to 5223\n",
            "Data columns (total 6 columns):\n",
            " #   Column              Non-Null Count  Dtype \n",
            "---  ------              --------------  ----- \n",
            " 0   Unnamed: 0          5224 non-null   int64 \n",
            " 1   id1                 5224 non-null   int64 \n",
            " 2   Description1        5224 non-null   object\n",
            " 3   id2                 5224 non-null   int64 \n",
            " 4   Description2        5224 non-null   object\n",
            " 5   Type of dependency  5224 non-null   object\n",
            "dtypes: int64(3), object(3)\n",
            "memory usage: 245.0+ KB\n"
          ],
          "name": "stdout"
        }
      ]
    },
    {
      "cell_type": "code",
      "metadata": {
        "colab": {
          "base_uri": "https://localhost:8080/"
        },
        "id": "emmrq41s814m",
        "outputId": "a532f5ea-c4cd-4a24-beaa-5b8861b81fc7"
      },
      "source": [
        "df_firefox_neg.info()"
      ],
      "execution_count": null,
      "outputs": [
        {
          "output_type": "stream",
          "text": [
            "<class 'pandas.core.frame.DataFrame'>\n",
            "RangeIndex: 49903 entries, 0 to 49902\n",
            "Data columns (total 6 columns):\n",
            " #   Column              Non-Null Count  Dtype \n",
            "---  ------              --------------  ----- \n",
            " 0   Unnamed: 0          49903 non-null  int64 \n",
            " 1   id1                 49903 non-null  int64 \n",
            " 2   Description1        49903 non-null  object\n",
            " 3   id2                 49903 non-null  int64 \n",
            " 4   Description2        49903 non-null  object\n",
            " 5   Type of dependency  49903 non-null  object\n",
            "dtypes: int64(3), object(3)\n",
            "memory usage: 2.3+ MB\n"
          ],
          "name": "stdout"
        }
      ]
    },
    {
      "cell_type": "code",
      "metadata": {
        "colab": {
          "base_uri": "https://localhost:8080/",
          "height": 306
        },
        "id": "rCWZa8EY8UIS",
        "outputId": "867eff13-d25e-41bc-c18c-86ccff462e38"
      },
      "source": [
        "df_firefox_pos.head()"
      ],
      "execution_count": null,
      "outputs": [
        {
          "output_type": "execute_result",
          "data": {
            "text/html": [
              "<div>\n",
              "<style scoped>\n",
              "    .dataframe tbody tr th:only-of-type {\n",
              "        vertical-align: middle;\n",
              "    }\n",
              "\n",
              "    .dataframe tbody tr th {\n",
              "        vertical-align: top;\n",
              "    }\n",
              "\n",
              "    .dataframe thead th {\n",
              "        text-align: right;\n",
              "    }\n",
              "</style>\n",
              "<table border=\"1\" class=\"dataframe\">\n",
              "  <thead>\n",
              "    <tr style=\"text-align: right;\">\n",
              "      <th></th>\n",
              "      <th>Unnamed: 0</th>\n",
              "      <th>id1</th>\n",
              "      <th>Description1</th>\n",
              "      <th>id2</th>\n",
              "      <th>Description2</th>\n",
              "      <th>Type of dependency</th>\n",
              "    </tr>\n",
              "  </thead>\n",
              "  <tbody>\n",
              "    <tr>\n",
              "      <th>0</th>\n",
              "      <td>0</td>\n",
              "      <td>34556</td>\n",
              "      <td>currently the watchers section in the new</td>\n",
              "      <td>8562</td>\n",
              "      <td>we face the problem that we have many project</td>\n",
              "      <td>relates</td>\n",
              "    </tr>\n",
              "    <tr>\n",
              "      <th>1</th>\n",
              "      <td>1</td>\n",
              "      <td>30459</td>\n",
              "      <td>in redmine and earlier you could update</td>\n",
              "      <td>34549</td>\n",
              "      <td>add keyboard shortcuts for the following butto</td>\n",
              "      <td>blocks</td>\n",
              "    </tr>\n",
              "    <tr>\n",
              "      <th>2</th>\n",
              "      <td>2</td>\n",
              "      <td>34495</td>\n",
              "      <td>two factor authentication on new user form</td>\n",
              "      <td>1237</td>\n",
              "      <td>please add support for one time password ser</td>\n",
              "      <td>relates</td>\n",
              "    </tr>\n",
              "    <tr>\n",
              "      <th>3</th>\n",
              "      <td>3</td>\n",
              "      <td>34340</td>\n",
              "      <td>all projects are displayed in the tracker edit</td>\n",
              "      <td>6938</td>\n",
              "      <td>have few ideas to enhance the edit tracker</td>\n",
              "      <td>relates</td>\n",
              "    </tr>\n",
              "    <tr>\n",
              "      <th>4</th>\n",
              "      <td>4</td>\n",
              "      <td>33383</td>\n",
              "      <td>jquery is end of life and we should update</td>\n",
              "      <td>34337</td>\n",
              "      <td>note \\r\\n because the update can bre</td>\n",
              "      <td>relates</td>\n",
              "    </tr>\n",
              "  </tbody>\n",
              "</table>\n",
              "</div>"
            ],
            "text/plain": [
              "   Unnamed: 0  ...  Type of dependency\n",
              "0           0  ...             relates\n",
              "1           1  ...              blocks\n",
              "2           2  ...             relates\n",
              "3           3  ...             relates\n",
              "4           4  ...             relates\n",
              "\n",
              "[5 rows x 6 columns]"
            ]
          },
          "metadata": {
            "tags": []
          },
          "execution_count": 16
        }
      ]
    },
    {
      "cell_type": "code",
      "metadata": {
        "colab": {
          "base_uri": "https://localhost:8080/",
          "height": 306
        },
        "id": "F3gLpGbf85Vc",
        "outputId": "85706623-2ba7-49dc-fdae-ed56f866801d"
      },
      "source": [
        "df_firefox_neg.head()"
      ],
      "execution_count": null,
      "outputs": [
        {
          "output_type": "execute_result",
          "data": {
            "text/html": [
              "<div>\n",
              "<style scoped>\n",
              "    .dataframe tbody tr th:only-of-type {\n",
              "        vertical-align: middle;\n",
              "    }\n",
              "\n",
              "    .dataframe tbody tr th {\n",
              "        vertical-align: top;\n",
              "    }\n",
              "\n",
              "    .dataframe thead th {\n",
              "        text-align: right;\n",
              "    }\n",
              "</style>\n",
              "<table border=\"1\" class=\"dataframe\">\n",
              "  <thead>\n",
              "    <tr style=\"text-align: right;\">\n",
              "      <th></th>\n",
              "      <th>Unnamed: 0</th>\n",
              "      <th>id1</th>\n",
              "      <th>Description1</th>\n",
              "      <th>id2</th>\n",
              "      <th>Description2</th>\n",
              "      <th>Type of dependency</th>\n",
              "    </tr>\n",
              "  </thead>\n",
              "  <tbody>\n",
              "    <tr>\n",
              "      <th>0</th>\n",
              "      <td>0</td>\n",
              "      <td>21950</td>\n",
              "      <td>it would be highly useful to those integrating</td>\n",
              "      <td>4280</td>\n",
              "      <td>hey \\r\\n\\r\\nwe have been using redmine for our</td>\n",
              "      <td>independent</td>\n",
              "    </tr>\n",
              "    <tr>\n",
              "      <th>1</th>\n",
              "      <td>1</td>\n",
              "      <td>683</td>\n",
              "      <td>currently we are able to produce some very nic</td>\n",
              "      <td>414</td>\n",
              "      <td>it would be great to have feature that can</td>\n",
              "      <td>independent</td>\n",
              "    </tr>\n",
              "    <tr>\n",
              "      <th>2</th>\n",
              "      <td>2</td>\n",
              "      <td>532</td>\n",
              "      <td>would like for members of my integration pro</td>\n",
              "      <td>22001</td>\n",
              "      <td>want to export structured pdf´s from wiki</td>\n",
              "      <td>independent</td>\n",
              "    </tr>\n",
              "    <tr>\n",
              "      <th>3</th>\n",
              "      <td>3</td>\n",
              "      <td>27381</td>\n",
              "      <td>would like hybrid option of complete drive</td>\n",
              "      <td>24151</td>\n",
              "      <td>we use redmine extensively for it support requ</td>\n",
              "      <td>independent</td>\n",
              "    </tr>\n",
              "    <tr>\n",
              "      <th>4</th>\n",
              "      <td>4</td>\n",
              "      <td>4672</td>\n",
              "      <td>currently when copying project that contain</td>\n",
              "      <td>270</td>\n",
              "      <td>how about the ability to add/remove modules on</td>\n",
              "      <td>independent</td>\n",
              "    </tr>\n",
              "  </tbody>\n",
              "</table>\n",
              "</div>"
            ],
            "text/plain": [
              "   Unnamed: 0  ...  Type of dependency\n",
              "0           0  ...         independent\n",
              "1           1  ...         independent\n",
              "2           2  ...         independent\n",
              "3           3  ...         independent\n",
              "4           4  ...         independent\n",
              "\n",
              "[5 rows x 6 columns]"
            ]
          },
          "metadata": {
            "tags": []
          },
          "execution_count": 17
        }
      ]
    },
    {
      "cell_type": "code",
      "metadata": {
        "colab": {
          "base_uri": "https://localhost:8080/"
        },
        "id": "__1Wed_w8WdI",
        "outputId": "7321c2ae-af3b-4005-9b81-027e54521516"
      },
      "source": [
        "print(df_firefox_pos.shape)\n",
        "print(df_firefox_pos.isnull().sum())"
      ],
      "execution_count": null,
      "outputs": [
        {
          "output_type": "stream",
          "text": [
            "(5224, 6)\n",
            "Unnamed: 0            0\n",
            "id1                   0\n",
            "Description1          0\n",
            "id2                   0\n",
            "Description2          0\n",
            "Type of dependency    0\n",
            "dtype: int64\n"
          ],
          "name": "stdout"
        }
      ]
    },
    {
      "cell_type": "code",
      "metadata": {
        "id": "m_q9tLZs8YR8"
      },
      "source": [
        "df_firefox_pos.dropna(inplace=True)\n",
        "df_firefox_pos = df_firefox_pos.reset_index(drop=True)"
      ],
      "execution_count": null,
      "outputs": []
    },
    {
      "cell_type": "code",
      "metadata": {
        "colab": {
          "base_uri": "https://localhost:8080/"
        },
        "id": "PxnjN1tv89DQ",
        "outputId": "211b48cb-9132-455c-a319-984440b653c0"
      },
      "source": [
        "print(df_firefox_neg.shape)\n",
        "print(df_firefox_neg.isnull().sum())"
      ],
      "execution_count": null,
      "outputs": [
        {
          "output_type": "stream",
          "text": [
            "(49903, 6)\n",
            "Unnamed: 0            0\n",
            "id1                   0\n",
            "Description1          0\n",
            "id2                   0\n",
            "Description2          0\n",
            "Type of dependency    0\n",
            "dtype: int64\n"
          ],
          "name": "stdout"
        }
      ]
    },
    {
      "cell_type": "code",
      "metadata": {
        "id": "6vC4YgFN89Tq"
      },
      "source": [
        "df_firefox_neg.dropna(inplace=True)\n",
        "df_firefox_neg = df_firefox_neg.reset_index(drop=True)"
      ],
      "execution_count": null,
      "outputs": []
    },
    {
      "cell_type": "code",
      "metadata": {
        "colab": {
          "base_uri": "https://localhost:8080/"
        },
        "id": "urQ142f9AltP",
        "outputId": "e93f85b4-c9fb-4e11-f287-2ba1e488f41f"
      },
      "source": [
        "print(df_firefox_pos['Type of dependency'].value_counts())"
      ],
      "execution_count": null,
      "outputs": [
        {
          "output_type": "stream",
          "text": [
            "relates       2824\n",
            "duplicates    2326\n",
            "blocks          36\n",
            "copied_to       20\n",
            "precedes        18\n",
            "Name: Type of dependency, dtype: int64\n"
          ],
          "name": "stdout"
        }
      ]
    },
    {
      "cell_type": "code",
      "metadata": {
        "colab": {
          "base_uri": "https://localhost:8080/",
          "height": 606
        },
        "id": "nfGjNI8laixZ",
        "outputId": "4eb708be-6b83-49e6-f71d-30bd3cbfed15"
      },
      "source": [
        "# df_firefox_pos.loc[df_firefox_pos['Type of dependency'] == 'relates']"
      ],
      "execution_count": null,
      "outputs": [
        {
          "output_type": "execute_result",
          "data": {
            "text/html": [
              "<div>\n",
              "<style scoped>\n",
              "    .dataframe tbody tr th:only-of-type {\n",
              "        vertical-align: middle;\n",
              "    }\n",
              "\n",
              "    .dataframe tbody tr th {\n",
              "        vertical-align: top;\n",
              "    }\n",
              "\n",
              "    .dataframe thead th {\n",
              "        text-align: right;\n",
              "    }\n",
              "</style>\n",
              "<table border=\"1\" class=\"dataframe\">\n",
              "  <thead>\n",
              "    <tr style=\"text-align: right;\">\n",
              "      <th></th>\n",
              "      <th>Unnamed: 0</th>\n",
              "      <th>id1</th>\n",
              "      <th>Description1</th>\n",
              "      <th>id2</th>\n",
              "      <th>Description2</th>\n",
              "      <th>Type of dependency</th>\n",
              "    </tr>\n",
              "  </thead>\n",
              "  <tbody>\n",
              "    <tr>\n",
              "      <th>0</th>\n",
              "      <td>0</td>\n",
              "      <td>87457</td>\n",
              "      <td>this patch introduces the requirement to symfo</td>\n",
              "      <td>93197</td>\n",
              "      <td>right now only the property var annotation ca</td>\n",
              "      <td>relates</td>\n",
              "    </tr>\n",
              "    <tr>\n",
              "      <th>1</th>\n",
              "      <td>1</td>\n",
              "      <td>75043</td>\n",
              "      <td>please use gz instead of gzip for statically</td>\n",
              "      <td>93182</td>\n",
              "      <td>make the compressed file extension configurabl</td>\n",
              "      <td>relates</td>\n",
              "    </tr>\n",
              "    <tr>\n",
              "      <th>2</th>\n",
              "      <td>2</td>\n",
              "      <td>93170</td>\n",
              "      <td>i would suggest to deprecate the following pag</td>\n",
              "      <td>93171</td>\n",
              "      <td>introduce fallback site configuration to be</td>\n",
              "      <td>relates</td>\n",
              "    </tr>\n",
              "    <tr>\n",
              "      <th>3</th>\n",
              "      <td>3</td>\n",
              "      <td>93170</td>\n",
              "      <td>i would suggest to deprecate the following pag</td>\n",
              "      <td>93171</td>\n",
              "      <td>introduce fallback site configuration to be</td>\n",
              "      <td>relates</td>\n",
              "    </tr>\n",
              "    <tr>\n",
              "      <th>4</th>\n",
              "      <td>4</td>\n",
              "      <td>75266</td>\n",
              "      <td>there should be possibility to have at least</td>\n",
              "      <td>92903</td>\n",
              "      <td>it would be great to be able to arrange flexfo</td>\n",
              "      <td>relates</td>\n",
              "    </tr>\n",
              "    <tr>\n",
              "      <th>...</th>\n",
              "      <td>...</td>\n",
              "      <td>...</td>\n",
              "      <td>...</td>\n",
              "      <td>...</td>\n",
              "      <td>...</td>\n",
              "      <td>...</td>\n",
              "    </tr>\n",
              "    <tr>\n",
              "      <th>1814</th>\n",
              "      <td>1814</td>\n",
              "      <td>3619</td>\n",
              "      <td>there should be something like system policy</td>\n",
              "      <td>890</td>\n",
              "      <td>the order of running the advices in an advice</td>\n",
              "      <td>relates</td>\n",
              "    </tr>\n",
              "    <tr>\n",
              "      <th>1816</th>\n",
              "      <td>1816</td>\n",
              "      <td>5660</td>\n",
              "      <td>now finally the property mapper needs to suppo</td>\n",
              "      <td>342</td>\n",
              "      <td>the mvc framework needs to support file / mult</td>\n",
              "      <td>relates</td>\n",
              "    </tr>\n",
              "    <tr>\n",
              "      <th>1817</th>\n",
              "      <td>1817</td>\n",
              "      <td>6008</td>\n",
              "      <td>when resource object is discarded the relat</td>\n",
              "      <td>342</td>\n",
              "      <td>the mvc framework needs to support file / mult</td>\n",
              "      <td>relates</td>\n",
              "    </tr>\n",
              "    <tr>\n",
              "      <th>1818</th>\n",
              "      <td>1818</td>\n",
              "      <td>10680</td>\n",
              "      <td>there is now use case for content negotiatio</td>\n",
              "      <td>315</td>\n",
              "      <td>the request object mainly webrequest should</td>\n",
              "      <td>relates</td>\n",
              "    </tr>\n",
              "    <tr>\n",
              "      <th>1819</th>\n",
              "      <td>1819</td>\n",
              "      <td>1235</td>\n",
              "      <td>should check somehow if mod rewrite is</td>\n",
              "      <td>87</td>\n",
              "      <td>add fallback for servers without mod rewrite /</td>\n",
              "      <td>relates</td>\n",
              "    </tr>\n",
              "  </tbody>\n",
              "</table>\n",
              "<p>1370 rows × 6 columns</p>\n",
              "</div>"
            ],
            "text/plain": [
              "      Unnamed: 0  ...  Type of dependency\n",
              "0              0  ...             relates\n",
              "1              1  ...             relates\n",
              "2              2  ...             relates\n",
              "3              3  ...             relates\n",
              "4              4  ...             relates\n",
              "...          ...  ...                 ...\n",
              "1814        1814  ...             relates\n",
              "1816        1816  ...             relates\n",
              "1817        1817  ...             relates\n",
              "1818        1818  ...             relates\n",
              "1819        1819  ...             relates\n",
              "\n",
              "[1370 rows x 6 columns]"
            ]
          },
          "metadata": {
            "tags": []
          },
          "execution_count": 36
        }
      ]
    },
    {
      "cell_type": "code",
      "metadata": {
        "id": "iF48kzrR-CDD"
      },
      "source": [
        "def balancedClasses(df):\n",
        "    stats = df[\"label\"].value_counts()\n",
        "    print(stats)\n",
        "    df_sampledData = pd.DataFrame(columns=df.columns)\n",
        "    sampleSize = int(input(\"enter the size\"))\n",
        "    for key in stats.keys():\n",
        "        allData = df[df[\"label\"] == key]\n",
        "        if sampleSize > len(allData):\n",
        "            sampleSize = len(allData)\n",
        "            df_sample = allData.sample(sampleSize)\n",
        "        else:\n",
        "            df_sample = allData.sample(sampleSize)\n",
        "\n",
        "        df_sampledData = pd.concat([df_sampledData, df_sample], axis=0)  # Add sampled values into the Test Set\n",
        "    return df_sampledData"
      ],
      "execution_count": null,
      "outputs": []
    },
    {
      "cell_type": "code",
      "metadata": {
        "id": "KcGc_zHK-IBL"
      },
      "source": [
        "def combineData(dfPos,dfNeg):\n",
        "\n",
        "    selectTYpes = ['relates']\n",
        "\n",
        "\n",
        "    dfPos = dfPos[dfPos['Type of dependency'].isin(selectTYpes)]\n",
        "    print(dfPos['Type of dependency'].value_counts(), len(dfPos))\n",
        "    # print(dfPos.dependency.unique())\n",
        "    # input(\"hit enter\")\n",
        "\n",
        "    df = pd.concat([dfPos, dfNeg])\n",
        "    df['label'] = df['Type of dependency']\n",
        "    print(df['Type of dependency'].value_counts(), len(df))\n",
        "    c = df.label.astype('category')\n",
        "    d = dict(enumerate(c.cat.categories))\n",
        "    print(d)\n",
        "    # {0: 'english', 1: 'spanish'}\n",
        "    df['label'] = df.label.astype('category').cat.codes\n",
        "    print(df.head(), df.columns)\n",
        "\n",
        "    df = balancedClasses(df)\n",
        "    print(df['Type of dependency'].value_counts(), len(df))\n",
        "\n",
        "    return df"
      ],
      "execution_count": null,
      "outputs": []
    },
    {
      "cell_type": "code",
      "metadata": {
        "colab": {
          "base_uri": "https://localhost:8080/"
        },
        "id": "koNd8JBq-PT4",
        "outputId": "d99357d0-1086-4c17-f27c-589ada18dbd6"
      },
      "source": [
        "df_concat= combineData(df_firefox_pos,df_firefox_neg)"
      ],
      "execution_count": null,
      "outputs": [
        {
          "output_type": "stream",
          "text": [
            "relates    2824\n",
            "Name: Type of dependency, dtype: int64 2824\n",
            "independent    49903\n",
            "relates         2824\n",
            "Name: Type of dependency, dtype: int64 52727\n",
            "{0: 'independent', 1: 'relates'}\n",
            "   Unnamed: 0    id1  ... Type of dependency  label\n",
            "0           0  34556  ...            relates      1\n",
            "2           2  34495  ...            relates      1\n",
            "3           3  34340  ...            relates      1\n",
            "4           4  33383  ...            relates      1\n",
            "5           5  34258  ...            relates      1\n",
            "\n",
            "[5 rows x 7 columns] Index(['Unnamed: 0', 'id1', 'Description1', 'id2', 'Description2',\n",
            "       'Type of dependency', 'label'],\n",
            "      dtype='object')\n",
            "0    49903\n",
            "1     2824\n",
            "Name: label, dtype: int64\n",
            "enter the size2824\n",
            "independent    2824\n",
            "relates        2824\n",
            "Name: Type of dependency, dtype: int64 5648\n"
          ],
          "name": "stdout"
        }
      ]
    },
    {
      "cell_type": "code",
      "metadata": {
        "colab": {
          "base_uri": "https://localhost:8080/",
          "height": 306
        },
        "id": "0P4GNTxobhrA",
        "outputId": "69be502b-d019-4f71-baa9-defd0a37182f"
      },
      "source": [
        "df_concat.head()"
      ],
      "execution_count": null,
      "outputs": [
        {
          "output_type": "execute_result",
          "data": {
            "text/html": [
              "<div>\n",
              "<style scoped>\n",
              "    .dataframe tbody tr th:only-of-type {\n",
              "        vertical-align: middle;\n",
              "    }\n",
              "\n",
              "    .dataframe tbody tr th {\n",
              "        vertical-align: top;\n",
              "    }\n",
              "\n",
              "    .dataframe thead th {\n",
              "        text-align: right;\n",
              "    }\n",
              "</style>\n",
              "<table border=\"1\" class=\"dataframe\">\n",
              "  <thead>\n",
              "    <tr style=\"text-align: right;\">\n",
              "      <th></th>\n",
              "      <th>Unnamed: 0</th>\n",
              "      <th>id1</th>\n",
              "      <th>Description1</th>\n",
              "      <th>id2</th>\n",
              "      <th>Description2</th>\n",
              "      <th>Type of dependency</th>\n",
              "      <th>label</th>\n",
              "    </tr>\n",
              "  </thead>\n",
              "  <tbody>\n",
              "    <tr>\n",
              "      <th>12544</th>\n",
              "      <td>12544</td>\n",
              "      <td>1240</td>\n",
              "      <td>it will be good to have possibility to change</td>\n",
              "      <td>14582</td>\n",
              "      <td>create project and add all the issues in</td>\n",
              "      <td>independent</td>\n",
              "      <td>0</td>\n",
              "    </tr>\n",
              "    <tr>\n",
              "      <th>42208</th>\n",
              "      <td>42208</td>\n",
              "      <td>10459</td>\n",
              "      <td>sorry have posted this in the forum and real</td>\n",
              "      <td>22958</td>\n",
              "      <td>in other words once the macro call executes</td>\n",
              "      <td>independent</td>\n",
              "      <td>0</td>\n",
              "    </tr>\n",
              "    <tr>\n",
              "      <th>30134</th>\n",
              "      <td>30134</td>\n",
              "      <td>3487</td>\n",
              "      <td>is it possible to place downloadable files on</td>\n",
              "      <td>31521</td>\n",
              "      <td>at the moment there is no way to add custom va</td>\n",
              "      <td>independent</td>\n",
              "      <td>0</td>\n",
              "    </tr>\n",
              "    <tr>\n",
              "      <th>16258</th>\n",
              "      <td>16258</td>\n",
              "      <td>10188</td>\n",
              "      <td>the ability to add new custom informational</td>\n",
              "      <td>2901</td>\n",
              "      <td>my company project budget is based upon the</td>\n",
              "      <td>independent</td>\n",
              "      <td>0</td>\n",
              "    </tr>\n",
              "    <tr>\n",
              "      <th>31931</th>\n",
              "      <td>31931</td>\n",
              "      <td>31404</td>\n",
              "      <td>this feature could help the project management</td>\n",
              "      <td>27314</td>\n",
              "      <td>at the moment if you click on the administrat</td>\n",
              "      <td>independent</td>\n",
              "      <td>0</td>\n",
              "    </tr>\n",
              "  </tbody>\n",
              "</table>\n",
              "</div>"
            ],
            "text/plain": [
              "      Unnamed: 0    id1  ... Type of dependency label\n",
              "12544      12544   1240  ...        independent     0\n",
              "42208      42208  10459  ...        independent     0\n",
              "30134      30134   3487  ...        independent     0\n",
              "16258      16258  10188  ...        independent     0\n",
              "31931      31931  31404  ...        independent     0\n",
              "\n",
              "[5 rows x 7 columns]"
            ]
          },
          "metadata": {
            "tags": []
          },
          "execution_count": 27
        }
      ]
    },
    {
      "cell_type": "code",
      "metadata": {
        "colab": {
          "base_uri": "https://localhost:8080/"
        },
        "id": "K0yOtY6KbkPi",
        "outputId": "ef70fd52-3155-466f-daa5-3132153117fa"
      },
      "source": [
        "df_concat.info()"
      ],
      "execution_count": null,
      "outputs": [
        {
          "output_type": "stream",
          "text": [
            "<class 'pandas.core.frame.DataFrame'>\n",
            "Int64Index: 5648 entries, 12544 to 178\n",
            "Data columns (total 7 columns):\n",
            " #   Column              Non-Null Count  Dtype \n",
            "---  ------              --------------  ----- \n",
            " 0   Unnamed: 0          5648 non-null   object\n",
            " 1   id1                 5648 non-null   object\n",
            " 2   Description1        5648 non-null   object\n",
            " 3   id2                 5648 non-null   object\n",
            " 4   Description2        5648 non-null   object\n",
            " 5   Type of dependency  5648 non-null   object\n",
            " 6   label               5648 non-null   object\n",
            "dtypes: object(7)\n",
            "memory usage: 353.0+ KB\n"
          ],
          "name": "stdout"
        }
      ]
    },
    {
      "cell_type": "code",
      "metadata": {
        "colab": {
          "base_uri": "https://localhost:8080/"
        },
        "id": "yV_WVLlob-84",
        "outputId": "8cb26def-c17e-4b3d-f657-c3bc1e6304ff"
      },
      "source": [
        "print(df_concat['Type of dependency'].value_counts())"
      ],
      "execution_count": null,
      "outputs": [
        {
          "output_type": "stream",
          "text": [
            "independent    2824\n",
            "relates        2824\n",
            "Name: Type of dependency, dtype: int64\n"
          ],
          "name": "stdout"
        }
      ]
    },
    {
      "cell_type": "code",
      "metadata": {
        "id": "nq53eWk18bFy"
      },
      "source": [
        "# df_firefox_pos.to_csv(\"/content/gdrive/MyDrive/New_SENG607/RedMine/Redmine_Pos_pocessed.csv\",index=False)\n"
      ],
      "execution_count": null,
      "outputs": []
    },
    {
      "cell_type": "code",
      "metadata": {
        "id": "KdoTVkiA_j1M"
      },
      "source": [
        "def FirefoxTrainTestSplit(df_firefox):\n",
        "    # df_firefox = pd.read_csv(inputFile)\n",
        "    #df_firefox = df_firefox[(df_firefox['req1Product'] == 'Firefox') & (df_firefox['req2Product'] == 'Firefox')]\n",
        "\n",
        "    #encode labels\n",
        "    # label encoding the data \n",
        "    # le = LabelEncoder() \n",
        "    # ### encoding 1: requires, 0: independent\n",
        "    # df_firefox['label']= le.fit_transform(df_firefox['label'])\n",
        "    # print(\"Data in hand\\n\", df_firefox['label'].value_counts())\n",
        "\n",
        "    # #get half of -ve samples from inverse of Requires\n",
        "    # df_neg = getNeg(df_firefox[df_firefox['label']==1])\n",
        "    \n",
        "\n",
        "    # df_firefox_1 =  df_firefox[df_firefox['label']==1]\n",
        "    # df_firefox_0 =  df_firefox[df_firefox['label']==0]\n",
        "    # #df_firefox_0 = df_firefox_0.sample(len(df_firefox_1))\n",
        "\n",
        "    # #pump pure black n white a bit\n",
        "    # lengthIs = len(df_firefox_1)\n",
        "    # df_dummy = pd.concat([df_neg.sample(int(lengthIs*0)),df_firefox_0.sample(int(lengthIs*1))])\n",
        "    \n",
        "\n",
        "    # df_firefox = pd.concat([df_dummy, df_firefox_1])\n",
        "    # print(\"extract balanced\\n\", df_firefox['label'].value_counts())\n",
        "     \n",
        "    # ######Shuffle##############\n",
        "    # df_firefox = df_firefox.sample(frac=1).reset_index(drop=True)\n",
        "    ###########################\n",
        "\n",
        "    df_train, df_test = train_test_split(df_firefox, test_size=.2, stratify=df_firefox['label'])\n",
        "    print(\"train set\\n\", df_train['label'].value_counts())\n",
        "    print(\"test set\\n\", df_test['label'].value_counts())\n",
        "\n",
        "    # df_train.to_csv(\"/content/gdrive/MyDrive/seng607/test_negative_roi/Typo3_train.csv\")\n",
        "    # df_test.to_csv(\"/content/gdrive/MyDrive/seng607/test_negative_roi/Typo3_test.csv\")\n",
        "    return df_train,df_test"
      ],
      "execution_count": null,
      "outputs": []
    },
    {
      "cell_type": "code",
      "metadata": {
        "colab": {
          "base_uri": "https://localhost:8080/"
        },
        "id": "iZeKF7Tt_0d7",
        "outputId": "2f770727-a992-4729-c67c-448c1c66a186"
      },
      "source": [
        "df_train_typo,df_test_typo=FirefoxTrainTestSplit(df_concat)"
      ],
      "execution_count": null,
      "outputs": [
        {
          "output_type": "stream",
          "text": [
            "train set\n",
            " 1    2259\n",
            "0    2259\n",
            "Name: label, dtype: int64\n",
            "test set\n",
            " 1    565\n",
            "0    565\n",
            "Name: label, dtype: int64\n"
          ],
          "name": "stdout"
        }
      ]
    },
    {
      "cell_type": "code",
      "metadata": {
        "id": "UTXexFgAcTxg"
      },
      "source": [
        "# df1=pd.read_csv(\"/content/gdrive/MyDrive/seng607/test_negative_roi/Typo3_train.csv\")"
      ],
      "execution_count": null,
      "outputs": []
    },
    {
      "cell_type": "code",
      "metadata": {
        "colab": {
          "base_uri": "https://localhost:8080/"
        },
        "id": "96ad_Nb5cbAU",
        "outputId": "69e148c1-f55c-4472-c1fe-0c7c3251b4fd"
      },
      "source": [
        "df_train_typo.info()"
      ],
      "execution_count": null,
      "outputs": [
        {
          "output_type": "stream",
          "text": [
            "<class 'pandas.core.frame.DataFrame'>\n",
            "Int64Index: 4518 entries, 4357 to 22851\n",
            "Data columns (total 7 columns):\n",
            " #   Column              Non-Null Count  Dtype \n",
            "---  ------              --------------  ----- \n",
            " 0   Unnamed: 0          4518 non-null   object\n",
            " 1   id1                 4518 non-null   object\n",
            " 2   Description1        4518 non-null   object\n",
            " 3   id2                 4518 non-null   object\n",
            " 4   Description2        4518 non-null   object\n",
            " 5   Type of dependency  4518 non-null   object\n",
            " 6   label               4518 non-null   object\n",
            "dtypes: object(7)\n",
            "memory usage: 282.4+ KB\n"
          ],
          "name": "stdout"
        }
      ]
    },
    {
      "cell_type": "code",
      "metadata": {
        "colab": {
          "base_uri": "https://localhost:8080/"
        },
        "id": "ASRYRy0odSA0",
        "outputId": "7d37ee48-a87d-4793-cb91-e44b5f364dee"
      },
      "source": [
        "df_test_typo.info()"
      ],
      "execution_count": null,
      "outputs": [
        {
          "output_type": "stream",
          "text": [
            "<class 'pandas.core.frame.DataFrame'>\n",
            "Int64Index: 1130 entries, 29418 to 36787\n",
            "Data columns (total 7 columns):\n",
            " #   Column              Non-Null Count  Dtype \n",
            "---  ------              --------------  ----- \n",
            " 0   Unnamed: 0          1130 non-null   object\n",
            " 1   id1                 1130 non-null   object\n",
            " 2   Description1        1130 non-null   object\n",
            " 3   id2                 1130 non-null   object\n",
            " 4   Description2        1130 non-null   object\n",
            " 5   Type of dependency  1130 non-null   object\n",
            " 6   label               1130 non-null   object\n",
            "dtypes: object(7)\n",
            "memory usage: 70.6+ KB\n"
          ],
          "name": "stdout"
        }
      ]
    },
    {
      "cell_type": "code",
      "metadata": {
        "id": "A7qOQgH9UozX"
      },
      "source": [
        "df_train_typo= df_train_typo.rename({'label': 'Label', 'Description1':'req1','Description2':'req2'}, axis=1)"
      ],
      "execution_count": null,
      "outputs": []
    },
    {
      "cell_type": "code",
      "metadata": {
        "colab": {
          "base_uri": "https://localhost:8080/"
        },
        "id": "6Fzqmh4VUwqh",
        "outputId": "48590550-7c59-4972-b3ec-f29b5766566d"
      },
      "source": [
        "df_train_typo.info()"
      ],
      "execution_count": null,
      "outputs": [
        {
          "output_type": "stream",
          "text": [
            "<class 'pandas.core.frame.DataFrame'>\n",
            "Int64Index: 4518 entries, 4357 to 22851\n",
            "Data columns (total 7 columns):\n",
            " #   Column              Non-Null Count  Dtype \n",
            "---  ------              --------------  ----- \n",
            " 0   Unnamed: 0          4518 non-null   object\n",
            " 1   id1                 4518 non-null   object\n",
            " 2   req1                4518 non-null   object\n",
            " 3   id2                 4518 non-null   object\n",
            " 4   req2                4518 non-null   object\n",
            " 5   Type of dependency  4518 non-null   object\n",
            " 6   Label               4518 non-null   object\n",
            "dtypes: object(7)\n",
            "memory usage: 282.4+ KB\n"
          ],
          "name": "stdout"
        }
      ]
    },
    {
      "cell_type": "code",
      "metadata": {
        "id": "YBFjKum6Uym1"
      },
      "source": [
        "df_test_typo= df_test_typo.rename({'label': 'Label', 'Description1':'req1','Description2':'req2'}, axis=1)"
      ],
      "execution_count": null,
      "outputs": []
    },
    {
      "cell_type": "code",
      "metadata": {
        "colab": {
          "base_uri": "https://localhost:8080/"
        },
        "id": "GqaVwLEHU5N2",
        "outputId": "95ae20de-d616-4bd9-9cc9-993420b9a90a"
      },
      "source": [
        "df_test_typo.info()"
      ],
      "execution_count": null,
      "outputs": [
        {
          "output_type": "stream",
          "text": [
            "<class 'pandas.core.frame.DataFrame'>\n",
            "Int64Index: 1130 entries, 29418 to 36787\n",
            "Data columns (total 7 columns):\n",
            " #   Column              Non-Null Count  Dtype \n",
            "---  ------              --------------  ----- \n",
            " 0   Unnamed: 0          1130 non-null   object\n",
            " 1   id1                 1130 non-null   object\n",
            " 2   req1                1130 non-null   object\n",
            " 3   id2                 1130 non-null   object\n",
            " 4   req2                1130 non-null   object\n",
            " 5   Type of dependency  1130 non-null   object\n",
            " 6   Label               1130 non-null   object\n",
            "dtypes: object(7)\n",
            "memory usage: 70.6+ KB\n"
          ],
          "name": "stdout"
        }
      ]
    },
    {
      "cell_type": "code",
      "metadata": {
        "id": "t2VUK21uUU2a"
      },
      "source": [
        "df_train_typo.to_csv(\"/content/gdrive/MyDrive/seng607/test_negative_roi/Redmine_train.csv\",index=False)"
      ],
      "execution_count": null,
      "outputs": []
    },
    {
      "cell_type": "code",
      "metadata": {
        "id": "VGsbkqz9UgHV"
      },
      "source": [
        "df_test_typo.to_csv(\"/content/gdrive/MyDrive/seng607/test_negative_roi/Redmine_test.csv\",index=False)\n"
      ],
      "execution_count": null,
      "outputs": []
    },
    {
      "cell_type": "code",
      "metadata": {
        "id": "8ulLksAAVG3C"
      },
      "source": [
        "df_read_train=pd.read_csv(\"/content/gdrive/MyDrive/seng607/test_negative_roi/Redmine_train.csv\")"
      ],
      "execution_count": null,
      "outputs": []
    },
    {
      "cell_type": "code",
      "metadata": {
        "colab": {
          "base_uri": "https://localhost:8080/"
        },
        "id": "AFlOa-GCgP6S",
        "outputId": "fada634f-33da-423e-adaa-8c1ffa383a44"
      },
      "source": [
        "print(df_read_train.shape)\n",
        "print(df_read_train.isnull().sum())"
      ],
      "execution_count": null,
      "outputs": [
        {
          "output_type": "stream",
          "text": [
            "(4496, 7)\n",
            "Unnamed: 0            0\n",
            "id1                   0\n",
            "req1                  0\n",
            "id2                   0\n",
            "req2                  0\n",
            "Type of dependency    0\n",
            "Label                 0\n",
            "dtype: int64\n"
          ],
          "name": "stdout"
        }
      ]
    },
    {
      "cell_type": "code",
      "metadata": {
        "id": "bfi_7S67gVZ4"
      },
      "source": [
        "df_read_train.dropna(inplace=True)\n",
        "df_read_train = df_read_train.reset_index(drop=True)"
      ],
      "execution_count": null,
      "outputs": []
    },
    {
      "cell_type": "code",
      "metadata": {
        "id": "vwJLIDhldt_e"
      },
      "source": [
        "df_read_train.to_csv(\"/content/gdrive/MyDrive/seng607/test_negative_roi/Redmine_train.csv\",index=False)"
      ],
      "execution_count": null,
      "outputs": []
    },
    {
      "cell_type": "code",
      "metadata": {
        "id": "IFqdZJa_d7rH"
      },
      "source": [
        "df_read_train_new=pd.read_csv(\"/content/gdrive/MyDrive/seng607/test_negative_roi/Redmine_train.csv\")"
      ],
      "execution_count": null,
      "outputs": []
    },
    {
      "cell_type": "code",
      "metadata": {
        "colab": {
          "base_uri": "https://localhost:8080/"
        },
        "id": "DIN3mnxbeDl4",
        "outputId": "42d6fad8-556c-4d93-ae72-c1140be4b22f"
      },
      "source": [
        "df_read_train_new.info()"
      ],
      "execution_count": null,
      "outputs": [
        {
          "output_type": "stream",
          "text": [
            "<class 'pandas.core.frame.DataFrame'>\n",
            "RangeIndex: 4496 entries, 0 to 4495\n",
            "Data columns (total 7 columns):\n",
            " #   Column              Non-Null Count  Dtype \n",
            "---  ------              --------------  ----- \n",
            " 0   Unnamed: 0          4496 non-null   int64 \n",
            " 1   id1                 4496 non-null   int64 \n",
            " 2   req1                4496 non-null   object\n",
            " 3   id2                 4496 non-null   int64 \n",
            " 4   req2                4496 non-null   object\n",
            " 5   Type of dependency  4496 non-null   object\n",
            " 6   Label               4496 non-null   int64 \n",
            "dtypes: int64(4), object(3)\n",
            "memory usage: 246.0+ KB\n"
          ],
          "name": "stdout"
        }
      ]
    },
    {
      "cell_type": "code",
      "metadata": {
        "id": "7g0MHmIdWQWB"
      },
      "source": [
        "df_read_test=pd.read_csv(\"/content/gdrive/MyDrive/seng607/test_negative_roi/Redmine_test.csv\")"
      ],
      "execution_count": null,
      "outputs": []
    },
    {
      "cell_type": "code",
      "metadata": {
        "colab": {
          "base_uri": "https://localhost:8080/"
        },
        "id": "jCOkuh8YWQpV",
        "outputId": "8e75168b-a828-4a94-e191-cea2340292bc"
      },
      "source": [
        "print(df_read_test.shape)\n",
        "print(df_read_test.isnull().sum())"
      ],
      "execution_count": null,
      "outputs": [
        {
          "output_type": "stream",
          "text": [
            "(1122, 7)\n",
            "Unnamed: 0            0\n",
            "id1                   0\n",
            "req1                  0\n",
            "id2                   0\n",
            "req2                  0\n",
            "Type of dependency    0\n",
            "Label                 0\n",
            "dtype: int64\n"
          ],
          "name": "stdout"
        }
      ]
    },
    {
      "cell_type": "code",
      "metadata": {
        "id": "x8JMvIL-WQ2O"
      },
      "source": [
        "df_read_test.dropna(inplace=True)\n",
        "df_read_test = df_read_test.reset_index(drop=True)"
      ],
      "execution_count": null,
      "outputs": []
    },
    {
      "cell_type": "code",
      "metadata": {
        "id": "mcynJpZxWRDP"
      },
      "source": [
        "df_read_test.to_csv(\"/content/gdrive/MyDrive/seng607/test_negative_roi/Redmine_test.csv\",index=False)"
      ],
      "execution_count": null,
      "outputs": []
    },
    {
      "cell_type": "code",
      "metadata": {
        "id": "y1PcWoNLWRMv"
      },
      "source": [
        "df_read_test_new=pd.read_csv(\"/content/gdrive/MyDrive/seng607/test_negative_roi/Redmine_test.csv\")"
      ],
      "execution_count": null,
      "outputs": []
    },
    {
      "cell_type": "code",
      "metadata": {
        "colab": {
          "base_uri": "https://localhost:8080/"
        },
        "id": "JbBXSb4gW1SB",
        "outputId": "b62a91ee-4914-4574-dcd8-b7728c245028"
      },
      "source": [
        "df_read_test_new.info()"
      ],
      "execution_count": null,
      "outputs": [
        {
          "output_type": "stream",
          "text": [
            "<class 'pandas.core.frame.DataFrame'>\n",
            "RangeIndex: 1122 entries, 0 to 1121\n",
            "Data columns (total 7 columns):\n",
            " #   Column              Non-Null Count  Dtype \n",
            "---  ------              --------------  ----- \n",
            " 0   Unnamed: 0          1122 non-null   int64 \n",
            " 1   id1                 1122 non-null   int64 \n",
            " 2   req1                1122 non-null   object\n",
            " 3   id2                 1122 non-null   int64 \n",
            " 4   req2                1122 non-null   object\n",
            " 5   Type of dependency  1122 non-null   object\n",
            " 6   Label               1122 non-null   int64 \n",
            "dtypes: int64(4), object(3)\n",
            "memory usage: 61.5+ KB\n"
          ],
          "name": "stdout"
        }
      ]
    }
  ]
}